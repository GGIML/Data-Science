{
 "cells": [
  {
   "cell_type": "markdown",
   "metadata": {},
   "source": [
    "# Investment Data\n",
    "\n",
    "![](https://images.unsplash.com/photo-1559526324-593bc073d938?ixlib=rb-1.2.1&ixid=eyJhcHBfaWQiOjEyMDd9&auto=format&fit=crop&w=1050&q=80)"
   ]
  },
  {
   "cell_type": "markdown",
   "metadata": {},
   "source": [
    "### Import required libraries"
   ]
  },
  {
   "cell_type": "code",
   "execution_count": 107,
   "metadata": {
    "ExecuteTime": {
     "end_time": "2019-10-21T05:06:34.448612Z",
     "start_time": "2019-10-21T05:06:30.772186Z"
    }
   },
   "outputs": [],
   "source": [
    "# TODO : import libraries\n",
    "import numpy as np\n",
    "import pandas as pd\n",
    "import matplotlib.pyplot as plt"
   ]
  },
  {
   "cell_type": "markdown",
   "metadata": {},
   "source": [
    "### Load the data and show a sample"
   ]
  },
  {
   "cell_type": "markdown",
   "metadata": {},
   "source": [
    "Load the file invest.txt from the folder src and show the first 5 lines"
   ]
  },
  {
   "cell_type": "code",
   "execution_count": 108,
   "metadata": {
    "ExecuteTime": {
     "end_time": "2019-10-21T05:18:16.081691Z",
     "start_time": "2019-10-21T05:18:16.077362Z"
    }
   },
   "outputs": [],
   "source": [
    "# TODO - Load csv file and show data\n",
    "invest_df = pd.read_csv('../input/invest.txt', delimiter= ' ')"
   ]
  },
  {
   "cell_type": "code",
   "execution_count": 109,
   "metadata": {},
   "outputs": [
    {
     "data": {
      "text/html": [
       "<div>\n",
       "<style scoped>\n",
       "    .dataframe tbody tr th:only-of-type {\n",
       "        vertical-align: middle;\n",
       "    }\n",
       "\n",
       "    .dataframe tbody tr th {\n",
       "        vertical-align: top;\n",
       "    }\n",
       "\n",
       "    .dataframe thead th {\n",
       "        text-align: right;\n",
       "    }\n",
       "</style>\n",
       "<table border=\"1\" class=\"dataframe\">\n",
       "  <thead>\n",
       "    <tr style=\"text-align: right;\">\n",
       "      <th></th>\n",
       "      <th>year</th>\n",
       "      <th>gnp</th>\n",
       "      <th>invest</th>\n",
       "      <th>cpi</th>\n",
       "      <th>interest</th>\n",
       "    </tr>\n",
       "  </thead>\n",
       "  <tbody>\n",
       "    <tr>\n",
       "      <th>0</th>\n",
       "      <td>1968</td>\n",
       "      <td>873.4</td>\n",
       "      <td>133.3</td>\n",
       "      <td>82.54</td>\n",
       "      <td>5.16</td>\n",
       "    </tr>\n",
       "    <tr>\n",
       "      <th>1</th>\n",
       "      <td>1969</td>\n",
       "      <td>944.0</td>\n",
       "      <td>149.3</td>\n",
       "      <td>86.79</td>\n",
       "      <td>5.87</td>\n",
       "    </tr>\n",
       "    <tr>\n",
       "      <th>2</th>\n",
       "      <td>1970</td>\n",
       "      <td>992.7</td>\n",
       "      <td>144.2</td>\n",
       "      <td>91.45</td>\n",
       "      <td>5.95</td>\n",
       "    </tr>\n",
       "    <tr>\n",
       "      <th>3</th>\n",
       "      <td>1971</td>\n",
       "      <td>1077.6</td>\n",
       "      <td>166.4</td>\n",
       "      <td>96.01</td>\n",
       "      <td>4.88</td>\n",
       "    </tr>\n",
       "    <tr>\n",
       "      <th>4</th>\n",
       "      <td>1972</td>\n",
       "      <td>1185.9</td>\n",
       "      <td>195.0</td>\n",
       "      <td>100.00</td>\n",
       "      <td>4.50</td>\n",
       "    </tr>\n",
       "  </tbody>\n",
       "</table>\n",
       "</div>"
      ],
      "text/plain": [
       "   year     gnp  invest     cpi  interest\n",
       "0  1968   873.4   133.3   82.54      5.16\n",
       "1  1969   944.0   149.3   86.79      5.87\n",
       "2  1970   992.7   144.2   91.45      5.95\n",
       "3  1971  1077.6   166.4   96.01      4.88\n",
       "4  1972  1185.9   195.0  100.00      4.50"
      ]
     },
     "execution_count": 109,
     "metadata": {},
     "output_type": "execute_result"
    }
   ],
   "source": [
    "invest_df.head(5)"
   ]
  },
  {
   "cell_type": "markdown",
   "metadata": {},
   "source": [
    "Make a scatter plot with the columns gnp and invest as coordinates"
   ]
  },
  {
   "cell_type": "code",
   "execution_count": 110,
   "metadata": {
    "ExecuteTime": {
     "end_time": "2019-10-21T05:18:19.531672Z",
     "start_time": "2019-10-21T05:18:19.527595Z"
    }
   },
   "outputs": [],
   "source": [
    "# TODO - Plot data\n",
    "plt.figure()\n",
    "\n",
    "plt.scatter(x = invest_df.gnp, y = invest_df.invest)\n",
    "plt.xlabel(\"GNP\")\n",
    "plt.ylabel(\"Invest\")\n",
    "\n",
    "plt.show()"
   ]
  },
  {
   "cell_type": "code",
   "execution_count": 111,
   "metadata": {
    "ExecuteTime": {
     "end_time": "2019-10-21T05:18:22.996351Z",
     "start_time": "2019-10-21T05:18:22.992530Z"
    }
   },
   "outputs": [],
   "source": [
    "# TODO - cast your data into numpy arrays : store the gnp in X and invest in y\n",
    "X = np.array(invest_df.gnp).reshape(-1, 1)\n",
    "y = np.array(invest_df.invest)"
   ]
  },
  {
   "cell_type": "markdown",
   "metadata": {},
   "source": [
    "### Instantiate a Linear Regression model from scikit learn and train it"
   ]
  },
  {
   "cell_type": "markdown",
   "metadata": {},
   "source": [
    "You will use the usual instantiate, fit and predict routine"
   ]
  },
  {
   "cell_type": "code",
   "execution_count": 112,
   "metadata": {
    "ExecuteTime": {
     "end_time": "2019-10-21T05:18:31.000988Z",
     "start_time": "2019-10-21T05:18:30.996837Z"
    }
   },
   "outputs": [
    {
     "data": {
      "text/plain": [
       "LinearRegression()"
      ]
     },
     "execution_count": 112,
     "metadata": {},
     "output_type": "execute_result"
    }
   ],
   "source": [
    "# TODO - run the model\n",
    "from sklearn.linear_model import LinearRegression\n",
    "\n",
    "lr = LinearRegression()\n",
    "lr.fit(X, y)"
   ]
  },
  {
   "cell_type": "markdown",
   "metadata": {},
   "source": [
    "Predict the investment data for a GNP of 1000, and plot the data points, the regression line and the predicted point in a different color"
   ]
  },
  {
   "cell_type": "code",
   "execution_count": 113,
   "metadata": {
    "ExecuteTime": {
     "end_time": "2019-10-21T05:18:39.539741Z",
     "start_time": "2019-10-21T05:18:39.535649Z"
    }
   },
   "outputs": [
    {
     "data": {
      "text/plain": [
       "array([159.99362149])"
      ]
     },
     "execution_count": 113,
     "metadata": {},
     "output_type": "execute_result"
    }
   ],
   "source": [
    "# TODO - predict investment for a single point of GNP = 1000\n",
    "lr.predict([[1000]])"
   ]
  },
  {
   "cell_type": "code",
   "execution_count": 114,
   "metadata": {},
   "outputs": [],
   "source": [
    "y_pred = lr.predict(X)"
   ]
  },
  {
   "cell_type": "code",
   "execution_count": 115,
   "metadata": {
    "ExecuteTime": {
     "end_time": "2019-10-21T05:18:43.045612Z",
     "start_time": "2019-10-21T05:18:43.041531Z"
    }
   },
   "outputs": [],
   "source": [
    "# TODO - plot the data points, the regression line and the predicted single point\n",
    "plt.figure()\n",
    "\n",
    "plt.scatter(x = invest_df.gnp, y = invest_df.invest)\n",
    "plt.scatter(x = 1000, y = lr.predict([[1000]]), color = 'green', marker='o', s = 200)\n",
    "plt.plot(X, y_pred, 'r--')\n",
    "plt.xlabel(\"GNP\")\n",
    "plt.ylabel(\"Invest\")\n",
    "\n",
    "plt.show()"
   ]
  },
  {
   "cell_type": "markdown",
   "metadata": {},
   "source": [
    "### Working with 2 features"
   ]
  },
  {
   "cell_type": "markdown",
   "metadata": {},
   "source": [
    "Create a feature matrix X containing the columns 'gnp' and 'interest' "
   ]
  },
  {
   "cell_type": "code",
   "execution_count": 116,
   "metadata": {
    "ExecuteTime": {
     "end_time": "2019-10-21T05:18:46.551070Z",
     "start_time": "2019-10-21T05:18:46.547338Z"
    }
   },
   "outputs": [],
   "source": [
    "# TODO - Create a new array X containing the columns gnp and invest\n",
    "X = np.array(invest_df[['gnp', 'interest']])"
   ]
  },
  {
   "cell_type": "markdown",
   "metadata": {},
   "source": [
    "Instantiate a new model, train it and get predictions on X"
   ]
  },
  {
   "cell_type": "code",
   "execution_count": 156,
   "metadata": {},
   "outputs": [
    {
     "data": {
      "text/plain": [
       "(15, 2)"
      ]
     },
     "execution_count": 156,
     "metadata": {},
     "output_type": "execute_result"
    }
   ],
   "source": [
    "X.shape"
   ]
  },
  {
   "cell_type": "code",
   "execution_count": 117,
   "metadata": {},
   "outputs": [],
   "source": [
    "lr2 = LinearRegression()"
   ]
  },
  {
   "cell_type": "code",
   "execution_count": 118,
   "metadata": {
    "ExecuteTime": {
     "end_time": "2019-10-21T05:18:49.004724Z",
     "start_time": "2019-10-21T05:18:49.001537Z"
    }
   },
   "outputs": [
    {
     "data": {
      "text/plain": [
       "LinearRegression()"
      ]
     },
     "execution_count": 118,
     "metadata": {},
     "output_type": "execute_result"
    }
   ],
   "source": [
    "# TODO - run the model\n",
    "lr2.fit(X, y)"
   ]
  },
  {
   "cell_type": "markdown",
   "metadata": {},
   "source": [
    "Predict investment for gnp = 1000 and interest = 10"
   ]
  },
  {
   "cell_type": "code",
   "execution_count": 119,
   "metadata": {
    "ExecuteTime": {
     "end_time": "2019-10-21T05:18:51.832072Z",
     "start_time": "2019-10-21T05:18:51.827646Z"
    }
   },
   "outputs": [],
   "source": [
    "# TODO - predict the investment for a single data point with gnp = 1000 and interest = 10"
   ]
  },
  {
   "cell_type": "code",
   "execution_count": 120,
   "metadata": {},
   "outputs": [
    {
     "data": {
      "text/plain": [
       "array([157.66499172])"
      ]
     },
     "execution_count": 120,
     "metadata": {},
     "output_type": "execute_result"
    }
   ],
   "source": [
    "lr2.predict([[1000, 10]])"
   ]
  },
  {
   "cell_type": "markdown",
   "metadata": {},
   "source": [
    "### Plot the results"
   ]
  },
  {
   "cell_type": "markdown",
   "metadata": {},
   "source": [
    "Use the %matplotlib notebook command : this will make your 3D graph interactive.<br>\n",
    "To plot the 3D graph, you need to create a subplot with projection = '3d'.<br>\n",
    "You will then need to plot the scatter plots using the 3 coordinates gnp, interest and the investment.<br>\n",
    "To plot the surface you will need to do a prediction on all the points of the surface : you will need to use the numpy meshgrid function.<br>\n",
    "Once you have done the prediction for all the points of the surface, you can plot it using the plot_wireframe method from the subplot.<br>\n",
    "You should have a 3D plot that you can turn around to have the best visualisation of your data and predictions"
   ]
  },
  {
   "cell_type": "code",
   "execution_count": 150,
   "metadata": {
    "ExecuteTime": {
     "end_time": "2019-10-21T05:19:06.756920Z",
     "start_time": "2019-10-21T05:19:06.752904Z"
    }
   },
   "outputs": [],
   "source": [
    "# TODO - Make the 3D plot\n",
    "\n",
    "xmin = min(X[:,0]) - 1\n",
    "xmax = max(X[:,0]) + 1\n",
    "ymin = min(X[:,1]) - 1\n",
    "ymax = max(X[:,1]) + 1\n",
    "\n",
    "nx = np.arange(xmin, xmax, 10)\n",
    "ny = np.arange(ymin, ymax, 0.2)\n",
    "\n",
    "xx, yy = np.meshgrid(nx, ny)\n",
    "\n",
    "X_grid = np.c_[xx.ravel(), yy.ravel()]"
   ]
  },
  {
   "cell_type": "code",
   "execution_count": 151,
   "metadata": {},
   "outputs": [],
   "source": [
    "z_pred = lr2.predict(X_grid)"
   ]
  },
  {
   "cell_type": "code",
   "execution_count": 155,
   "metadata": {},
   "outputs": [
    {
     "name": "stdout",
     "output_type": "stream",
     "text": [
      "Using matplotlib backend: TkAgg\n"
     ]
    }
   ],
   "source": [
    "%matplotlib\n",
    "\n",
    "plt.figure()\n",
    "\n",
    "ax = plt.axes(projection = '3d')\n",
    "ax.scatter(X[:,0], X[:,1], y)\n",
    "ax.plot_wireframe(xx, yy, z_pred.reshape(xx.shape), color = 'red', alpha=.2)\n",
    "\n",
    "plt.xlabel('GNP')\n",
    "plt.ylabel('Interest')\n",
    "\n",
    "plt.show()"
   ]
  },
  {
   "cell_type": "code",
   "execution_count": null,
   "metadata": {},
   "outputs": [],
   "source": []
  }
 ],
 "metadata": {
  "kernelspec": {
   "display_name": "Python 3",
   "language": "python",
   "name": "python3"
  },
  "language_info": {
   "codemirror_mode": {
    "name": "ipython",
    "version": 3
   },
   "file_extension": ".py",
   "mimetype": "text/x-python",
   "name": "python",
   "nbconvert_exporter": "python",
   "pygments_lexer": "ipython3",
   "version": "3.7.6"
  },
  "toc": {
   "base_numbering": 1,
   "nav_menu": {},
   "number_sections": true,
   "sideBar": true,
   "skip_h1_title": false,
   "title_cell": "Table of Contents",
   "title_sidebar": "Contents",
   "toc_cell": false,
   "toc_position": {},
   "toc_section_display": true,
   "toc_window_display": false
  },
  "varInspector": {
   "cols": {
    "lenName": 16,
    "lenType": 16,
    "lenVar": 40
   },
   "kernels_config": {
    "python": {
     "delete_cmd_postfix": "",
     "delete_cmd_prefix": "del ",
     "library": "var_list.py",
     "varRefreshCmd": "print(var_dic_list())"
    },
    "r": {
     "delete_cmd_postfix": ") ",
     "delete_cmd_prefix": "rm(",
     "library": "var_list.r",
     "varRefreshCmd": "cat(var_dic_list()) "
    }
   },
   "types_to_exclude": [
    "module",
    "function",
    "builtin_function_or_method",
    "instance",
    "_Feature"
   ],
   "window_display": false
  }
 },
 "nbformat": 4,
 "nbformat_minor": 2
}
