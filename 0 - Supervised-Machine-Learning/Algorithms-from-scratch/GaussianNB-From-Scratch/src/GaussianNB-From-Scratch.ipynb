{
 "cells": [
  {
   "cell_type": "markdown",
   "metadata": {},
   "source": [
    "# Challenge - Recoding a GaussianNB from scratch\n",
    "\n",
    "![](https://images.unsplash.com/photo-1530639834082-05bafb67fbbe?ixlib=rb-1.2.1&ixid=eyJhcHBfaWQiOjEyMDd9&auto=format&fit=crop&w=1050&q=80)\n",
    "\n",
    "## Objectives\n",
    "\n",
    "In this challenge, you will recode the Gaussian Naive Bayes algorithm **from scratch**. <br>\n",
    "This is not an easy exercise, but coding ML algorithms yourself is the best way of making sure you have a good understanding of them :)\n",
    "\n",
    "## Guidelines\n",
    "\n",
    "A quick reminder on **Naive Bayes classification** :\n",
    "1. The NB classifier is based on the **Bayes Theorem** :"
   ]
  },
  {
   "cell_type": "markdown",
   "metadata": {},
   "source": [
    "$$ Pr(Y=y_k | X=x) = \\frac{Pr(X=x | Y-y_k)Pr(Y=y_k)}{Pr(X=x)}$$"
   ]
  },
  {
   "cell_type": "markdown",
   "metadata": {},
   "source": [
    "In the above formula :\n",
    "- $Pr(Y=y_k|X=x)$ is **the probability of each class given the known features**\n",
    "- $Pr(X=x|Y=y_k)$ is **the probability of the features given the class**\n",
    "- $Pr(Y=y_k)$ is **the probability of apparition of the class on the given dataset**\n",
    "- $Pr(X=x)$ **does not actually need to be computed**\n",
    "\n",
    "Using the Bayes formula, **the algorithm computes the probability of each class for a given set of features, and returns the class with the higest computed probability**."
   ]
  },
  {
   "cell_type": "markdown",
   "metadata": {},
   "source": [
    "2. $Pr(Y=y_k)$, the probability of apparition of the class on the given dataset, is very easy to compute : it is just **the percentage of apparition on each class on the training set**.\n",
    "\n",
    "3. $Pr(X=x|Y=y_k)$, the probability of the features given the class, is a little bit harder to compute, but no stress, let's go step by step :\n",
    "- The probability of all features given the class is equal to the product of **the probability of each single feature given the class**.\n",
    "- And **the probability of each single feature given the class can be computed using the following (gaussian) formula** :"
   ]
  },
  {
   "cell_type": "markdown",
   "metadata": {},
   "source": [
    "$$ P(x_i \\mid Y) = \\frac{1}{\\sqrt{2\\pi\\sigma^2_Y}} \\exp\\left(-\\frac{(x_i - \\mu_Y)^2}{2\\sigma^2_Y}\\right) $$"
   ]
  },
  {
   "cell_type": "markdown",
   "metadata": {},
   "source": [
    "In the above formula :\n",
    "- $\\mu_k$ is the mean of the feature $x$ for a given class $y_k$\n",
    "- $\\sigma_k$ is the standard deviation of the feature $x$ for a given class $y_k$\n",
    "\n",
    "⚠️ **The values of $\\mu$, $\\sigma$, and the probability of apparition on each class over the training dataset is what the algorithm learns during the fitting stage.**"
   ]
  },
  {
   "cell_type": "markdown",
   "metadata": {},
   "source": [
    "## Some hints on how to proceed :\n",
    "\n",
    "Create a class `GaussianNaiveBayes`, that will implement the following methods :\n",
    "- `_get_target_proba` : Returns the probability of apparition of a given target on a given dataset, e.g. the percentage of representation of the given target over the dataset.\n",
    "- `_get_mu` : Returns the mean of each feature of a dataset for all observations corresponding to a given target.\n",
    "- `_get_sigma` : Returns the standard deviation of each feature of a dataset for all observations corresponding to a given target.\n",
    "- `fit` :  Fits the algorithm, e.g. storing as attributes :\n",
    "    - self.target_probas -- the probability of apparition of each target\n",
    "    - self.mus -- the mean of each feature for each target\n",
    "    - self.sigma -- the standard deviation of each feature for each target\n",
    "- `_get_single_feature_probability` : Returns the probability of apparition of a single feature, given the target. Uses the Gaussian probabilistic law.\n",
    "- `_predict_single_x` : Returns the probabilities of belonging to each of the target class for a given data point.\n",
    "- `predict_proba` : Returns the probabilities of belonging to each of the target class for all points of the dataset.\n",
    "- `predict` : Returns the predicted class for all points of the dataset.\n",
    "- `score` : Returns the accuracy score for the model on the dataset X, y.\n",
    "\n",
    "The architecture of the class, including the methods to complete and their docstrings, is provided below. **It is not mandatory for you to follow exactly this architecture**, if you have another idea on how to code the algorithm, feel free to follow it.\n",
    "\n",
    "⚠️ One piece of advice : test your code on a simple dataset, such as the iris dataset from scikit-learn."
   ]
  },
  {
   "cell_type": "markdown",
   "metadata": {},
   "source": [
    "### 1. From scratch implementation"
   ]
  },
  {
   "cell_type": "markdown",
   "metadata": {},
   "source": [
    "#### 1.1. Creating the `GaussianNaiveBayes` class"
   ]
  },
  {
   "cell_type": "code",
   "execution_count": 29,
   "metadata": {},
   "outputs": [],
   "source": [
    "import math\n",
    "import numpy as np"
   ]
  },
  {
   "cell_type": "code",
   "execution_count": 217,
   "metadata": {
    "ExecuteTime": {
     "end_time": "2020-07-07T12:21:26.405489Z",
     "start_time": "2020-07-07T12:21:26.390379Z"
    }
   },
   "outputs": [],
   "source": [
    "class GaussianNaiveBayes():\n",
    "    \n",
    "    def _get_target_proba(self, y, target):\n",
    "        \"\"\"\n",
    "        Returns the probability of apparition of a given target on a given dataset,\n",
    "        e.g. the percentage of representation of the given target over the dataset.\n",
    "        \n",
    "        Parameters\n",
    "            y {np.ndarray} -- the target array (1-dimensional)\n",
    "            target {int} -- the given target\n",
    "            \n",
    "        Returns\n",
    "            float : the proportion of representation of the given target over the dataset.\n",
    "        \"\"\"\n",
    "        proba = y[y == target].size / y.size\n",
    "        return proba\n",
    "    \n",
    "    \n",
    "    def _get_mu(self, X, y, target):\n",
    "        \"\"\"\n",
    "        Returns the mean of each feature of a dataset for all observations corresponding to a given target.\n",
    "        \n",
    "        Parameters\n",
    "            X {np.ndarray} -- the features array (n-dimensional)\n",
    "            y {np.ndarray} -- the target array (1-dimensional)\n",
    "            target {int} -- the given target\n",
    "            \n",
    "        Returns\n",
    "            np.ndarray (1-dim) : the mean value of each feature in the dataset for the given target.\n",
    "        \"\"\"\n",
    "        mu = X[y == target].mean(axis = 0)\n",
    "        return mu\n",
    "    \n",
    "    \n",
    "    def _get_sigma(self, X, y, target):\n",
    "        \"\"\"\n",
    "        Returns the standard deviation of each feature of a dataset for all observations corresponding to a given target.\n",
    "        \n",
    "        Parameters\n",
    "            X {np.ndarray} -- the features array (n-dimensional)\n",
    "            y {np.ndarray} -- the target array (1-dimensional)\n",
    "            target {int} -- the given target\n",
    "            \n",
    "        Returns\n",
    "            np.ndarray (1-dim) : the standard deviation of each feature in the dataset for the given target.\n",
    "        \"\"\"\n",
    "        sigma = X[y == target].std(axis = 0)\n",
    "        return sigma \n",
    "    \n",
    "    \n",
    "    def fit(self, X, y):\n",
    "        \"\"\"\n",
    "        Fits the algorithm, e.g. storing as attributes :\n",
    "            > self.target_probas -- the probability of apparition of each target\n",
    "            > self.mus -- the mean of each feature for each target\n",
    "            > self.sigma -- the standard deviation of each feature for each target\n",
    "        \"\"\"\n",
    "        self.target_probas = np.array([self._get_target_proba(y, target) for target in list(set(y))])\n",
    "        self.mus = np.array([self._get_mu(X, y, target) for target in list(set(y))])\n",
    "        self.sigmas = np.array([self._get_sigma(X, y, target) for target in list(set(y))])\n",
    "        \n",
    "        \n",
    "    def _get_single_feature_probability(self, x, mu, sigma):\n",
    "        \"\"\"\n",
    "        Returns the probability of apparition of a single feature, given the target.\n",
    "        Uses the Gaussian probabilistic law.\n",
    "        \n",
    "        Parameters\n",
    "            x {float} -- a single point from a single feature\n",
    "            mu {float} -- the mean of the feature from which x comes\n",
    "            sigma {float} -- the standard deviation of the feature from which x comes\n",
    "            \n",
    "        Returns\n",
    "            float : the probability of a single feature point, for a given target.\n",
    "        \"\"\"\n",
    "        feature_proba = 1 / (math.sqrt(2 * math.pi)) * math.e**(-(x-mu)**2/(2*sigma**2))\n",
    "        return feature_proba\n",
    "    \n",
    "    \n",
    "    def _predict_single_x(self, x):\n",
    "        \"\"\"\n",
    "        Returns the probabilities of belonging to each of the target class for a given data point.\n",
    "        \n",
    "        Parameters\n",
    "            x {np.ndarray} -- a single observation from the dataset (1-dimensional)\n",
    "            \n",
    "        Returns\n",
    "            np.ndarray (1-dimensional) : the array of probabilities of each class for a single point.\n",
    "        \"\"\"\n",
    "        single_proba = np.prod(self._get_single_feature_probability(x, self.mus, self.sigmas), axis = 1) * self.target_probas\n",
    "        return single_proba\n",
    "    \n",
    "    \n",
    "    def predict_proba(self, X):\n",
    "        \"\"\"\n",
    "        Returns the probabilities of belonging to each of the target class for all points of the dataset.\n",
    "        \n",
    "        Parameters\n",
    "            X {np.ndarray} -- the dataset (2-dimensional)\n",
    "            \n",
    "        Returns \n",
    "            np.ndarray (2-dimensional) : the array of probabilities of each class for each point in the dataset.\n",
    "        \"\"\"\n",
    "        predict_probas = np.array([self._predict_single_x(x) for x in X])\n",
    "        return predict_probas\n",
    "\n",
    "    \n",
    "    def predict(self, X):\n",
    "        \"\"\"\n",
    "        Returns the predicted class for all points of the dataset.\n",
    "        \n",
    "        Parameters\n",
    "            X {np.ndarray} -- the dataset (2-dimensional)\n",
    "            \n",
    "        Returns \n",
    "            np.ndarray (1-dimensional) : the predicted class for each point in the dataset.\n",
    "        \"\"\"\n",
    "        pred_proba = self.predict_proba(X)\n",
    "        pred_class = np.array([np.argmax(pred_proba[i]) for i in range(X.shape[0])])\n",
    "        \n",
    "        return pred_class\n",
    "    \n",
    "    def score(self, X, y):\n",
    "        \"\"\"\n",
    "        Returns the accuracy score for the model on the dataset X, y.\n",
    "        \n",
    "        Parameters\n",
    "            X {np.ndarray} -- the dataset (2-dimensional)\n",
    "            y {np.ndarray} -- the target (1-dimensional)\n",
    "        \n",
    "        Returns\n",
    "            float : accuracy score of the model.\n",
    "        \"\"\"\n",
    "        pass"
   ]
  },
  {
   "cell_type": "markdown",
   "metadata": {},
   "source": [
    "#### 1.2. Testing your model on the iris dataset"
   ]
  },
  {
   "cell_type": "code",
   "execution_count": 230,
   "metadata": {
    "ExecuteTime": {
     "end_time": "2020-07-07T12:17:39.584732Z",
     "start_time": "2020-07-07T12:17:38.537098Z"
    }
   },
   "outputs": [],
   "source": [
    "# TODO : load data"
   ]
  },
  {
   "cell_type": "code",
   "execution_count": 231,
   "metadata": {},
   "outputs": [],
   "source": [
    "from sklearn.datasets import load_iris\n",
    "\n",
    "iris_df = load_iris()"
   ]
  },
  {
   "cell_type": "code",
   "execution_count": 232,
   "metadata": {
    "ExecuteTime": {
     "end_time": "2020-07-07T12:18:45.827154Z",
     "start_time": "2020-07-07T12:18:45.818959Z"
    }
   },
   "outputs": [],
   "source": [
    "# TODO : split data"
   ]
  },
  {
   "cell_type": "code",
   "execution_count": 233,
   "metadata": {},
   "outputs": [],
   "source": [
    "X = iris_df.data"
   ]
  },
  {
   "cell_type": "code",
   "execution_count": 234,
   "metadata": {},
   "outputs": [],
   "source": [
    "y = iris_df.target"
   ]
  },
  {
   "cell_type": "code",
   "execution_count": 235,
   "metadata": {},
   "outputs": [],
   "source": [
    "from sklearn.model_selection import train_test_split\n",
    "X_train, X_test, y_train, y_test = train_test_split(X, y, train_size=0.8)"
   ]
  },
  {
   "cell_type": "code",
   "execution_count": 236,
   "metadata": {
    "ExecuteTime": {
     "end_time": "2020-07-07T12:18:46.014469Z",
     "start_time": "2020-07-07T12:18:46.009188Z"
    }
   },
   "outputs": [],
   "source": [
    "# TODO : fit model"
   ]
  },
  {
   "cell_type": "code",
   "execution_count": 237,
   "metadata": {},
   "outputs": [],
   "source": [
    "gnb = GaussianNaiveBayes()"
   ]
  },
  {
   "cell_type": "code",
   "execution_count": 238,
   "metadata": {},
   "outputs": [],
   "source": [
    "gnb.fit(X_train, y_train)"
   ]
  },
  {
   "cell_type": "code",
   "execution_count": 239,
   "metadata": {
    "ExecuteTime": {
     "end_time": "2020-07-07T12:18:46.014469Z",
     "start_time": "2020-07-07T12:18:46.009188Z"
    }
   },
   "outputs": [],
   "source": [
    "# TODO : test the model"
   ]
  },
  {
   "cell_type": "code",
   "execution_count": 240,
   "metadata": {},
   "outputs": [
    {
     "data": {
      "text/plain": [
       "array([[7.55481259e-300, 5.58061021e-018, 3.30345367e-006],\n",
       "       [3.06849554e-004, 7.20333756e-017, 2.05647668e-024],\n",
       "       [1.49456263e-138, 1.32118101e-004, 1.65591630e-003],\n",
       "       [1.86437861e-076, 7.23859825e-003, 2.78767088e-006],\n",
       "       [4.34786753e-105, 2.64632495e-003, 6.16422130e-005],\n",
       "       [1.09025954e-159, 1.36515706e-005, 1.77656247e-003],\n",
       "       [1.78315051e-005, 1.79157380e-022, 4.30709230e-031],\n",
       "       [7.04354214e-003, 2.67465063e-018, 2.20076713e-026],\n",
       "       [1.05613983e-193, 2.42507768e-010, 2.83570923e-003],\n",
       "       [3.17021373e-003, 3.27848956e-018, 9.35196604e-027],\n",
       "       [1.68563053e-003, 2.02345885e-019, 5.18853172e-028],\n",
       "       [6.61677005e-003, 5.86551119e-019, 4.54303513e-027],\n",
       "       [2.65193397e-003, 4.67386986e-017, 2.50838329e-025],\n",
       "       [2.79803418e-173, 3.99113723e-006, 4.71553188e-003],\n",
       "       [6.58950835e-068, 5.80894014e-003, 2.96556140e-007],\n",
       "       [6.89751067e-088, 4.57320296e-003, 1.28443948e-006],\n",
       "       [2.73680833e-113, 2.00960323e-003, 2.57357950e-004],\n",
       "       [8.56461760e-119, 5.60268016e-004, 3.57989984e-004],\n",
       "       [1.95187048e-104, 2.39946620e-003, 6.00251254e-005],\n",
       "       [2.35067776e-003, 2.16072924e-019, 6.28466229e-028],\n",
       "       [9.27194203e-105, 1.93917871e-003, 3.55389396e-005],\n",
       "       [4.44589414e-207, 7.97537993e-011, 1.54893654e-003],\n",
       "       [2.54977865e-144, 9.02805836e-005, 1.85624662e-003],\n",
       "       [2.82676588e-003, 1.64033890e-017, 9.62052896e-026],\n",
       "       [2.14490036e-003, 8.46754505e-017, 3.88073466e-025],\n",
       "       [5.72248385e-137, 5.74944167e-005, 9.34379602e-004],\n",
       "       [3.07982844e-003, 2.72256523e-018, 7.72646620e-027],\n",
       "       [1.27960459e-215, 6.94000087e-009, 1.95789135e-003],\n",
       "       [5.51272464e-263, 1.58866094e-014, 5.96593657e-004],\n",
       "       [1.37986217e-004, 1.36808937e-013, 4.52090728e-022]])"
      ]
     },
     "execution_count": 240,
     "metadata": {},
     "output_type": "execute_result"
    }
   ],
   "source": [
    "gnb.predict_proba(X_test)"
   ]
  },
  {
   "cell_type": "code",
   "execution_count": 241,
   "metadata": {},
   "outputs": [],
   "source": [
    "y_pred = gnb.predict(X_test)"
   ]
  },
  {
   "cell_type": "code",
   "execution_count": 243,
   "metadata": {},
   "outputs": [
    {
     "data": {
      "text/plain": [
       "0.9666666666666667"
      ]
     },
     "execution_count": 243,
     "metadata": {},
     "output_type": "execute_result"
    }
   ],
   "source": [
    "from sklearn.metrics import accuracy_score\n",
    "accuracy_score(y_test, y_pred)"
   ]
  },
  {
   "cell_type": "markdown",
   "metadata": {},
   "source": [
    "### 2. Testing the sklearn version of the GaussianNB on the iris dataset"
   ]
  },
  {
   "cell_type": "code",
   "execution_count": 244,
   "metadata": {
    "ExecuteTime": {
     "end_time": "2020-07-07T12:22:05.203458Z",
     "start_time": "2020-07-07T12:22:05.197918Z"
    }
   },
   "outputs": [],
   "source": [
    "# TODO : test that you have the same results using the sklearn version of the GaussianNB"
   ]
  },
  {
   "cell_type": "code",
   "execution_count": 245,
   "metadata": {},
   "outputs": [
    {
     "data": {
      "text/plain": [
       "0.9666666666666667"
      ]
     },
     "execution_count": 245,
     "metadata": {},
     "output_type": "execute_result"
    }
   ],
   "source": [
    "from sklearn.naive_bayes import GaussianNB\n",
    "gnb2 = GaussianNB()\n",
    "gnb2.fit(X_train, y_train)\n",
    "y_pred = gnb2.predict(X_test)\n",
    "accuracy_score(y_test, y_pred)"
   ]
  },
  {
   "cell_type": "markdown",
   "metadata": {},
   "source": [
    "Results are the same between the two models."
   ]
  }
 ],
 "metadata": {
  "kernelspec": {
   "display_name": "Python 3",
   "language": "python",
   "name": "python3"
  },
  "language_info": {
   "codemirror_mode": {
    "name": "ipython",
    "version": 3
   },
   "file_extension": ".py",
   "mimetype": "text/x-python",
   "name": "python",
   "nbconvert_exporter": "python",
   "pygments_lexer": "ipython3",
   "version": "3.7.6"
  },
  "toc": {
   "base_numbering": 1,
   "nav_menu": {},
   "number_sections": false,
   "sideBar": true,
   "skip_h1_title": false,
   "title_cell": "Table of Contents",
   "title_sidebar": "Contents",
   "toc_cell": false,
   "toc_position": {},
   "toc_section_display": true,
   "toc_window_display": false
  }
 },
 "nbformat": 4,
 "nbformat_minor": 4
}
