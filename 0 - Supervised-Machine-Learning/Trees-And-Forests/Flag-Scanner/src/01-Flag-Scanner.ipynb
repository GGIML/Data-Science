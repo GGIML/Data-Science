{
 "cells": [
  {
   "cell_type": "markdown",
   "metadata": {},
   "source": [
    "# 04-07\n",
    "\n",
    "## Challenge 01 - Flag Scanner 🇧🇯🇨🇳🇧🇧🇪🇨🇨🇺🇬🇦🇫🇮\n",
    "\n",
    "---\n",
    "\n",
    "![](https://www.probuilder.com/sites/probuilder/files/styles/con/public/oleh-aleinyk-711501-unsplash.jpg?itok=2wp-5ulq)\n",
    "\n",
    "## Instructions\n",
    "\n",
    "In this exercise, we will train a **Decision Tree** model that predicts the continent of a country based on its flag.\n",
    "\n",
    "The data comes from this open dataset: http://archive.ics.uci.edu/ml/datasets/Flags\n",
    "\n",
    "You will make sure to create **reproducible results** by stating a `random_state` anytime it is required.\n",
    "\n",
    "Follow the steps below:"
   ]
  },
  {
   "cell_type": "markdown",
   "metadata": {},
   "source": [
    "Q1. Load the dataset in a DataFrame variable named `flags`. Make sure to include row 0 as header as it contains the column names.\n",
    "\n",
    "  What is the shape of the data, what features (and how many) does the dataset contain?"
   ]
  },
  {
   "cell_type": "code",
   "execution_count": 261,
   "metadata": {
    "scrolled": true
   },
   "outputs": [],
   "source": [
    "### TODO: load the dataset\n",
    "import pandas as pd\n",
    "import numpy as np\n",
    "\n",
    "flags = pd.read_csv('flags.csv')"
   ]
  },
  {
   "cell_type": "markdown",
   "metadata": {},
   "source": [
    "Q2. Create a DataFrame variable `y` corresponding to our target variable column."
   ]
  },
  {
   "cell_type": "code",
   "execution_count": 262,
   "metadata": {},
   "outputs": [
    {
     "data": {
      "text/plain": [
       "(194, 30)"
      ]
     },
     "execution_count": 262,
     "metadata": {},
     "output_type": "execute_result"
    }
   ],
   "source": [
    "flags.shape"
   ]
  },
  {
   "cell_type": "code",
   "execution_count": 263,
   "metadata": {},
   "outputs": [
    {
     "name": "stdout",
     "output_type": "stream",
     "text": [
      "<class 'pandas.core.frame.DataFrame'>\n",
      "RangeIndex: 194 entries, 0 to 193\n",
      "Data columns (total 30 columns):\n",
      " #   Column      Non-Null Count  Dtype \n",
      "---  ------      --------------  ----- \n",
      " 0   Name        194 non-null    object\n",
      " 1   Landmass    194 non-null    int64 \n",
      " 2   Zone        194 non-null    int64 \n",
      " 3   Area        194 non-null    int64 \n",
      " 4   Population  194 non-null    int64 \n",
      " 5   Language    194 non-null    int64 \n",
      " 6   Religion    194 non-null    int64 \n",
      " 7   Bars        194 non-null    int64 \n",
      " 8   Stripes     194 non-null    int64 \n",
      " 9   Colors      194 non-null    int64 \n",
      " 10  Red         194 non-null    int64 \n",
      " 11  Green       194 non-null    int64 \n",
      " 12  Blue        194 non-null    int64 \n",
      " 13  Gold        194 non-null    int64 \n",
      " 14  White       194 non-null    int64 \n",
      " 15  Black       194 non-null    int64 \n",
      " 16  Orange      194 non-null    int64 \n",
      " 17  Mainhue     194 non-null    object\n",
      " 18  Circles     194 non-null    int64 \n",
      " 19  Crosses     194 non-null    int64 \n",
      " 20  Saltires    194 non-null    int64 \n",
      " 21  Quarters    194 non-null    int64 \n",
      " 22  Sunstars    194 non-null    int64 \n",
      " 23  Crescent    194 non-null    int64 \n",
      " 24  Triangle    194 non-null    int64 \n",
      " 25  Icon        194 non-null    int64 \n",
      " 26  Animate     194 non-null    int64 \n",
      " 27  Text        194 non-null    int64 \n",
      " 28  Topleft     194 non-null    object\n",
      " 29  Botright    194 non-null    object\n",
      "dtypes: int64(26), object(4)\n",
      "memory usage: 45.6+ KB\n"
     ]
    }
   ],
   "source": [
    "flags.info()"
   ]
  },
  {
   "cell_type": "code",
   "execution_count": 264,
   "metadata": {
    "scrolled": true
   },
   "outputs": [
    {
     "data": {
      "text/html": [
       "<div>\n",
       "<style scoped>\n",
       "    .dataframe tbody tr th:only-of-type {\n",
       "        vertical-align: middle;\n",
       "    }\n",
       "\n",
       "    .dataframe tbody tr th {\n",
       "        vertical-align: top;\n",
       "    }\n",
       "\n",
       "    .dataframe thead th {\n",
       "        text-align: right;\n",
       "    }\n",
       "</style>\n",
       "<table border=\"1\" class=\"dataframe\">\n",
       "  <thead>\n",
       "    <tr style=\"text-align: right;\">\n",
       "      <th></th>\n",
       "      <th>Name</th>\n",
       "      <th>Landmass</th>\n",
       "      <th>Zone</th>\n",
       "      <th>Area</th>\n",
       "      <th>Population</th>\n",
       "      <th>Language</th>\n",
       "      <th>Religion</th>\n",
       "      <th>Bars</th>\n",
       "      <th>Stripes</th>\n",
       "      <th>Colors</th>\n",
       "      <th>...</th>\n",
       "      <th>Saltires</th>\n",
       "      <th>Quarters</th>\n",
       "      <th>Sunstars</th>\n",
       "      <th>Crescent</th>\n",
       "      <th>Triangle</th>\n",
       "      <th>Icon</th>\n",
       "      <th>Animate</th>\n",
       "      <th>Text</th>\n",
       "      <th>Topleft</th>\n",
       "      <th>Botright</th>\n",
       "    </tr>\n",
       "  </thead>\n",
       "  <tbody>\n",
       "    <tr>\n",
       "      <th>0</th>\n",
       "      <td>Afghanistan</td>\n",
       "      <td>5</td>\n",
       "      <td>1</td>\n",
       "      <td>648</td>\n",
       "      <td>16</td>\n",
       "      <td>10</td>\n",
       "      <td>2</td>\n",
       "      <td>0</td>\n",
       "      <td>3</td>\n",
       "      <td>5</td>\n",
       "      <td>...</td>\n",
       "      <td>0</td>\n",
       "      <td>0</td>\n",
       "      <td>1</td>\n",
       "      <td>0</td>\n",
       "      <td>0</td>\n",
       "      <td>1</td>\n",
       "      <td>0</td>\n",
       "      <td>0</td>\n",
       "      <td>black</td>\n",
       "      <td>green</td>\n",
       "    </tr>\n",
       "    <tr>\n",
       "      <th>1</th>\n",
       "      <td>Albania</td>\n",
       "      <td>3</td>\n",
       "      <td>1</td>\n",
       "      <td>29</td>\n",
       "      <td>3</td>\n",
       "      <td>6</td>\n",
       "      <td>6</td>\n",
       "      <td>0</td>\n",
       "      <td>0</td>\n",
       "      <td>3</td>\n",
       "      <td>...</td>\n",
       "      <td>0</td>\n",
       "      <td>0</td>\n",
       "      <td>1</td>\n",
       "      <td>0</td>\n",
       "      <td>0</td>\n",
       "      <td>0</td>\n",
       "      <td>1</td>\n",
       "      <td>0</td>\n",
       "      <td>red</td>\n",
       "      <td>red</td>\n",
       "    </tr>\n",
       "    <tr>\n",
       "      <th>2</th>\n",
       "      <td>Algeria</td>\n",
       "      <td>4</td>\n",
       "      <td>1</td>\n",
       "      <td>2388</td>\n",
       "      <td>20</td>\n",
       "      <td>8</td>\n",
       "      <td>2</td>\n",
       "      <td>2</td>\n",
       "      <td>0</td>\n",
       "      <td>3</td>\n",
       "      <td>...</td>\n",
       "      <td>0</td>\n",
       "      <td>0</td>\n",
       "      <td>1</td>\n",
       "      <td>1</td>\n",
       "      <td>0</td>\n",
       "      <td>0</td>\n",
       "      <td>0</td>\n",
       "      <td>0</td>\n",
       "      <td>green</td>\n",
       "      <td>white</td>\n",
       "    </tr>\n",
       "    <tr>\n",
       "      <th>3</th>\n",
       "      <td>American-Samoa</td>\n",
       "      <td>6</td>\n",
       "      <td>3</td>\n",
       "      <td>0</td>\n",
       "      <td>0</td>\n",
       "      <td>1</td>\n",
       "      <td>1</td>\n",
       "      <td>0</td>\n",
       "      <td>0</td>\n",
       "      <td>5</td>\n",
       "      <td>...</td>\n",
       "      <td>0</td>\n",
       "      <td>0</td>\n",
       "      <td>0</td>\n",
       "      <td>0</td>\n",
       "      <td>1</td>\n",
       "      <td>1</td>\n",
       "      <td>1</td>\n",
       "      <td>0</td>\n",
       "      <td>blue</td>\n",
       "      <td>red</td>\n",
       "    </tr>\n",
       "    <tr>\n",
       "      <th>4</th>\n",
       "      <td>Andorra</td>\n",
       "      <td>3</td>\n",
       "      <td>1</td>\n",
       "      <td>0</td>\n",
       "      <td>0</td>\n",
       "      <td>6</td>\n",
       "      <td>0</td>\n",
       "      <td>3</td>\n",
       "      <td>0</td>\n",
       "      <td>3</td>\n",
       "      <td>...</td>\n",
       "      <td>0</td>\n",
       "      <td>0</td>\n",
       "      <td>0</td>\n",
       "      <td>0</td>\n",
       "      <td>0</td>\n",
       "      <td>0</td>\n",
       "      <td>0</td>\n",
       "      <td>0</td>\n",
       "      <td>blue</td>\n",
       "      <td>red</td>\n",
       "    </tr>\n",
       "  </tbody>\n",
       "</table>\n",
       "<p>5 rows × 30 columns</p>\n",
       "</div>"
      ],
      "text/plain": [
       "             Name  Landmass  Zone  Area  Population  Language  Religion  Bars  \\\n",
       "0     Afghanistan         5     1   648          16        10         2     0   \n",
       "1         Albania         3     1    29           3         6         6     0   \n",
       "2         Algeria         4     1  2388          20         8         2     2   \n",
       "3  American-Samoa         6     3     0           0         1         1     0   \n",
       "4         Andorra         3     1     0           0         6         0     3   \n",
       "\n",
       "   Stripes  Colors  ...  Saltires  Quarters  Sunstars  Crescent  Triangle  \\\n",
       "0        3       5  ...         0         0         1         0         0   \n",
       "1        0       3  ...         0         0         1         0         0   \n",
       "2        0       3  ...         0         0         1         1         0   \n",
       "3        0       5  ...         0         0         0         0         1   \n",
       "4        0       3  ...         0         0         0         0         0   \n",
       "\n",
       "   Icon  Animate Text  Topleft  Botright  \n",
       "0     1        0    0    black     green  \n",
       "1     0        1    0      red       red  \n",
       "2     0        0    0    green     white  \n",
       "3     1        1    0     blue       red  \n",
       "4     0        0    0     blue       red  \n",
       "\n",
       "[5 rows x 30 columns]"
      ]
     },
     "execution_count": 264,
     "metadata": {},
     "output_type": "execute_result"
    }
   ],
   "source": [
    "flags.head()"
   ]
  },
  {
   "cell_type": "code",
   "execution_count": 265,
   "metadata": {},
   "outputs": [
    {
     "data": {
      "text/plain": [
       "array([5, 3, 4, 6, 1, 2])"
      ]
     },
     "execution_count": 265,
     "metadata": {},
     "output_type": "execute_result"
    }
   ],
   "source": [
    "flags.Landmass.unique()"
   ]
  },
  {
   "cell_type": "code",
   "execution_count": 266,
   "metadata": {},
   "outputs": [
    {
     "data": {
      "text/plain": [
       "0      0\n",
       "1      0\n",
       "2      0\n",
       "3      0\n",
       "4      0\n",
       "      ..\n",
       "189    0\n",
       "190    0\n",
       "191    0\n",
       "192    0\n",
       "193    0\n",
       "Name: Saltires, Length: 194, dtype: int64"
      ]
     },
     "execution_count": 266,
     "metadata": {},
     "output_type": "execute_result"
    }
   ],
   "source": [
    "flags.Saltires"
   ]
  },
  {
   "cell_type": "code",
   "execution_count": 267,
   "metadata": {},
   "outputs": [],
   "source": [
    "### TODO: create y\n",
    "y = flags.Landmass"
   ]
  },
  {
   "cell_type": "markdown",
   "metadata": {},
   "source": [
    "Q3. Create a DataFrame variable `X` containing only the following features columns:\n",
    "  - \"Red\"\n",
    "  - \"Green\"\n",
    "  - \"Blue\"\n",
    "  - \"Gold\"\n",
    "  - \"White\"\n",
    "  - \"Black\"\n",
    "  - \"Orange\""
   ]
  },
  {
   "cell_type": "code",
   "execution_count": 268,
   "metadata": {},
   "outputs": [],
   "source": [
    "### TODO: create X\n",
    "features = ['Red', 'Green', 'Blue', 'Gold', 'White', 'Black', 'Orange']\n",
    "X = flags[features]"
   ]
  },
  {
   "cell_type": "markdown",
   "metadata": {},
   "source": [
    "Q4. Split your data into a training set of 70% and a testing set with the remaining lines."
   ]
  },
  {
   "cell_type": "code",
   "execution_count": 269,
   "metadata": {},
   "outputs": [],
   "source": [
    "### TODO: split your data\n",
    "from sklearn.model_selection import train_test_split\n",
    "\n",
    "X_train, X_test, y_train, y_test = train_test_split(X, y, train_size=.7, random_state=42, stratify=y)"
   ]
  },
  {
   "cell_type": "markdown",
   "metadata": {},
   "source": [
    "Q5. Fit a **`DecisionTree`** classifier on your data and **evaluate your model**. What would be the score of *random guessing* the continent? Compare with your model performance."
   ]
  },
  {
   "cell_type": "code",
   "execution_count": 270,
   "metadata": {},
   "outputs": [
    {
     "name": "stdout",
     "output_type": "stream",
     "text": [
      "0.4067796610169492\n"
     ]
    }
   ],
   "source": [
    "### TODO: fit your model and evaluate it\n",
    "from sklearn.tree import DecisionTreeClassifier\n",
    "dtc = DecisionTreeClassifier(random_state=42)\n",
    "dtc.fit(X_train, y_train)\n",
    "score = dtc.score(X_test, y_test)\n",
    "print(score)"
   ]
  },
  {
   "cell_type": "markdown",
   "metadata": {},
   "source": [
    "Random guessing would have a score of 0.5. The models performs worse than random guessing."
   ]
  },
  {
   "cell_type": "code",
   "execution_count": 271,
   "metadata": {},
   "outputs": [
    {
     "data": {
      "text/plain": [
       "0.6"
      ]
     },
     "execution_count": 271,
     "metadata": {},
     "output_type": "execute_result"
    }
   ],
   "source": [
    "dtc.score(X_train, y_train)"
   ]
  },
  {
   "cell_type": "markdown",
   "metadata": {},
   "source": [
    "It seems it underfits."
   ]
  },
  {
   "cell_type": "markdown",
   "metadata": {},
   "source": [
    "Q6. We have a first performance benchmark. Using `GridSearchCV`, train your tree with `max_depth` value varying from 1 to 20 and observe the impact on your accuracy.\n",
    "\n",
    "  Plot these results in a chart with x-axis for depth of the tree and the y-axis corresponding the tree's accuracy.\n"
   ]
  },
  {
   "cell_type": "code",
   "execution_count": 272,
   "metadata": {},
   "outputs": [],
   "source": [
    "### TODO: compute a grid search\n",
    "from sklearn.model_selection import GridSearchCV\n",
    "\n",
    "param_grid = {'max_depth' : np.arange(1,21)}\n",
    "\n",
    "dt_grid = GridSearchCV(DecisionTreeClassifier(random_state=42), param_grid=param_grid, verbose=1)"
   ]
  },
  {
   "cell_type": "code",
   "execution_count": 273,
   "metadata": {},
   "outputs": [
    {
     "name": "stdout",
     "output_type": "stream",
     "text": [
      "Fitting 5 folds for each of 20 candidates, totalling 100 fits\n"
     ]
    },
    {
     "name": "stderr",
     "output_type": "stream",
     "text": [
      "[Parallel(n_jobs=1)]: Using backend SequentialBackend with 1 concurrent workers.\n",
      "[Parallel(n_jobs=1)]: Done 100 out of 100 | elapsed:    0.4s finished\n"
     ]
    },
    {
     "data": {
      "text/plain": [
       "GridSearchCV(estimator=DecisionTreeClassifier(random_state=42),\n",
       "             param_grid={'max_depth': array([ 1,  2,  3,  4,  5,  6,  7,  8,  9, 10, 11, 12, 13, 14, 15, 16, 17,\n",
       "       18, 19, 20])},\n",
       "             verbose=1)"
      ]
     },
     "execution_count": 273,
     "metadata": {},
     "output_type": "execute_result"
    }
   ],
   "source": [
    "dt_grid.fit(X_train, y_train)"
   ]
  },
  {
   "cell_type": "code",
   "execution_count": 274,
   "metadata": {},
   "outputs": [],
   "source": [
    "### TODO: plot the results of the grid search\n",
    "params = param_grid['max_depth']"
   ]
  },
  {
   "cell_type": "code",
   "execution_count": 275,
   "metadata": {},
   "outputs": [
    {
     "data": {
      "text/plain": [
       "array([ 1,  2,  3,  4,  5,  6,  7,  8,  9, 10, 11, 12, 13, 14, 15, 16, 17,\n",
       "       18, 19, 20])"
      ]
     },
     "execution_count": 275,
     "metadata": {},
     "output_type": "execute_result"
    }
   ],
   "source": [
    "params"
   ]
  },
  {
   "cell_type": "code",
   "execution_count": 276,
   "metadata": {},
   "outputs": [],
   "source": [
    "scores = dt_grid.cv_results_['mean_test_score']"
   ]
  },
  {
   "cell_type": "code",
   "execution_count": 277,
   "metadata": {},
   "outputs": [
    {
     "data": {
      "text/plain": [
       "array([0.33333333, 0.31851852, 0.34074074, 0.37037037, 0.41481481,\n",
       "       0.4       , 0.39259259, 0.4       , 0.4       , 0.4       ,\n",
       "       0.4       , 0.4       , 0.4       , 0.4       , 0.4       ,\n",
       "       0.4       , 0.4       , 0.4       , 0.4       , 0.4       ])"
      ]
     },
     "execution_count": 277,
     "metadata": {},
     "output_type": "execute_result"
    }
   ],
   "source": [
    "scores"
   ]
  },
  {
   "cell_type": "code",
   "execution_count": 278,
   "metadata": {},
   "outputs": [],
   "source": [
    "import matplotlib.pyplot as plt\n",
    "import seaborn as sns"
   ]
  },
  {
   "cell_type": "code",
   "execution_count": 279,
   "metadata": {},
   "outputs": [
    {
     "data": {
      "text/plain": [
       "Text(0, 0.5, 'Test score')"
      ]
     },
     "execution_count": 279,
     "metadata": {},
     "output_type": "execute_result"
    },
    {
     "data": {
      "image/png": "[encoded data removed]",
      "text/plain": [
       "<Figure size 432x288 with 1 Axes>"
      ]
     },
     "metadata": {
      "needs_background": "light"
     },
     "output_type": "display_data"
    }
   ],
   "source": [
    "plt.figure()\n",
    "\n",
    "sns.lineplot(x=params, y=scores)\n",
    "\n",
    "plt.xlabel('max_depth')\n",
    "plt.ylabel('Test score')"
   ]
  },
  {
   "cell_type": "markdown",
   "metadata": {},
   "source": [
    "Q7. \n",
    "> 🔦 **Hint**: Our graph does not really look like what we expected. The depth of the tree does not have a clear impact on the tree score. This might be a good indication that we are not using enough features.\n",
    "\n",
    "  Add all the features associated to the the shapes of the flag, and redo the analysis. What does your graph look like after making this change?"
   ]
  },
  {
   "cell_type": "code",
   "execution_count": 280,
   "metadata": {},
   "outputs": [
    {
     "data": {
      "text/plain": [
       "Index(['Name', 'Landmass', 'Zone', 'Area', 'Population', 'Language',\n",
       "       'Religion', 'Bars', 'Stripes', 'Colors', 'Red', 'Green', 'Blue', 'Gold',\n",
       "       'White', 'Black', 'Orange', 'Mainhue', 'Circles', 'Crosses', 'Saltires',\n",
       "       'Quarters', 'Sunstars', 'Crescent', 'Triangle', 'Icon', 'Animate',\n",
       "       'Text', 'Topleft', 'Botright'],\n",
       "      dtype='object')"
      ]
     },
     "execution_count": 280,
     "metadata": {},
     "output_type": "execute_result"
    }
   ],
   "source": [
    "flags.columns"
   ]
  },
  {
   "cell_type": "code",
   "execution_count": 281,
   "metadata": {},
   "outputs": [],
   "source": [
    "### TODO: add features and redo the analysis\n",
    "full_features = ['Bars','Stripes','Circles', 'Crosses', 'Saltires', 'Quarters', 'Sunstars', 'Crescent', 'Triangle', 'Icon', 'Red', 'Green', 'Blue', 'Gold', 'White', 'Black', 'Orange']\n",
    "\n",
    "X_full = flags[full_features]"
   ]
  },
  {
   "cell_type": "code",
   "execution_count": 282,
   "metadata": {},
   "outputs": [],
   "source": [
    "X_train, X_test, y_train, y_test = train_test_split(X_full, y, train_size=.7, random_state=42, stratify=y)"
   ]
  },
  {
   "cell_type": "code",
   "execution_count": 283,
   "metadata": {},
   "outputs": [
    {
     "name": "stdout",
     "output_type": "stream",
     "text": [
      "0.3389830508474576\n"
     ]
    }
   ],
   "source": [
    "dtc = DecisionTreeClassifier(random_state=42)\n",
    "dtc.fit(X_train, y_train)\n",
    "score = dtc.score(X_test, y_test)\n",
    "print(score)"
   ]
  },
  {
   "cell_type": "code",
   "execution_count": 284,
   "metadata": {},
   "outputs": [
    {
     "data": {
      "text/plain": [
       "0.9629629629629629"
      ]
     },
     "execution_count": 284,
     "metadata": {},
     "output_type": "execute_result"
    }
   ],
   "source": [
    "dtc.score(X_train, y_train)"
   ]
  },
  {
   "cell_type": "markdown",
   "metadata": {},
   "source": [
    "Here the model is likely overfitting."
   ]
  },
  {
   "cell_type": "code",
   "execution_count": 285,
   "metadata": {},
   "outputs": [
    {
     "name": "stdout",
     "output_type": "stream",
     "text": [
      "Fitting 5 folds for each of 20 candidates, totalling 100 fits\n"
     ]
    },
    {
     "name": "stderr",
     "output_type": "stream",
     "text": [
      "[Parallel(n_jobs=1)]: Using backend SequentialBackend with 1 concurrent workers.\n",
      "[Parallel(n_jobs=1)]: Done 100 out of 100 | elapsed:    0.4s finished\n"
     ]
    }
   ],
   "source": [
    "dt_grid = GridSearchCV(DecisionTreeClassifier(), param_grid=param_grid, verbose=1)\n",
    "dt_grid.fit(X_train, y_train)\n",
    "scores = dt_grid.cv_results_['mean_test_score']"
   ]
  },
  {
   "cell_type": "code",
   "execution_count": 286,
   "metadata": {
    "scrolled": true
   },
   "outputs": [
    {
     "data": {
      "text/plain": [
       "Text(0, 0.5, 'Test score')"
      ]
     },
     "execution_count": 286,
     "metadata": {},
     "output_type": "execute_result"
    },
    {
     "data": {
      "image/png": "[encoded data removed]",
      "text/plain": [
       "<Figure size 432x288 with 1 Axes>"
      ]
     },
     "metadata": {
      "needs_background": "light"
     },
     "output_type": "display_data"
    }
   ],
   "source": [
    "plt.figure()\n",
    "\n",
    "sns.lineplot(x=params, y=scores)\n",
    "\n",
    "plt.xlabel('max_depth')\n",
    "plt.ylabel('Test score')"
   ]
  },
  {
   "cell_type": "markdown",
   "metadata": {},
   "source": [
    "Q8. Explore on your own and try improving the score of your decision tree. Here are some suggestions on improvements:\n",
    "  - Tune other hyper-parameters. Think about whether you are overfitting or underfitting the data based on the hyper-parameter selected and the value chosen\n",
    "  - Select a subset of features that work better on this data  \n"
   ]
  },
  {
   "cell_type": "code",
   "execution_count": 287,
   "metadata": {},
   "outputs": [],
   "source": [
    "sort_features = np.argsort(-dtc.feature_importances_)"
   ]
  },
  {
   "cell_type": "code",
   "execution_count": 288,
   "metadata": {},
   "outputs": [
    {
     "data": {
      "text/plain": [
       "array([ 1,  6, 15, 13,  9, 11,  2,  5,  0, 14,  3, 10,  8,  7, 16, 12,  4])"
      ]
     },
     "execution_count": 288,
     "metadata": {},
     "output_type": "execute_result"
    }
   ],
   "source": [
    "sort_features"
   ]
  },
  {
   "cell_type": "code",
   "execution_count": 289,
   "metadata": {},
   "outputs": [
    {
     "data": {
      "text/plain": [
       "array([0.04938191, 0.17143765, 0.05872851, 0.04331553, 0.00319602,\n",
       "       0.05023463, 0.10234403, 0.03117454, 0.0324929 , 0.06972188,\n",
       "       0.04026989, 0.06740818, 0.024137  , 0.08563022, 0.04582868,\n",
       "       0.09998251, 0.02471591])"
      ]
     },
     "execution_count": 289,
     "metadata": {},
     "output_type": "execute_result"
    }
   ],
   "source": [
    "dtc.feature_importances_"
   ]
  },
  {
   "cell_type": "code",
   "execution_count": 290,
   "metadata": {},
   "outputs": [
    {
     "data": {
      "text/plain": [
       "Index(['Stripes', 'Sunstars', 'Black', 'Gold', 'Icon', 'Green', 'Circles',\n",
       "       'Quarters', 'Bars', 'White', 'Crosses', 'Red', 'Triangle', 'Crescent',\n",
       "       'Orange', 'Blue', 'Saltires'],\n",
       "      dtype='object')"
      ]
     },
     "execution_count": 290,
     "metadata": {},
     "output_type": "execute_result"
    }
   ],
   "source": [
    "X_full.columns[sort_features]"
   ]
  },
  {
   "cell_type": "code",
   "execution_count": 330,
   "metadata": {},
   "outputs": [],
   "source": [
    "selected_features = X_full.columns[sort_features][:12]\n",
    "X_selected = flags[selected_features]"
   ]
  },
  {
   "cell_type": "code",
   "execution_count": 331,
   "metadata": {},
   "outputs": [],
   "source": [
    "X_train, X_test, y_train, y_test = train_test_split(X_selected, y, train_size=.7, random_state=42, stratify=y)"
   ]
  },
  {
   "cell_type": "code",
   "execution_count": 332,
   "metadata": {},
   "outputs": [
    {
     "name": "stdout",
     "output_type": "stream",
     "text": [
      "0.3898305084745763\n"
     ]
    }
   ],
   "source": [
    "dtc = DecisionTreeClassifier(random_state=42)\n",
    "dtc.fit(X_train, y_train)\n",
    "score = dtc.score(X_test, y_test)\n",
    "print(score)"
   ]
  },
  {
   "cell_type": "code",
   "execution_count": 333,
   "metadata": {},
   "outputs": [
    {
     "data": {
      "text/plain": [
       "0.9259259259259259"
      ]
     },
     "execution_count": 333,
     "metadata": {},
     "output_type": "execute_result"
    }
   ],
   "source": [
    "dtc.score(X_train, y_train)"
   ]
  },
  {
   "cell_type": "code",
   "execution_count": 334,
   "metadata": {},
   "outputs": [
    {
     "name": "stdout",
     "output_type": "stream",
     "text": [
      "Fitting 5 folds for each of 20 candidates, totalling 100 fits\n"
     ]
    },
    {
     "name": "stderr",
     "output_type": "stream",
     "text": [
      "[Parallel(n_jobs=1)]: Using backend SequentialBackend with 1 concurrent workers.\n",
      "[Parallel(n_jobs=1)]: Done 100 out of 100 | elapsed:    0.4s finished\n"
     ]
    }
   ],
   "source": [
    "param_grid = {'max_depth' : np.arange(1,21)}\n",
    "dt_grid = GridSearchCV(DecisionTreeClassifier(), param_grid=param_grid, verbose=1)\n",
    "dt_grid.fit(X_train, y_train)\n",
    "scores = dt_grid.cv_results_['mean_test_score']"
   ]
  },
  {
   "cell_type": "code",
   "execution_count": 335,
   "metadata": {},
   "outputs": [],
   "source": [
    "train_scores = []\n",
    "\n",
    "for depth in params:\n",
    "    dtc = DecisionTreeClassifier(max_depth=depth)\n",
    "    dtc.fit(X_train, y_train)\n",
    "    train_scores.append(dtc.score(X_train, y_train))"
   ]
  },
  {
   "cell_type": "code",
   "execution_count": 336,
   "metadata": {},
   "outputs": [
    {
     "data": {
      "text/plain": [
       "Text(0, 0.5, 'Score')"
      ]
     },
     "execution_count": 336,
     "metadata": {},
     "output_type": "execute_result"
    },
    {
     "data": {
      "image/png": "[encoded data removed]",
      "text/plain": [
       "<Figure size 432x288 with 1 Axes>"
      ]
     },
     "metadata": {
      "needs_background": "light"
     },
     "output_type": "display_data"
    }
   ],
   "source": [
    "plt.figure()\n",
    "\n",
    "sns.lineplot(x=params, y=scores)\n",
    "sns.lineplot(x=params, y=train_scores)\n",
    "\n",
    "\n",
    "plt.xlabel('max_depth')\n",
    "plt.ylabel('Score')"
   ]
  },
  {
   "cell_type": "code",
   "execution_count": 343,
   "metadata": {},
   "outputs": [],
   "source": [
    "param_grid = {'max_depth' : np.arange(3,10), 'min_samples_split': np.arange(2,10), 'min_samples_leaf': np.arange(2,10)}"
   ]
  },
  {
   "cell_type": "code",
   "execution_count": 344,
   "metadata": {},
   "outputs": [
    {
     "name": "stdout",
     "output_type": "stream",
     "text": [
      "Fitting 5 folds for each of 5508 candidates, totalling 27540 fits\n"
     ]
    },
    {
     "name": "stderr",
     "output_type": "stream",
     "text": [
      "[Parallel(n_jobs=1)]: Using backend SequentialBackend with 1 concurrent workers.\n",
      "[Parallel(n_jobs=1)]: Done 27540 out of 27540 | elapsed:  1.8min finished\n"
     ]
    }
   ],
   "source": [
    "dt_grid = GridSearchCV(DecisionTreeClassifier(random_state=42), param_grid=param_grid, verbose=1)\n",
    "dt_grid.fit(X_train, y_train)\n",
    "scores = dt_grid.cv_results_['mean_test_score']"
   ]
  },
  {
   "cell_type": "code",
   "execution_count": 345,
   "metadata": {},
   "outputs": [
    {
     "data": {
      "text/html": [
       "<div>\n",
       "<style scoped>\n",
       "    .dataframe tbody tr th:only-of-type {\n",
       "        vertical-align: middle;\n",
       "    }\n",
       "\n",
       "    .dataframe tbody tr th {\n",
       "        vertical-align: top;\n",
       "    }\n",
       "\n",
       "    .dataframe thead th {\n",
       "        text-align: right;\n",
       "    }\n",
       "</style>\n",
       "<table border=\"1\" class=\"dataframe\">\n",
       "  <thead>\n",
       "    <tr style=\"text-align: right;\">\n",
       "      <th></th>\n",
       "      <th>mean_fit_time</th>\n",
       "      <th>std_fit_time</th>\n",
       "      <th>mean_score_time</th>\n",
       "      <th>std_score_time</th>\n",
       "      <th>param_max_depth</th>\n",
       "      <th>param_min_samples_leaf</th>\n",
       "      <th>param_min_samples_split</th>\n",
       "      <th>params</th>\n",
       "      <th>split0_test_score</th>\n",
       "      <th>split1_test_score</th>\n",
       "      <th>split2_test_score</th>\n",
       "      <th>split3_test_score</th>\n",
       "      <th>split4_test_score</th>\n",
       "      <th>mean_test_score</th>\n",
       "      <th>std_test_score</th>\n",
       "      <th>rank_test_score</th>\n",
       "    </tr>\n",
       "  </thead>\n",
       "  <tbody>\n",
       "    <tr>\n",
       "      <th>0</th>\n",
       "      <td>0.003471</td>\n",
       "      <td>0.000679</td>\n",
       "      <td>0.001889</td>\n",
       "      <td>0.000222</td>\n",
       "      <td>3</td>\n",
       "      <td>2</td>\n",
       "      <td>2</td>\n",
       "      <td>{'max_depth': 3, 'min_samples_leaf': 2, 'min_s...</td>\n",
       "      <td>0.370370</td>\n",
       "      <td>0.333333</td>\n",
       "      <td>0.407407</td>\n",
       "      <td>0.370370</td>\n",
       "      <td>0.407407</td>\n",
       "      <td>0.377778</td>\n",
       "      <td>0.027716</td>\n",
       "      <td>1311</td>\n",
       "    </tr>\n",
       "    <tr>\n",
       "      <th>1</th>\n",
       "      <td>0.003320</td>\n",
       "      <td>0.000422</td>\n",
       "      <td>0.001812</td>\n",
       "      <td>0.000114</td>\n",
       "      <td>3</td>\n",
       "      <td>2</td>\n",
       "      <td>3</td>\n",
       "      <td>{'max_depth': 3, 'min_samples_leaf': 2, 'min_s...</td>\n",
       "      <td>0.370370</td>\n",
       "      <td>0.333333</td>\n",
       "      <td>0.407407</td>\n",
       "      <td>0.370370</td>\n",
       "      <td>0.407407</td>\n",
       "      <td>0.377778</td>\n",
       "      <td>0.027716</td>\n",
       "      <td>1311</td>\n",
       "    </tr>\n",
       "    <tr>\n",
       "      <th>2</th>\n",
       "      <td>0.002650</td>\n",
       "      <td>0.000293</td>\n",
       "      <td>0.001567</td>\n",
       "      <td>0.000128</td>\n",
       "      <td>3</td>\n",
       "      <td>2</td>\n",
       "      <td>4</td>\n",
       "      <td>{'max_depth': 3, 'min_samples_leaf': 2, 'min_s...</td>\n",
       "      <td>0.370370</td>\n",
       "      <td>0.333333</td>\n",
       "      <td>0.407407</td>\n",
       "      <td>0.370370</td>\n",
       "      <td>0.407407</td>\n",
       "      <td>0.377778</td>\n",
       "      <td>0.027716</td>\n",
       "      <td>1311</td>\n",
       "    </tr>\n",
       "    <tr>\n",
       "      <th>3</th>\n",
       "      <td>0.002177</td>\n",
       "      <td>0.000038</td>\n",
       "      <td>0.001354</td>\n",
       "      <td>0.000019</td>\n",
       "      <td>3</td>\n",
       "      <td>2</td>\n",
       "      <td>5</td>\n",
       "      <td>{'max_depth': 3, 'min_samples_leaf': 2, 'min_s...</td>\n",
       "      <td>0.370370</td>\n",
       "      <td>0.333333</td>\n",
       "      <td>0.407407</td>\n",
       "      <td>0.370370</td>\n",
       "      <td>0.407407</td>\n",
       "      <td>0.377778</td>\n",
       "      <td>0.027716</td>\n",
       "      <td>1311</td>\n",
       "    </tr>\n",
       "    <tr>\n",
       "      <th>4</th>\n",
       "      <td>0.002123</td>\n",
       "      <td>0.000011</td>\n",
       "      <td>0.001322</td>\n",
       "      <td>0.000017</td>\n",
       "      <td>3</td>\n",
       "      <td>2</td>\n",
       "      <td>6</td>\n",
       "      <td>{'max_depth': 3, 'min_samples_leaf': 2, 'min_s...</td>\n",
       "      <td>0.370370</td>\n",
       "      <td>0.333333</td>\n",
       "      <td>0.407407</td>\n",
       "      <td>0.370370</td>\n",
       "      <td>0.407407</td>\n",
       "      <td>0.377778</td>\n",
       "      <td>0.027716</td>\n",
       "      <td>1311</td>\n",
       "    </tr>\n",
       "    <tr>\n",
       "      <th>...</th>\n",
       "      <td>...</td>\n",
       "      <td>...</td>\n",
       "      <td>...</td>\n",
       "      <td>...</td>\n",
       "      <td>...</td>\n",
       "      <td>...</td>\n",
       "      <td>...</td>\n",
       "      <td>...</td>\n",
       "      <td>...</td>\n",
       "      <td>...</td>\n",
       "      <td>...</td>\n",
       "      <td>...</td>\n",
       "      <td>...</td>\n",
       "      <td>...</td>\n",
       "      <td>...</td>\n",
       "      <td>...</td>\n",
       "    </tr>\n",
       "    <tr>\n",
       "      <th>5503</th>\n",
       "      <td>0.002289</td>\n",
       "      <td>0.000006</td>\n",
       "      <td>0.001426</td>\n",
       "      <td>0.000001</td>\n",
       "      <td>19</td>\n",
       "      <td>19</td>\n",
       "      <td>15</td>\n",
       "      <td>{'max_depth': 19, 'min_samples_leaf': 19, 'min...</td>\n",
       "      <td>0.296296</td>\n",
       "      <td>0.370370</td>\n",
       "      <td>0.444444</td>\n",
       "      <td>0.296296</td>\n",
       "      <td>0.370370</td>\n",
       "      <td>0.355556</td>\n",
       "      <td>0.055432</td>\n",
       "      <td>2094</td>\n",
       "    </tr>\n",
       "    <tr>\n",
       "      <th>5504</th>\n",
       "      <td>0.002279</td>\n",
       "      <td>0.000004</td>\n",
       "      <td>0.001423</td>\n",
       "      <td>0.000004</td>\n",
       "      <td>19</td>\n",
       "      <td>19</td>\n",
       "      <td>16</td>\n",
       "      <td>{'max_depth': 19, 'min_samples_leaf': 19, 'min...</td>\n",
       "      <td>0.296296</td>\n",
       "      <td>0.370370</td>\n",
       "      <td>0.444444</td>\n",
       "      <td>0.296296</td>\n",
       "      <td>0.370370</td>\n",
       "      <td>0.355556</td>\n",
       "      <td>0.055432</td>\n",
       "      <td>2094</td>\n",
       "    </tr>\n",
       "    <tr>\n",
       "      <th>5505</th>\n",
       "      <td>0.002291</td>\n",
       "      <td>0.000006</td>\n",
       "      <td>0.001428</td>\n",
       "      <td>0.000005</td>\n",
       "      <td>19</td>\n",
       "      <td>19</td>\n",
       "      <td>17</td>\n",
       "      <td>{'max_depth': 19, 'min_samples_leaf': 19, 'min...</td>\n",
       "      <td>0.296296</td>\n",
       "      <td>0.370370</td>\n",
       "      <td>0.444444</td>\n",
       "      <td>0.296296</td>\n",
       "      <td>0.370370</td>\n",
       "      <td>0.355556</td>\n",
       "      <td>0.055432</td>\n",
       "      <td>2094</td>\n",
       "    </tr>\n",
       "    <tr>\n",
       "      <th>5506</th>\n",
       "      <td>0.002280</td>\n",
       "      <td>0.000006</td>\n",
       "      <td>0.001422</td>\n",
       "      <td>0.000006</td>\n",
       "      <td>19</td>\n",
       "      <td>19</td>\n",
       "      <td>18</td>\n",
       "      <td>{'max_depth': 19, 'min_samples_leaf': 19, 'min...</td>\n",
       "      <td>0.296296</td>\n",
       "      <td>0.370370</td>\n",
       "      <td>0.444444</td>\n",
       "      <td>0.296296</td>\n",
       "      <td>0.370370</td>\n",
       "      <td>0.355556</td>\n",
       "      <td>0.055432</td>\n",
       "      <td>2094</td>\n",
       "    </tr>\n",
       "    <tr>\n",
       "      <th>5507</th>\n",
       "      <td>0.002288</td>\n",
       "      <td>0.000002</td>\n",
       "      <td>0.001427</td>\n",
       "      <td>0.000004</td>\n",
       "      <td>19</td>\n",
       "      <td>19</td>\n",
       "      <td>19</td>\n",
       "      <td>{'max_depth': 19, 'min_samples_leaf': 19, 'min...</td>\n",
       "      <td>0.296296</td>\n",
       "      <td>0.370370</td>\n",
       "      <td>0.444444</td>\n",
       "      <td>0.296296</td>\n",
       "      <td>0.370370</td>\n",
       "      <td>0.355556</td>\n",
       "      <td>0.055432</td>\n",
       "      <td>2094</td>\n",
       "    </tr>\n",
       "  </tbody>\n",
       "</table>\n",
       "<p>5508 rows × 16 columns</p>\n",
       "</div>"
      ],
      "text/plain": [
       "      mean_fit_time  std_fit_time  mean_score_time  std_score_time  \\\n",
       "0          0.003471      0.000679         0.001889        0.000222   \n",
       "1          0.003320      0.000422         0.001812        0.000114   \n",
       "2          0.002650      0.000293         0.001567        0.000128   \n",
       "3          0.002177      0.000038         0.001354        0.000019   \n",
       "4          0.002123      0.000011         0.001322        0.000017   \n",
       "...             ...           ...              ...             ...   \n",
       "5503       0.002289      0.000006         0.001426        0.000001   \n",
       "5504       0.002279      0.000004         0.001423        0.000004   \n",
       "5505       0.002291      0.000006         0.001428        0.000005   \n",
       "5506       0.002280      0.000006         0.001422        0.000006   \n",
       "5507       0.002288      0.000002         0.001427        0.000004   \n",
       "\n",
       "     param_max_depth param_min_samples_leaf param_min_samples_split  \\\n",
       "0                  3                      2                       2   \n",
       "1                  3                      2                       3   \n",
       "2                  3                      2                       4   \n",
       "3                  3                      2                       5   \n",
       "4                  3                      2                       6   \n",
       "...              ...                    ...                     ...   \n",
       "5503              19                     19                      15   \n",
       "5504              19                     19                      16   \n",
       "5505              19                     19                      17   \n",
       "5506              19                     19                      18   \n",
       "5507              19                     19                      19   \n",
       "\n",
       "                                                 params  split0_test_score  \\\n",
       "0     {'max_depth': 3, 'min_samples_leaf': 2, 'min_s...           0.370370   \n",
       "1     {'max_depth': 3, 'min_samples_leaf': 2, 'min_s...           0.370370   \n",
       "2     {'max_depth': 3, 'min_samples_leaf': 2, 'min_s...           0.370370   \n",
       "3     {'max_depth': 3, 'min_samples_leaf': 2, 'min_s...           0.370370   \n",
       "4     {'max_depth': 3, 'min_samples_leaf': 2, 'min_s...           0.370370   \n",
       "...                                                 ...                ...   \n",
       "5503  {'max_depth': 19, 'min_samples_leaf': 19, 'min...           0.296296   \n",
       "5504  {'max_depth': 19, 'min_samples_leaf': 19, 'min...           0.296296   \n",
       "5505  {'max_depth': 19, 'min_samples_leaf': 19, 'min...           0.296296   \n",
       "5506  {'max_depth': 19, 'min_samples_leaf': 19, 'min...           0.296296   \n",
       "5507  {'max_depth': 19, 'min_samples_leaf': 19, 'min...           0.296296   \n",
       "\n",
       "      split1_test_score  split2_test_score  split3_test_score  \\\n",
       "0              0.333333           0.407407           0.370370   \n",
       "1              0.333333           0.407407           0.370370   \n",
       "2              0.333333           0.407407           0.370370   \n",
       "3              0.333333           0.407407           0.370370   \n",
       "4              0.333333           0.407407           0.370370   \n",
       "...                 ...                ...                ...   \n",
       "5503           0.370370           0.444444           0.296296   \n",
       "5504           0.370370           0.444444           0.296296   \n",
       "5505           0.370370           0.444444           0.296296   \n",
       "5506           0.370370           0.444444           0.296296   \n",
       "5507           0.370370           0.444444           0.296296   \n",
       "\n",
       "      split4_test_score  mean_test_score  std_test_score  rank_test_score  \n",
       "0              0.407407         0.377778        0.027716             1311  \n",
       "1              0.407407         0.377778        0.027716             1311  \n",
       "2              0.407407         0.377778        0.027716             1311  \n",
       "3              0.407407         0.377778        0.027716             1311  \n",
       "4              0.407407         0.377778        0.027716             1311  \n",
       "...                 ...              ...             ...              ...  \n",
       "5503           0.370370         0.355556        0.055432             2094  \n",
       "5504           0.370370         0.355556        0.055432             2094  \n",
       "5505           0.370370         0.355556        0.055432             2094  \n",
       "5506           0.370370         0.355556        0.055432             2094  \n",
       "5507           0.370370         0.355556        0.055432             2094  \n",
       "\n",
       "[5508 rows x 16 columns]"
      ]
     },
     "execution_count": 345,
     "metadata": {},
     "output_type": "execute_result"
    }
   ],
   "source": [
    "pd.DataFrame(dt_grid.cv_results_)"
   ]
  },
  {
   "cell_type": "code",
   "execution_count": 346,
   "metadata": {},
   "outputs": [],
   "source": [
    "dtc_best = dt_grid.best_estimator_"
   ]
  },
  {
   "cell_type": "code",
   "execution_count": 347,
   "metadata": {},
   "outputs": [
    {
     "data": {
      "text/plain": [
       "{'max_depth': 7, 'min_samples_leaf': 2, 'min_samples_split': 7}"
      ]
     },
     "execution_count": 347,
     "metadata": {},
     "output_type": "execute_result"
    }
   ],
   "source": [
    "dt_grid.best_params_"
   ]
  },
  {
   "cell_type": "code",
   "execution_count": 348,
   "metadata": {},
   "outputs": [
    {
     "name": "stdout",
     "output_type": "stream",
     "text": [
      "Train score: 0.674074074074074\n",
      "Test score: 0.5084745762711864\n"
     ]
    }
   ],
   "source": [
    "test_score = dtc_best.score(X_test, y_test)\n",
    "train_score = dtc_best.score(X_train, y_train)\n",
    "print(f'Train score: {train_score}\\nTest score: {test_score}')"
   ]
  },
  {
   "cell_type": "markdown",
   "metadata": {},
   "source": [
    "We again are underfitting the data. After multiple attempts, it seems difficult here to have a good model. The best score we got is barely better tha random guessing."
   ]
  },
  {
   "cell_type": "code",
   "execution_count": null,
   "metadata": {},
   "outputs": [],
   "source": []
  }
 ],
 "metadata": {
  "kernelspec": {
   "display_name": "Python 3",
   "language": "python",
   "name": "python3"
  },
  "language_info": {
   "codemirror_mode": {
    "name": "ipython",
    "version": 3
   },
   "file_extension": ".py",
   "mimetype": "text/x-python",
   "name": "python",
   "nbconvert_exporter": "python",
   "pygments_lexer": "ipython3",
   "version": "3.7.6"
  }
 },
 "nbformat": 4,
 "nbformat_minor": 2
}
