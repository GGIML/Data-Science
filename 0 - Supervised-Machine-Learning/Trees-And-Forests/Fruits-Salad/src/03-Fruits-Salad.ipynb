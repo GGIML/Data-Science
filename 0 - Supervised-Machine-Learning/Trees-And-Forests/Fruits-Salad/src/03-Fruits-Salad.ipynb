{
 "cells": [
  {
   "cell_type": "markdown",
   "metadata": {},
   "source": [
    "# 04-07\n",
    "\n",
    "## Challenge 03 - Fruits Salad\n",
    "\n",
    "---\n",
    "\n",
    "![](https://encrypted-tbn0.gstatic.com/images?q=tbn:ANd9GcQH_IiB9VyZe_l_WQ75SdKcfUS_6U2h-h_O4R4wQBgQoaHD3yAl)"
   ]
  },
  {
   "cell_type": "markdown",
   "metadata": {},
   "source": [
    "## Instructions\n",
    "\n",
    "In this exercise, we will implement **Decision Tree** algorithm from scratch.\n",
    "\n",
    "In order to play with some data, you can use this toy dataset we created for you:\n",
    "\n",
    "```python\n",
    "# size, shape, color, diameter, origin, price_category\n",
    "fruits_features = [\n",
    "  ['medium', 'Round', 'Orange', 'medium', 'Spain', 'medium'],\n",
    "  ['medium', 'Round', 'Orange', 'medium', 'France', 'expensive'],\n",
    "  ['small', 'Round', 'Red', 'small', 'Italia', 'expensive'],\n",
    "  ['small', 'Oval', 'Red', 'small', 'Spain', 'medium'],\n",
    "  ['small', 'Round', 'Red', 'small', 'Italia', 'expensive'],\n",
    "  ['big', 'Round', 'Yellow', 'big', 'Mexico', 'expensive'],\n",
    "  ['medium', 'Round', 'Orange', 'medium', 'France', 'medium'],\n",
    "  ['small', 'Oval', 'Red', 'small', 'France', 'expensive'],\n",
    "  ['small', 'Round', 'Red', 'small', 'Mexico', 'cheap'],\n",
    "  ['small', 'Round', 'Green', 'small', 'Mexico', 'cheap']\n",
    "]\n",
    "\n",
    "fruits_columns = ['size', 'shape', 'color', 'diameter', 'origin', 'price_category']\n",
    "\n",
    "fruits_labels = ['Peach', 'Peach', 'Strawberry', 'Strawberry', 'Strawberry', 'Pineapple', 'Peach', 'Strawberry', 'Strawberry', 'Kiwi']\n",
    "```"
   ]
  },
  {
   "cell_type": "markdown",
   "metadata": {},
   "source": [
    "Q1. Write a function `gini` that takes in input a list of labels `labels` and that returns the **Gini impurity** associated of this `labels` dataset.\n",
    "\n",
    "> 🔦 **Hint**: Remember, to compute **[Gini impurity](https://en.wikipedia.org/wiki/Decision_tree_learning#Gini_impurity)**, you start at 1 and substract the square of the proportion of each label\n",
    "\n",
    "  For example,\n",
    "  ``` python\n",
    "  labels = [\"tomato\", \"tomato\", \"tomato\", \"orange\"]\n",
    "  gini_impurity = gini(labels)\n",
    "  print(gini_impurity)\n",
    "  # This will return 0.375 as gini_impurity is equal to:\n",
    "  # 1 - P(tomato)**2 - P(orange) ** 2 = 1 - 0.75**2 - 0.25**2\n",
    "  ```\n",
    "\n",
    "  > 🔦 **Hint**: To count the number of occurrences of an element in a list, you can code it in a for loop...or you can have a look at `Counter` function from `collections` library 😉"
   ]
  },
  {
   "cell_type": "code",
   "execution_count": 116,
   "metadata": {},
   "outputs": [],
   "source": [
    "# size, shape, color, diameter, origin, price_category\n",
    "fruits_features = [\n",
    "  ['medium', 'Round', 'Orange', 'medium', 'Spain', 'medium'],\n",
    "  ['medium', 'Round', 'Orange', 'medium', 'France', 'expensive'],\n",
    "  ['small', 'Round', 'Red', 'small', 'Italia', 'expensive'],\n",
    "  ['small', 'Oval', 'Red', 'small', 'Spain', 'medium'],\n",
    "  ['small', 'Round', 'Red', 'small', 'Italia', 'expensive'],\n",
    "  ['big', 'Round', 'Yellow', 'big', 'Mexico', 'expensive'],\n",
    "  ['medium', 'Round', 'Orange', 'medium', 'France', 'medium'],\n",
    "  ['small', 'Oval', 'Red', 'small', 'France', 'expensive'],\n",
    "  ['small', 'Round', 'Red', 'small', 'Mexico', 'cheap'],\n",
    "  ['small', 'Round', 'Green', 'small', 'Mexico', 'cheap']\n",
    "]"
   ]
  },
  {
   "cell_type": "code",
   "execution_count": 117,
   "metadata": {},
   "outputs": [],
   "source": [
    "fruits_columns = ['size', 'shape', 'color', 'diameter', 'origin', 'price_category']"
   ]
  },
  {
   "cell_type": "code",
   "execution_count": 118,
   "metadata": {},
   "outputs": [],
   "source": [
    "fruits_labels = ['Peach', 'Peach', 'Strawberry', 'Strawberry', 'Strawberry', 'Pineapple', 'Peach', 'Strawberry', 'Strawberry', 'Kiwi']"
   ]
  },
  {
   "cell_type": "code",
   "execution_count": 119,
   "metadata": {},
   "outputs": [],
   "source": [
    "dataset = pd.DataFrame(fruits_features, columns=fruits_columns)"
   ]
  },
  {
   "cell_type": "code",
   "execution_count": 120,
   "metadata": {},
   "outputs": [],
   "source": [
    "### TODO: implement the gini function and test \n",
    "import numpy as np\n",
    "import pandas as pd\n",
    "from collections import Counter"
   ]
  },
  {
   "cell_type": "code",
   "execution_count": 121,
   "metadata": {},
   "outputs": [],
   "source": [
    "def gini(labels):\n",
    "    gini = 1\n",
    "    for key, value in dict(Counter(labels)).items():\n",
    "        gini -= (value/len(labels))**2\n",
    "    return gini"
   ]
  },
  {
   "cell_type": "markdown",
   "metadata": {},
   "source": [
    "Test your function on the `fruits_labels`, what gini impurity do you get? Check by hand this is the correct result."
   ]
  },
  {
   "cell_type": "code",
   "execution_count": 122,
   "metadata": {},
   "outputs": [
    {
     "name": "stdout",
     "output_type": "stream",
     "text": [
      "0.64\n"
     ]
    }
   ],
   "source": [
    "### TODO: check the gini value\n",
    "print(gini(fruits_labels))"
   ]
  },
  {
   "cell_type": "code",
   "execution_count": 123,
   "metadata": {},
   "outputs": [
    {
     "data": {
      "text/plain": [
       "0.64"
      ]
     },
     "execution_count": 123,
     "metadata": {},
     "output_type": "execute_result"
    }
   ],
   "source": [
    "1 - 0.3**2 - 0.5**2 - 2*0.1**2"
   ]
  },
  {
   "cell_type": "markdown",
   "metadata": {},
   "source": [
    "Q2. Write a function `weighted_information_gain` that takes in input two arguments:\n",
    "  - a list of `parent_labels` containing labels\n",
    "  - another list `children_labels` containing lists of labels (the `children_labels` splitted into 2 or more lists)\n",
    "\n",
    "  The function should return the **weighted Information Gain** (Gini impurity of the parent split minus the weighted sum of the Gini impurity of the children splits) of the split.\n",
    "\n",
    "  For example,\n",
    "  ``` python\n",
    "  parent_labels = [\"tomato\", \"tomato\", \"tomato\", \"orange\"]\n",
    "  children_labels = [[\"tomato\", \"tomato\", \"tomato\"], [\"orange\"]]\n",
    "  info_gain = weighted_information_gain(parent_labels, children_labels)\n",
    "  print(info_gain)\n",
    "  # will return 0.375 as gini_impurity of parent split is equal to 0.375 and gini_impurity of the children splits are both equal to 0\n",
    "  ```"
   ]
  },
  {
   "cell_type": "code",
   "execution_count": 124,
   "metadata": {},
   "outputs": [],
   "source": [
    "parent_labels = [\"tomato\", \"tomato\", \"tomato\", \"orange\"]\n",
    "children_labels = [[\"tomato\", \"tomato\", \"tomato\"], [\"orange\"]]"
   ]
  },
  {
   "cell_type": "code",
   "execution_count": 125,
   "metadata": {},
   "outputs": [],
   "source": [
    "### TODO: implement the weighted_information function\n",
    "def weighted_information_gain(par, child):\n",
    "    info_gain = gini(par)\n",
    "    for lst in child:\n",
    "        info_gain -= gini(lst)*(len(lst)/len(par))\n",
    "    return info_gain"
   ]
  },
  {
   "cell_type": "markdown",
   "metadata": {},
   "source": [
    "Check your function on some examples and validate the results by hand."
   ]
  },
  {
   "cell_type": "code",
   "execution_count": 126,
   "metadata": {},
   "outputs": [
    {
     "data": {
      "text/plain": [
       "0.3800000000000001"
      ]
     },
     "execution_count": 126,
     "metadata": {},
     "output_type": "execute_result"
    }
   ],
   "source": [
    "### TODO: test and check your function\n",
    "weighted_information_gain(fruits_labels, [['Peach', 'Peach', 'Peach'],['Strawberry','Strawberry','Strawberry','Strawberry','Pineapple'],['Strawberry','Kiwi']])"
   ]
  },
  {
   "cell_type": "code",
   "execution_count": 127,
   "metadata": {},
   "outputs": [
    {
     "data": {
      "text/plain": [
       "0.3800000000000001"
      ]
     },
     "execution_count": 127,
     "metadata": {},
     "output_type": "execute_result"
    }
   ],
   "source": [
    "0.64-0.5*gini(['Strawberry','Strawberry','Strawberry','Strawberry','Pineapple'])-0.2*0.5"
   ]
  },
  {
   "cell_type": "markdown",
   "metadata": {},
   "source": [
    "Q3. We wrote for you a function `split` that splits a given dataset (list of list of values) and a given list of labels on a specified column index"
   ]
  },
  {
   "cell_type": "code",
   "execution_count": 128,
   "metadata": {},
   "outputs": [],
   "source": [
    "def split(dataset, labels, column_idx):\n",
    "    data_subsets = []\n",
    "    label_subsets = []\n",
    "    counts = list(set([data[column_idx] for data in dataset]))\n",
    "    counts.sort()\n",
    "    for k in counts:\n",
    "        new_data_subset = []\n",
    "        new_label_subset = []\n",
    "        for i in range(len(dataset)):\n",
    "            if dataset[i][column_idx] == k:\n",
    "                new_data_subset.append(dataset[i])\n",
    "                new_label_subset.append(labels[i])\n",
    "        data_subsets.append(new_data_subset)\n",
    "        label_subsets.append(new_label_subset)\n",
    "    return data_subsets, label_subsets\n"
   ]
  },
  {
   "cell_type": "markdown",
   "metadata": {},
   "source": [
    "What does this function return? Feel free to test it and see the result on the toy dataset.\n",
    "\n",
    "--> This function returns subsets based on the value of a certain column. Every data in a subset will have the same value in the desired column. It will return the labels subsets corresponding to the labels for every data of every subset.\n",
    "\n",
    "By calling this function and the previous functions you coded, find **the best split**  which produces **the larger weighted information gain** on our toy dataset."
   ]
  },
  {
   "cell_type": "code",
   "execution_count": 129,
   "metadata": {},
   "outputs": [],
   "source": [
    "### TODO: use the function split and check the weighted information gain\n",
    "info_gains = []\n",
    "size = max([len(data) for data in fruits_features])\n",
    "for n in range(size):\n",
    "    data_subsets, label_subsets = split(fruits_features, fruits_labels, n)\n",
    "    info_gains.append(weighted_information_gain(fruits_labels, label_subsets))\n",
    "\n",
    "best_column = np.argmax(info_gains)\n",
    "info_gain = max(info_gains)"
   ]
  },
  {
   "cell_type": "code",
   "execution_count": 130,
   "metadata": {},
   "outputs": [
    {
     "data": {
      "text/plain": [
       "array(['Orange', 'Orange', 'Red', 'Red', 'Red', 'Yellow', 'Orange', 'Red',\n",
       "       'Red', 'Green'], dtype='<U9')"
      ]
     },
     "execution_count": 130,
     "metadata": {},
     "output_type": "execute_result"
    }
   ],
   "source": [
    "np.array(fruits_features)[:,best_column]"
   ]
  },
  {
   "cell_type": "code",
   "execution_count": 131,
   "metadata": {},
   "outputs": [
    {
     "data": {
      "text/plain": [
       "([[['small', 'Round', 'Green', 'small', 'Mexico', 'cheap']],\n",
       "  [['medium', 'Round', 'Orange', 'medium', 'Spain', 'medium'],\n",
       "   ['medium', 'Round', 'Orange', 'medium', 'France', 'expensive'],\n",
       "   ['medium', 'Round', 'Orange', 'medium', 'France', 'medium']],\n",
       "  [['small', 'Round', 'Red', 'small', 'Italia', 'expensive'],\n",
       "   ['small', 'Oval', 'Red', 'small', 'Spain', 'medium'],\n",
       "   ['small', 'Round', 'Red', 'small', 'Italia', 'expensive'],\n",
       "   ['small', 'Oval', 'Red', 'small', 'France', 'expensive'],\n",
       "   ['small', 'Round', 'Red', 'small', 'Mexico', 'cheap']],\n",
       "  [['big', 'Round', 'Yellow', 'big', 'Mexico', 'expensive']]],\n",
       " [['Kiwi'],\n",
       "  ['Peach', 'Peach', 'Peach'],\n",
       "  ['Strawberry', 'Strawberry', 'Strawberry', 'Strawberry', 'Strawberry'],\n",
       "  ['Pineapple']])"
      ]
     },
     "execution_count": 131,
     "metadata": {},
     "output_type": "execute_result"
    }
   ],
   "source": [
    "split(fruits_features, fruits_labels, 2)"
   ]
  },
  {
   "cell_type": "markdown",
   "metadata": {},
   "source": [
    "Q4. Based on your last answer, create a function `find_best_split` that returns (for a given `dataset` and a list of `labels`) both the **best feature** and the **best associated information gain**"
   ]
  },
  {
   "cell_type": "code",
   "execution_count": 132,
   "metadata": {},
   "outputs": [],
   "source": [
    "### TODO: implement find_best_split function\n",
    "def find_best_split(dataset, labels):\n",
    "    info_gains = []\n",
    "    size = max([len(data) for data in dataset.values])\n",
    "    for n in range(size):\n",
    "        data_subsets, label_subsets = split(dataset, fruits_labels, n)\n",
    "        info_gains.append(weighted_information_gain(dataset.values, label_subsets))\n",
    "\n",
    "    best_column_num = np.argmax(info_gains)\n",
    "    best_feature = dataset.columns[best_column]\n",
    "    info_gain = max(info_gains)\n",
    "    \n",
    "    return best_feature, info_gain, best_column_num"
   ]
  },
  {
   "cell_type": "code",
   "execution_count": 133,
   "metadata": {},
   "outputs": [
    {
     "data": {
      "text/plain": [
       "array([['medium', 'Round', 'Orange', 'medium', 'Spain', 'medium'],\n",
       "       ['medium', 'Round', 'Orange', 'medium', 'France', 'expensive'],\n",
       "       ['small', 'Round', 'Red', 'small', 'Italia', 'expensive'],\n",
       "       ['small', 'Oval', 'Red', 'small', 'Spain', 'medium'],\n",
       "       ['small', 'Round', 'Red', 'small', 'Italia', 'expensive'],\n",
       "       ['big', 'Round', 'Yellow', 'big', 'Mexico', 'expensive'],\n",
       "       ['medium', 'Round', 'Orange', 'medium', 'France', 'medium'],\n",
       "       ['small', 'Oval', 'Red', 'small', 'France', 'expensive'],\n",
       "       ['small', 'Round', 'Red', 'small', 'Mexico', 'cheap'],\n",
       "       ['small', 'Round', 'Green', 'small', 'Mexico', 'cheap']],\n",
       "      dtype=object)"
      ]
     },
     "execution_count": 133,
     "metadata": {},
     "output_type": "execute_result"
    }
   ],
   "source": [
    "dataset.values"
   ]
  },
  {
   "cell_type": "code",
   "execution_count": 135,
   "metadata": {},
   "outputs": [
    {
     "ename": "KeyError",
     "evalue": "0",
     "output_type": "error",
     "traceback": [
      "\u001b[0;31m---------------------------------------------------------------------------\u001b[0m",
      "\u001b[0;31mKeyError\u001b[0m                                  Traceback (most recent call last)",
      "\u001b[0;32m~/.pyenv/versions/3.7.6/envs/vivadata/lib/python3.7/site-packages/pandas/core/indexes/base.py\u001b[0m in \u001b[0;36mget_loc\u001b[0;34m(self, key, method, tolerance)\u001b[0m\n\u001b[1;32m   2645\u001b[0m             \u001b[0;32mtry\u001b[0m\u001b[0;34m:\u001b[0m\u001b[0;34m\u001b[0m\u001b[0;34m\u001b[0m\u001b[0m\n\u001b[0;32m-> 2646\u001b[0;31m                 \u001b[0;32mreturn\u001b[0m \u001b[0mself\u001b[0m\u001b[0;34m.\u001b[0m\u001b[0m_engine\u001b[0m\u001b[0;34m.\u001b[0m\u001b[0mget_loc\u001b[0m\u001b[0;34m(\u001b[0m\u001b[0mkey\u001b[0m\u001b[0;34m)\u001b[0m\u001b[0;34m\u001b[0m\u001b[0;34m\u001b[0m\u001b[0m\n\u001b[0m\u001b[1;32m   2647\u001b[0m             \u001b[0;32mexcept\u001b[0m \u001b[0mKeyError\u001b[0m\u001b[0;34m:\u001b[0m\u001b[0;34m\u001b[0m\u001b[0;34m\u001b[0m\u001b[0m\n",
      "\u001b[0;32mpandas/_libs/index.pyx\u001b[0m in \u001b[0;36mpandas._libs.index.IndexEngine.get_loc\u001b[0;34m()\u001b[0m\n",
      "\u001b[0;32mpandas/_libs/index.pyx\u001b[0m in \u001b[0;36mpandas._libs.index.IndexEngine.get_loc\u001b[0;34m()\u001b[0m\n",
      "\u001b[0;32mpandas/_libs/hashtable_class_helper.pxi\u001b[0m in \u001b[0;36mpandas._libs.hashtable.PyObjectHashTable.get_item\u001b[0;34m()\u001b[0m\n",
      "\u001b[0;32mpandas/_libs/hashtable_class_helper.pxi\u001b[0m in \u001b[0;36mpandas._libs.hashtable.PyObjectHashTable.get_item\u001b[0;34m()\u001b[0m\n",
      "\u001b[0;31mKeyError\u001b[0m: 0",
      "\nDuring handling of the above exception, another exception occurred:\n",
      "\u001b[0;31mKeyError\u001b[0m                                  Traceback (most recent call last)",
      "\u001b[0;32m<ipython-input-135-75b54114a10c>\u001b[0m in \u001b[0;36m<module>\u001b[0;34m\u001b[0m\n\u001b[0;32m----> 1\u001b[0;31m \u001b[0mfind_best_split\u001b[0m\u001b[0;34m(\u001b[0m\u001b[0mdataset\u001b[0m\u001b[0;34m,\u001b[0m \u001b[0mfruits_labels\u001b[0m\u001b[0;34m)\u001b[0m\u001b[0;34m\u001b[0m\u001b[0;34m\u001b[0m\u001b[0m\n\u001b[0m",
      "\u001b[0;32m<ipython-input-132-7cc65c68738d>\u001b[0m in \u001b[0;36mfind_best_split\u001b[0;34m(dataset, labels)\u001b[0m\n\u001b[1;32m      4\u001b[0m     \u001b[0msize\u001b[0m \u001b[0;34m=\u001b[0m \u001b[0mmax\u001b[0m\u001b[0;34m(\u001b[0m\u001b[0;34m[\u001b[0m\u001b[0mlen\u001b[0m\u001b[0;34m(\u001b[0m\u001b[0mdata\u001b[0m\u001b[0;34m)\u001b[0m \u001b[0;32mfor\u001b[0m \u001b[0mdata\u001b[0m \u001b[0;32min\u001b[0m \u001b[0mdataset\u001b[0m\u001b[0;34m.\u001b[0m\u001b[0mvalues\u001b[0m\u001b[0;34m]\u001b[0m\u001b[0;34m)\u001b[0m\u001b[0;34m\u001b[0m\u001b[0;34m\u001b[0m\u001b[0m\n\u001b[1;32m      5\u001b[0m     \u001b[0;32mfor\u001b[0m \u001b[0mn\u001b[0m \u001b[0;32min\u001b[0m \u001b[0mrange\u001b[0m\u001b[0;34m(\u001b[0m\u001b[0msize\u001b[0m\u001b[0;34m)\u001b[0m\u001b[0;34m:\u001b[0m\u001b[0;34m\u001b[0m\u001b[0;34m\u001b[0m\u001b[0m\n\u001b[0;32m----> 6\u001b[0;31m         \u001b[0mdata_subsets\u001b[0m\u001b[0;34m,\u001b[0m \u001b[0mlabel_subsets\u001b[0m \u001b[0;34m=\u001b[0m \u001b[0msplit\u001b[0m\u001b[0;34m(\u001b[0m\u001b[0mdataset\u001b[0m\u001b[0;34m,\u001b[0m \u001b[0mfruits_labels\u001b[0m\u001b[0;34m,\u001b[0m \u001b[0mn\u001b[0m\u001b[0;34m)\u001b[0m\u001b[0;34m\u001b[0m\u001b[0;34m\u001b[0m\u001b[0m\n\u001b[0m\u001b[1;32m      7\u001b[0m         \u001b[0minfo_gains\u001b[0m\u001b[0;34m.\u001b[0m\u001b[0mappend\u001b[0m\u001b[0;34m(\u001b[0m\u001b[0mweighted_information_gain\u001b[0m\u001b[0;34m(\u001b[0m\u001b[0mdataset\u001b[0m\u001b[0;34m.\u001b[0m\u001b[0mvalues\u001b[0m\u001b[0;34m,\u001b[0m \u001b[0mlabel_subsets\u001b[0m\u001b[0;34m)\u001b[0m\u001b[0;34m)\u001b[0m\u001b[0;34m\u001b[0m\u001b[0;34m\u001b[0m\u001b[0m\n\u001b[1;32m      8\u001b[0m \u001b[0;34m\u001b[0m\u001b[0m\n",
      "\u001b[0;32m<ipython-input-128-36c1548229d0>\u001b[0m in \u001b[0;36msplit\u001b[0;34m(dataset, labels, column_idx)\u001b[0m\n\u001b[1;32m      8\u001b[0m         \u001b[0mnew_label_subset\u001b[0m \u001b[0;34m=\u001b[0m \u001b[0;34m[\u001b[0m\u001b[0;34m]\u001b[0m\u001b[0;34m\u001b[0m\u001b[0;34m\u001b[0m\u001b[0m\n\u001b[1;32m      9\u001b[0m         \u001b[0;32mfor\u001b[0m \u001b[0mi\u001b[0m \u001b[0;32min\u001b[0m \u001b[0mrange\u001b[0m\u001b[0;34m(\u001b[0m\u001b[0mlen\u001b[0m\u001b[0;34m(\u001b[0m\u001b[0mdataset\u001b[0m\u001b[0;34m)\u001b[0m\u001b[0;34m)\u001b[0m\u001b[0;34m:\u001b[0m\u001b[0;34m\u001b[0m\u001b[0;34m\u001b[0m\u001b[0m\n\u001b[0;32m---> 10\u001b[0;31m             \u001b[0;32mif\u001b[0m \u001b[0mdataset\u001b[0m\u001b[0;34m[\u001b[0m\u001b[0mi\u001b[0m\u001b[0;34m]\u001b[0m\u001b[0;34m[\u001b[0m\u001b[0mcolumn_idx\u001b[0m\u001b[0;34m]\u001b[0m \u001b[0;34m==\u001b[0m \u001b[0mk\u001b[0m\u001b[0;34m:\u001b[0m\u001b[0;34m\u001b[0m\u001b[0;34m\u001b[0m\u001b[0m\n\u001b[0m\u001b[1;32m     11\u001b[0m                 \u001b[0mnew_data_subset\u001b[0m\u001b[0;34m.\u001b[0m\u001b[0mappend\u001b[0m\u001b[0;34m(\u001b[0m\u001b[0mdataset\u001b[0m\u001b[0;34m[\u001b[0m\u001b[0mi\u001b[0m\u001b[0;34m]\u001b[0m\u001b[0;34m)\u001b[0m\u001b[0;34m\u001b[0m\u001b[0;34m\u001b[0m\u001b[0m\n\u001b[1;32m     12\u001b[0m                 \u001b[0mnew_label_subset\u001b[0m\u001b[0;34m.\u001b[0m\u001b[0mappend\u001b[0m\u001b[0;34m(\u001b[0m\u001b[0mlabels\u001b[0m\u001b[0;34m[\u001b[0m\u001b[0mi\u001b[0m\u001b[0;34m]\u001b[0m\u001b[0;34m)\u001b[0m\u001b[0;34m\u001b[0m\u001b[0;34m\u001b[0m\u001b[0m\n",
      "\u001b[0;32m~/.pyenv/versions/3.7.6/envs/vivadata/lib/python3.7/site-packages/pandas/core/frame.py\u001b[0m in \u001b[0;36m__getitem__\u001b[0;34m(self, key)\u001b[0m\n\u001b[1;32m   2798\u001b[0m             \u001b[0;32mif\u001b[0m \u001b[0mself\u001b[0m\u001b[0;34m.\u001b[0m\u001b[0mcolumns\u001b[0m\u001b[0;34m.\u001b[0m\u001b[0mnlevels\u001b[0m \u001b[0;34m>\u001b[0m \u001b[0;36m1\u001b[0m\u001b[0;34m:\u001b[0m\u001b[0;34m\u001b[0m\u001b[0;34m\u001b[0m\u001b[0m\n\u001b[1;32m   2799\u001b[0m                 \u001b[0;32mreturn\u001b[0m \u001b[0mself\u001b[0m\u001b[0;34m.\u001b[0m\u001b[0m_getitem_multilevel\u001b[0m\u001b[0;34m(\u001b[0m\u001b[0mkey\u001b[0m\u001b[0;34m)\u001b[0m\u001b[0;34m\u001b[0m\u001b[0;34m\u001b[0m\u001b[0m\n\u001b[0;32m-> 2800\u001b[0;31m             \u001b[0mindexer\u001b[0m \u001b[0;34m=\u001b[0m \u001b[0mself\u001b[0m\u001b[0;34m.\u001b[0m\u001b[0mcolumns\u001b[0m\u001b[0;34m.\u001b[0m\u001b[0mget_loc\u001b[0m\u001b[0;34m(\u001b[0m\u001b[0mkey\u001b[0m\u001b[0;34m)\u001b[0m\u001b[0;34m\u001b[0m\u001b[0;34m\u001b[0m\u001b[0m\n\u001b[0m\u001b[1;32m   2801\u001b[0m             \u001b[0;32mif\u001b[0m \u001b[0mis_integer\u001b[0m\u001b[0;34m(\u001b[0m\u001b[0mindexer\u001b[0m\u001b[0;34m)\u001b[0m\u001b[0;34m:\u001b[0m\u001b[0;34m\u001b[0m\u001b[0;34m\u001b[0m\u001b[0m\n\u001b[1;32m   2802\u001b[0m                 \u001b[0mindexer\u001b[0m \u001b[0;34m=\u001b[0m \u001b[0;34m[\u001b[0m\u001b[0mindexer\u001b[0m\u001b[0;34m]\u001b[0m\u001b[0;34m\u001b[0m\u001b[0;34m\u001b[0m\u001b[0m\n",
      "\u001b[0;32m~/.pyenv/versions/3.7.6/envs/vivadata/lib/python3.7/site-packages/pandas/core/indexes/base.py\u001b[0m in \u001b[0;36mget_loc\u001b[0;34m(self, key, method, tolerance)\u001b[0m\n\u001b[1;32m   2646\u001b[0m                 \u001b[0;32mreturn\u001b[0m \u001b[0mself\u001b[0m\u001b[0;34m.\u001b[0m\u001b[0m_engine\u001b[0m\u001b[0;34m.\u001b[0m\u001b[0mget_loc\u001b[0m\u001b[0;34m(\u001b[0m\u001b[0mkey\u001b[0m\u001b[0;34m)\u001b[0m\u001b[0;34m\u001b[0m\u001b[0;34m\u001b[0m\u001b[0m\n\u001b[1;32m   2647\u001b[0m             \u001b[0;32mexcept\u001b[0m \u001b[0mKeyError\u001b[0m\u001b[0;34m:\u001b[0m\u001b[0;34m\u001b[0m\u001b[0;34m\u001b[0m\u001b[0m\n\u001b[0;32m-> 2648\u001b[0;31m                 \u001b[0;32mreturn\u001b[0m \u001b[0mself\u001b[0m\u001b[0;34m.\u001b[0m\u001b[0m_engine\u001b[0m\u001b[0;34m.\u001b[0m\u001b[0mget_loc\u001b[0m\u001b[0;34m(\u001b[0m\u001b[0mself\u001b[0m\u001b[0;34m.\u001b[0m\u001b[0m_maybe_cast_indexer\u001b[0m\u001b[0;34m(\u001b[0m\u001b[0mkey\u001b[0m\u001b[0;34m)\u001b[0m\u001b[0;34m)\u001b[0m\u001b[0;34m\u001b[0m\u001b[0;34m\u001b[0m\u001b[0m\n\u001b[0m\u001b[1;32m   2649\u001b[0m         \u001b[0mindexer\u001b[0m \u001b[0;34m=\u001b[0m \u001b[0mself\u001b[0m\u001b[0;34m.\u001b[0m\u001b[0mget_indexer\u001b[0m\u001b[0;34m(\u001b[0m\u001b[0;34m[\u001b[0m\u001b[0mkey\u001b[0m\u001b[0;34m]\u001b[0m\u001b[0;34m,\u001b[0m \u001b[0mmethod\u001b[0m\u001b[0;34m=\u001b[0m\u001b[0mmethod\u001b[0m\u001b[0;34m,\u001b[0m \u001b[0mtolerance\u001b[0m\u001b[0;34m=\u001b[0m\u001b[0mtolerance\u001b[0m\u001b[0;34m)\u001b[0m\u001b[0;34m\u001b[0m\u001b[0;34m\u001b[0m\u001b[0m\n\u001b[1;32m   2650\u001b[0m         \u001b[0;32mif\u001b[0m \u001b[0mindexer\u001b[0m\u001b[0;34m.\u001b[0m\u001b[0mndim\u001b[0m \u001b[0;34m>\u001b[0m \u001b[0;36m1\u001b[0m \u001b[0;32mor\u001b[0m \u001b[0mindexer\u001b[0m\u001b[0;34m.\u001b[0m\u001b[0msize\u001b[0m \u001b[0;34m>\u001b[0m \u001b[0;36m1\u001b[0m\u001b[0;34m:\u001b[0m\u001b[0;34m\u001b[0m\u001b[0;34m\u001b[0m\u001b[0m\n",
      "\u001b[0;32mpandas/_libs/index.pyx\u001b[0m in \u001b[0;36mpandas._libs.index.IndexEngine.get_loc\u001b[0;34m()\u001b[0m\n",
      "\u001b[0;32mpandas/_libs/index.pyx\u001b[0m in \u001b[0;36mpandas._libs.index.IndexEngine.get_loc\u001b[0;34m()\u001b[0m\n",
      "\u001b[0;32mpandas/_libs/hashtable_class_helper.pxi\u001b[0m in \u001b[0;36mpandas._libs.hashtable.PyObjectHashTable.get_item\u001b[0;34m()\u001b[0m\n",
      "\u001b[0;32mpandas/_libs/hashtable_class_helper.pxi\u001b[0m in \u001b[0;36mpandas._libs.hashtable.PyObjectHashTable.get_item\u001b[0;34m()\u001b[0m\n",
      "\u001b[0;31mKeyError\u001b[0m: 0"
     ]
    }
   ],
   "source": [
    "find_best_split(dataset, fruits_labels)"
   ]
  },
  {
   "cell_type": "markdown",
   "metadata": {},
   "source": [
    "Q5. Almost done, now let's create a function `build_tree` that will **recursively** build a tree based on given `features` and `labels` variables.\n",
    "\n",
    "The decision tree we will build will take the form of a dictionary with keys representing nodes and values representing subtrees.\n",
    "\n",
    "Write this function and use it to build your tree."
   ]
  },
  {
   "cell_type": "code",
   "execution_count": 92,
   "metadata": {
    "scrolled": false
   },
   "outputs": [],
   "source": [
    "### TODO: implement the function build_tree\n",
    "def build_tree(dataset, labels):\n",
    "    decision_tree = {'0': {}}\n",
    "    best_feature, info_gain, col = find_best_split(dataset, labels)\n",
    "    dataset, labels = split(dataset, labels, col)\n",
    "    build_tree(dataset, labels)\n",
    "    "
   ]
  },
  {
   "cell_type": "markdown",
   "metadata": {},
   "source": [
    "Q6. Finally, build a function `classify` that returns the **predicted label** for a given data point (here a list of fruit features)."
   ]
  },
  {
   "cell_type": "code",
   "execution_count": null,
   "metadata": {},
   "outputs": [],
   "source": [
    "### TODO: implement and test the function classify"
   ]
  }
 ],
 "metadata": {
  "kernelspec": {
   "display_name": "Python 3",
   "language": "python",
   "name": "python3"
  },
  "language_info": {
   "codemirror_mode": {
    "name": "ipython",
    "version": 3
   },
   "file_extension": ".py",
   "mimetype": "text/x-python",
   "name": "python",
   "nbconvert_exporter": "python",
   "pygments_lexer": "ipython3",
   "version": "3.7.6"
  }
 },
 "nbformat": 4,
 "nbformat_minor": 2
}
