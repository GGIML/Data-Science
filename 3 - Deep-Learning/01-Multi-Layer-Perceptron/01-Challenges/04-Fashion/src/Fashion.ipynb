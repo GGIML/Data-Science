{
 "cells": [
  {
   "cell_type": "markdown",
   "metadata": {},
   "source": [
    "# Challenge - Fashion"
   ]
  },
  {
   "cell_type": "markdown",
   "metadata": {},
   "source": [
    "![](https://images.unsplash.com/photo-1512436991641-6745cdb1723f?ixlib=rb-1.2.1&ixid=eyJhcHBfaWQiOjEyMDd9&auto=format&fit=crop&w=1050&q=80)\n",
    "\n",
    "Photo by [Lauren Fleischmann](https://unsplash.com/photos/R2aodqJn3b8)"
   ]
  },
  {
   "cell_type": "markdown",
   "metadata": {},
   "source": [
    "In this exercise, we will try to use a neural network on a simple classification task: classifying images of clothes into 10 classes."
   ]
  },
  {
   "cell_type": "markdown",
   "metadata": {},
   "source": [
    "We will first download the data:"
   ]
  },
  {
   "cell_type": "code",
   "execution_count": 151,
   "metadata": {},
   "outputs": [],
   "source": [
    "import tensorflow as tf\n",
    "import pandas as pd\n",
    "import numpy as np\n",
    "import matplotlib.pyplot as plt"
   ]
  },
  {
   "cell_type": "code",
   "execution_count": 198,
   "metadata": {
    "scrolled": true
   },
   "outputs": [],
   "source": [
    "from tensorflow.keras.datasets import fashion_mnist\n",
    "\n",
    "(X_train, y_train), (X_test, y_test) = fashion_mnist.load_data()"
   ]
  },
  {
   "cell_type": "markdown",
   "metadata": {},
   "source": [
    "This dataset contains 10 classes:\n",
    "* 0:\tT-shirt/top\n",
    "* 1:\tTrouser\n",
    "* 2:\tPullover\n",
    "* 3:\tDress\n",
    "* 4:\tCoat\n",
    "* 5:\tSandal\n",
    "* 6:\tShirt\n",
    "* 7:\tSneaker\n",
    "* 8:\tBag\n",
    "* 9:\tAnkle boot"
   ]
  },
  {
   "cell_type": "markdown",
   "metadata": {},
   "source": [
    "Now begin by exploring the data. Try to display some images with the associated label."
   ]
  },
  {
   "cell_type": "code",
   "execution_count": 199,
   "metadata": {},
   "outputs": [
    {
     "data": {
      "text/plain": [
       "(60000, 28, 28)"
      ]
     },
     "execution_count": 199,
     "metadata": {},
     "output_type": "execute_result"
    }
   ],
   "source": [
    "X_train.shape"
   ]
  },
  {
   "cell_type": "code",
   "execution_count": 200,
   "metadata": {},
   "outputs": [
    {
     "data": {
      "text/plain": [
       "array([[  0,   0,   0,   0,   0,   0,   0,   0,   0,   0,   0,   0,   0,\n",
       "          0,   0,   0,   0,   0,   0,   0,   0,   0,   0,   0,   0,   0,\n",
       "          0,   0],\n",
       "       [  0,   0,   0,   0,   0,   0,   0,   0,   0,   0,   0,   0,   0,\n",
       "          0,   0,   0,   0,   0,   0,   0,   0,   0,   0,   0,   0,   0,\n",
       "          0,   0],\n",
       "       [  0,   0,   0,   0,   0,   0,   0,   0,   0,   0,   0,   0,   0,\n",
       "          0,   0,   0,   0,   0,   0,   0,   0,   0,   0,   0,   0,   0,\n",
       "          0,   0],\n",
       "       [  0,   0,   0,   0,   0,   0,   0,   0,   0,   0,   0,   0,   1,\n",
       "          0,   0,  13,  73,   0,   0,   1,   4,   0,   0,   0,   0,   1,\n",
       "          1,   0],\n",
       "       [  0,   0,   0,   0,   0,   0,   0,   0,   0,   0,   0,   0,   3,\n",
       "          0,  36, 136, 127,  62,  54,   0,   0,   0,   1,   3,   4,   0,\n",
       "          0,   3],\n",
       "       [  0,   0,   0,   0,   0,   0,   0,   0,   0,   0,   0,   0,   6,\n",
       "          0, 102, 204, 176, 134, 144, 123,  23,   0,   0,   0,   0,  12,\n",
       "         10,   0],\n",
       "       [  0,   0,   0,   0,   0,   0,   0,   0,   0,   0,   0,   0,   0,\n",
       "          0, 155, 236, 207, 178, 107, 156, 161, 109,  64,  23,  77, 130,\n",
       "         72,  15],\n",
       "       [  0,   0,   0,   0,   0,   0,   0,   0,   0,   0,   0,   1,   0,\n",
       "         69, 207, 223, 218, 216, 216, 163, 127, 121, 122, 146, 141,  88,\n",
       "        172,  66],\n",
       "       [  0,   0,   0,   0,   0,   0,   0,   0,   0,   1,   1,   1,   0,\n",
       "        200, 232, 232, 233, 229, 223, 223, 215, 213, 164, 127, 123, 196,\n",
       "        229,   0],\n",
       "       [  0,   0,   0,   0,   0,   0,   0,   0,   0,   0,   0,   0,   0,\n",
       "        183, 225, 216, 223, 228, 235, 227, 224, 222, 224, 221, 223, 245,\n",
       "        173,   0],\n",
       "       [  0,   0,   0,   0,   0,   0,   0,   0,   0,   0,   0,   0,   0,\n",
       "        193, 228, 218, 213, 198, 180, 212, 210, 211, 213, 223, 220, 243,\n",
       "        202,   0],\n",
       "       [  0,   0,   0,   0,   0,   0,   0,   0,   0,   1,   3,   0,  12,\n",
       "        219, 220, 212, 218, 192, 169, 227, 208, 218, 224, 212, 226, 197,\n",
       "        209,  52],\n",
       "       [  0,   0,   0,   0,   0,   0,   0,   0,   0,   0,   6,   0,  99,\n",
       "        244, 222, 220, 218, 203, 198, 221, 215, 213, 222, 220, 245, 119,\n",
       "        167,  56],\n",
       "       [  0,   0,   0,   0,   0,   0,   0,   0,   0,   4,   0,   0,  55,\n",
       "        236, 228, 230, 228, 240, 232, 213, 218, 223, 234, 217, 217, 209,\n",
       "         92,   0],\n",
       "       [  0,   0,   1,   4,   6,   7,   2,   0,   0,   0,   0,   0, 237,\n",
       "        226, 217, 223, 222, 219, 222, 221, 216, 223, 229, 215, 218, 255,\n",
       "         77,   0],\n",
       "       [  0,   3,   0,   0,   0,   0,   0,   0,   0,  62, 145, 204, 228,\n",
       "        207, 213, 221, 218, 208, 211, 218, 224, 223, 219, 215, 224, 244,\n",
       "        159,   0],\n",
       "       [  0,   0,   0,   0,  18,  44,  82, 107, 189, 228, 220, 222, 217,\n",
       "        226, 200, 205, 211, 230, 224, 234, 176, 188, 250, 248, 233, 238,\n",
       "        215,   0],\n",
       "       [  0,  57, 187, 208, 224, 221, 224, 208, 204, 214, 208, 209, 200,\n",
       "        159, 245, 193, 206, 223, 255, 255, 221, 234, 221, 211, 220, 232,\n",
       "        246,   0],\n",
       "       [  3, 202, 228, 224, 221, 211, 211, 214, 205, 205, 205, 220, 240,\n",
       "         80, 150, 255, 229, 221, 188, 154, 191, 210, 204, 209, 222, 228,\n",
       "        225,   0],\n",
       "       [ 98, 233, 198, 210, 222, 229, 229, 234, 249, 220, 194, 215, 217,\n",
       "        241,  65,  73, 106, 117, 168, 219, 221, 215, 217, 223, 223, 224,\n",
       "        229,  29],\n",
       "       [ 75, 204, 212, 204, 193, 205, 211, 225, 216, 185, 197, 206, 198,\n",
       "        213, 240, 195, 227, 245, 239, 223, 218, 212, 209, 222, 220, 221,\n",
       "        230,  67],\n",
       "       [ 48, 203, 183, 194, 213, 197, 185, 190, 194, 192, 202, 214, 219,\n",
       "        221, 220, 236, 225, 216, 199, 206, 186, 181, 177, 172, 181, 205,\n",
       "        206, 115],\n",
       "       [  0, 122, 219, 193, 179, 171, 183, 196, 204, 210, 213, 207, 211,\n",
       "        210, 200, 196, 194, 191, 195, 191, 198, 192, 176, 156, 167, 177,\n",
       "        210,  92],\n",
       "       [  0,   0,  74, 189, 212, 191, 175, 172, 175, 181, 185, 188, 189,\n",
       "        188, 193, 198, 204, 209, 210, 210, 211, 188, 188, 194, 192, 216,\n",
       "        170,   0],\n",
       "       [  2,   0,   0,   0,  66, 200, 222, 237, 239, 242, 246, 243, 244,\n",
       "        221, 220, 193, 191, 179, 182, 182, 181, 176, 166, 168,  99,  58,\n",
       "          0,   0],\n",
       "       [  0,   0,   0,   0,   0,   0,   0,  40,  61,  44,  72,  41,  35,\n",
       "          0,   0,   0,   0,   0,   0,   0,   0,   0,   0,   0,   0,   0,\n",
       "          0,   0],\n",
       "       [  0,   0,   0,   0,   0,   0,   0,   0,   0,   0,   0,   0,   0,\n",
       "          0,   0,   0,   0,   0,   0,   0,   0,   0,   0,   0,   0,   0,\n",
       "          0,   0],\n",
       "       [  0,   0,   0,   0,   0,   0,   0,   0,   0,   0,   0,   0,   0,\n",
       "          0,   0,   0,   0,   0,   0,   0,   0,   0,   0,   0,   0,   0,\n",
       "          0,   0]], dtype=uint8)"
      ]
     },
     "execution_count": 200,
     "metadata": {},
     "output_type": "execute_result"
    }
   ],
   "source": [
    "X_train[0]"
   ]
  },
  {
   "cell_type": "code",
   "execution_count": 201,
   "metadata": {},
   "outputs": [],
   "source": [
    "labels_map = {\n",
    "    0: 'T-shirt/top',\n",
    "    1: 'Trouser',\n",
    "    2: 'Pullover',\n",
    "    3: 'Dress',\n",
    "    4: 'Coat',\n",
    "    5: 'Sandal',\n",
    "    6: 'Shirt',\n",
    "    7: 'Sneaker',\n",
    "    8: 'Bag',\n",
    "    9: 'Ankle boot'\n",
    "}"
   ]
  },
  {
   "cell_type": "code",
   "execution_count": 202,
   "metadata": {
    "scrolled": true
   },
   "outputs": [
    {
     "data": {
      "image/png": "[encoded data removed]",
      "text/plain": [
       "<Figure size 1440x720 with 4 Axes>"
      ]
     },
     "metadata": {},
     "output_type": "display_data"
    }
   ],
   "source": [
    "# TODO: Explore the data, display some input images\n",
    "\n",
    "size = 4\n",
    "sample_graph = np.random.randint(0,60000, size)\n",
    "\n",
    "sample_images = X_train[sample_graph]\n",
    "sample_labels = y_train[sample_graph]\n",
    "\n",
    "plt.figure(figsize = (20,10))\n",
    "\n",
    "ax =[]\n",
    "\n",
    "for i in range(1,size+1):\n",
    "    ax.append(plt.subplot(size // 4 + 1,4,i))\n",
    "    plt.imshow(sample_images[i-1].reshape((28,28)), cmap='gray_r')\n",
    "    ax[i-1].title.set_text(labels_map[sample_labels[i-1]])\n",
    "    ax[i-1].set_xticks([])\n",
    "    ax[i-1].set_yticks([])\n",
    "\n",
    "plt.show()"
   ]
  },
  {
   "cell_type": "markdown",
   "metadata": {},
   "source": [
    "**Before going further**: what methods could you use to perform such a classification task?"
   ]
  },
  {
   "cell_type": "markdown",
   "metadata": {},
   "source": [
    "I could use any classification model (KNN, LogisticRegression, Trees, Forests,...)"
   ]
  },
  {
   "cell_type": "markdown",
   "metadata": {},
   "source": [
    "---"
   ]
  },
  {
   "cell_type": "markdown",
   "metadata": {},
   "source": [
    "The first method you will try is using neural networks. First step is the data preparation: data rescaling, label preparation.\n",
    "\n",
    "Hint: you can use the Keras function `to_categorical`"
   ]
  },
  {
   "cell_type": "code",
   "execution_count": 203,
   "metadata": {},
   "outputs": [],
   "source": [
    "# TODO: Make the data preparation\n",
    "X_train_rs = X_train.reshape(X_train.shape[0], -1) / 255\n",
    "X_test_rs = X_test.reshape(X_test.shape[0], -1) / 255"
   ]
  },
  {
   "cell_type": "code",
   "execution_count": 204,
   "metadata": {},
   "outputs": [],
   "source": [
    "y_train_cat = tf.keras.utils.to_categorical(y_train, num_classes=10)"
   ]
  },
  {
   "cell_type": "code",
   "execution_count": 205,
   "metadata": {},
   "outputs": [],
   "source": [
    "y_test_cat = tf.keras.utils.to_categorical(y_test, num_classes=10)"
   ]
  },
  {
   "cell_type": "markdown",
   "metadata": {},
   "source": [
    "Next step: model building with Keras. Build your neural network architecture. At first, I would recommend a light architecture: no more than 2 hidden layers, with about 10 units per layer. Put that model into a function, so that you can reuse it later."
   ]
  },
  {
   "cell_type": "code",
   "execution_count": 206,
   "metadata": {},
   "outputs": [],
   "source": [
    "# TODO: Build your model\n",
    "def multilayer_perceptron(input_dim):\n",
    "    model = tf.keras.models.Sequential()\n",
    "    \n",
    "    model.add(tf.keras.layers.Dense(50, input_dim=input_dim, activation='relu'))\n",
    "    model.add(tf.keras.layers.Dense(50, activation='relu'))\n",
    "    model.add(tf.keras.layers.Dense(50, activation='relu'))\n",
    "    model.add(tf.keras.layers.Dense(10, activation='softmax'))\n",
    "    \n",
    "    return model"
   ]
  },
  {
   "cell_type": "markdown",
   "metadata": {},
   "source": [
    "Now compile and fit your model on your training data. Since this is a multiclass classification, the loss is not `binary_crossentropy` anymore, but `categorical_crossentropy`."
   ]
  },
  {
   "cell_type": "code",
   "execution_count": 207,
   "metadata": {
    "scrolled": true
   },
   "outputs": [],
   "source": [
    "# TODO: Compile and fit your model\n",
    "model = multilayer_perceptron(784)"
   ]
  },
  {
   "cell_type": "code",
   "execution_count": 208,
   "metadata": {},
   "outputs": [],
   "source": [
    "model.compile(optimizer='SGD', loss='categorical_crossentropy', metrics=['accuracy'])"
   ]
  },
  {
   "cell_type": "code",
   "execution_count": 213,
   "metadata": {},
   "outputs": [
    {
     "name": "stdout",
     "output_type": "stream",
     "text": [
      "Epoch 1/50\n",
      "120/120 [==============================] - 0s 3ms/step - loss: 0.4070 - accuracy: 0.8579 - val_loss: 0.4429 - val_accuracy: 0.8414\n",
      "Epoch 2/50\n",
      "120/120 [==============================] - 0s 3ms/step - loss: 0.4067 - accuracy: 0.8569 - val_loss: 0.4434 - val_accuracy: 0.8420\n",
      "Epoch 3/50\n",
      "120/120 [==============================] - 0s 3ms/step - loss: 0.4043 - accuracy: 0.8580 - val_loss: 0.4520 - val_accuracy: 0.8386\n",
      "Epoch 4/50\n",
      "120/120 [==============================] - 0s 3ms/step - loss: 0.4022 - accuracy: 0.8580 - val_loss: 0.4451 - val_accuracy: 0.8435\n",
      "Epoch 5/50\n",
      "120/120 [==============================] - 0s 3ms/step - loss: 0.4018 - accuracy: 0.8589 - val_loss: 0.4404 - val_accuracy: 0.8426\n",
      "Epoch 6/50\n",
      "120/120 [==============================] - 0s 3ms/step - loss: 0.4013 - accuracy: 0.8585 - val_loss: 0.4395 - val_accuracy: 0.8446\n",
      "Epoch 7/50\n",
      "120/120 [==============================] - 0s 3ms/step - loss: 0.4003 - accuracy: 0.8593 - val_loss: 0.4432 - val_accuracy: 0.8418\n",
      "Epoch 8/50\n",
      "120/120 [==============================] - 0s 3ms/step - loss: 0.3990 - accuracy: 0.8601 - val_loss: 0.4376 - val_accuracy: 0.8452\n",
      "Epoch 9/50\n",
      "120/120 [==============================] - 0s 3ms/step - loss: 0.3969 - accuracy: 0.8609 - val_loss: 0.4361 - val_accuracy: 0.8437\n",
      "Epoch 10/50\n",
      "120/120 [==============================] - 0s 3ms/step - loss: 0.3954 - accuracy: 0.8600 - val_loss: 0.4370 - val_accuracy: 0.8453\n",
      "Epoch 11/50\n",
      "120/120 [==============================] - 0s 3ms/step - loss: 0.3934 - accuracy: 0.8618 - val_loss: 0.4318 - val_accuracy: 0.8470\n",
      "Epoch 12/50\n",
      "120/120 [==============================] - 0s 3ms/step - loss: 0.3921 - accuracy: 0.8623 - val_loss: 0.4314 - val_accuracy: 0.8464\n",
      "Epoch 13/50\n",
      "120/120 [==============================] - 0s 3ms/step - loss: 0.3938 - accuracy: 0.8619 - val_loss: 0.4356 - val_accuracy: 0.8452\n",
      "Epoch 14/50\n",
      "120/120 [==============================] - 0s 3ms/step - loss: 0.3913 - accuracy: 0.8622 - val_loss: 0.4319 - val_accuracy: 0.8482\n",
      "Epoch 15/50\n",
      "120/120 [==============================] - 0s 3ms/step - loss: 0.3892 - accuracy: 0.8636 - val_loss: 0.4293 - val_accuracy: 0.8487\n",
      "Epoch 16/50\n",
      "120/120 [==============================] - 0s 3ms/step - loss: 0.3886 - accuracy: 0.8635 - val_loss: 0.4313 - val_accuracy: 0.8481\n",
      "Epoch 17/50\n",
      "120/120 [==============================] - 0s 4ms/step - loss: 0.3890 - accuracy: 0.8640 - val_loss: 0.4372 - val_accuracy: 0.8464\n",
      "Epoch 18/50\n",
      "120/120 [==============================] - 0s 3ms/step - loss: 0.3885 - accuracy: 0.8627 - val_loss: 0.4646 - val_accuracy: 0.8355\n",
      "Epoch 19/50\n",
      "120/120 [==============================] - 0s 3ms/step - loss: 0.3874 - accuracy: 0.8640 - val_loss: 0.4298 - val_accuracy: 0.8473\n",
      "Epoch 20/50\n",
      "120/120 [==============================] - 0s 3ms/step - loss: 0.3840 - accuracy: 0.8656 - val_loss: 0.4435 - val_accuracy: 0.8417\n",
      "Epoch 21/50\n",
      "120/120 [==============================] - 0s 3ms/step - loss: 0.3831 - accuracy: 0.8656 - val_loss: 0.4271 - val_accuracy: 0.8498\n",
      "Epoch 22/50\n",
      "120/120 [==============================] - 0s 3ms/step - loss: 0.3835 - accuracy: 0.8655 - val_loss: 0.4215 - val_accuracy: 0.8512\n",
      "Epoch 23/50\n",
      "120/120 [==============================] - 0s 3ms/step - loss: 0.3815 - accuracy: 0.8659 - val_loss: 0.4219 - val_accuracy: 0.8513\n",
      "Epoch 24/50\n",
      "120/120 [==============================] - 0s 3ms/step - loss: 0.3788 - accuracy: 0.8675 - val_loss: 0.4211 - val_accuracy: 0.8500\n",
      "Epoch 25/50\n",
      "120/120 [==============================] - 0s 3ms/step - loss: 0.3788 - accuracy: 0.8673 - val_loss: 0.4188 - val_accuracy: 0.8513\n",
      "Epoch 26/50\n",
      "120/120 [==============================] - 0s 3ms/step - loss: 0.3774 - accuracy: 0.8666 - val_loss: 0.4221 - val_accuracy: 0.8507\n",
      "Epoch 27/50\n",
      "120/120 [==============================] - 0s 3ms/step - loss: 0.3781 - accuracy: 0.8666 - val_loss: 0.4195 - val_accuracy: 0.8513\n",
      "Epoch 28/50\n",
      "120/120 [==============================] - 0s 3ms/step - loss: 0.3762 - accuracy: 0.8682 - val_loss: 0.4167 - val_accuracy: 0.8533\n",
      "Epoch 29/50\n",
      "120/120 [==============================] - 0s 4ms/step - loss: 0.3757 - accuracy: 0.8675 - val_loss: 0.4161 - val_accuracy: 0.8525\n",
      "Epoch 30/50\n",
      "120/120 [==============================] - 0s 4ms/step - loss: 0.3755 - accuracy: 0.8683 - val_loss: 0.4154 - val_accuracy: 0.8549\n",
      "Epoch 31/50\n",
      "120/120 [==============================] - 0s 3ms/step - loss: 0.3753 - accuracy: 0.8677 - val_loss: 0.4186 - val_accuracy: 0.8514\n",
      "Epoch 32/50\n",
      "120/120 [==============================] - 0s 3ms/step - loss: 0.3710 - accuracy: 0.8699 - val_loss: 0.4156 - val_accuracy: 0.8544\n",
      "Epoch 33/50\n",
      "120/120 [==============================] - 0s 3ms/step - loss: 0.3733 - accuracy: 0.8684 - val_loss: 0.4226 - val_accuracy: 0.8492\n",
      "Epoch 34/50\n",
      "120/120 [==============================] - 0s 3ms/step - loss: 0.3725 - accuracy: 0.8692 - val_loss: 0.4412 - val_accuracy: 0.8432\n",
      "Epoch 35/50\n",
      "120/120 [==============================] - 0s 3ms/step - loss: 0.3705 - accuracy: 0.8696 - val_loss: 0.4123 - val_accuracy: 0.8540\n",
      "Epoch 36/50\n",
      "120/120 [==============================] - 0s 3ms/step - loss: 0.3681 - accuracy: 0.8712 - val_loss: 0.4127 - val_accuracy: 0.8543\n",
      "Epoch 37/50\n",
      "120/120 [==============================] - 0s 3ms/step - loss: 0.3674 - accuracy: 0.8700 - val_loss: 0.4111 - val_accuracy: 0.8546\n",
      "Epoch 38/50\n",
      "120/120 [==============================] - 0s 3ms/step - loss: 0.3670 - accuracy: 0.8720 - val_loss: 0.4138 - val_accuracy: 0.8534\n",
      "Epoch 39/50\n",
      "120/120 [==============================] - 0s 3ms/step - loss: 0.3662 - accuracy: 0.8717 - val_loss: 0.4083 - val_accuracy: 0.8552\n",
      "Epoch 40/50\n",
      "120/120 [==============================] - 0s 3ms/step - loss: 0.3653 - accuracy: 0.8719 - val_loss: 0.4150 - val_accuracy: 0.8536\n",
      "Epoch 41/50\n",
      "120/120 [==============================] - 0s 3ms/step - loss: 0.3652 - accuracy: 0.8719 - val_loss: 0.4082 - val_accuracy: 0.8557\n",
      "Epoch 42/50\n",
      "120/120 [==============================] - 0s 3ms/step - loss: 0.3645 - accuracy: 0.8717 - val_loss: 0.4089 - val_accuracy: 0.8543\n",
      "Epoch 43/50\n",
      "120/120 [==============================] - 0s 3ms/step - loss: 0.3635 - accuracy: 0.8723 - val_loss: 0.4135 - val_accuracy: 0.8538\n",
      "Epoch 44/50\n",
      "120/120 [==============================] - 0s 3ms/step - loss: 0.3616 - accuracy: 0.8722 - val_loss: 0.4119 - val_accuracy: 0.8547\n",
      "Epoch 45/50\n",
      "120/120 [==============================] - 0s 3ms/step - loss: 0.3623 - accuracy: 0.8728 - val_loss: 0.4330 - val_accuracy: 0.8478\n",
      "Epoch 46/50\n",
      "120/120 [==============================] - 0s 3ms/step - loss: 0.3608 - accuracy: 0.8731 - val_loss: 0.4069 - val_accuracy: 0.8566\n",
      "Epoch 47/50\n",
      "120/120 [==============================] - 0s 3ms/step - loss: 0.3588 - accuracy: 0.8751 - val_loss: 0.4046 - val_accuracy: 0.8569\n",
      "Epoch 48/50\n",
      "120/120 [==============================] - 0s 3ms/step - loss: 0.3585 - accuracy: 0.8737 - val_loss: 0.4059 - val_accuracy: 0.8560\n",
      "Epoch 49/50\n",
      "120/120 [==============================] - 0s 3ms/step - loss: 0.3592 - accuracy: 0.8740 - val_loss: 0.4058 - val_accuracy: 0.8567\n",
      "Epoch 50/50\n",
      "120/120 [==============================] - 0s 3ms/step - loss: 0.3572 - accuracy: 0.8738 - val_loss: 0.4031 - val_accuracy: 0.8567\n"
     ]
    },
    {
     "data": {
      "text/plain": [
       "<tensorflow.python.keras.callbacks.History at 0x7f707c2243d0>"
      ]
     },
     "execution_count": 213,
     "metadata": {},
     "output_type": "execute_result"
    }
   ],
   "source": [
    "model.fit(X_train_rs, y_train_cat, epochs=50, batch_size=500, validation_data=(X_test_rs, y_test_cat))"
   ]
  },
  {
   "cell_type": "code",
   "execution_count": 214,
   "metadata": {},
   "outputs": [
    {
     "name": "stdout",
     "output_type": "stream",
     "text": [
      "313/313 [==============================] - 0s 989us/step - loss: 0.4031 - accuracy: 0.8567\n",
      "1875/1875 [==============================] - 2s 980us/step - loss: 0.3525 - accuracy: 0.8757\n",
      "Test accuracy:  0.8567000031471252\n",
      "Train accuracy:  0.8756833076477051\n"
     ]
    }
   ],
   "source": [
    "loss_test, test_acc = model.evaluate(X_test_rs, y_test_cat)\n",
    "loss_train, train_acc = model.evaluate(X_train_rs, y_train_cat)\n",
    "\n",
    "print('Test accuracy: ', test_acc)\n",
    "print('Train accuracy: ', train_acc)"
   ]
  },
  {
   "cell_type": "markdown",
   "metadata": {},
   "source": [
    "Once your model has been trained, compute the accuracy (and other metrics if you want) on the train and test dataset.\n",
    "\n",
    "Be careful, Keras returns softmax output (so an array of 10 values between 0 and 1, for which the sum is equal to 1). To compute correctly the accuracy, you have to convert that array into a categorical array with zeros and a 1."
   ]
  },
  {
   "cell_type": "code",
   "execution_count": null,
   "metadata": {},
   "outputs": [],
   "source": [
    "# TODO: Compute the accuracy of your model"
   ]
  },
  {
   "cell_type": "markdown",
   "metadata": {},
   "source": [
    "What do you think of those results? Can you improve it by changing the number of layers? Of units per layer? The number of epochs? The activation functions?\n",
    "\n",
    "You should try!"
   ]
  },
  {
   "cell_type": "markdown",
   "metadata": {},
   "source": [
    "---"
   ]
  },
  {
   "cell_type": "markdown",
   "metadata": {},
   "source": [
    "In order to compare your results with more traditional machine learning methods, you will do this work with another method: a PCA followed by a classification model (of your choice). Of course, you will perform hyperparameter optimization using a gridsearch on that model!\n",
    "\n",
    "Fit your model and display the performances."
   ]
  },
  {
   "cell_type": "code",
   "execution_count": null,
   "metadata": {},
   "outputs": [],
   "source": [
    "# TODO: Redo the classification with PCA and classification model"
   ]
  },
  {
   "cell_type": "code",
   "execution_count": 194,
   "metadata": {},
   "outputs": [],
   "source": [
    "from sklearn.decomposition import PCA\n",
    "pca = PCA(n_components=0.95)\n",
    "X_train_pca = pca.fit_transform(X_train_rs)\n",
    "X_test_pca = pca.transform(X_test_rs)"
   ]
  },
  {
   "cell_type": "code",
   "execution_count": 195,
   "metadata": {},
   "outputs": [
    {
     "data": {
      "text/plain": [
       "187"
      ]
     },
     "execution_count": 195,
     "metadata": {},
     "output_type": "execute_result"
    }
   ],
   "source": [
    "pca.n_components_"
   ]
  },
  {
   "cell_type": "code",
   "execution_count": 217,
   "metadata": {},
   "outputs": [
    {
     "data": {
      "text/plain": [
       "array([9, 0, 0, ..., 3, 0, 5], dtype=uint8)"
      ]
     },
     "execution_count": 217,
     "metadata": {},
     "output_type": "execute_result"
    }
   ],
   "source": [
    "y_train"
   ]
  },
  {
   "cell_type": "code",
   "execution_count": 220,
   "metadata": {},
   "outputs": [
    {
     "data": {
      "text/plain": [
       "SVC()"
      ]
     },
     "execution_count": 220,
     "metadata": {},
     "output_type": "execute_result"
    }
   ],
   "source": [
    "from sklearn.svm import SVC\n",
    "svc = SVC()\n",
    "svc.fit(X_train_pca, y_train)"
   ]
  },
  {
   "cell_type": "code",
   "execution_count": 221,
   "metadata": {},
   "outputs": [
    {
     "data": {
      "text/plain": [
       "0.886"
      ]
     },
     "execution_count": 221,
     "metadata": {},
     "output_type": "execute_result"
    }
   ],
   "source": [
    "svc.score(X_test_pca, y_test)"
   ]
  },
  {
   "cell_type": "markdown",
   "metadata": {},
   "source": [
    "Did the neural network improve significantly the performances? Can you explain why?"
   ]
  },
  {
   "cell_type": "markdown",
   "metadata": {},
   "source": [
    "If you still have time, you could try to use scikit-learn's `Pipeline` to perform the hyperparameter optimization jointly on the PCA and the classification model. This might improve your performances."
   ]
  },
  {
   "cell_type": "code",
   "execution_count": 222,
   "metadata": {},
   "outputs": [],
   "source": [
    "from sklearn.pipeline import Pipeline\n",
    "\n",
    "pipe = Pipeline([('pca', PCA()),('estimator', SVC())])"
   ]
  },
  {
   "cell_type": "code",
   "execution_count": 223,
   "metadata": {},
   "outputs": [],
   "source": [
    "param_grid = {'pca__n_components':[100, 200, 300],\n",
    "             'estimator__C': [0.01, 1, 10, 100],\n",
    "             'estimator__gamma': ['auto', 'scale']}"
   ]
  },
  {
   "cell_type": "code",
   "execution_count": 225,
   "metadata": {},
   "outputs": [],
   "source": [
    "from sklearn.model_selection import GridSearchCV\n",
    "\n",
    "grid = GridSearchCV(pipe, param_grid=param_grid)"
   ]
  },
  {
   "cell_type": "code",
   "execution_count": null,
   "metadata": {},
   "outputs": [],
   "source": [
    "grid.fit(X_train_rs, y_train)"
   ]
  },
  {
   "cell_type": "code",
   "execution_count": null,
   "metadata": {},
   "outputs": [],
   "source": [
    "grid.best_params_"
   ]
  },
  {
   "cell_type": "code",
   "execution_count": null,
   "metadata": {},
   "outputs": [],
   "source": [
    "    "
   ]
  }
 ],
 "metadata": {
  "kernelspec": {
   "display_name": "Python 3",
   "language": "python",
   "name": "python3"
  },
  "language_info": {
   "codemirror_mode": {
    "name": "ipython",
    "version": 3
   },
   "file_extension": ".py",
   "mimetype": "text/x-python",
   "name": "python",
   "nbconvert_exporter": "python",
   "pygments_lexer": "ipython3",
   "version": "3.7.6"
  },
  "toc": {
   "base_numbering": 1,
   "nav_menu": {},
   "number_sections": true,
   "sideBar": true,
   "skip_h1_title": false,
   "title_cell": "Table of Contents",
   "title_sidebar": "Contents",
   "toc_cell": false,
   "toc_position": {},
   "toc_section_display": true,
   "toc_window_display": false
  }
 },
 "nbformat": 4,
 "nbformat_minor": 2
}
