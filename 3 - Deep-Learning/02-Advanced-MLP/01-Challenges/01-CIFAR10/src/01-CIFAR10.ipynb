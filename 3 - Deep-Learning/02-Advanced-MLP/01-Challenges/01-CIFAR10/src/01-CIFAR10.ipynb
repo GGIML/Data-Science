{
 "cells": [
  {
   "cell_type": "markdown",
   "metadata": {},
   "source": [
    "# 01-CIFAR10"
   ]
  },
  {
   "cell_type": "markdown",
   "metadata": {},
   "source": [
    "![](https://images.unsplash.com/photo-1493723843671-1d655e66ac1c?ixlib=rb-1.2.1&ixid=eyJhcHBfaWQiOjEyMDd9&auto=format&fit=crop&w=1050&q=80)\n",
    "\n",
    "Photo by [LUM3N](https://unsplash.com/photos/-RBuQ2PK_L8)\n"
   ]
  },
  {
   "cell_type": "markdown",
   "metadata": {},
   "source": [
    "We will work on the CIFAR10 dataset. If you want to know more about this dataset, you can check information [here](https://www.cs.toronto.edu/~kriz/cifar.html)."
   ]
  },
  {
   "cell_type": "markdown",
   "metadata": {},
   "source": [
    "You can download the CIFAR10 dataset using Keras. To know how to do it, check [here](https://keras.io/datasets/). If the memory of your laptop is not big (e.g. 4GB), take only a subsample of the CIFAR10 dataset: for example 10000 samples in train and 2000 in test."
   ]
  },
  {
   "cell_type": "code",
   "execution_count": 2,
   "metadata": {},
   "outputs": [],
   "source": [
    "import tensorflow as tf\n",
    "import numpy as np\n",
    "import matplotlib.pyplot as plt"
   ]
  },
  {
   "cell_type": "code",
   "execution_count": 3,
   "metadata": {},
   "outputs": [],
   "source": [
    "# TODO: Load the dataset\n",
    "(X_train, y_train), (X_test, y_test) = tf.keras.datasets.cifar10.load_data()"
   ]
  },
  {
   "cell_type": "markdown",
   "metadata": {},
   "source": [
    "Now inspect the data, check the number of images, their sizes, and display some of them."
   ]
  },
  {
   "cell_type": "code",
   "execution_count": 4,
   "metadata": {
    "scrolled": false
   },
   "outputs": [
    {
     "data": {
      "text/plain": [
       "(50000, 32, 32, 3)"
      ]
     },
     "execution_count": 4,
     "metadata": {},
     "output_type": "execute_result"
    }
   ],
   "source": [
    "# TODO: Explore the data, display some input images\n",
    "X_train.shape"
   ]
  },
  {
   "cell_type": "code",
   "execution_count": 5,
   "metadata": {},
   "outputs": [],
   "source": [
    "map_labels = {\n",
    "    0: 'airplane',\n",
    "    1: 'automobile', \n",
    "    2: 'bird', \n",
    "    3: 'cat', \n",
    "    4: 'deer', \n",
    "    5: 'dog',\n",
    "    6: 'frog', \n",
    "    7: 'horse', \n",
    "    8: 'ship',\n",
    "    9: 'truck'\n",
    "}"
   ]
  },
  {
   "cell_type": "markdown",
   "metadata": {},
   "source": [
    "**Each row of the array stores a 32x32 colour image. The first 1024 entries contain the red channel values, the next 1024 the green, and the final 1024 the blue. The image is stored in row-major order, so that the first 32 entries of the array are the red channel values of the first row of the image.**"
   ]
  },
  {
   "cell_type": "code",
   "execution_count": 6,
   "metadata": {},
   "outputs": [
    {
     "data": {
      "image/png": "[encoded data removed]",
      "text/plain": [
       "<Figure size 1440x720 with 4 Axes>"
      ]
     },
     "metadata": {},
     "output_type": "display_data"
    }
   ],
   "source": [
    "size = 4\n",
    "sample_graph = np.random.randint(0,50000, size)\n",
    "\n",
    "sample_images = X_train[sample_graph]\n",
    "sample_labels = y_train[sample_graph]\n",
    "\n",
    "plt.figure(figsize = (20,10))\n",
    "\n",
    "ax =[]\n",
    "\n",
    "for i in range(1,size+1):\n",
    "    ax.append(plt.subplot(size // 4 + 1,4,i))\n",
    "    plt.imshow(sample_images[i-1])\n",
    "    ax[i-1].title.set_text(map_labels[sample_labels[i-1][0]])\n",
    "    ax[i-1].set_xticks([])\n",
    "    ax[i-1].set_yticks([])\n",
    "\n",
    "plt.show()"
   ]
  },
  {
   "cell_type": "markdown",
   "metadata": {},
   "source": [
    "Make the data preprocessing now: rescale the input data, put the labels to one hot encoding."
   ]
  },
  {
   "cell_type": "code",
   "execution_count": 7,
   "metadata": {},
   "outputs": [],
   "source": [
    "# TODO: Make the data preparation\n",
    "X_train_rs = X_train.reshape(50000,-1)/255\n",
    "X_test_rs = X_test.reshape(10000,-1)/255"
   ]
  },
  {
   "cell_type": "code",
   "execution_count": 8,
   "metadata": {},
   "outputs": [],
   "source": [
    "y_train_rs = tf.keras.utils.to_categorical(y_train, num_classes=10)\n",
    "y_test_rs = tf.keras.utils.to_categorical(y_test, num_classes=10)"
   ]
  },
  {
   "cell_type": "markdown",
   "metadata": {},
   "source": [
    "Now build your model with Keras. Build your neural network architecture.\n",
    "\n",
    "Again, begin with a quite light architecture with 3 hidden layers and 30 units per layer."
   ]
  },
  {
   "cell_type": "code",
   "execution_count": 9,
   "metadata": {},
   "outputs": [],
   "source": [
    "# TODO: Build your model\n",
    "def mlp_model(input_dim):\n",
    "    \n",
    "    model = tf.keras.models.Sequential()\n",
    "    model.add(tf.keras.layers.Dense(30, input_dim=input_dim, activation='relu'))\n",
    "    model.add(tf.keras.layers.Dense(30, activation='relu'))\n",
    "    model.add(tf.keras.layers.Dense(30, activation='relu'))\n",
    "    model.add(tf.keras.layers.Dense(30, activation='relu'))\n",
    "    model.add(tf.keras.layers.Dense(10, activation='softmax'))\n",
    "    \n",
    "    return model"
   ]
  },
  {
   "cell_type": "markdown",
   "metadata": {},
   "source": [
    "Now compile and fit your model on your training data. Add callbacks to have early stopping (with a patience of 30 epochs for example) and tensorboard information."
   ]
  },
  {
   "cell_type": "code",
   "execution_count": 10,
   "metadata": {},
   "outputs": [],
   "source": [
    "from sklearn.model_selection import train_test_split"
   ]
  },
  {
   "cell_type": "code",
   "execution_count": 11,
   "metadata": {},
   "outputs": [],
   "source": [
    "X_tr, X_val, y_tr, y_val = train_test_split(X_train_rs, y_train_rs, test_size=.2, stratify=y_train, random_state=42)"
   ]
  },
  {
   "cell_type": "code",
   "execution_count": 12,
   "metadata": {},
   "outputs": [],
   "source": [
    "from tensorflow.keras.callbacks import EarlyStopping\n",
    "from tensorflow.keras.callbacks import TensorBoard\n",
    "callback = [EarlyStopping(monitor='val_loss', patience=30),\n",
    "            TensorBoard(log_dir='./Graph', histogram_freq=0, write_graph=True, write_images=True)]"
   ]
  },
  {
   "cell_type": "code",
   "execution_count": null,
   "metadata": {},
   "outputs": [],
   "source": []
  },
  {
   "cell_type": "code",
   "execution_count": 13,
   "metadata": {
    "scrolled": true
   },
   "outputs": [],
   "source": [
    "# TODO: Build your model\n",
    "model = mlp_model(X_train_rs.shape[1])"
   ]
  },
  {
   "cell_type": "code",
   "execution_count": 14,
   "metadata": {
    "scrolled": true
   },
   "outputs": [
    {
     "name": "stdout",
     "output_type": "stream",
     "text": [
      "Epoch 1/1000\n",
      "  1/200 [..............................] - ETA: 0s - loss: 2.3200 - accuracy: 0.0650WARNING:tensorflow:From /home/guillaume/.pyenv/versions/3.7.6/envs/vivadata/lib/python3.7/site-packages/tensorflow/python/ops/summary_ops_v2.py:1277: stop (from tensorflow.python.eager.profiler) is deprecated and will be removed after 2020-07-01.\n",
      "Instructions for updating:\n",
      "use `tf.profiler.experimental.stop` instead.\n",
      "WARNING:tensorflow:Callbacks method `on_train_batch_end` is slow compared to the batch time (batch time: 0.0050s vs `on_train_batch_end` time: 0.0231s). Check your callbacks.\n",
      "200/200 [==============================] - 1s 5ms/step - loss: 2.0948 - accuracy: 0.2019 - val_loss: 1.9541 - val_accuracy: 0.2726\n",
      "Epoch 2/1000\n",
      "200/200 [==============================] - 1s 3ms/step - loss: 1.9112 - accuracy: 0.2912 - val_loss: 1.8839 - val_accuracy: 0.3057\n",
      "Epoch 3/1000\n",
      "200/200 [==============================] - 1s 3ms/step - loss: 1.8644 - accuracy: 0.3159 - val_loss: 1.8474 - val_accuracy: 0.3295\n",
      "Epoch 4/1000\n",
      "200/200 [==============================] - 1s 3ms/step - loss: 1.8278 - accuracy: 0.3333 - val_loss: 1.8237 - val_accuracy: 0.3437\n",
      "Epoch 5/1000\n",
      "200/200 [==============================] - 1s 3ms/step - loss: 1.7966 - accuracy: 0.3503 - val_loss: 1.7859 - val_accuracy: 0.3514\n",
      "Epoch 6/1000\n",
      "200/200 [==============================] - 1s 3ms/step - loss: 1.7683 - accuracy: 0.3616 - val_loss: 1.7702 - val_accuracy: 0.3646\n",
      "Epoch 7/1000\n",
      "200/200 [==============================] - 1s 3ms/step - loss: 1.7513 - accuracy: 0.3681 - val_loss: 1.7600 - val_accuracy: 0.3668\n",
      "Epoch 8/1000\n",
      "200/200 [==============================] - 1s 3ms/step - loss: 1.7318 - accuracy: 0.3747 - val_loss: 1.7722 - val_accuracy: 0.3636\n",
      "Epoch 9/1000\n",
      "200/200 [==============================] - 1s 3ms/step - loss: 1.7196 - accuracy: 0.3797 - val_loss: 1.7446 - val_accuracy: 0.3704\n",
      "Epoch 10/1000\n",
      "200/200 [==============================] - 1s 3ms/step - loss: 1.7115 - accuracy: 0.3826 - val_loss: 1.7441 - val_accuracy: 0.3693\n",
      "Epoch 11/1000\n",
      "200/200 [==============================] - 1s 3ms/step - loss: 1.7016 - accuracy: 0.3873 - val_loss: 1.7322 - val_accuracy: 0.3765\n",
      "Epoch 12/1000\n",
      "200/200 [==============================] - 1s 3ms/step - loss: 1.6903 - accuracy: 0.3905 - val_loss: 1.7262 - val_accuracy: 0.3818\n",
      "Epoch 13/1000\n",
      "200/200 [==============================] - 1s 3ms/step - loss: 1.6885 - accuracy: 0.3889 - val_loss: 1.7233 - val_accuracy: 0.3823\n",
      "Epoch 14/1000\n",
      "200/200 [==============================] - 1s 3ms/step - loss: 1.6852 - accuracy: 0.3949 - val_loss: 1.7192 - val_accuracy: 0.3786\n",
      "Epoch 15/1000\n",
      "200/200 [==============================] - 1s 3ms/step - loss: 1.6758 - accuracy: 0.3972 - val_loss: 1.7124 - val_accuracy: 0.3862\n",
      "Epoch 16/1000\n",
      "200/200 [==============================] - 1s 3ms/step - loss: 1.6838 - accuracy: 0.3975 - val_loss: 1.7118 - val_accuracy: 0.3877\n",
      "Epoch 17/1000\n",
      "200/200 [==============================] - 1s 3ms/step - loss: 1.6659 - accuracy: 0.4019 - val_loss: 1.7041 - val_accuracy: 0.3870\n",
      "Epoch 18/1000\n",
      "200/200 [==============================] - 1s 3ms/step - loss: 1.6631 - accuracy: 0.4006 - val_loss: 1.7038 - val_accuracy: 0.3927\n",
      "Epoch 19/1000\n",
      "200/200 [==============================] - 1s 3ms/step - loss: 1.6601 - accuracy: 0.4039 - val_loss: 1.7059 - val_accuracy: 0.3862\n",
      "Epoch 20/1000\n",
      "200/200 [==============================] - 1s 3ms/step - loss: 1.6603 - accuracy: 0.4027 - val_loss: 1.6924 - val_accuracy: 0.3941\n",
      "Epoch 21/1000\n",
      "200/200 [==============================] - 1s 3ms/step - loss: 1.6543 - accuracy: 0.4047 - val_loss: 1.7017 - val_accuracy: 0.3907\n",
      "Epoch 22/1000\n",
      "200/200 [==============================] - 1s 3ms/step - loss: 1.6481 - accuracy: 0.4058 - val_loss: 1.6936 - val_accuracy: 0.3964\n",
      "Epoch 23/1000\n",
      "200/200 [==============================] - 1s 3ms/step - loss: 1.6497 - accuracy: 0.4060 - val_loss: 1.7053 - val_accuracy: 0.3932\n",
      "Epoch 24/1000\n",
      "200/200 [==============================] - 1s 3ms/step - loss: 1.6469 - accuracy: 0.4072 - val_loss: 1.6907 - val_accuracy: 0.3975\n",
      "Epoch 25/1000\n",
      "200/200 [==============================] - 1s 3ms/step - loss: 1.6435 - accuracy: 0.4087 - val_loss: 1.6792 - val_accuracy: 0.4045\n",
      "Epoch 26/1000\n",
      "200/200 [==============================] - 1s 3ms/step - loss: 1.6427 - accuracy: 0.4090 - val_loss: 1.6882 - val_accuracy: 0.4022\n",
      "Epoch 27/1000\n",
      "200/200 [==============================] - 1s 3ms/step - loss: 1.6342 - accuracy: 0.4137 - val_loss: 1.6832 - val_accuracy: 0.3960\n",
      "Epoch 28/1000\n",
      "200/200 [==============================] - 1s 3ms/step - loss: 1.6345 - accuracy: 0.4112 - val_loss: 1.7111 - val_accuracy: 0.3893\n",
      "Epoch 29/1000\n",
      "200/200 [==============================] - 1s 3ms/step - loss: 1.6297 - accuracy: 0.4146 - val_loss: 1.6844 - val_accuracy: 0.4020\n",
      "Epoch 30/1000\n",
      "200/200 [==============================] - 1s 3ms/step - loss: 1.6295 - accuracy: 0.4139 - val_loss: 1.6967 - val_accuracy: 0.3985\n",
      "Epoch 31/1000\n",
      "200/200 [==============================] - 1s 3ms/step - loss: 1.6253 - accuracy: 0.4152 - val_loss: 1.6801 - val_accuracy: 0.3980\n",
      "Epoch 32/1000\n",
      "200/200 [==============================] - 1s 3ms/step - loss: 1.6235 - accuracy: 0.4150 - val_loss: 1.6706 - val_accuracy: 0.4037\n",
      "Epoch 33/1000\n",
      "200/200 [==============================] - 1s 3ms/step - loss: 1.6213 - accuracy: 0.4181 - val_loss: 1.7008 - val_accuracy: 0.3970\n",
      "Epoch 34/1000\n",
      "200/200 [==============================] - 1s 3ms/step - loss: 1.6203 - accuracy: 0.4162 - val_loss: 1.6872 - val_accuracy: 0.3985\n",
      "Epoch 35/1000\n",
      "200/200 [==============================] - 1s 3ms/step - loss: 1.6199 - accuracy: 0.4169 - val_loss: 1.6687 - val_accuracy: 0.4040\n",
      "Epoch 36/1000\n",
      "200/200 [==============================] - 1s 3ms/step - loss: 1.6143 - accuracy: 0.4183 - val_loss: 1.7007 - val_accuracy: 0.3835\n",
      "Epoch 37/1000\n",
      "200/200 [==============================] - 1s 3ms/step - loss: 1.6158 - accuracy: 0.4191 - val_loss: 1.6924 - val_accuracy: 0.3991\n",
      "Epoch 38/1000\n",
      "200/200 [==============================] - 1s 3ms/step - loss: 1.6079 - accuracy: 0.4205 - val_loss: 1.6794 - val_accuracy: 0.4045\n",
      "Epoch 39/1000\n",
      "200/200 [==============================] - 1s 3ms/step - loss: 1.6044 - accuracy: 0.4231 - val_loss: 1.6645 - val_accuracy: 0.4062\n",
      "Epoch 40/1000\n",
      "200/200 [==============================] - 1s 3ms/step - loss: 1.6015 - accuracy: 0.4210 - val_loss: 1.6947 - val_accuracy: 0.4021\n",
      "Epoch 41/1000\n",
      "200/200 [==============================] - 1s 3ms/step - loss: 1.6043 - accuracy: 0.4234 - val_loss: 1.6672 - val_accuracy: 0.4043\n",
      "Epoch 42/1000\n",
      "200/200 [==============================] - 1s 3ms/step - loss: 1.5997 - accuracy: 0.4244 - val_loss: 1.6680 - val_accuracy: 0.4034\n",
      "Epoch 43/1000\n",
      "200/200 [==============================] - 1s 3ms/step - loss: 1.5985 - accuracy: 0.4261 - val_loss: 1.6672 - val_accuracy: 0.4039\n",
      "Epoch 44/1000\n",
      "200/200 [==============================] - 1s 3ms/step - loss: 1.6031 - accuracy: 0.4236 - val_loss: 1.6875 - val_accuracy: 0.3990\n",
      "Epoch 45/1000\n",
      "200/200 [==============================] - 1s 3ms/step - loss: 1.5950 - accuracy: 0.4267 - val_loss: 1.6686 - val_accuracy: 0.4066\n",
      "Epoch 46/1000\n",
      "200/200 [==============================] - 1s 3ms/step - loss: 1.5966 - accuracy: 0.4237 - val_loss: 1.6600 - val_accuracy: 0.4025\n",
      "Epoch 47/1000\n",
      "200/200 [==============================] - 1s 3ms/step - loss: 1.5883 - accuracy: 0.4284 - val_loss: 1.6597 - val_accuracy: 0.4062\n",
      "Epoch 48/1000\n",
      "200/200 [==============================] - 1s 3ms/step - loss: 1.5821 - accuracy: 0.4295 - val_loss: 1.6894 - val_accuracy: 0.4005\n",
      "Epoch 49/1000\n",
      "200/200 [==============================] - 1s 3ms/step - loss: 1.5851 - accuracy: 0.4304 - val_loss: 1.6539 - val_accuracy: 0.4134\n",
      "Epoch 50/1000\n",
      "200/200 [==============================] - 1s 3ms/step - loss: 1.5856 - accuracy: 0.4306 - val_loss: 1.6706 - val_accuracy: 0.4084\n",
      "Epoch 51/1000\n",
      "200/200 [==============================] - 1s 3ms/step - loss: 1.5874 - accuracy: 0.4288 - val_loss: 1.6522 - val_accuracy: 0.4124\n",
      "Epoch 52/1000\n",
      "200/200 [==============================] - 1s 3ms/step - loss: 1.5779 - accuracy: 0.4302 - val_loss: 1.6580 - val_accuracy: 0.4054\n",
      "Epoch 53/1000\n"
     ]
    },
    {
     "name": "stdout",
     "output_type": "stream",
     "text": [
      "200/200 [==============================] - 1s 3ms/step - loss: 1.5782 - accuracy: 0.4327 - val_loss: 1.6662 - val_accuracy: 0.4055\n",
      "Epoch 54/1000\n",
      "200/200 [==============================] - 1s 3ms/step - loss: 1.5763 - accuracy: 0.4332 - val_loss: 1.6556 - val_accuracy: 0.4084\n",
      "Epoch 55/1000\n",
      "200/200 [==============================] - 1s 3ms/step - loss: 1.5735 - accuracy: 0.4327 - val_loss: 1.6496 - val_accuracy: 0.4119\n",
      "Epoch 56/1000\n",
      "200/200 [==============================] - 1s 3ms/step - loss: 1.5782 - accuracy: 0.4298 - val_loss: 1.6935 - val_accuracy: 0.3990\n",
      "Epoch 57/1000\n",
      "200/200 [==============================] - 1s 3ms/step - loss: 1.5791 - accuracy: 0.4314 - val_loss: 1.6613 - val_accuracy: 0.4083\n",
      "Epoch 58/1000\n",
      "200/200 [==============================] - 1s 3ms/step - loss: 1.5707 - accuracy: 0.4363 - val_loss: 1.6579 - val_accuracy: 0.4077\n",
      "Epoch 59/1000\n",
      "200/200 [==============================] - 1s 3ms/step - loss: 1.5722 - accuracy: 0.4338 - val_loss: 1.6603 - val_accuracy: 0.4114\n",
      "Epoch 60/1000\n",
      "200/200 [==============================] - 1s 3ms/step - loss: 1.5702 - accuracy: 0.4347 - val_loss: 1.6709 - val_accuracy: 0.4024\n",
      "Epoch 61/1000\n",
      "200/200 [==============================] - 1s 3ms/step - loss: 1.5698 - accuracy: 0.4374 - val_loss: 1.6929 - val_accuracy: 0.3961\n",
      "Epoch 62/1000\n",
      "200/200 [==============================] - 1s 3ms/step - loss: 1.5659 - accuracy: 0.4356 - val_loss: 1.6473 - val_accuracy: 0.4152\n",
      "Epoch 63/1000\n",
      "200/200 [==============================] - 1s 3ms/step - loss: 1.5643 - accuracy: 0.4381 - val_loss: 1.6537 - val_accuracy: 0.4136\n",
      "Epoch 64/1000\n",
      "200/200 [==============================] - 1s 3ms/step - loss: 1.5644 - accuracy: 0.4352 - val_loss: 1.6648 - val_accuracy: 0.4095\n",
      "Epoch 65/1000\n",
      "200/200 [==============================] - 1s 3ms/step - loss: 1.5587 - accuracy: 0.4390 - val_loss: 1.6569 - val_accuracy: 0.4133\n",
      "Epoch 66/1000\n",
      "200/200 [==============================] - 1s 3ms/step - loss: 1.5554 - accuracy: 0.4383 - val_loss: 1.6535 - val_accuracy: 0.4126\n",
      "Epoch 67/1000\n",
      "200/200 [==============================] - 1s 3ms/step - loss: 1.5564 - accuracy: 0.4381 - val_loss: 1.6482 - val_accuracy: 0.4126\n",
      "Epoch 68/1000\n",
      "200/200 [==============================] - 1s 3ms/step - loss: 1.5642 - accuracy: 0.4358 - val_loss: 1.6693 - val_accuracy: 0.4060\n",
      "Epoch 69/1000\n",
      "200/200 [==============================] - 1s 3ms/step - loss: 1.5587 - accuracy: 0.4386 - val_loss: 1.6689 - val_accuracy: 0.4050\n",
      "Epoch 70/1000\n",
      "200/200 [==============================] - 1s 3ms/step - loss: 1.5573 - accuracy: 0.4391 - val_loss: 1.6508 - val_accuracy: 0.4091\n",
      "Epoch 71/1000\n",
      "200/200 [==============================] - 1s 3ms/step - loss: 1.5576 - accuracy: 0.4423 - val_loss: 1.6552 - val_accuracy: 0.4124\n",
      "Epoch 72/1000\n",
      "200/200 [==============================] - 1s 3ms/step - loss: 1.5561 - accuracy: 0.4373 - val_loss: 1.6567 - val_accuracy: 0.4110\n",
      "Epoch 73/1000\n",
      "200/200 [==============================] - 1s 3ms/step - loss: 1.5549 - accuracy: 0.4383 - val_loss: 1.6413 - val_accuracy: 0.4175\n",
      "Epoch 74/1000\n",
      "200/200 [==============================] - 1s 3ms/step - loss: 1.5486 - accuracy: 0.4424 - val_loss: 1.6709 - val_accuracy: 0.4062\n",
      "Epoch 75/1000\n",
      "200/200 [==============================] - 1s 3ms/step - loss: 1.5498 - accuracy: 0.4399 - val_loss: 1.6626 - val_accuracy: 0.4112\n",
      "Epoch 76/1000\n",
      "200/200 [==============================] - 1s 3ms/step - loss: 1.5523 - accuracy: 0.4417 - val_loss: 1.6659 - val_accuracy: 0.4092\n",
      "Epoch 77/1000\n",
      "200/200 [==============================] - 1s 3ms/step - loss: 1.5504 - accuracy: 0.4386 - val_loss: 1.6766 - val_accuracy: 0.3972\n",
      "Epoch 78/1000\n",
      "200/200 [==============================] - 1s 3ms/step - loss: 1.5503 - accuracy: 0.4393 - val_loss: 1.6604 - val_accuracy: 0.4108\n",
      "Epoch 79/1000\n",
      "200/200 [==============================] - 1s 3ms/step - loss: 1.5494 - accuracy: 0.4428 - val_loss: 1.6777 - val_accuracy: 0.4057\n",
      "Epoch 80/1000\n",
      "200/200 [==============================] - 1s 3ms/step - loss: 1.5504 - accuracy: 0.4410 - val_loss: 1.6587 - val_accuracy: 0.4139\n",
      "Epoch 81/1000\n",
      "200/200 [==============================] - 1s 3ms/step - loss: 1.5465 - accuracy: 0.4406 - val_loss: 1.6477 - val_accuracy: 0.4160\n",
      "Epoch 82/1000\n",
      "200/200 [==============================] - 1s 3ms/step - loss: 1.5495 - accuracy: 0.4391 - val_loss: 1.6646 - val_accuracy: 0.4091\n",
      "Epoch 83/1000\n",
      "200/200 [==============================] - 1s 3ms/step - loss: 1.5418 - accuracy: 0.4437 - val_loss: 1.6626 - val_accuracy: 0.4075\n",
      "Epoch 84/1000\n",
      "200/200 [==============================] - 1s 3ms/step - loss: 1.5454 - accuracy: 0.4401 - val_loss: 1.6668 - val_accuracy: 0.4076\n",
      "Epoch 85/1000\n",
      "200/200 [==============================] - 1s 3ms/step - loss: 1.5401 - accuracy: 0.4434 - val_loss: 1.6709 - val_accuracy: 0.4071\n",
      "Epoch 86/1000\n",
      "200/200 [==============================] - 1s 3ms/step - loss: 1.5412 - accuracy: 0.4431 - val_loss: 1.6744 - val_accuracy: 0.4025\n",
      "Epoch 87/1000\n",
      "200/200 [==============================] - 1s 3ms/step - loss: 1.5367 - accuracy: 0.4464 - val_loss: 1.6561 - val_accuracy: 0.4156\n",
      "Epoch 88/1000\n",
      "200/200 [==============================] - 1s 3ms/step - loss: 1.5446 - accuracy: 0.4423 - val_loss: 1.6636 - val_accuracy: 0.4014\n",
      "Epoch 89/1000\n",
      "200/200 [==============================] - 1s 3ms/step - loss: 1.5413 - accuracy: 0.4419 - val_loss: 1.6416 - val_accuracy: 0.4147\n",
      "Epoch 90/1000\n",
      "200/200 [==============================] - 1s 3ms/step - loss: 1.5360 - accuracy: 0.4440 - val_loss: 1.6498 - val_accuracy: 0.4108\n",
      "Epoch 91/1000\n",
      "200/200 [==============================] - 1s 3ms/step - loss: 1.5390 - accuracy: 0.4436 - val_loss: 1.6442 - val_accuracy: 0.4148\n",
      "Epoch 92/1000\n",
      "200/200 [==============================] - 1s 3ms/step - loss: 1.5366 - accuracy: 0.4457 - val_loss: 1.6903 - val_accuracy: 0.4057\n",
      "Epoch 93/1000\n",
      "200/200 [==============================] - 1s 3ms/step - loss: 1.5347 - accuracy: 0.4454 - val_loss: 1.6483 - val_accuracy: 0.4156\n",
      "Epoch 94/1000\n",
      "200/200 [==============================] - 1s 3ms/step - loss: 1.5303 - accuracy: 0.4488 - val_loss: 1.6831 - val_accuracy: 0.3943\n",
      "Epoch 95/1000\n",
      "200/200 [==============================] - 1s 3ms/step - loss: 1.5345 - accuracy: 0.4454 - val_loss: 1.6414 - val_accuracy: 0.4202\n",
      "Epoch 96/1000\n",
      "200/200 [==============================] - 1s 3ms/step - loss: 1.5369 - accuracy: 0.4435 - val_loss: 1.6700 - val_accuracy: 0.4092\n",
      "Epoch 97/1000\n",
      "200/200 [==============================] - 1s 3ms/step - loss: 1.5350 - accuracy: 0.4443 - val_loss: 1.6535 - val_accuracy: 0.4100\n",
      "Epoch 98/1000\n",
      "200/200 [==============================] - 1s 3ms/step - loss: 1.5345 - accuracy: 0.4447 - val_loss: 1.6929 - val_accuracy: 0.4014\n",
      "Epoch 99/1000\n",
      "200/200 [==============================] - 1s 3ms/step - loss: 1.5308 - accuracy: 0.4476 - val_loss: 1.6611 - val_accuracy: 0.4104\n",
      "Epoch 100/1000\n",
      "200/200 [==============================] - 1s 3ms/step - loss: 1.5294 - accuracy: 0.4475 - val_loss: 1.6607 - val_accuracy: 0.4093\n",
      "Epoch 101/1000\n",
      "200/200 [==============================] - 1s 3ms/step - loss: 1.5275 - accuracy: 0.4484 - val_loss: 1.6461 - val_accuracy: 0.4131\n",
      "Epoch 102/1000\n",
      "200/200 [==============================] - 1s 3ms/step - loss: 1.5287 - accuracy: 0.4476 - val_loss: 1.6485 - val_accuracy: 0.4139\n",
      "Epoch 103/1000\n",
      "200/200 [==============================] - 1s 3ms/step - loss: 1.5290 - accuracy: 0.4484 - val_loss: 1.6651 - val_accuracy: 0.4043\n"
     ]
    },
    {
     "data": {
      "text/plain": [
       "<tensorflow.python.keras.callbacks.History at 0x7f31f01df390>"
      ]
     },
     "execution_count": 14,
     "metadata": {},
     "output_type": "execute_result"
    }
   ],
   "source": [
    "model.compile(optimizer='Adam', loss='categorical_crossentropy', metrics=['accuracy'])\n",
    "model.fit(X_tr, y_tr, batch_size=200, epochs=1000, validation_data=(X_val, y_val), callbacks = callback, use_multiprocessing=True)"
   ]
  },
  {
   "cell_type": "markdown",
   "metadata": {},
   "source": [
    "Compute the accuracy of your model once it has been trained."
   ]
  },
  {
   "cell_type": "code",
   "execution_count": 15,
   "metadata": {},
   "outputs": [
    {
     "name": "stdout",
     "output_type": "stream",
     "text": [
      "313/313 [==============================] - 0s 1ms/step - loss: 1.6579 - accuracy: 0.4058\n",
      "Accuracy: 0.4058000147342682\n"
     ]
    }
   ],
   "source": [
    "# TODO: Compute the accuracy of your model\n",
    "loss, acc = model.evaluate(X_test_rs, y_test_rs)\n",
    "\n",
    "print(f'Accuracy: {acc}')"
   ]
  },
  {
   "cell_type": "markdown",
   "metadata": {},
   "source": [
    "What do you think of those results? Can you improve it by changing the number of layers? Of units per layer? The number of epochs? Feel free to try."
   ]
  },
  {
   "cell_type": "markdown",
   "metadata": {},
   "source": [
    "To have a better understanding of your model, you can also check the learning curves on TensorBoard and interpret them."
   ]
  },
  {
   "cell_type": "markdown",
   "metadata": {},
   "source": [
    "One solution to improve your model might be data augmentation. For example, we can flip horizontally our images. Basically, this would be like watching them into a mirror.\n",
    "\n",
    "To do so, you can use numpy method `flip` for example, and then display a flipped image and the regular image."
   ]
  },
  {
   "cell_type": "code",
   "execution_count": 16,
   "metadata": {},
   "outputs": [],
   "source": [
    "# TODO: Augment your data by flipping images horizontally\n",
    "X_train_flipped = np.fliplr(X_train)"
   ]
  },
  {
   "cell_type": "code",
   "execution_count": 17,
   "metadata": {},
   "outputs": [
    {
     "data": {
      "image/png": "[encoded data removed]",
      "text/plain": [
       "<Figure size 1440x720 with 2 Axes>"
      ]
     },
     "metadata": {
      "needs_background": "light"
     },
     "output_type": "display_data"
    }
   ],
   "source": [
    "sample = np.random.randint(0,50000)\n",
    "\n",
    "sample_image = X_train[sample]\n",
    "sample_image_flipped = X_train_flipped[sample]\n",
    "\n",
    "plt.figure(figsize = (20,10))\n",
    "\n",
    "plt.subplot(121)\n",
    "plt.imshow(sample_image)\n",
    "plt.subplot(122)\n",
    "plt.imshow(sample_image_flipped)\n",
    "\n",
    "plt.show()"
   ]
  },
  {
   "cell_type": "markdown",
   "metadata": {},
   "source": [
    "Now concatenate your training set to have both regular and flipped images in it. Do the same for the associated labels (labels remain the same for flipped images). If your computer memory is not big enough, flip only a subsample of images."
   ]
  },
  {
   "cell_type": "code",
   "execution_count": null,
   "metadata": {},
   "outputs": [],
   "source": []
  },
  {
   "cell_type": "code",
   "execution_count": 18,
   "metadata": {
    "scrolled": true
   },
   "outputs": [],
   "source": [
    "# TODO: Create a new training set with both regular and flipped images\n",
    "X_train_full = np.concatenate((X_train[:20000], X_train_flipped[:20000]), axis=0)"
   ]
  },
  {
   "cell_type": "code",
   "execution_count": 19,
   "metadata": {},
   "outputs": [],
   "source": [
    "y_train_full = np.concatenate((y_train[:20000], y_train[:20000]), axis=0)"
   ]
  },
  {
   "cell_type": "code",
   "execution_count": null,
   "metadata": {},
   "outputs": [],
   "source": [
    "X_train_full_rs = X_train_full.reshape(60000,-1)/255"
   ]
  },
  {
   "cell_type": "markdown",
   "metadata": {},
   "source": [
    "Once your data is augmented, retrain your model, and see if it can improve your performances."
   ]
  },
  {
   "cell_type": "code",
   "execution_count": null,
   "metadata": {
    "scrolled": true
   },
   "outputs": [],
   "source": [
    "# TODO: train your model and display the performances\n",
    "X_tr, X_val, y_tr, y_val = train_test_split(X_train_full_rs, y_train_full, test_size=.2, stratify=y_train, random_state=42)"
   ]
  },
  {
   "cell_type": "markdown",
   "metadata": {},
   "source": [
    "Does it improve your performances? On my side yes it does, from 34% accuracy to 41%, quite a big improvement (even if this is not so good)."
   ]
  },
  {
   "cell_type": "markdown",
   "metadata": {},
   "source": [
    "Now feel free to improve the performances of your model by making more data augmentation (adding rotations, zooming...), trying to add layers or units, or playing with hyperparameters."
   ]
  }
 ],
 "metadata": {
  "kernelspec": {
   "display_name": "Python 3",
   "language": "python",
   "name": "python3"
  },
  "language_info": {
   "codemirror_mode": {
    "name": "ipython",
    "version": 3
   },
   "file_extension": ".py",
   "mimetype": "text/x-python",
   "name": "python",
   "nbconvert_exporter": "python",
   "pygments_lexer": "ipython3",
   "version": "3.7.6"
  }
 },
 "nbformat": 4,
 "nbformat_minor": 2
}
