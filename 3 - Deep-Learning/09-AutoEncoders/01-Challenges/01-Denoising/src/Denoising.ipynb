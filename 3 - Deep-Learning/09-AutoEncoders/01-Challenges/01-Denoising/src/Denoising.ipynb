{
 "cells": [
  {
   "cell_type": "markdown",
   "metadata": {},
   "source": [
    "# Denoising\n",
    "\n",
    "![](https://images.unsplash.com/photo-1548069124-75c4a08968cc?ixlib=rb-1.2.1&ixid=eyJhcHBfaWQiOjEyMDd9&auto=format&fit=crop&w=1050&q=80)\n",
    "\n",
    "Picture by [Anton Scherbakov](https://unsplash.com/photos/ZLBUaIsaY6k)"
   ]
  },
  {
   "cell_type": "markdown",
   "metadata": {},
   "source": [
    "We will here use AutoEncoders for denoising images.\n",
    "\n",
    "The idea is simple: train an autoencoder on noiseless images. Once the autoencoder is trained, input a noisy image, it should output the denoised image.\n",
    "\n",
    "Let's work again with the MNIST fashion dataset. Load it."
   ]
  },
  {
   "cell_type": "markdown",
   "metadata": {},
   "source": [
    "First download the dataset. As a reminder, the labels are the following:\n",
    "* 0:\tT-shirt/top\n",
    "* 1:\tTrouser\n",
    "* 2:\tPullover\n",
    "* 3:\tDress\n",
    "* 4:\tCoat\n",
    "* 5:\tSandal\n",
    "* 6:\tShirt\n",
    "* 7:\tSneaker\n",
    "* 8:\tBag\n",
    "* 9:\tAnkle boot"
   ]
  },
  {
   "cell_type": "code",
   "execution_count": 13,
   "metadata": {},
   "outputs": [],
   "source": [
    "labels_map = { 0: 'T-shirt/top',\n",
    "              1: 'Trouser',\n",
    "              2: 'Pullover',\n",
    "              3: 'Dress',\n",
    "              4: 'Coat',\n",
    "              5: 'Sandal',\n",
    "              6: 'Shirt',\n",
    "              7: 'Sneaker',\n",
    "              8: 'Bag',\n",
    "              9: 'Ankle boot'\n",
    "             }"
   ]
  },
  {
   "cell_type": "code",
   "execution_count": 14,
   "metadata": {
    "ExecuteTime": {
     "end_time": "2019-12-02T18:32:19.573949Z",
     "start_time": "2019-12-02T18:32:19.570906Z"
    }
   },
   "outputs": [],
   "source": [
    "### TODO: Import the dataset and display an image\n",
    "from tensorflow.keras.datasets import fashion_mnist\n",
    "import matplotlib.pyplot as plt\n",
    "import random"
   ]
  },
  {
   "cell_type": "code",
   "execution_count": 7,
   "metadata": {},
   "outputs": [],
   "source": [
    "(X_train, y_train), (X_test, y_test) = fashion_mnist.load_data()"
   ]
  },
  {
   "cell_type": "code",
   "execution_count": 26,
   "metadata": {},
   "outputs": [
    {
     "data": {
      "image/png": "[encoded data removed]",
      "text/plain": [
       "<Figure size 432x288 with 1 Axes>"
      ]
     },
     "metadata": {
      "needs_background": "light"
     },
     "output_type": "display_data"
    }
   ],
   "source": [
    "img = random.randint(0, X_train.shape[0])\n",
    "plt.imshow(X_train[img], cmap='gray')\n",
    "plt.axis('off')\n",
    "plt.title(labels_map[y_train[img]])\n",
    "plt.show()"
   ]
  },
  {
   "cell_type": "markdown",
   "metadata": {},
   "source": [
    "Build an autoencoder for those images. You can reuse the architecture of the lectures.\n",
    "\n",
    "> Since this is for denoising (not any generation), a regular autoencoder is good enough!"
   ]
  },
  {
   "cell_type": "code",
   "execution_count": 36,
   "metadata": {},
   "outputs": [],
   "source": [
    "X_train_rs = X_train.reshape(len(X_train), -1) / 255\n",
    "X_test_rs = X_test.reshape(len(X_test), -1) / 255"
   ]
  },
  {
   "cell_type": "code",
   "execution_count": 76,
   "metadata": {
    "ExecuteTime": {
     "end_time": "2019-12-02T18:32:24.672120Z",
     "start_time": "2019-12-02T18:32:24.668010Z"
    }
   },
   "outputs": [],
   "source": [
    "### TODO: Build an autoencoder\n",
    "from tensorflow.keras.layers import Input, Dense\n",
    "from tensorflow.keras.models import Model\n",
    "\n",
    "input_dim = 28*28\n",
    "latent_dim = 128\n",
    "\n",
    "# define the input layer: the pixel values\n",
    "input_img = Input(shape=(input_dim,))\n",
    "\n",
    "# encode\n",
    "encoded = Dense(latent_dim, activation='relu')(input_img)\n",
    "\n",
    "# decode\n",
    "decoded = Dense(input_dim, activation='sigmoid')(encoded)\n",
    "\n",
    "# Define the autoencoder model\n",
    "autoencoder = Model(input_img, decoded)"
   ]
  },
  {
   "cell_type": "markdown",
   "metadata": {},
   "source": [
    "Now compile and train your AutoEncoder using the fashion data."
   ]
  },
  {
   "cell_type": "code",
   "execution_count": 77,
   "metadata": {
    "ExecuteTime": {
     "end_time": "2019-12-02T18:32:27.553007Z",
     "start_time": "2019-12-02T18:32:27.547761Z"
    }
   },
   "outputs": [],
   "source": [
    "### TODO: Train the autoencoder\n",
    "autoencoder.compile(optimizer='adam', loss='mse')"
   ]
  },
  {
   "cell_type": "code",
   "execution_count": 78,
   "metadata": {},
   "outputs": [
    {
     "name": "stdout",
     "output_type": "stream",
     "text": [
      "Epoch 1/20\n",
      "469/469 [==============================] - 1s 3ms/step - loss: 0.0334 - val_loss: 0.0173\n",
      "Epoch 2/20\n",
      "469/469 [==============================] - 1s 3ms/step - loss: 0.0138 - val_loss: 0.0117\n",
      "Epoch 3/20\n",
      "469/469 [==============================] - 1s 3ms/step - loss: 0.0106 - val_loss: 0.0097\n",
      "Epoch 4/20\n",
      "469/469 [==============================] - 1s 3ms/step - loss: 0.0091 - val_loss: 0.0088\n",
      "Epoch 5/20\n",
      "469/469 [==============================] - 1s 3ms/step - loss: 0.0081 - val_loss: 0.0079\n",
      "Epoch 6/20\n",
      "469/469 [==============================] - 1s 3ms/step - loss: 0.0076 - val_loss: 0.0074\n",
      "Epoch 7/20\n",
      "469/469 [==============================] - 1s 3ms/step - loss: 0.0071 - val_loss: 0.0070\n",
      "Epoch 8/20\n",
      "469/469 [==============================] - 1s 3ms/step - loss: 0.0068 - val_loss: 0.0067\n",
      "Epoch 9/20\n",
      "469/469 [==============================] - 1s 3ms/step - loss: 0.0065 - val_loss: 0.0065\n",
      "Epoch 10/20\n",
      "469/469 [==============================] - 1s 3ms/step - loss: 0.0063 - val_loss: 0.0062\n",
      "Epoch 11/20\n",
      "469/469 [==============================] - 1s 3ms/step - loss: 0.0061 - val_loss: 0.0061\n",
      "Epoch 12/20\n",
      "469/469 [==============================] - 1s 3ms/step - loss: 0.0059 - val_loss: 0.0059\n",
      "Epoch 13/20\n",
      "469/469 [==============================] - 2s 3ms/step - loss: 0.0058 - val_loss: 0.0059\n",
      "Epoch 14/20\n",
      "469/469 [==============================] - 2s 3ms/step - loss: 0.0057 - val_loss: 0.0058\n",
      "Epoch 15/20\n",
      "469/469 [==============================] - 1s 3ms/step - loss: 0.0056 - val_loss: 0.0057\n",
      "Epoch 16/20\n",
      "469/469 [==============================] - 1s 3ms/step - loss: 0.0056 - val_loss: 0.0057\n",
      "Epoch 17/20\n",
      "469/469 [==============================] - 1s 3ms/step - loss: 0.0055 - val_loss: 0.0056\n",
      "Epoch 18/20\n",
      "469/469 [==============================] - 1s 3ms/step - loss: 0.0055 - val_loss: 0.0056\n",
      "Epoch 19/20\n",
      "469/469 [==============================] - 1s 3ms/step - loss: 0.0055 - val_loss: 0.0056\n",
      "Epoch 20/20\n",
      "469/469 [==============================] - 1s 3ms/step - loss: 0.0054 - val_loss: 0.0055\n"
     ]
    },
    {
     "data": {
      "text/plain": [
       "<tensorflow.python.keras.callbacks.History at 0x7f34a45faad0>"
      ]
     },
     "execution_count": 78,
     "metadata": {},
     "output_type": "execute_result"
    }
   ],
   "source": [
    "autoencoder.fit(X_train_rs, X_train_rs, validation_data=(X_test_rs, X_test_rs), epochs=20, batch_size=128)"
   ]
  },
  {
   "cell_type": "markdown",
   "metadata": {},
   "source": [
    "Check out how your model worked: display some pairs of input and output images."
   ]
  },
  {
   "cell_type": "code",
   "execution_count": 79,
   "metadata": {
    "ExecuteTime": {
     "end_time": "2019-12-02T18:32:31.225415Z",
     "start_time": "2019-12-02T18:32:31.220169Z"
    }
   },
   "outputs": [],
   "source": [
    "### TODO: Display some reconstructed images\n",
    "reconstructed_imgs = autoencoder.predict(X_test_rs)"
   ]
  },
  {
   "cell_type": "code",
   "execution_count": 84,
   "metadata": {},
   "outputs": [
    {
     "data": {
      "image/png": "[encoded data removed]",
      "text/plain": [
       "<Figure size 1440x720 with 2 Axes>"
      ]
     },
     "metadata": {
      "needs_background": "light"
     },
     "output_type": "display_data"
    }
   ],
   "source": [
    "img = random.randint(0, X_test.shape[0])\n",
    "plt.figure(figsize=(20,10))\n",
    "plt.subplot(121)\n",
    "plt.imshow(X_test[img], cmap='gray')\n",
    "plt.axis('off')\n",
    "plt.title(labels_map[y_test[img]])\n",
    "plt.subplot(122)\n",
    "plt.imshow(reconstructed_imgs[img].reshape(28,28), cmap='gray')\n",
    "plt.axis('off')\n",
    "plt.title(labels_map[y_test[img]])\n",
    "plt.show()"
   ]
  },
  {
   "cell_type": "markdown",
   "metadata": {},
   "source": [
    "We have defined below a function to add noise."
   ]
  },
  {
   "cell_type": "code",
   "execution_count": 85,
   "metadata": {},
   "outputs": [],
   "source": [
    "import numpy as np\n",
    "def add_noise(X_train, noise_factor=0.35):\n",
    "\n",
    "    X_train_noisy = X_train + noise_factor * np.random.normal(loc=0.0, scale=1.0*X_train.max(), size=X_train.shape) \n",
    "    X_train_noisy = np.clip(X_train_noisy, 0., 1.)\n",
    "\n",
    "    return X_train_noisy"
   ]
  },
  {
   "cell_type": "markdown",
   "metadata": {},
   "source": [
    "Use this function to create a noisy dataset of the test images. Display some noisy images."
   ]
  },
  {
   "cell_type": "code",
   "execution_count": 86,
   "metadata": {
    "ExecuteTime": {
     "end_time": "2019-12-02T18:32:36.078771Z",
     "start_time": "2019-12-02T18:32:36.073929Z"
    }
   },
   "outputs": [],
   "source": [
    "### TODO: Create a noisy dataset\n",
    "X_train_noisy = add_noise(X_train_rs)\n",
    "X_test_noisy = add_noise(X_test_rs)"
   ]
  },
  {
   "cell_type": "code",
   "execution_count": 87,
   "metadata": {},
   "outputs": [
    {
     "data": {
      "image/png": "[encoded data removed]",
      "text/plain": [
       "<Figure size 432x288 with 1 Axes>"
      ]
     },
     "metadata": {
      "needs_background": "light"
     },
     "output_type": "display_data"
    }
   ],
   "source": [
    "img = random.randint(0, X_train_noisy.shape[0])\n",
    "plt.imshow(X_train_noisy[img].reshape(28,28), cmap='gray')\n",
    "plt.axis('off')\n",
    "plt.title(labels_map[y_train[img]])\n",
    "plt.show()"
   ]
  },
  {
   "cell_type": "markdown",
   "metadata": {},
   "source": [
    "If you used the default `noise_factor` parameter, you should barely distinguish some images by eye, but you can tune it differently if you wish to."
   ]
  },
  {
   "cell_type": "markdown",
   "metadata": {},
   "source": [
    "Now try using your trained autoencoder: use the autoencoder with the noisy images as input, and try to predict the denoised images."
   ]
  },
  {
   "cell_type": "code",
   "execution_count": 88,
   "metadata": {
    "ExecuteTime": {
     "end_time": "2019-12-02T18:32:39.415042Z",
     "start_time": "2019-12-02T18:32:39.409808Z"
    }
   },
   "outputs": [],
   "source": [
    "### TODO: Use the autoencoder to denoise images\n",
    "X_test_denoised = autoencoder.predict(X_test_noisy)"
   ]
  },
  {
   "cell_type": "markdown",
   "metadata": {},
   "source": [
    "Now display side by side a noisy image and the denoised image."
   ]
  },
  {
   "cell_type": "code",
   "execution_count": 99,
   "metadata": {
    "ExecuteTime": {
     "end_time": "2019-12-02T18:32:42.754570Z",
     "start_time": "2019-12-02T18:32:42.749794Z"
    }
   },
   "outputs": [
    {
     "data": {
      "image/png": "[encoded data removed]",
      "text/plain": [
       "<Figure size 1440x720 with 2 Axes>"
      ]
     },
     "metadata": {
      "needs_background": "light"
     },
     "output_type": "display_data"
    }
   ],
   "source": [
    "### TODO: Display side by side the noisy and denoised images\n",
    "img = random.randint(0, X_test.shape[0])\n",
    "plt.figure(figsize=(20,10))\n",
    "plt.subplot(121)\n",
    "plt.imshow(X_test_noisy[img].reshape(28,28), cmap='gray')\n",
    "plt.axis('off')\n",
    "plt.title(labels_map[y_test[img]])\n",
    "plt.subplot(122)\n",
    "plt.imshow(X_test_denoised[img].reshape(28,28), cmap='gray')\n",
    "plt.axis('off')\n",
    "plt.title(labels_map[y_test[img]])\n",
    "plt.show()"
   ]
  },
  {
   "cell_type": "markdown",
   "metadata": {},
   "source": [
    "How did that work?"
   ]
  },
  {
   "cell_type": "markdown",
   "metadata": {},
   "source": [
    "## Optional\n",
    "\n",
    "You can get better results using CNN autoencoder instead of regular autoencoder.\n",
    "\n",
    "If you have time, you can have a try. You might need to use the `UpSampling2D` layer, which is the opposite of the `MaxPooling2D` layer."
   ]
  },
  {
   "cell_type": "code",
   "execution_count": 112,
   "metadata": {
    "ExecuteTime": {
     "end_time": "2019-12-02T18:32:47.638733Z",
     "start_time": "2019-12-02T18:32:47.634410Z"
    }
   },
   "outputs": [],
   "source": [
    "### TODO: Redo the exercise with a CNN autoencoder\n",
    "from tensorflow.keras.layers import Conv2D, UpSampling2D, MaxPooling2D, Flatten, Dense\n",
    "\n",
    "\n",
    "# encode\n",
    "cnn_input = Input(shape=(28,28,1))\n",
    "cnn_encoded_input = Conv2D(filters=6, kernel_size=(5,5), padding='same', activation='relu')(cnn_input)\n",
    "cnn_encoded = MaxPooling2D(pool_size=(2,2))(cnn_encoded_input)\n",
    "\n",
    "# decode\n",
    "cnn_resizing = UpSampling2D(size=(2,2), interpolation='nearest')(cnn_encoded)\n",
    "cnn_flattening = Flatten()(cnn_resizing)\n",
    "cnn_decoded = Dense(784, activation='sigmoid')(cnn_flattening)\n",
    "\n",
    "# Define the autoencoder model\n",
    "cnn_autoencoder = Model(cnn_input, cnn_decoded)"
   ]
  },
  {
   "cell_type": "code",
   "execution_count": 113,
   "metadata": {},
   "outputs": [],
   "source": [
    "cnn_autoencoder.compile(optimizer='adam', loss='mse')"
   ]
  },
  {
   "cell_type": "code",
   "execution_count": 119,
   "metadata": {},
   "outputs": [],
   "source": [
    "X_train_cnn = X_train.reshape(X_train.shape[0], 28, 28, 1) / 255\n",
    "X_test_cnn = X_test.reshape(X_test.shape[0], 28, 28, 1) / 255"
   ]
  },
  {
   "cell_type": "code",
   "execution_count": 122,
   "metadata": {},
   "outputs": [
    {
     "name": "stdout",
     "output_type": "stream",
     "text": [
      "Epoch 1/20\n",
      "469/469 [==============================] - 21s 44ms/step - loss: 0.0187 - val_loss: 0.0098\n",
      "Epoch 2/20\n",
      "469/469 [==============================] - 21s 44ms/step - loss: 0.0082 - val_loss: 0.0072\n",
      "Epoch 3/20\n",
      "469/469 [==============================] - 21s 44ms/step - loss: 0.0064 - val_loss: 0.0061\n",
      "Epoch 4/20\n",
      "469/469 [==============================] - 21s 45ms/step - loss: 0.0056 - val_loss: 0.0054\n",
      "Epoch 5/20\n",
      "469/469 [==============================] - 21s 45ms/step - loss: 0.0051 - val_loss: 0.0051\n",
      "Epoch 6/20\n",
      "469/469 [==============================] - 21s 45ms/step - loss: 0.0048 - val_loss: 0.0050\n",
      "Epoch 7/20\n",
      "469/469 [==============================] - 21s 45ms/step - loss: 0.0046 - val_loss: 0.0046\n",
      "Epoch 8/20\n",
      "469/469 [==============================] - 21s 46ms/step - loss: 0.0044 - val_loss: 0.0044\n",
      "Epoch 9/20\n",
      "469/469 [==============================] - 21s 45ms/step - loss: 0.0042 - val_loss: 0.0043\n",
      "Epoch 10/20\n",
      "469/469 [==============================] - 21s 45ms/step - loss: 0.0041 - val_loss: 0.0042\n",
      "Epoch 11/20\n",
      "469/469 [==============================] - 21s 46ms/step - loss: 0.0040 - val_loss: 0.0042\n",
      "Epoch 12/20\n",
      "469/469 [==============================] - 21s 46ms/step - loss: 0.0039 - val_loss: 0.0041\n",
      "Epoch 13/20\n",
      "469/469 [==============================] - 21s 45ms/step - loss: 0.0038 - val_loss: 0.0040\n",
      "Epoch 14/20\n",
      "469/469 [==============================] - 22s 46ms/step - loss: 0.0037 - val_loss: 0.0039\n",
      "Epoch 15/20\n",
      "469/469 [==============================] - 21s 46ms/step - loss: 0.0037 - val_loss: 0.0039\n",
      "Epoch 16/20\n",
      "469/469 [==============================] - 22s 46ms/step - loss: 0.0036 - val_loss: 0.0037\n",
      "Epoch 17/20\n",
      "469/469 [==============================] - 22s 46ms/step - loss: 0.0035 - val_loss: 0.0037\n",
      "Epoch 18/20\n",
      "469/469 [==============================] - 22s 46ms/step - loss: 0.0035 - val_loss: 0.0037\n",
      "Epoch 19/20\n",
      "469/469 [==============================] - 21s 46ms/step - loss: 0.0035 - val_loss: 0.0036\n",
      "Epoch 20/20\n",
      "469/469 [==============================] - 22s 46ms/step - loss: 0.0034 - val_loss: 0.0036\n"
     ]
    },
    {
     "data": {
      "text/plain": [
       "<tensorflow.python.keras.callbacks.History at 0x7f3498c566d0>"
      ]
     },
     "execution_count": 122,
     "metadata": {},
     "output_type": "execute_result"
    }
   ],
   "source": [
    "cnn_autoencoder.fit(X_train_cnn, X_train_cnn.reshape(X_train_cnn.shape[0], -1), validation_data=(X_test_cnn, X_test_cnn.reshape(X_test_cnn.shape[0], -1)), epochs=20, batch_size=128)"
   ]
  },
  {
   "cell_type": "code",
   "execution_count": 123,
   "metadata": {},
   "outputs": [],
   "source": [
    "X_train_cnn_noisy = add_noise(X_train_cnn)\n",
    "X_test_cnn_noisy = add_noise(X_test_cnn)"
   ]
  },
  {
   "cell_type": "code",
   "execution_count": 124,
   "metadata": {},
   "outputs": [],
   "source": [
    "X_test_cnn_denoised = cnn_autoencoder.predict(X_test_cnn_noisy)"
   ]
  },
  {
   "cell_type": "code",
   "execution_count": 134,
   "metadata": {},
   "outputs": [
    {
     "data": {
      "image/png": "[encoded data removed]",
      "text/plain": [
       "<Figure size 1440x720 with 2 Axes>"
      ]
     },
     "metadata": {
      "needs_background": "light"
     },
     "output_type": "display_data"
    }
   ],
   "source": [
    "### TODO: Display side by side the noisy and denoised images\n",
    "img = random.randint(0, X_test_cnn.shape[0])\n",
    "plt.figure(figsize=(20,10))\n",
    "plt.subplot(121)\n",
    "plt.imshow(X_test_cnn_noisy[img].reshape(28,28), cmap='gray')\n",
    "plt.axis('off')\n",
    "plt.title(labels_map[y_test[img]])\n",
    "plt.subplot(122)\n",
    "plt.imshow(X_test_cnn_denoised[img].reshape(28,28), cmap='gray')\n",
    "plt.axis('off')\n",
    "plt.title(labels_map[y_test[img]])\n",
    "plt.show()"
   ]
  }
 ],
 "metadata": {
  "kernelspec": {
   "display_name": "Python 3",
   "language": "python",
   "name": "python3"
  },
  "language_info": {
   "codemirror_mode": {
    "name": "ipython",
    "version": 3
   },
   "file_extension": ".py",
   "mimetype": "text/x-python",
   "name": "python",
   "nbconvert_exporter": "python",
   "pygments_lexer": "ipython3",
   "version": "3.7.6"
  },
  "toc": {
   "base_numbering": 1,
   "nav_menu": {},
   "number_sections": true,
   "sideBar": true,
   "skip_h1_title": false,
   "title_cell": "Table of Contents",
   "title_sidebar": "Contents",
   "toc_cell": false,
   "toc_position": {},
   "toc_section_display": true,
   "toc_window_display": false
  },
  "varInspector": {
   "cols": {
    "lenName": 16,
    "lenType": 16,
    "lenVar": 40
   },
   "kernels_config": {
    "python": {
     "delete_cmd_postfix": "",
     "delete_cmd_prefix": "del ",
     "library": "var_list.py",
     "varRefreshCmd": "print(var_dic_list())"
    },
    "r": {
     "delete_cmd_postfix": ") ",
     "delete_cmd_prefix": "rm(",
     "library": "var_list.r",
     "varRefreshCmd": "cat(var_dic_list()) "
    }
   },
   "types_to_exclude": [
    "module",
    "function",
    "builtin_function_or_method",
    "instance",
    "_Feature"
   ],
   "window_display": false
  }
 },
 "nbformat": 4,
 "nbformat_minor": 2
}
