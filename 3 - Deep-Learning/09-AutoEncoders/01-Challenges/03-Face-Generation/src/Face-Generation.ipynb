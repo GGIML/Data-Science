{
 "cells": [
  {
   "cell_type": "markdown",
   "metadata": {},
   "source": [
    "# Face Generation\n",
    "\n",
    "![](https://images.unsplash.com/photo-1499824643098-62967ac87503?ixlib=rb-1.2.1&ixid=eyJhcHBfaWQiOjEyMDd9&auto=format&fit=crop&w=1047&q=80)\n",
    "\n",
    "Picture by [Kevin Bluer](https://unsplash.com/photos/e6XqFP4kCxM)"
   ]
  },
  {
   "cell_type": "markdown",
   "metadata": {},
   "source": [
    "In this exercise, you will basically redo what was done in the lectures, with faces. We will use the olivetti faces dataset.\n",
    "\n",
    "So the first thing to is to load the dataset, using `fetch_olivetti_faces` of scikit-learn."
   ]
  },
  {
   "cell_type": "code",
   "execution_count": 20,
   "metadata": {},
   "outputs": [],
   "source": [
    "import matplotlib.pyplot as plt\n",
    "import numpy as np\n",
    "import random"
   ]
  },
  {
   "cell_type": "code",
   "execution_count": 136,
   "metadata": {},
   "outputs": [
    {
     "data": {
      "text/plain": [
       "'2.3.0'"
      ]
     },
     "execution_count": 136,
     "metadata": {},
     "output_type": "execute_result"
    }
   ],
   "source": [
    "tf.__version__"
   ]
  },
  {
   "cell_type": "code",
   "execution_count": 3,
   "metadata": {
    "ExecuteTime": {
     "end_time": "2019-12-02T18:30:43.159129Z",
     "start_time": "2019-12-02T18:30:43.153429Z"
    }
   },
   "outputs": [],
   "source": [
    "### TODO: load the dataset\n",
    "from sklearn.datasets import fetch_olivetti_faces\n",
    "\n",
    "faces, labels = fetch_olivetti_faces(return_X_y=True)"
   ]
  },
  {
   "cell_type": "markdown",
   "metadata": {},
   "source": [
    "You already know it, but feel free to display some faces, and get familiar with the dimensions."
   ]
  },
  {
   "cell_type": "code",
   "execution_count": 7,
   "metadata": {},
   "outputs": [
    {
     "data": {
      "text/plain": [
       "(400, 4096)"
      ]
     },
     "execution_count": 7,
     "metadata": {},
     "output_type": "execute_result"
    }
   ],
   "source": [
    "faces.shape"
   ]
  },
  {
   "cell_type": "code",
   "execution_count": 34,
   "metadata": {},
   "outputs": [
    {
     "data": {
      "text/plain": [
       "40"
      ]
     },
     "execution_count": 34,
     "metadata": {},
     "output_type": "execute_result"
    }
   ],
   "source": [
    "len(set(labels))"
   ]
  },
  {
   "cell_type": "code",
   "execution_count": 32,
   "metadata": {
    "ExecuteTime": {
     "end_time": "2019-12-02T18:30:45.779539Z",
     "start_time": "2019-12-02T18:30:45.774472Z"
    }
   },
   "outputs": [
    {
     "data": {
      "image/png": "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\n",
      "text/plain": [
       "<Figure size 432x288 with 1 Axes>"
      ]
     },
     "metadata": {
      "needs_background": "light"
     },
     "output_type": "display_data"
    }
   ],
   "source": [
    "### TODO: Display some images and get the shapes\n",
    "rand_img = random.choice(np.arange(400))\n",
    "plt.imshow(faces[rand_img].reshape(64,64), cmap='gray')\n",
    "plt.axis('off')\n",
    "plt.show()"
   ]
  },
  {
   "cell_type": "markdown",
   "metadata": {},
   "source": [
    "We will now create a CVAE, that will allow us to generate new faces.\n",
    "\n",
    "Reminder, a CVAE architecture looks like this:\n",
    "\n",
    "<p align=\"center\">\n",
    "<img src=\"https://drive.google.com/uc?export=view&id=1zUwFVcL0MrrpaQv2oND9yMxj6FwfW7xI\">\n",
    "</p>\n",
    "\n",
    "\n",
    "Except that here it won't be digits, but faces of people.\n",
    "\n",
    "Let's define the encoder & decoder parts now."
   ]
  },
  {
   "cell_type": "code",
<<<<<<< HEAD:curriculum/08-Deep-Learning/09-AutoEncoders/01-Challenges/01-Face-Generation/src/Face-Generation.ipynb
   "execution_count": 36,
   "metadata": {},
   "outputs": [],
   "source": [
    "faces_rs = faces / 255"
   ]
  },
  {
   "cell_type": "code",
   "execution_count": 37,
   "metadata": {},
   "outputs": [],
   "source": [
    "from tensorflow.keras.utils import to_categorical\n",
    "labels_cat = to_categorical(labels)"
   ]
  },
  {
   "cell_type": "code",
   "execution_count": 42,
   "metadata": {},
   "outputs": [],
   "source": [
    "import tensorflow as tf"
   ]
  },
  {
   "cell_type": "code",
   "execution_count": 208,
=======
   "execution_count": null,
>>>>>>> c264cc13d06fed1da66ecf47774466ccfe25e131:curriculum/08-Deep-Learning/09-AutoEncoders/01-Challenges/03-Face-Generation/src/Face-Generation.ipynb
   "metadata": {},
   "outputs": [],
   "source": [
    "from tensorflow.keras import layers\n",
    "\n",
<<<<<<< HEAD:curriculum/08-Deep-Learning/09-AutoEncoders/01-Challenges/01-Face-Generation/src/Face-Generation.ipynb
    "    z_mean, z_log_var = args\n",
    "    batch = tf.keras.backend.shape(z_mean)[0]\n",
    "    dim = tf.keras.backend.int_shape(z_mean)[1]\n",
    "    # by default, random_normal has mean = 0 and std = 1.0\n",
    "    epsilon = tf.keras.backend.random_normal(shape=(batch, dim))\n",
    "    return z_mean + tf.keras.backend.exp(0.5 * z_log_var) * epsilon"
=======
    "class Sampling(layers.Layer):\n",
    "    \"\"\"Uses (z_mean, z_log_var) to sample z, the vector encoding a digit.\"\"\"\n",
    "\n",
    "    def call(self, inputs):\n",
    "        z_mean, z_log_var = inputs\n",
    "        batch = tf.shape(z_mean)[0]\n",
    "        dim = tf.shape(z_mean)[1]\n",
    "        epsilon = tf.keras.backend.random_normal(shape=(batch, dim))\n",
    "        return z_mean + tf.exp(0.5 * z_log_var) * epsilon"
>>>>>>> c264cc13d06fed1da66ecf47774466ccfe25e131:curriculum/08-Deep-Learning/09-AutoEncoders/01-Challenges/03-Face-Generation/src/Face-Generation.ipynb
   ]
  },
  {
   "cell_type": "code",
   "execution_count": 285,
   "metadata": {
    "ExecuteTime": {
     "end_time": "2019-12-02T18:31:00.064816Z",
     "start_time": "2019-12-02T18:31:00.061277Z"
    }
   },
   "outputs": [],
   "source": [
<<<<<<< HEAD:curriculum/08-Deep-Learning/09-AutoEncoders/01-Challenges/01-Face-Generation/src/Face-Generation.ipynb
    "### TODO: Build the CVAE model\n",
    "from tensorflow.keras.layers import Input, Dense, Concatenate, Lambda\n",
    "from tensorflow.keras.models import Model\n",
    "\n",
    "n_classes = len(set(labels)) #40 classes, one per person\n",
    "\n",
    "input_dim = 4096\n",
    "intermediate_dim = 1024\n",
    "latent_dim = 2\n",
    "\n",
    "# Define the encoder part\n",
    "x = Input(shape=(input_dim,))\n",
    "h = Dense(intermediate_dim, activation='relu')(x)\n",
    "z_mean = Dense(latent_dim)(h)\n",
    "z_log_var = Dense(latent_dim)(h)\n",
    "\n",
    "# Define z\n",
    "z = Lambda(sampling, output_shape=(latent_dim,), name='z')([z_mean, z_log_var])\n",
    "\n",
    "# Here is the only difference: merge latent space with labels\n",
    "label = Input(shape=(n_classes,))\n",
    "zc = Concatenate(axis=1)([z, label])\n",
    "\n",
    "# Define the decoder part\n",
    "decoder_h = Dense(intermediate_dim, activation='relu')\n",
    "decoder_mean = Dense(input_dim, activation='sigmoid')\n",
    "h_decoded = decoder_h(zc)\n",
    "x_decoded_mean = decoder_mean(h_decoded)\n",
    "\n",
    "# end-to-end autoencoder\n",
    "cvae = Model([x, label], x_decoded_mean)\n",
    "\n",
    "# encoder, from inputs to latent space\n",
    "encoder = Model([x, label], z_mean)"
=======
    "### TODO: Build the encoder and decoder parts"
>>>>>>> c264cc13d06fed1da66ecf47774466ccfe25e131:curriculum/08-Deep-Learning/09-AutoEncoders/01-Challenges/03-Face-Generation/src/Face-Generation.ipynb
   ]
  },
  {
   "cell_type": "markdown",
   "metadata": {},
   "source": [
    "Once you have built your model, compile it and train it on the data!\n",
    "\n",
    "Do not forget to one-hot-encode your target."
   ]
  },
  {
   "cell_type": "code",
   "execution_count": null,
   "metadata": {},
   "outputs": [],
   "source": [
    "# The following code will help you create the VAE. \n",
    "# You can use it like any other Keras model\n",
    "# You just need to instanciate it with your previously defined encoder & decoder\n",
    "\n",
    "class VAE(keras.Model):\n",
    "    def __init__(self, encoder, decoder, **kwargs):\n",
    "        super(VAE, self).__init__(**kwargs)\n",
    "        self.encoder = encoder\n",
    "        self.decoder = decoder\n",
    "\n",
    "    def train_step(self, data):\n",
    "        # if isinstance(data, tuple):\n",
    "        #     data = data\n",
    "        with tf.GradientTape() as tape:\n",
    "            z_mean, z_log_var, z = encoder(data)\n",
    "            reconstruction = decoder(z)\n",
    "            reconstruction_loss = tf.reduce_mean(\n",
    "                keras.losses.binary_crossentropy(data[0][0], reconstruction)\n",
    "            )\n",
    "            \n",
    "            reconstruction_loss *= 64 * 64\n",
    "            kl_loss = 1 + z_log_var - tf.square(z_mean) - tf.exp(z_log_var)\n",
    "            kl_loss = tf.reduce_mean(kl_loss)\n",
    "            kl_loss *= -0.5\n",
    "            total_loss = reconstruction_loss + kl_loss\n",
    "            \n",
    "        grads = tape.gradient(total_loss, self.trainable_weights)\n",
    "\n",
    "        self.optimizer.apply_gradients(zip(grads, self.trainable_weights))\n",
    "\n",
    "        return {\n",
    "            \"loss\": total_loss,\n",
    "            \"reconstruction_loss\": reconstruction_loss,\n",
    "            \"kl_loss\": kl_loss,\n",
    "        }"
   ]
  },
  {
   "cell_type": "code",
   "execution_count": 286,
   "metadata": {},
   "outputs": [],
   "source": [
    "def vae_loss(x, x_decoded_mean):\n",
    "    classic_loss = mean_squared_error(x, x_decoded_mean)*input_dim\n",
    "    kl_loss = 1 + z_log_var - tf.square(z_mean) - tf.exp(z_log_var)\n",
    "    kl_loss = -0.5*tf.reduce_sum(kl_loss, axis=-1)\n",
    "    vae_loss = tf.reduce_mean(classic_loss + kl_loss)    \n",
    "    return vae_loss"
   ]
  },
  {
   "cell_type": "code",
   "execution_count": 287,
   "metadata": {},
   "outputs": [],
   "source": [
    "from sklearn.model_selection import train_test_split\n",
    "X_train, X_val, y_train, y_val = train_test_split(faces, labels_cat, test_size=.2, stratify=labels, random_state=42)"
   ]
  },
  {
   "cell_type": "code",
   "execution_count": 288,
   "metadata": {
    "ExecuteTime": {
     "end_time": "2019-12-02T18:31:04.228298Z",
     "start_time": "2019-12-02T18:31:04.223392Z"
    }
   },
   "outputs": [],
   "source": [
<<<<<<< HEAD:curriculum/08-Deep-Learning/09-AutoEncoders/01-Challenges/01-Face-Generation/src/Face-Generation.ipynb
    "### TODO: Compile and train your model\n",
    "cvae.compile(optimizer='adam', loss='mse')"
   ]
  },
  {
   "cell_type": "code",
   "execution_count": 289,
   "metadata": {},
   "outputs": [
    {
     "name": "stdout",
     "output_type": "stream",
     "text": [
      "Model: \"functional_89\"\n",
      "__________________________________________________________________________________________________\n",
      "Layer (type)                    Output Shape         Param #     Connected to                     \n",
      "==================================================================================================\n",
      "input_49 (InputLayer)           [(None, 4096)]       0                                            \n",
      "__________________________________________________________________________________________________\n",
      "dense_74 (Dense)                (None, 1024)         4195328     input_49[0][0]                   \n",
      "__________________________________________________________________________________________________\n",
      "dense_75 (Dense)                (None, 2)            2050        dense_74[0][0]                   \n",
      "__________________________________________________________________________________________________\n",
      "dense_76 (Dense)                (None, 2)            2050        dense_74[0][0]                   \n",
      "__________________________________________________________________________________________________\n",
      "z (Lambda)                      (None, 2)            0           dense_75[0][0]                   \n",
      "                                                                 dense_76[0][0]                   \n",
      "__________________________________________________________________________________________________\n",
      "input_50 (InputLayer)           [(None, 40)]         0                                            \n",
      "__________________________________________________________________________________________________\n",
      "concatenate_13 (Concatenate)    (None, 42)           0           z[0][0]                          \n",
      "                                                                 input_50[0][0]                   \n",
      "__________________________________________________________________________________________________\n",
      "dense_77 (Dense)                (None, 1024)         44032       concatenate_13[0][0]             \n",
      "__________________________________________________________________________________________________\n",
      "dense_78 (Dense)                (None, 4096)         4198400     dense_77[0][0]                   \n",
      "==================================================================================================\n",
      "Total params: 8,441,860\n",
      "Trainable params: 8,441,860\n",
      "Non-trainable params: 0\n",
      "__________________________________________________________________________________________________\n"
     ]
    }
   ],
   "source": [
    "cvae.summary()"
   ]
  },
  {
   "cell_type": "code",
   "execution_count": 290,
   "metadata": {
    "ExecuteTime": {
     "end_time": "2019-12-02T18:31:32.881995Z",
     "start_time": "2019-12-02T18:31:32.877235Z"
    }
   },
   "outputs": [],
   "source": [
    "### TODO: Generate and display faces\n",
    "decoder_input = Input(shape=(latent_dim+n_classes,))\n",
    "_h_decoded = decoder_h(decoder_input)\n",
    "_x_decoded_mean = decoder_mean(_h_decoded)\n",
    "generator = Model(decoder_input, _x_decoded_mean)"
   ]
  },
  {
   "cell_type": "code",
   "execution_count": 303,
   "metadata": {},
   "outputs": [
    {
     "name": "stdout",
     "output_type": "stream",
     "text": [
      "Epoch 1/20\n",
      "10/10 [==============================] - 0s 43ms/step - loss: 0.0043\n",
      "Epoch 2/20\n",
      "10/10 [==============================] - 0s 47ms/step - loss: 0.0043\n",
      "Epoch 3/20\n",
      "10/10 [==============================] - 0s 46ms/step - loss: 0.0042\n",
      "Epoch 4/20\n",
      "10/10 [==============================] - 0s 47ms/step - loss: 0.0042\n",
      "Epoch 5/20\n",
      "10/10 [==============================] - 0s 46ms/step - loss: 0.0042\n",
      "Epoch 6/20\n",
      "10/10 [==============================] - 0s 45ms/step - loss: 0.0042\n",
      "Epoch 7/20\n",
      "10/10 [==============================] - 0s 45ms/step - loss: 0.0041\n",
      "Epoch 8/20\n",
      "10/10 [==============================] - 0s 46ms/step - loss: 0.0041\n",
      "Epoch 9/20\n",
      "10/10 [==============================] - 0s 46ms/step - loss: 0.0041\n",
      "Epoch 10/20\n",
      "10/10 [==============================] - 1s 53ms/step - loss: 0.0041\n",
      "Epoch 11/20\n",
      "10/10 [==============================] - 0s 47ms/step - loss: 0.0041\n",
      "Epoch 12/20\n",
      "10/10 [==============================] - 0s 46ms/step - loss: 0.0041\n",
      "Epoch 13/20\n",
      "10/10 [==============================] - 0s 44ms/step - loss: 0.0041\n",
      "Epoch 14/20\n",
      "10/10 [==============================] - 0s 47ms/step - loss: 0.0040\n",
      "Epoch 15/20\n",
      "10/10 [==============================] - 1s 51ms/step - loss: 0.0040\n",
      "Epoch 16/20\n",
      "10/10 [==============================] - 0s 49ms/step - loss: 0.0040\n",
      "Epoch 17/20\n",
      "10/10 [==============================] - 0s 46ms/step - loss: 0.0040\n",
      "Epoch 18/20\n",
      "10/10 [==============================] - 1s 53ms/step - loss: 0.0040\n",
      "Epoch 19/20\n",
      "10/10 [==============================] - 1s 54ms/step - loss: 0.0040\n",
      "Epoch 20/20\n",
      "10/10 [==============================] - 0s 48ms/step - loss: 0.0039\n"
     ]
    },
    {
     "data": {
      "text/plain": [
       "<tensorflow.python.keras.callbacks.History at 0x7f7f936520d0>"
      ]
     },
     "execution_count": 303,
     "metadata": {},
     "output_type": "execute_result"
    }
   ],
   "source": [
    "cvae.fit([X_train, y_train], X_train, epochs=20)"
=======
    "### TODO: Instanciate, compile, and train your model"
>>>>>>> c264cc13d06fed1da66ecf47774466ccfe25e131:curriculum/08-Deep-Learning/09-AutoEncoders/01-Challenges/03-Face-Generation/src/Face-Generation.ipynb
   ]
  },
  {
   "cell_type": "markdown",
   "metadata": {},
   "source": [
    "Now, using the encoder part only, have a look at the latent space: display the values of the latent variables in a scatter plot."
   ]
  },
  {
   "cell_type": "code",
   "execution_count": 304,
   "metadata": {
    "ExecuteTime": {
     "end_time": "2019-12-02T18:31:27.898058Z",
     "start_time": "2019-12-02T18:31:27.893002Z"
    }
   },
   "outputs": [],
   "source": [
    "### TODO: Display the latent variables using the encoder side\n"
   ]
  },
  {
   "cell_type": "markdown",
   "metadata": {},
   "source": [
    "What is the range that the latent variables can take? (i.e. what are the minimum and maximum values?)\n",
    "\n",
    "Use that range to generate new faces of a person now."
   ]
  },
  {
   "cell_type": "code",
   "execution_count": 308,
   "metadata": {},
   "outputs": [],
   "source": [
    "# Choose the digit to generate\n",
    "face_to_generate = 30\n",
    "\n",
    "# Convert it to categorical\n",
    "val = to_categorical(face_to_generate, num_classes=n_classes)\n",
    "\n",
    "# Create the input vector (latent value and digit class)\n",
    "input_vector = np.zeros((1, latent_dim + n_classes))\n",
    "input_vector[0,latent_dim:] = val\n",
    "\n",
    "# Generate the output\n",
    "generated_x = generator.predict(input_vector)"
   ]
  },
  {
   "cell_type": "code",
   "execution_count": 309,
   "metadata": {},
   "outputs": [
    {
     "data": {
      "text/plain": [
       "<matplotlib.image.AxesImage at 0x7f7f98436310>"
      ]
     },
     "execution_count": 309,
     "metadata": {},
     "output_type": "execute_result"
    },
    {
     "data": {
      "image/png": "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\n",
      "text/plain": [
       "<Figure size 432x288 with 1 Axes>"
      ]
     },
     "metadata": {
      "needs_background": "light"
     },
     "output_type": "display_data"
    }
   ],
   "source": [
    "plt.imshow(generated_x.reshape(64,64), cmap='gray')"
   ]
  },
  {
   "cell_type": "code",
   "execution_count": 310,
   "metadata": {},
   "outputs": [
    {
     "data": {
      "text/plain": [
       "<matplotlib.image.AxesImage at 0x7f7f980bda10>"
      ]
     },
     "execution_count": 310,
     "metadata": {},
     "output_type": "execute_result"
    },
    {
     "data": {
      "image/png": "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\n",
      "text/plain": [
       "<Figure size 432x288 with 1 Axes>"
      ]
     },
     "metadata": {
      "needs_background": "light"
     },
     "output_type": "display_data"
    }
   ],
   "source": [
    "plt.imshow(faces[labels==30][0].reshape(64,64))"
   ]
  },
  {
   "cell_type": "markdown",
   "metadata": {},
   "source": [
    "How do you interpret the latent variables in that case?"
   ]
  }
 ],
 "metadata": {
  "kernelspec": {
   "display_name": "Python 3",
   "language": "python",
   "name": "python3"
  },
  "language_info": {
   "codemirror_mode": {
    "name": "ipython",
    "version": 3
   },
   "file_extension": ".py",
   "mimetype": "text/x-python",
   "name": "python",
   "nbconvert_exporter": "python",
   "pygments_lexer": "ipython3",
   "version": "3.7.6"
  },
  "toc": {
   "base_numbering": 1,
   "nav_menu": {},
   "number_sections": true,
   "sideBar": true,
   "skip_h1_title": false,
   "title_cell": "Table of Contents",
   "title_sidebar": "Contents",
   "toc_cell": false,
   "toc_position": {},
   "toc_section_display": true,
   "toc_window_display": false
  },
  "varInspector": {
   "cols": {
    "lenName": 16,
    "lenType": 16,
    "lenVar": 40
   },
   "kernels_config": {
    "python": {
     "delete_cmd_postfix": "",
     "delete_cmd_prefix": "del ",
     "library": "var_list.py",
     "varRefreshCmd": "print(var_dic_list())"
    },
    "r": {
     "delete_cmd_postfix": ") ",
     "delete_cmd_prefix": "rm(",
     "library": "var_list.r",
     "varRefreshCmd": "cat(var_dic_list()) "
    }
   },
   "types_to_exclude": [
    "module",
    "function",
    "builtin_function_or_method",
    "instance",
    "_Feature"
   ],
   "window_display": false
  }
 },
 "nbformat": 4,
 "nbformat_minor": 2
}
