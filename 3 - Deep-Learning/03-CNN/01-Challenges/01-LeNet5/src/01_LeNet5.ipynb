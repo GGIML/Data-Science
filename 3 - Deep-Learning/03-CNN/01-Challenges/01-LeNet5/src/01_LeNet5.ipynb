{
  "nbformat": 4,
  "nbformat_minor": 0,
  "metadata": {
    "kernelspec": {
      "display_name": "Python 3",
      "language": "python",
      "name": "python3"
    },
    "language_info": {
      "codemirror_mode": {
        "name": "ipython",
        "version": 3
      },
      "file_extension": ".py",
      "mimetype": "text/x-python",
      "name": "python",
      "nbconvert_exporter": "python",
      "pygments_lexer": "ipython3",
      "version": "3.7.6"
    },
    "toc": {
      "base_numbering": 1,
      "nav_menu": {},
      "number_sections": true,
      "sideBar": true,
      "skip_h1_title": false,
      "title_cell": "Table of Contents",
      "title_sidebar": "Contents",
      "toc_cell": false,
      "toc_position": {},
      "toc_section_display": true,
      "toc_window_display": false
    },
    "varInspector": {
      "cols": {
        "lenName": 16,
        "lenType": 16,
        "lenVar": 40
      },
      "kernels_config": {
        "python": {
          "delete_cmd_postfix": "",
          "delete_cmd_prefix": "del ",
          "library": "var_list.py",
          "varRefreshCmd": "print(var_dic_list())"
        },
        "r": {
          "delete_cmd_postfix": ") ",
          "delete_cmd_prefix": "rm(",
          "library": "var_list.r",
          "varRefreshCmd": "cat(var_dic_list()) "
        }
      },
      "types_to_exclude": [
        "module",
        "function",
        "builtin_function_or_method",
        "instance",
        "_Feature"
      ],
      "window_display": false
    },
    "colab": {
      "name": "01-LeNet5.ipynb",
      "provenance": [],
      "collapsed_sections": []
    },
    "accelerator": "GPU"
  },
  "cells": [
    {
      "cell_type": "markdown",
      "metadata": {
        "id": "usItNF3Zv0z2",
        "colab_type": "text"
      },
      "source": [
        "# 01-LeNet5"
      ]
    },
    {
      "cell_type": "markdown",
      "metadata": {
        "id": "qO0XbrAzv0z6",
        "colab_type": "text"
      },
      "source": [
        "![](https://images.unsplash.com/photo-1495592528496-a143a67931d6?ixlib=rb-1.2.1&ixid=eyJhcHBfaWQiOjEyMDd9&auto=format&fit=crop&w=1050&q=80)\n",
        "\n",
        "Photo by [Pietro Jeng](https://unsplash.com/photos/sQVXS8HBPPc)"
      ]
    },
    {
      "cell_type": "markdown",
      "metadata": {
        "id": "Oe5cX8sgv0z_",
        "colab_type": "text"
      },
      "source": [
        "In this exercise, we will apply the LeNet5 algorithm to the Fashion MNIST dataset and improve your performances."
      ]
    },
    {
      "cell_type": "markdown",
      "metadata": {
        "id": "Ond3SAKKv00C",
        "colab_type": "text"
      },
      "source": [
        "We will first download the data:"
      ]
    },
    {
      "cell_type": "code",
      "metadata": {
        "id": "6zC1AOd2xBYC",
        "colab_type": "code",
        "colab": {}
      },
      "source": [
        "import tensorflow as tf\n",
        "import pandas as pd\n",
        "import numpy as np\n",
        "import matplotlib.pyplot as plt\n",
        "from tensorflow.keras.datasets import fashion_mnist"
      ],
      "execution_count": 15,
      "outputs": []
    },
    {
      "cell_type": "code",
      "metadata": {
        "scrolled": true,
        "id": "LJAkulK8v00F",
        "colab_type": "code",
        "colab": {}
      },
      "source": [
        "# Download the dataset\n",
        "(X_train, y_train), (X_test, y_test) = fashion_mnist.load_data()"
      ],
      "execution_count": 16,
      "outputs": []
    },
    {
      "cell_type": "markdown",
      "metadata": {
        "id": "zQFvQB11v00c",
        "colab_type": "text"
      },
      "source": [
        "As you already know, this dataset contains 10 classes:\n",
        "* 0:\tT-shirt/top\n",
        "* 1:\tTrouser\n",
        "* 2:\tPullover\n",
        "* 3:\tDress\n",
        "* 4:\tCoat\n",
        "* 5:\tSandal\n",
        "* 6:\tShirt\n",
        "* 7:\tSneaker\n",
        "* 8:\tBag\n",
        "* 9:\tAnkle boot"
      ]
    },
    {
      "cell_type": "markdown",
      "metadata": {
        "id": "pziM46rdv00f",
        "colab_type": "text"
      },
      "source": [
        "You can have a look at some images if needed, even if you already know them."
      ]
    },
    {
      "cell_type": "code",
      "metadata": {
        "scrolled": true,
        "id": "lA3cgqOOv00h",
        "colab_type": "code",
        "colab": {
          "base_uri": "https://localhost:8080/",
          "height": 34
        },
        "outputId": "c41c2e69-1862-479c-b09b-08cc951cf9c0"
      },
      "source": [
        "# TODO: Explore the data, display some input images\n",
        "X_train.shape"
      ],
      "execution_count": 17,
      "outputs": [
        {
          "output_type": "execute_result",
          "data": {
            "text/plain": [
              "(60000, 28, 28)"
            ]
          },
          "metadata": {
            "tags": []
          },
          "execution_count": 17
        }
      ]
    },
    {
      "cell_type": "code",
      "metadata": {
        "id": "ROvzKXlHxTf7",
        "colab_type": "code",
        "colab": {}
      },
      "source": [
        "labels_map = {\n",
        "    0: 'T-shirt/top',\n",
        "    1: 'Trouser',\n",
        "    2: 'Pullover',\n",
        "    3: 'Dress',\n",
        "    4: 'Coat',\n",
        "    5: 'Sandal',\n",
        "    6: 'Shirt',\n",
        "    7: 'Sneaker',\n",
        "    8: 'Bag',\n",
        "    9: 'Ankle boot'\n",
        "}"
      ],
      "execution_count": 18,
      "outputs": []
    },
    {
      "cell_type": "code",
      "metadata": {
        "id": "djwK67W-xTVu",
        "colab_type": "code",
        "colab": {
          "base_uri": "https://localhost:8080/",
          "height": 293
        },
        "outputId": "aaced3a1-d455-4436-a607-566cf45806f6"
      },
      "source": [
        "size = 4\n",
        "sample_graph = np.random.randint(0,60000, size)\n",
        "\n",
        "sample_images = X_train[sample_graph]\n",
        "sample_labels = y_train[sample_graph]\n",
        "\n",
        "plt.figure(figsize = (20,10))\n",
        "\n",
        "ax =[]\n",
        "\n",
        "for i in range(1,size+1):\n",
        "    ax.append(plt.subplot(size // 4 + 1,4,i))\n",
        "    plt.imshow(sample_images[i-1].reshape((28,28)), cmap='gray_r')\n",
        "    ax[i-1].title.set_text(labels_map[sample_labels[i-1]])\n",
        "    ax[i-1].set_xticks([])\n",
        "    ax[i-1].set_yticks([])\n",
        "\n",
        "plt.show()"
      ],
      "execution_count": 19,
      "outputs": [
        {
          "output_type": "display_data",
          "data": {
            "image/png": "[encoded data removed]",
            "text/plain": [
              "<Figure size 1440x720 with 4 Axes>"
            ]
          },
          "metadata": {
            "tags": []
          }
        }
      ]
    },
    {
      "cell_type": "markdown",
      "metadata": {
        "id": "tNrbhD41v00t",
        "colab_type": "text"
      },
      "source": [
        "Make the data preparation and preprocessing: scale and reshape the data, put the labels to the good shape."
      ]
    },
    {
      "cell_type": "code",
      "metadata": {
        "id": "NMlzQr41v000",
        "colab_type": "code",
        "colab": {}
      },
      "source": [
        "# TODO: Make the data preparation\n",
        "X_train = X_train.reshape(X_train.shape[0], 28, 28, 1) / 255\n",
        "X_test = X_test.reshape(X_test.shape[0], 28, 28, 1) / 255"
      ],
      "execution_count": 20,
      "outputs": []
    },
    {
      "cell_type": "markdown",
      "metadata": {
        "id": "tAtMsIc2v01C",
        "colab_type": "text"
      },
      "source": [
        "Now build the LeNet5 architecture. You can reuse the one of the course, or try to build it by yourself.\n",
        "\n",
        "The architecture is the following:\n",
        "\n",
        "<p align=\"center\">\n",
        "<img src=\"https://drive.google.com/uc?export=view&id=1WteTU2FPIVMkBKmMxGpFm5OjsX-szTbB\">\n",
        "</p>"
      ]
    },
    {
      "cell_type": "code",
      "metadata": {
        "id": "pn_AVqzg2YJI",
        "colab_type": "code",
        "colab": {}
      },
      "source": [
        "y_train = tf.keras.utils.to_categorical(y_train, num_classes=10)\n",
        "y_test = tf.keras.utils.to_categorical(y_test, num_classes=10)"
      ],
      "execution_count": 21,
      "outputs": []
    },
    {
      "cell_type": "code",
      "metadata": {
        "id": "fEFhMQAxv01E",
        "colab_type": "code",
        "colab": {}
      },
      "source": [
        "# TODO: Build your model\n",
        "from tensorflow.keras.layers import Dense, Conv2D, MaxPooling2D, Flatten, Dropout\n",
        "from tensorflow.keras.models import Sequential\n",
        "from tensorflow.keras.regularizers import l2\n",
        "from tensorflow.keras.callbacks import EarlyStopping\n",
        "from tensorflow.keras.callbacks import TensorBoard"
      ],
      "execution_count": 32,
      "outputs": []
    },
    {
      "cell_type": "code",
      "metadata": {
        "id": "rxek1u2828oW",
        "colab_type": "code",
        "colab": {}
      },
      "source": [
        "def lenet5():\n",
        "  model = Sequential()\n",
        "  model.add(Conv2D(6, kernel_size=(5,5), padding='valid', input_shape=(28,28,1), activation='relu', kernel_regularizer=l2(0.01)))\n",
        "  model.add(MaxPooling2D(pool_size=(2,2)))\n",
        "  model.add(Conv2D(16, kernel_size=(5,5), padding='valid', activation='relu', kernel_regularizer=l2(0)))\n",
        "  model.add(MaxPooling2D(pool_size=(2,2)))\n",
        "  model.add(Flatten())\n",
        "  model.add(Dense(120, activation='relu', kernel_regularizer=l2(0)))\n",
        "  model.add(Dropout(0))\n",
        "  model.add(Dense(84, activation='relu', kernel_regularizer=l2(0)))\n",
        "  model.add(Dropout(0))\n",
        "  model.add(Dense(10, activation='softmax'))\n",
        "\n",
        "  return model"
      ],
      "execution_count": 56,
      "outputs": []
    },
    {
      "cell_type": "markdown",
      "metadata": {
        "id": "hUu1bqLgv01S",
        "colab_type": "text"
      },
      "source": [
        "Now compile and fit your model on your training data. Since this is a multiclass classification, the loss is not `binary_crossentropy` anymore, but `categorical_crossentropy`."
      ]
    },
    {
      "cell_type": "code",
      "metadata": {
        "id": "HRzWmVSp-IQ9",
        "colab_type": "code",
        "colab": {}
      },
      "source": [
        "callbacks = [EarlyStopping(monitor='val_loss', patience=10),\n",
        "             TensorBoard(log_dir='./Graph')]"
      ],
      "execution_count": 57,
      "outputs": []
    },
    {
      "cell_type": "code",
      "metadata": {
        "scrolled": true,
        "id": "qPS4fHMiv01V",
        "colab_type": "code",
        "colab": {}
      },
      "source": [
        "# TODO: Compile and fit your model\n",
        "model = lenet5()"
      ],
      "execution_count": 58,
      "outputs": []
    },
    {
      "cell_type": "code",
      "metadata": {
        "id": "vudqMgVa5_5j",
        "colab_type": "code",
        "colab": {
          "base_uri": "https://localhost:8080/",
          "height": 940
        },
        "outputId": "35d24119-2be6-432d-ab24-893c0de67556"
      },
      "source": [
        "model.compile(optimizer='adam', loss='categorical_crossentropy', metrics=['accuracy'])\n",
        "model.fit(X_train, y_train, validation_split=.15, batch_size=64, epochs=500, callbacks=callbacks)"
      ],
      "execution_count": 59,
      "outputs": [
        {
          "output_type": "stream",
          "text": [
            "Epoch 1/500\n",
            "  2/797 [..............................] - ETA: 26s - loss: 2.3135 - accuracy: 0.1406WARNING:tensorflow:Callbacks method `on_train_batch_end` is slow compared to the batch time (batch time: 0.0096s vs `on_train_batch_end` time: 0.0587s). Check your callbacks.\n",
            "797/797 [==============================] - 5s 6ms/step - loss: 0.6787 - accuracy: 0.7603 - val_loss: 0.5037 - val_accuracy: 0.8168\n",
            "Epoch 2/500\n",
            "797/797 [==============================] - 5s 6ms/step - loss: 0.4575 - accuracy: 0.8408 - val_loss: 0.4682 - val_accuracy: 0.8374\n",
            "Epoch 3/500\n",
            "797/797 [==============================] - 4s 6ms/step - loss: 0.4019 - accuracy: 0.8582 - val_loss: 0.3902 - val_accuracy: 0.8632\n",
            "Epoch 4/500\n",
            "797/797 [==============================] - 4s 6ms/step - loss: 0.3704 - accuracy: 0.8702 - val_loss: 0.3749 - val_accuracy: 0.8664\n",
            "Epoch 5/500\n",
            "797/797 [==============================] - 4s 6ms/step - loss: 0.3471 - accuracy: 0.8774 - val_loss: 0.3563 - val_accuracy: 0.8734\n",
            "Epoch 6/500\n",
            "797/797 [==============================] - 4s 6ms/step - loss: 0.3287 - accuracy: 0.8826 - val_loss: 0.3548 - val_accuracy: 0.8790\n",
            "Epoch 7/500\n",
            "797/797 [==============================] - 4s 6ms/step - loss: 0.3119 - accuracy: 0.8895 - val_loss: 0.3334 - val_accuracy: 0.8812\n",
            "Epoch 8/500\n",
            "797/797 [==============================] - 4s 6ms/step - loss: 0.2978 - accuracy: 0.8945 - val_loss: 0.3262 - val_accuracy: 0.8834\n",
            "Epoch 9/500\n",
            "797/797 [==============================] - 4s 6ms/step - loss: 0.2876 - accuracy: 0.8985 - val_loss: 0.3176 - val_accuracy: 0.8881\n",
            "Epoch 10/500\n",
            "797/797 [==============================] - 4s 6ms/step - loss: 0.2782 - accuracy: 0.9009 - val_loss: 0.3137 - val_accuracy: 0.8913\n",
            "Epoch 11/500\n",
            "797/797 [==============================] - 4s 6ms/step - loss: 0.2695 - accuracy: 0.9032 - val_loss: 0.3072 - val_accuracy: 0.8950\n",
            "Epoch 12/500\n",
            "797/797 [==============================] - 4s 6ms/step - loss: 0.2600 - accuracy: 0.9057 - val_loss: 0.3010 - val_accuracy: 0.8956\n",
            "Epoch 13/500\n",
            "797/797 [==============================] - 4s 6ms/step - loss: 0.2496 - accuracy: 0.9109 - val_loss: 0.3002 - val_accuracy: 0.8959\n",
            "Epoch 14/500\n",
            "797/797 [==============================] - 4s 6ms/step - loss: 0.2447 - accuracy: 0.9123 - val_loss: 0.3084 - val_accuracy: 0.8954\n",
            "Epoch 15/500\n",
            "797/797 [==============================] - 4s 6ms/step - loss: 0.2359 - accuracy: 0.9153 - val_loss: 0.2968 - val_accuracy: 0.8981\n",
            "Epoch 16/500\n",
            "797/797 [==============================] - 4s 6ms/step - loss: 0.2285 - accuracy: 0.9179 - val_loss: 0.3114 - val_accuracy: 0.8907\n",
            "Epoch 17/500\n",
            "797/797 [==============================] - 4s 6ms/step - loss: 0.2225 - accuracy: 0.9196 - val_loss: 0.3108 - val_accuracy: 0.8934\n",
            "Epoch 18/500\n",
            "797/797 [==============================] - 4s 6ms/step - loss: 0.2173 - accuracy: 0.9214 - val_loss: 0.3143 - val_accuracy: 0.8963\n",
            "Epoch 19/500\n",
            "797/797 [==============================] - 5s 6ms/step - loss: 0.2108 - accuracy: 0.9235 - val_loss: 0.3144 - val_accuracy: 0.8941\n",
            "Epoch 20/500\n",
            "797/797 [==============================] - 5s 6ms/step - loss: 0.2030 - accuracy: 0.9271 - val_loss: 0.3181 - val_accuracy: 0.8951\n",
            "Epoch 21/500\n",
            "797/797 [==============================] - 5s 6ms/step - loss: 0.1963 - accuracy: 0.9291 - val_loss: 0.3167 - val_accuracy: 0.8948\n",
            "Epoch 22/500\n",
            "797/797 [==============================] - 4s 6ms/step - loss: 0.1923 - accuracy: 0.9306 - val_loss: 0.3178 - val_accuracy: 0.8974\n",
            "Epoch 23/500\n",
            "797/797 [==============================] - 4s 6ms/step - loss: 0.1868 - accuracy: 0.9331 - val_loss: 0.3132 - val_accuracy: 0.8991\n",
            "Epoch 24/500\n",
            "797/797 [==============================] - 4s 6ms/step - loss: 0.1866 - accuracy: 0.9326 - val_loss: 0.3067 - val_accuracy: 0.9006\n",
            "Epoch 25/500\n",
            "797/797 [==============================] - 5s 6ms/step - loss: 0.1741 - accuracy: 0.9374 - val_loss: 0.3247 - val_accuracy: 0.8982\n"
          ],
          "name": "stdout"
        },
        {
          "output_type": "execute_result",
          "data": {
            "text/plain": [
              "<tensorflow.python.keras.callbacks.History at 0x7f24c8528fd0>"
            ]
          },
          "metadata": {
            "tags": []
          },
          "execution_count": 59
        }
      ]
    },
    {
      "cell_type": "markdown",
      "metadata": {
        "id": "rbf76SYFv01e",
        "colab_type": "text"
      },
      "source": [
        "Have a look at the tensorboard and see if it gives a deeper understanding of your model."
      ]
    },
    {
      "cell_type": "markdown",
      "metadata": {
        "id": "g8bq3pkYv01f",
        "colab_type": "text"
      },
      "source": [
        "Compute then the accuracy of your model. Is it better than a regular MLP used a couple of days ago?"
      ]
    },
    {
      "cell_type": "code",
      "metadata": {
        "id": "UEXr-u7kv01i",
        "colab_type": "code",
        "colab": {
          "base_uri": "https://localhost:8080/",
          "height": 52
        },
        "outputId": "373d5ab6-db7c-4da7-b825-2829bf41c7d7"
      },
      "source": [
        "# TODO: Compute the accuracy of your model\n",
        "loss, acc = model.evaluate(X_test, y_test)\n",
        "print('Accuracy: ', acc)"
      ],
      "execution_count": 60,
      "outputs": [
        {
          "output_type": "stream",
          "text": [
            "313/313 [==============================] - 1s 4ms/step - loss: 0.3555 - accuracy: 0.8899\n",
            "Accuracy:  0.8899000287055969\n"
          ],
          "name": "stdout"
        }
      ]
    },
    {
      "cell_type": "markdown",
      "metadata": {
        "id": "0HFwDQPuv01q",
        "colab_type": "text"
      },
      "source": [
        "We will now add image augmentation to improve our results, especially we will try to reduce overfitting this way.\n",
        "\n",
        "To do so, you can use `ImageDataGenerator` from Keras that makes all the work for you (including rescaling), with the following parameter: \n",
        "* `horizontal_flip=True`\n",
        "\n",
        "Begin by creating an object `ImageDataGenerator` with this parameter."
      ]
    },
    {
      "cell_type": "code",
      "metadata": {
        "id": "8ksVulTEv01s",
        "colab_type": "code",
        "colab": {}
      },
      "source": [
        "# TODO: Instantiate an ImageDataGenerator object\n",
        "from tensorflow.keras.preprocessing.image import ImageDataGenerator\n",
        "datagen = ImageDataGenerator(horizontal_flip=True)\n",
        "datagen.fit(X_train)"
      ],
      "execution_count": 61,
      "outputs": []
    },
    {
      "cell_type": "code",
      "metadata": {
        "id": "xnE2HPMsB6CJ",
        "colab_type": "code",
        "colab": {
          "base_uri": "https://localhost:8080/",
          "height": 593
        },
        "outputId": "d09eaf7d-d69d-43d8-de45-039f1c0aaf02"
      },
      "source": [
        "model.fit_generator(datagen.flow(X_train, y_train, batch_size=64), validation_data=(X_test, y_test), steps_per_epoch=len(X_train) // 64, epochs=500, callbacks=callbacks)"
      ],
      "execution_count": 66,
      "outputs": [
        {
          "output_type": "stream",
          "text": [
            "Epoch 1/500\n",
            "  1/937 [..............................] - ETA: 0s - loss: 0.0783 - accuracy: 0.9844WARNING:tensorflow:Callbacks method `on_train_batch_end` is slow compared to the batch time (batch time: 0.0105s vs `on_train_batch_end` time: 0.0273s). Check your callbacks.\n",
            "937/937 [==============================] - 7s 7ms/step - loss: 0.1579 - accuracy: 0.9429 - val_loss: 0.3496 - val_accuracy: 0.8970\n",
            "Epoch 2/500\n",
            "937/937 [==============================] - 7s 7ms/step - loss: 0.1578 - accuracy: 0.9434 - val_loss: 0.3525 - val_accuracy: 0.9031\n",
            "Epoch 3/500\n",
            "937/937 [==============================] - 7s 7ms/step - loss: 0.1575 - accuracy: 0.9440 - val_loss: 0.3538 - val_accuracy: 0.9004\n",
            "Epoch 4/500\n",
            "937/937 [==============================] - 7s 7ms/step - loss: 0.1545 - accuracy: 0.9448 - val_loss: 0.3715 - val_accuracy: 0.8965\n",
            "Epoch 5/500\n",
            "937/937 [==============================] - 7s 7ms/step - loss: 0.1512 - accuracy: 0.9450 - val_loss: 0.3435 - val_accuracy: 0.9022\n",
            "Epoch 6/500\n",
            "937/937 [==============================] - 7s 7ms/step - loss: 0.1510 - accuracy: 0.9461 - val_loss: 0.3543 - val_accuracy: 0.8992\n",
            "Epoch 7/500\n",
            "937/937 [==============================] - 7s 7ms/step - loss: 0.1515 - accuracy: 0.9448 - val_loss: 0.3559 - val_accuracy: 0.9041\n",
            "Epoch 8/500\n",
            "937/937 [==============================] - 7s 7ms/step - loss: 0.1480 - accuracy: 0.9466 - val_loss: 0.3573 - val_accuracy: 0.9014\n",
            "Epoch 9/500\n",
            "937/937 [==============================] - 7s 7ms/step - loss: 0.1469 - accuracy: 0.9468 - val_loss: 0.3647 - val_accuracy: 0.9004\n",
            "Epoch 10/500\n",
            "937/937 [==============================] - 7s 7ms/step - loss: 0.1431 - accuracy: 0.9491 - val_loss: 0.3608 - val_accuracy: 0.9004\n",
            "Epoch 11/500\n",
            "937/937 [==============================] - 7s 7ms/step - loss: 0.1428 - accuracy: 0.9494 - val_loss: 0.3825 - val_accuracy: 0.8957\n",
            "Epoch 12/500\n",
            "937/937 [==============================] - 7s 7ms/step - loss: 0.1444 - accuracy: 0.9480 - val_loss: 0.3678 - val_accuracy: 0.9004\n",
            "Epoch 13/500\n",
            "937/937 [==============================] - 7s 7ms/step - loss: 0.1425 - accuracy: 0.9491 - val_loss: 0.3635 - val_accuracy: 0.9021\n",
            "Epoch 14/500\n",
            "937/937 [==============================] - 7s 7ms/step - loss: 0.1382 - accuracy: 0.9502 - val_loss: 0.3748 - val_accuracy: 0.8968\n",
            "Epoch 15/500\n",
            "937/937 [==============================] - 7s 7ms/step - loss: 0.1382 - accuracy: 0.9505 - val_loss: 0.3845 - val_accuracy: 0.9025\n"
          ],
          "name": "stdout"
        },
        {
          "output_type": "execute_result",
          "data": {
            "text/plain": [
              "<tensorflow.python.keras.callbacks.History at 0x7f24c90662e8>"
            ]
          },
          "metadata": {
            "tags": []
          },
          "execution_count": 66
        }
      ]
    },
    {
      "cell_type": "code",
      "metadata": {
        "id": "bw5dCw8cFhAo",
        "colab_type": "code",
        "colab": {
          "base_uri": "https://localhost:8080/",
          "height": 52
        },
        "outputId": "cbc550fe-172a-4c1c-fc7c-f5fde9ecab67"
      },
      "source": [
        "loss, acc = model.evaluate(X_test, y_test)\n",
        "print('Accuracy: ', acc)"
      ],
      "execution_count": 67,
      "outputs": [
        {
          "output_type": "stream",
          "text": [
            "313/313 [==============================] - 1s 3ms/step - loss: 0.3845 - accuracy: 0.9025\n",
            "Accuracy:  0.9024999737739563\n"
          ],
          "name": "stdout"
        }
      ]
    },
    {
      "cell_type": "markdown",
      "metadata": {
        "id": "gUiVWXiVv013",
        "colab_type": "text"
      },
      "source": [
        "Then you have to fit your `ImageDataGenerator` on your training set of images before any preprocessing."
      ]
    },
    {
      "cell_type": "code",
      "metadata": {
        "id": "pe1VZMrtv015",
        "colab_type": "code",
        "colab": {}
      },
      "source": [
        "# TODO: fit your ImageDataGenerator object"
      ],
      "execution_count": null,
      "outputs": []
    },
    {
      "cell_type": "markdown",
      "metadata": {
        "id": "3vv0swDqv02B",
        "colab_type": "text"
      },
      "source": [
        "Finally, you can train your model using this generator, with the method `fit_generator` of your model and the method `flow` of your `ImageDataGenerator`."
      ]
    },
    {
      "cell_type": "code",
      "metadata": {
        "scrolled": true,
        "id": "VR81djk3v02E",
        "colab_type": "code",
        "colab": {}
      },
      "source": [
        "# TODO: train your model"
      ],
      "execution_count": null,
      "outputs": []
    },
    {
      "cell_type": "markdown",
      "metadata": {
        "id": "YXvZ9Ewrv02L",
        "colab_type": "text"
      },
      "source": [
        "Recompute the accuracy of your model, does it improve your performances with data augmentation?"
      ]
    },
    {
      "cell_type": "code",
      "metadata": {
        "id": "aU7j04oAv02N",
        "colab_type": "code",
        "colab": {}
      },
      "source": [
        "# TODO: Compute the accuracy of your model"
      ],
      "execution_count": null,
      "outputs": []
    },
    {
      "cell_type": "markdown",
      "metadata": {
        "id": "UZ0TH87kv02a",
        "colab_type": "text"
      },
      "source": [
        "You can now try to improve even more your results. For example, add more parameters to your `ImageDataGenerator`, play with some hyperparameters, and so on..."
      ]
    }
  ]
}