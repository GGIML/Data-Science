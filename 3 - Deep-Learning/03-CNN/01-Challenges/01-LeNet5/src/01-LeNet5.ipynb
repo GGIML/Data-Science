{
  "nbformat": 4,
  "nbformat_minor": 0,
  "metadata": {
    "kernelspec": {
      "display_name": "Python 3",
      "language": "python",
      "name": "python3"
    },
    "language_info": {
      "codemirror_mode": {
        "name": "ipython",
        "version": 3
      },
      "file_extension": ".py",
      "mimetype": "text/x-python",
      "name": "python",
      "nbconvert_exporter": "python",
      "pygments_lexer": "ipython3",
      "version": "3.7.6"
    },
    "toc": {
      "base_numbering": 1,
      "nav_menu": {},
      "number_sections": true,
      "sideBar": true,
      "skip_h1_title": false,
      "title_cell": "Table of Contents",
      "title_sidebar": "Contents",
      "toc_cell": false,
      "toc_position": {},
      "toc_section_display": true,
      "toc_window_display": false
    },
    "varInspector": {
      "cols": {
        "lenName": 16,
        "lenType": 16,
        "lenVar": 40
      },
      "kernels_config": {
        "python": {
          "delete_cmd_postfix": "",
          "delete_cmd_prefix": "del ",
          "library": "var_list.py",
          "varRefreshCmd": "print(var_dic_list())"
        },
        "r": {
          "delete_cmd_postfix": ") ",
          "delete_cmd_prefix": "rm(",
          "library": "var_list.r",
          "varRefreshCmd": "cat(var_dic_list()) "
        }
      },
      "types_to_exclude": [
        "module",
        "function",
        "builtin_function_or_method",
        "instance",
        "_Feature"
      ],
      "window_display": false
    },
    "colab": {
      "name": "01-LeNet5.ipynb",
      "provenance": [],
      "collapsed_sections": []
    },
    "accelerator": "GPU"
  },
  "cells": [
    {
      "cell_type": "markdown",
      "metadata": {
        "id": "usItNF3Zv0z2",
        "colab_type": "text"
      },
      "source": [
        "# 01-LeNet5"
      ]
    },
    {
      "cell_type": "markdown",
      "metadata": {
        "id": "qO0XbrAzv0z6",
        "colab_type": "text"
      },
      "source": [
        "![](https://images.unsplash.com/photo-1495592528496-a143a67931d6?ixlib=rb-1.2.1&ixid=eyJhcHBfaWQiOjEyMDd9&auto=format&fit=crop&w=1050&q=80)\n",
        "\n",
        "Photo by [Pietro Jeng](https://unsplash.com/photos/sQVXS8HBPPc)"
      ]
    },
    {
      "cell_type": "markdown",
      "metadata": {
        "id": "Oe5cX8sgv0z_",
        "colab_type": "text"
      },
      "source": [
        "In this exercise, we will apply the LeNet5 algorithm to the Fashion MNIST dataset and improve your performances."
      ]
    },
    {
      "cell_type": "markdown",
      "metadata": {
        "id": "Ond3SAKKv00C",
        "colab_type": "text"
      },
      "source": [
        "We will first download the data:"
      ]
    },
    {
      "cell_type": "code",
      "metadata": {
        "scrolled": true,
        "id": "LJAkulK8v00F",
        "colab_type": "code",
        "colab": {}
      },
      "source": [
        "# Download the dataset"
      ],
      "execution_count": 1,
      "outputs": []
    },
    {
      "cell_type": "markdown",
      "metadata": {
        "id": "zQFvQB11v00c",
        "colab_type": "text"
      },
      "source": [
        "As you already know, this dataset contains 10 classes:\n",
        "* 0:\tT-shirt/top\n",
        "* 1:\tTrouser\n",
        "* 2:\tPullover\n",
        "* 3:\tDress\n",
        "* 4:\tCoat\n",
        "* 5:\tSandal\n",
        "* 6:\tShirt\n",
        "* 7:\tSneaker\n",
        "* 8:\tBag\n",
        "* 9:\tAnkle boot"
      ]
    },
    {
      "cell_type": "markdown",
      "metadata": {
        "id": "pziM46rdv00f",
        "colab_type": "text"
      },
      "source": [
        "You can have a look at some images if needed, even if you already know them."
      ]
    },
    {
      "cell_type": "code",
      "metadata": {
        "scrolled": true,
        "id": "lA3cgqOOv00h",
        "colab_type": "code",
        "colab": {}
      },
      "source": [
        "# TODO: Explore the data, display some input images"
      ],
      "execution_count": null,
      "outputs": []
    },
    {
      "cell_type": "markdown",
      "metadata": {
        "id": "tNrbhD41v00t",
        "colab_type": "text"
      },
      "source": [
        "Make the data preparation and preprocessing: scale and reshape the data, put the labels to the good shape."
      ]
    },
    {
      "cell_type": "code",
      "metadata": {
        "id": "NMlzQr41v000",
        "colab_type": "code",
        "colab": {}
      },
      "source": [
        "# TODO: Make the data preparation"
      ],
      "execution_count": null,
      "outputs": []
    },
    {
      "cell_type": "markdown",
      "metadata": {
        "id": "tAtMsIc2v01C",
        "colab_type": "text"
      },
      "source": [
        "Now build the LeNet5 architecture. You can reuse the one of the course, or try to build it by yourself.\n",
        "\n",
        "The architecture is the following:\n",
        "\n",
        "<p align=\"center\">\n",
        "<img src=\"https://drive.google.com/uc?export=view&id=1WteTU2FPIVMkBKmMxGpFm5OjsX-szTbB\">\n",
        "</p>"
      ]
    },
    {
      "cell_type": "code",
      "metadata": {
        "id": "fEFhMQAxv01E",
        "colab_type": "code",
        "colab": {}
      },
      "source": [
        "# TODO: Build your model"
      ],
      "execution_count": null,
      "outputs": []
    },
    {
      "cell_type": "markdown",
      "metadata": {
        "id": "hUu1bqLgv01S",
        "colab_type": "text"
      },
      "source": [
        "Now compile and fit your model on your training data. Since this is a multiclass classification, the loss is not `binary_crossentropy` anymore, but `categorical_crossentropy`."
      ]
    },
    {
      "cell_type": "code",
      "metadata": {
        "scrolled": true,
        "id": "qPS4fHMiv01V",
        "colab_type": "code",
        "colab": {}
      },
      "source": [
        "# TODO: Compile and fit your model"
      ],
      "execution_count": null,
      "outputs": []
    },
    {
      "cell_type": "markdown",
      "metadata": {
        "id": "rbf76SYFv01e",
        "colab_type": "text"
      },
      "source": [
        "Have a look at the tensorboard and see if it gives a deeper understanding of your model."
      ]
    },
    {
      "cell_type": "markdown",
      "metadata": {
        "id": "g8bq3pkYv01f",
        "colab_type": "text"
      },
      "source": [
        "Compute then the accuracy of your model. Is it better than a regular MLP used a couple of days ago?"
      ]
    },
    {
      "cell_type": "code",
      "metadata": {
        "id": "UEXr-u7kv01i",
        "colab_type": "code",
        "colab": {}
      },
      "source": [
        "# TODO: Compute the accuracy of your model"
      ],
      "execution_count": null,
      "outputs": []
    },
    {
      "cell_type": "markdown",
      "metadata": {
        "id": "0HFwDQPuv01q",
        "colab_type": "text"
      },
      "source": [
        "We will now add image augmentation to improve our results, especially we will try to reduce overfitting this way.\n",
        "\n",
        "To do so, you can use `ImageDataGenerator` from Keras that makes all the work for you (including rescaling), with the following parameter: \n",
        "* `horizontal_flip=True`\n",
        "\n",
        "Begin by creating an object `ImageDataGenerator` with this parameter."
      ]
    },
    {
      "cell_type": "code",
      "metadata": {
        "id": "8ksVulTEv01s",
        "colab_type": "code",
        "colab": {}
      },
      "source": [
        "# TODO: Instantiate an ImageDataGenerator object"
      ],
      "execution_count": null,
      "outputs": []
    },
    {
      "cell_type": "markdown",
      "metadata": {
        "id": "gUiVWXiVv013",
        "colab_type": "text"
      },
      "source": [
        "Then you have to fit your `ImageDataGenerator` on your training set of images before any preprocessing."
      ]
    },
    {
      "cell_type": "code",
      "metadata": {
        "id": "pe1VZMrtv015",
        "colab_type": "code",
        "colab": {}
      },
      "source": [
        "# TODO: fit your ImageDataGenerator object"
      ],
      "execution_count": null,
      "outputs": []
    },
    {
      "cell_type": "markdown",
      "metadata": {
        "id": "3vv0swDqv02B",
        "colab_type": "text"
      },
      "source": [
        "Finally, you can train your model using this generator, with the method `fit_generator` of your model and the method `flow` of your `ImageDataGenerator`."
      ]
    },
    {
      "cell_type": "code",
      "metadata": {
        "scrolled": true,
        "id": "VR81djk3v02E",
        "colab_type": "code",
        "colab": {}
      },
      "source": [
        "# TODO: train your model"
      ],
      "execution_count": null,
      "outputs": []
    },
    {
      "cell_type": "markdown",
      "metadata": {
        "id": "YXvZ9Ewrv02L",
        "colab_type": "text"
      },
      "source": [
        "Recompute the accuracy of your model, does it improve your performances with data augmentation?"
      ]
    },
    {
      "cell_type": "code",
      "metadata": {
        "id": "aU7j04oAv02N",
        "colab_type": "code",
        "colab": {}
      },
      "source": [
        "# TODO: Compute the accuracy of your model"
      ],
      "execution_count": null,
      "outputs": []
    },
    {
      "cell_type": "markdown",
      "metadata": {
        "id": "UZ0TH87kv02a",
        "colab_type": "text"
      },
      "source": [
        "You can now try to improve even more your results. For example, add more parameters to your `ImageDataGenerator`, play with some hyperparameters, and so on..."
      ]
    }
  ]
}