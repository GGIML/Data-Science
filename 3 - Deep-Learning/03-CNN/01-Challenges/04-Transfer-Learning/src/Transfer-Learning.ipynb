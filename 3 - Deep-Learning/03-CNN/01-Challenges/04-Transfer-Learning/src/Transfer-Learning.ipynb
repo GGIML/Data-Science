{
  "nbformat": 4,
  "nbformat_minor": 0,
  "metadata": {
    "accelerator": "GPU",
    "colab": {
      "name": "Transfer-Learning.ipynb",
      "provenance": [],
      "collapsed_sections": []
    },
    "kernelspec": {
      "display_name": "Python 3",
      "language": "python",
      "name": "python3"
    },
    "language_info": {
      "codemirror_mode": {
        "name": "ipython",
        "version": 3
      },
      "file_extension": ".py",
      "mimetype": "text/x-python",
      "name": "python",
      "nbconvert_exporter": "python",
      "pygments_lexer": "ipython3",
      "version": "3.7.6"
    },
    "toc": {
      "base_numbering": 1,
      "nav_menu": {},
      "number_sections": true,
      "sideBar": true,
      "skip_h1_title": false,
      "title_cell": "Table of Contents",
      "title_sidebar": "Contents",
      "toc_cell": false,
      "toc_position": {},
      "toc_section_display": true,
      "toc_window_display": false
    },
    "varInspector": {
      "cols": {
        "lenName": 16,
        "lenType": 16,
        "lenVar": 40
      },
      "kernels_config": {
        "python": {
          "delete_cmd_postfix": "",
          "delete_cmd_prefix": "del ",
          "library": "var_list.py",
          "varRefreshCmd": "print(var_dic_list())"
        },
        "r": {
          "delete_cmd_postfix": ") ",
          "delete_cmd_prefix": "rm(",
          "library": "var_list.r",
          "varRefreshCmd": "cat(var_dic_list()) "
        }
      },
      "types_to_exclude": [
        "module",
        "function",
        "builtin_function_or_method",
        "instance",
        "_Feature"
      ],
      "window_display": false
    }
  },
  "cells": [
    {
      "cell_type": "markdown",
      "metadata": {
        "colab_type": "text",
        "id": "JVBTYotcgrPG"
      },
      "source": [
        "# Transfer Learning"
      ]
    },
    {
      "cell_type": "markdown",
      "metadata": {
        "id": "4kGvITmYNw4i",
        "colab_type": "text"
      },
      "source": [
        "For computational reasons, it is recommended to do this challenge on [google colab](https://colab.research.google.com/), with setting the GPU on (see `Edit` -> `Notebook settings` -> `Hardware Accelerator` -> `GPU`)"
      ]
    },
    {
      "cell_type": "markdown",
      "metadata": {
        "colab_type": "text",
        "id": "eZ7jxUs_grPU"
      },
      "source": [
        "In this exercise, we will work again on the CIFAR-10 dataset, but this time you will use a well known architecture: the VGG-16."
      ]
    },
    {
      "cell_type": "markdown",
      "metadata": {
        "colab_type": "text",
        "id": "_T87eDJ2grPe"
      },
      "source": [
        "**Q1.** First, load the data using `tensorflow.keras.datasets.cifar10` :"
      ]
    },
    {
      "cell_type": "code",
      "metadata": {
        "id": "OO_NzYUhOCyJ",
        "colab_type": "code",
        "colab": {}
      },
      "source": [
        "import tensorflow as tf\n",
        "import numpy as np\n",
        "import matplotlib.pyplot as plt"
      ],
      "execution_count": 1,
      "outputs": []
    },
    {
      "cell_type": "code",
      "metadata": {
        "ExecuteTime": {
          "end_time": "2019-11-27T14:49:27.397560Z",
          "start_time": "2019-11-27T14:49:27.394870Z"
        },
        "colab_type": "code",
        "id": "E7_LXmKxgrPy",
        "scrolled": true,
        "colab": {
          "base_uri": "https://localhost:8080/",
          "height": 52
        },
        "outputId": "32e08690-db71-4991-b63f-53a943b2588a"
      },
      "source": [
        "# TODO: Load the CIFAR dataset\n",
        "(X_train, y_train), (X_test, y_test) = tf.keras.datasets.cifar10.load_data()"
      ],
      "execution_count": 2,
      "outputs": [
        {
          "output_type": "stream",
          "text": [
            "Downloading data from https://www.cs.toronto.edu/~kriz/cifar-10-python.tar.gz\n",
            "170500096/170498071 [==============================] - 2s 0us/step\n"
          ],
          "name": "stdout"
        }
      ]
    },
    {
      "cell_type": "markdown",
      "metadata": {
        "colab_type": "text",
        "id": "fXGIOnBSgrQO"
      },
      "source": [
        "**Q2.** You can have a look at some images and labels if needed, even if you already know them."
      ]
    },
    {
      "cell_type": "code",
      "metadata": {
        "ExecuteTime": {
          "end_time": "2019-11-27T14:49:30.528581Z",
          "start_time": "2019-11-27T14:49:30.524718Z"
        },
        "colab_type": "code",
        "id": "zM-SH0KigrQn",
        "scrolled": true,
        "colab": {
          "base_uri": "https://localhost:8080/",
          "height": 34
        },
        "outputId": "d734ebe7-3364-4192-d2b5-bddd82ff8d2a"
      },
      "source": [
        "# TODO: Explore the data, display some input images\n",
        "X_train.shape"
      ],
      "execution_count": 3,
      "outputs": [
        {
          "output_type": "execute_result",
          "data": {
            "text/plain": [
              "(50000, 32, 32, 3)"
            ]
          },
          "metadata": {
            "tags": []
          },
          "execution_count": 3
        }
      ]
    },
    {
      "cell_type": "code",
      "metadata": {
        "id": "xjvuevDDON0b",
        "colab_type": "code",
        "colab": {}
      },
      "source": [
        "map_labels = {\n",
        "    0: 'airplane',\n",
        "    1: 'automobile', \n",
        "    2: 'bird', \n",
        "    3: 'cat', \n",
        "    4: 'deer', \n",
        "    5: 'dog',\n",
        "    6: 'frog', \n",
        "    7: 'horse', \n",
        "    8: 'ship',\n",
        "    9: 'truck'\n",
        "}"
      ],
      "execution_count": 4,
      "outputs": []
    },
    {
      "cell_type": "code",
      "metadata": {
        "id": "6CIYwgR3ONtQ",
        "colab_type": "code",
        "colab": {
          "base_uri": "https://localhost:8080/",
          "height": 293
        },
        "outputId": "ffad6e3e-3b1a-42e6-9a70-938ea4f300b6"
      },
      "source": [
        "size = 4\n",
        "sample_graph = np.random.randint(0,50000, size)\n",
        "\n",
        "sample_images = X_train[sample_graph]\n",
        "sample_labels = y_train[sample_graph]\n",
        "\n",
        "plt.figure(figsize = (20,10))\n",
        "\n",
        "ax =[]\n",
        "\n",
        "for i in range(1,size+1):\n",
        "    ax.append(plt.subplot(size // 4 + 1,4,i))\n",
        "    plt.imshow(sample_images[i-1])\n",
        "    ax[i-1].title.set_text(map_labels[sample_labels[i-1][0]])\n",
        "    ax[i-1].set_xticks([])\n",
        "    ax[i-1].set_yticks([])\n",
        "\n",
        "plt.show()"
      ],
      "execution_count": 12,
      "outputs": [
        {
          "output_type": "display_data",
          "data": {
            "image/png": "[encoded data removed]",
            "text/plain": [
              "<Figure size 1440x720 with 4 Axes>"
            ]
          },
          "metadata": {
            "tags": []
          }
        }
      ]
    },
    {
      "cell_type": "markdown",
      "metadata": {
        "colab_type": "text",
        "id": "KdIkWn1GgrQ4"
      },
      "source": [
        "**Q3.** Take care of the data preparation and preprocessing: scale the data, transform the labels into the correct shape."
      ]
    },
    {
      "cell_type": "code",
      "metadata": {
        "ExecuteTime": {
          "end_time": "2019-11-27T14:49:33.788832Z",
          "start_time": "2019-11-27T14:49:33.784532Z"
        },
        "colab_type": "code",
        "id": "4sINmHCJgrQ-",
        "colab": {}
      },
      "source": [
        "# TODO: Make the data preparation\n",
        "X_train = X_train/255\n",
        "X_test = X_test/255\n",
        "y_train = tf.keras.utils.to_categorical(y_train, num_classes=10)\n",
        "y_test = tf.keras.utils.to_categorical(y_test, num_classes=10)"
      ],
      "execution_count": 13,
      "outputs": []
    },
    {
      "cell_type": "markdown",
      "metadata": {
        "colab_type": "text",
        "id": "UPh4ri7WgrRP"
      },
      "source": [
        "**Q4.** Now we will try to build a VGG model, and train it from scratch to see the performances we reach.\n",
        "\n",
        "For complexity reasons, the VGG model has to be simplified for such a dataset, so we will only keep the first layers :"
      ]
    },
    {
      "cell_type": "code",
      "metadata": {
        "ExecuteTime": {
          "end_time": "2019-11-21T13:53:04.128963Z",
          "start_time": "2019-11-21T13:53:03.670455Z"
        },
        "colab_type": "code",
        "id": "iCpgpE3OgrRV",
        "colab": {}
      },
      "source": [
        "from tensorflow.keras.applications.vgg16 import VGG16\n",
        "from tensorflow.keras.models import Model\n",
        "from tensorflow.keras.layers import Dense, Dropout\n",
        "from tensorflow.keras.layers import Flatten\n",
        "from tensorflow.keras.regularizers import l2\n",
        "\n",
        "# create the base model\n",
        "base_model = VGG16(weights=None, include_top=False, \n",
        "             input_shape=X_train.shape[1:])\n",
        "\n",
        "# add a flattening layer\n",
        "# let's add a fully-connected layer to classify\n",
        "x = base_model.get_layer('block3_pool').output\n",
        "x = Flatten(name='Flatten')(x)\n",
        "x = Dense(512, activation='relu', kernel_regularizer=l2(1))(x)\n",
        "x = Dropout(0.2)(x)\n",
        "predictions = Dense(10, activation='softmax')(x)\n",
        "\n",
        "# this is the model we will train\n",
        "model = Model(inputs=base_model.input, outputs=predictions)"
      ],
      "execution_count": 54,
      "outputs": []
    },
    {
      "cell_type": "markdown",
      "metadata": {
        "colab_type": "text",
        "id": "3fCFmomhgrRj"
      },
      "source": [
        "☝️ Have a look at this code and try to understand it, feel free to ask questions."
      ]
    },
    {
      "cell_type": "markdown",
      "metadata": {
        "colab_type": "text",
        "id": "XqRibey6grRn"
      },
      "source": [
        "**Q5.** Now compile and fit your model on your training data for 10 epochs. Feel free to have a look at the architecture of your model using `.summary()`."
      ]
    },
    {
      "cell_type": "code",
      "metadata": {
        "ExecuteTime": {
          "end_time": "2019-11-27T14:50:09.785762Z",
          "start_time": "2019-11-27T14:50:09.781267Z"
        },
        "colab_type": "code",
        "id": "N5JLKRamgrRr",
        "scrolled": true,
        "colab": {
          "base_uri": "https://localhost:8080/",
          "height": 677
        },
        "outputId": "c547b1ee-a9bc-4407-fd8f-75ee52688b40"
      },
      "source": [
        "# TODO: Compile and fit your model\n",
        "model.summary()"
      ],
      "execution_count": 55,
      "outputs": [
        {
          "output_type": "stream",
          "text": [
            "Model: \"functional_13\"\n",
            "_________________________________________________________________\n",
            "Layer (type)                 Output Shape              Param #   \n",
            "=================================================================\n",
            "input_11 (InputLayer)        [(None, 32, 32, 3)]       0         \n",
            "_________________________________________________________________\n",
            "block1_conv1 (Conv2D)        (None, 32, 32, 64)        1792      \n",
            "_________________________________________________________________\n",
            "block1_conv2 (Conv2D)        (None, 32, 32, 64)        36928     \n",
            "_________________________________________________________________\n",
            "block1_pool (MaxPooling2D)   (None, 16, 16, 64)        0         \n",
            "_________________________________________________________________\n",
            "block2_conv1 (Conv2D)        (None, 16, 16, 128)       73856     \n",
            "_________________________________________________________________\n",
            "block2_conv2 (Conv2D)        (None, 16, 16, 128)       147584    \n",
            "_________________________________________________________________\n",
            "block2_pool (MaxPooling2D)   (None, 8, 8, 128)         0         \n",
            "_________________________________________________________________\n",
            "block3_conv1 (Conv2D)        (None, 8, 8, 256)         295168    \n",
            "_________________________________________________________________\n",
            "block3_conv2 (Conv2D)        (None, 8, 8, 256)         590080    \n",
            "_________________________________________________________________\n",
            "block3_conv3 (Conv2D)        (None, 8, 8, 256)         590080    \n",
            "_________________________________________________________________\n",
            "block3_pool (MaxPooling2D)   (None, 4, 4, 256)         0         \n",
            "_________________________________________________________________\n",
            "Flatten (Flatten)            (None, 4096)              0         \n",
            "_________________________________________________________________\n",
            "dense_19 (Dense)             (None, 512)               2097664   \n",
            "_________________________________________________________________\n",
            "dropout_7 (Dropout)          (None, 512)               0         \n",
            "_________________________________________________________________\n",
            "dense_20 (Dense)             (None, 10)                5130      \n",
            "=================================================================\n",
            "Total params: 3,838,282\n",
            "Trainable params: 3,838,282\n",
            "Non-trainable params: 0\n",
            "_________________________________________________________________\n"
          ],
          "name": "stdout"
        }
      ]
    },
    {
      "cell_type": "code",
      "metadata": {
        "id": "RMMKUktMOtoG",
        "colab_type": "code",
        "colab": {}
      },
      "source": [
        "model.compile(optimizer='adam', loss='categorical_crossentropy', metrics='accuracy')"
      ],
      "execution_count": 56,
      "outputs": []
    },
    {
      "cell_type": "code",
      "metadata": {
        "id": "S9NRHU2YO1p8",
        "colab_type": "code",
        "colab": {
          "base_uri": "https://localhost:8080/",
          "height": 419
        },
        "outputId": "8a5ac608-f10a-470b-f8e1-88778ceac80a"
      },
      "source": [
        "model.fit(X_train, y_train, validation_split=.2, batch_size=100, epochs=10)"
      ],
      "execution_count": 57,
      "outputs": [
        {
          "output_type": "stream",
          "text": [
            "Epoch 1/10\n",
            "398/400 [============================>.] - ETA: 0s - loss: 25.2491 - accuracy: 0.3006WARNING:tensorflow:Callbacks method `on_test_batch_end` is slow compared to the batch time (batch time: 0.0021s vs `on_test_batch_end` time: 0.0032s). Check your callbacks.\n",
            "400/400 [==============================] - 7s 17ms/step - loss: 25.1316 - accuracy: 0.3011 - val_loss: 1.7688 - val_accuracy: 0.3952\n",
            "Epoch 2/10\n",
            "400/400 [==============================] - 7s 17ms/step - loss: 1.5831 - accuracy: 0.4661 - val_loss: 1.4837 - val_accuracy: 0.5053\n",
            "Epoch 3/10\n",
            "400/400 [==============================] - 7s 17ms/step - loss: 1.3410 - accuracy: 0.5587 - val_loss: 1.3081 - val_accuracy: 0.5857\n",
            "Epoch 4/10\n",
            "400/400 [==============================] - 7s 17ms/step - loss: 1.1774 - accuracy: 0.6193 - val_loss: 1.2327 - val_accuracy: 0.5999\n",
            "Epoch 5/10\n",
            "400/400 [==============================] - 7s 17ms/step - loss: 1.0465 - accuracy: 0.6666 - val_loss: 1.0474 - val_accuracy: 0.6733\n",
            "Epoch 6/10\n",
            "400/400 [==============================] - 7s 17ms/step - loss: 0.9622 - accuracy: 0.6959 - val_loss: 1.0307 - val_accuracy: 0.6641\n",
            "Epoch 7/10\n",
            "400/400 [==============================] - 7s 17ms/step - loss: 0.8858 - accuracy: 0.7248 - val_loss: 0.8707 - val_accuracy: 0.7302\n",
            "Epoch 8/10\n",
            "400/400 [==============================] - 7s 17ms/step - loss: 0.8037 - accuracy: 0.7539 - val_loss: 0.8893 - val_accuracy: 0.7290\n",
            "Epoch 9/10\n",
            "400/400 [==============================] - 7s 17ms/step - loss: 0.7515 - accuracy: 0.7739 - val_loss: 0.8825 - val_accuracy: 0.7364\n",
            "Epoch 10/10\n",
            "400/400 [==============================] - 7s 17ms/step - loss: 0.6815 - accuracy: 0.7993 - val_loss: 0.8900 - val_accuracy: 0.7406\n"
          ],
          "name": "stdout"
        },
        {
          "output_type": "execute_result",
          "data": {
            "text/plain": [
              "<tensorflow.python.keras.callbacks.History at 0x7f8b055640f0>"
            ]
          },
          "metadata": {
            "tags": []
          },
          "execution_count": 57
        }
      ]
    },
    {
      "cell_type": "markdown",
      "metadata": {
        "colab_type": "text",
        "id": "Cq2DDHxRgrR9"
      },
      "source": [
        "**Q6.** Now compute then the accuracy of your model."
      ]
    },
    {
      "cell_type": "code",
      "metadata": {
        "ExecuteTime": {
          "end_time": "2019-11-27T14:50:12.562300Z",
          "start_time": "2019-11-27T14:50:12.556736Z"
        },
        "colab_type": "code",
        "id": "jIJ_Zzp0grSB",
        "colab": {
          "base_uri": "https://localhost:8080/",
          "height": 52
        },
        "outputId": "8d6e2e61-dfb0-4e6d-8958-e620ebdd84f0"
      },
      "source": [
        "# TODO: Compute the accuracy of your model\n",
        "loss, acc = model.evaluate(X_test, y_test)\n",
        "print('Accuracy: ', acc)"
      ],
      "execution_count": 58,
      "outputs": [
        {
          "output_type": "stream",
          "text": [
            "313/313 [==============================] - 2s 5ms/step - loss: 0.8943 - accuracy: 0.7370\n",
            "Accuracy:  0.7369999885559082\n"
          ],
          "name": "stdout"
        }
      ]
    },
    {
      "cell_type": "markdown",
      "metadata": {
        "colab_type": "text",
        "id": "G6ZTvUPwh0Oz"
      },
      "source": [
        "Did you improve your results compared to what you had a couple of days ago on this dataset? Why?"
      ]
    },
    {
      "cell_type": "markdown",
      "metadata": {
        "colab_type": "text",
        "id": "kDUiRpGLgrSN"
      },
      "source": [
        "**Q7.** Now, try to redo the same, but this time you will **reuse the pretrained weights from image net**, using the parameter `weights = 'imagenet'`, and going up to the `'block4_pool'` layer, with the following code:\n",
        "```python\n",
        "x = base_model.get_layer('block4_pool').output\n",
        "```\n",
        "\n",
        "Do you see any improvement in the accuracy?"
      ]
    },
    {
      "cell_type": "code",
      "metadata": {
        "ExecuteTime": {
          "end_time": "2019-11-27T14:50:26.554099Z",
          "start_time": "2019-11-27T14:50:26.550820Z"
        },
        "colab_type": "code",
        "id": "l6v845wBgrSQ",
        "colab": {}
      },
      "source": [
        "# TODO: Retrain a VGG model with pretrained weights from image net and check the accuracy\n",
        "# create the base model\n",
        "base_model = VGG16(weights='imagenet', include_top=False, \n",
        "             input_shape=X_train.shape[1:])\n",
        "\n",
        "# add a flattening layer\n",
        "# let's add a fully-connected layer to classify\n",
        "x = base_model.get_layer('block4_pool').output\n",
        "x = Flatten(name='Flatten')(x)\n",
        "x = Dense(512, activation='relu')(x)\n",
        "predictions = Dense(10, activation='softmax')(x)\n",
        "\n",
        "# this is the model we will train\n",
        "model = Model(inputs=base_model.input, outputs=predictions)"
      ],
      "execution_count": 64,
      "outputs": []
    },
    {
      "cell_type": "code",
      "metadata": {
        "id": "vwsK7Wh1TqUz",
        "colab_type": "code",
        "colab": {}
      },
      "source": [
        "for layer in base_model.layers:\n",
        "    layer.trainable = False"
      ],
      "execution_count": 65,
      "outputs": []
    },
    {
      "cell_type": "code",
      "metadata": {
        "id": "HSYImPNpS4e9",
        "colab_type": "code",
        "colab": {}
      },
      "source": [
        "model.compile(optimizer='adam', loss='categorical_crossentropy', metrics='accuracy')"
      ],
      "execution_count": 66,
      "outputs": []
    },
    {
      "cell_type": "code",
      "metadata": {
        "id": "S4LEO44FS8Pl",
        "colab_type": "code",
        "colab": {
          "base_uri": "https://localhost:8080/",
          "height": 419
        },
        "outputId": "0a64b6a3-5a45-4a99-c73b-513c1baf8168"
      },
      "source": [
        "model.fit(X_train, y_train, validation_split=.2, batch_size=100, epochs=10)"
      ],
      "execution_count": 67,
      "outputs": [
        {
          "output_type": "stream",
          "text": [
            "Epoch 1/10\n",
            "396/400 [============================>.] - ETA: 0s - loss: 1.4065 - accuracy: 0.6180WARNING:tensorflow:Callbacks method `on_test_batch_end` is slow compared to the batch time (batch time: 0.0022s vs `on_test_batch_end` time: 0.0051s). Check your callbacks.\n",
            "400/400 [==============================] - 4s 11ms/step - loss: 1.4007 - accuracy: 0.6191 - val_loss: 0.8792 - val_accuracy: 0.6941\n",
            "Epoch 2/10\n",
            "400/400 [==============================] - 4s 10ms/step - loss: 0.7983 - accuracy: 0.7200 - val_loss: 0.8342 - val_accuracy: 0.7111\n",
            "Epoch 3/10\n",
            "400/400 [==============================] - 4s 11ms/step - loss: 0.6911 - accuracy: 0.7545 - val_loss: 0.7971 - val_accuracy: 0.7226\n",
            "Epoch 4/10\n",
            "400/400 [==============================] - 4s 10ms/step - loss: 0.6260 - accuracy: 0.7800 - val_loss: 0.7881 - val_accuracy: 0.7317\n",
            "Epoch 5/10\n",
            "400/400 [==============================] - 4s 10ms/step - loss: 0.5623 - accuracy: 0.8013 - val_loss: 0.8298 - val_accuracy: 0.7190\n",
            "Epoch 6/10\n",
            "400/400 [==============================] - 4s 10ms/step - loss: 0.5102 - accuracy: 0.8199 - val_loss: 0.8109 - val_accuracy: 0.7299\n",
            "Epoch 7/10\n",
            "400/400 [==============================] - 4s 10ms/step - loss: 0.4599 - accuracy: 0.8378 - val_loss: 0.8503 - val_accuracy: 0.7318\n",
            "Epoch 8/10\n",
            "400/400 [==============================] - 4s 10ms/step - loss: 0.4136 - accuracy: 0.8523 - val_loss: 0.8894 - val_accuracy: 0.7288\n",
            "Epoch 9/10\n",
            "400/400 [==============================] - 4s 10ms/step - loss: 0.3694 - accuracy: 0.8689 - val_loss: 0.9229 - val_accuracy: 0.7314\n",
            "Epoch 10/10\n",
            "400/400 [==============================] - 4s 10ms/step - loss: 0.3374 - accuracy: 0.8789 - val_loss: 0.9426 - val_accuracy: 0.7367\n"
          ],
          "name": "stdout"
        },
        {
          "output_type": "execute_result",
          "data": {
            "text/plain": [
              "<tensorflow.python.keras.callbacks.History at 0x7f8b4a59efd0>"
            ]
          },
          "metadata": {
            "tags": []
          },
          "execution_count": 67
        }
      ]
    },
    {
      "cell_type": "code",
      "metadata": {
        "id": "XTcSQ6wXS-LA",
        "colab_type": "code",
        "colab": {
          "base_uri": "https://localhost:8080/",
          "height": 52
        },
        "outputId": "1db398cd-c53b-400f-a5ad-d9fa94054ad6"
      },
      "source": [
        "loss, acc = model.evaluate(X_test, y_test)\n",
        "print('Accuracy: ', acc)"
      ],
      "execution_count": 62,
      "outputs": [
        {
          "output_type": "stream",
          "text": [
            "100/100 [==============================] - 1s 8ms/step - loss: 0.6957 - accuracy: 0.7979\n",
            "Accuracy:  0.7979000210762024\n"
          ],
          "name": "stdout"
        }
      ]
    }
  ]
}