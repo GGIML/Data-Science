{
 "cells": [
  {
   "cell_type": "markdown",
   "metadata": {},
   "source": [
    "# Challenge - Divorce Prediction\n",
    "\n",
    "---\n",
    "![](https://images.unsplash.com/photo-1503314885798-a70f8f9028d3?ixlib=rb-1.2.1&ixid=eyJhcHBfaWQiOjEyMDd9&auto=format&fit=crop&w=1050&q=80)\n",
    "\n",
    "## Instructions\n",
    "\n",
    "Try to predict divorce using the following features:\n",
    "1. If one of us apologizes when our discussion deteriorates, the discussion ends.\n",
    "2. I know we can ignore our differences, even if things get hard sometimes.\n",
    "3. When we need it, we can take our discussions with my spouse from the beginning and correct it.\n",
    "4. When I discuss with my spouse, to contact him will eventually work.\n",
    "5. The time I spent with my wife is special for us.\n",
    "6. We don't have time at home as partners.\n",
    "7. We are like two strangers who share the same environment at home rather than family.\n",
    "8. I enjoy our holidays with my wife.\n",
    "9. I enjoy traveling with my wife.\n",
    "10. Most of our goals are common to my spouse.\n",
    "11. I think that one day in the future, when I look back, I see that my spouse and I have been in harmony with each other.\n",
    "12. My spouse and I have similar values in terms of personal freedom.\n",
    "13. My spouse and I have similar sense of entertainment.\n",
    "14. Most of our goals for people (children, friends, etc.) are the same.\n",
    "15. Our dreams with my spouse are similar and harmonious.\n",
    "16. We're compatible with my spouse about what love should be.\n",
    "17. We share the same views about being happy in our life with my spouse\n",
    "18. My spouse and I have similar ideas about how marriage should be\n",
    "19. My spouse and I have similar ideas about how roles should be in marriage\n",
    "20. My spouse and I have similar values in trust.\n",
    "21. I know exactly what my wife likes.\n",
    "22. I know how my spouse wants to be taken care of when she/he sick.\n",
    "23. I know my spouse's favorite food.\n",
    "24. I can tell you what kind of stress my spouse is facing in her/his life.\n",
    "25. I have knowledge of my spouse's inner world.\n",
    "26. I know my spouse's basic anxieties.\n",
    "27. I know what my spouse's current sources of stress are.\n",
    "28. I know my spouse's hopes and wishes.\n",
    "29. I know my spouse very well.\n",
    "30. I know my spouse's friends and their social relationships.\n",
    "31. I feel aggressive when I argue with my spouse.\n",
    "32. When discussing with my spouse, I usually use expressions such as ‘you always’ or ‘you never’ .\n",
    "33. I can use negative statements about my spouse's personality during our discussions.\n",
    "34. I can use offensive expressions during our discussions.\n",
    "35. I can insult my spouse during our discussions.\n",
    "36. I can be humiliating when we discussions.\n",
    "37. My discussion with my spouse is not calm.\n",
    "38. I hate my spouse's way of open a subject.\n",
    "39. Our discussions often occur suddenly.\n",
    "40. We're just starting a discussion before I know what's going on.\n",
    "41. When I talk to my spouse about something, my calm suddenly breaks.\n",
    "42. When I argue with my spouse, ı only go out and I don't say a word.\n",
    "43. I mostly stay silent to calm the environment a little bit.\n",
    "44. Sometimes I think it's good for me to leave home for a while.\n",
    "45. I'd rather stay silent than discuss with my spouse.\n",
    "46. Even if I'm right in the discussion, I stay silent to hurt my spouse.\n",
    "47. When I discuss with my spouse, I stay silent because I am afraid of not being able to control my anger.\n",
    "48. I feel right in our discussions.\n",
    "49. I have nothing to do with what I've been accused of.\n",
    "50. I'm not actually the one who's guilty about what I'm accused of.\n",
    "51. I'm not the one who's wrong about problems at home.\n",
    "52. I wouldn't hesitate to tell my spouse about her/his inadequacy.\n",
    "53. When I discuss, I remind my spouse of her/his inadequacy.\n",
    "54. I'm not afraid to tell my spouse about her/his incompetence."
   ]
  },
  {
   "cell_type": "code",
   "execution_count": 1,
   "metadata": {},
   "outputs": [],
   "source": [
    "# TODO : SparkSession\n",
    "from pyspark.sql import SparkSession\n",
    "\n",
    "spark = SparkSession.builder.master('local[*]').appName('Divorce').getOrCreate()"
   ]
  },
  {
   "cell_type": "markdown",
   "metadata": {},
   "source": [
    "*Q1*: Import the `divorce.csv` file and display the first 3 rows."
   ]
  },
  {
   "cell_type": "code",
   "execution_count": 8,
   "metadata": {
    "scrolled": false
   },
   "outputs": [],
   "source": [
    "# TODO\n",
    "df = spark.read.csv('../input/divorce.csv', header=True, inferSchema=True, sep=';')"
   ]
  },
  {
   "cell_type": "markdown",
   "metadata": {},
   "source": [
    "*Q2*: How many rows and columns are there?"
   ]
  },
  {
   "cell_type": "code",
   "execution_count": 9,
   "metadata": {},
   "outputs": [
    {
     "name": "stdout",
     "output_type": "stream",
     "text": [
      "(170, 55)\n"
     ]
    }
   ],
   "source": [
    "# TODO\n",
    "print((df.count(), len(df.columns)))"
   ]
  },
  {
   "cell_type": "markdown",
   "metadata": {},
   "source": [
    "*Q3*: How many samples are there in each class? Make a plot to support your answer."
   ]
  },
  {
   "cell_type": "code",
   "execution_count": 10,
   "metadata": {},
   "outputs": [
    {
     "name": "stdout",
     "output_type": "stream",
     "text": [
      "+-----+-----+\n",
      "|Class|count|\n",
      "+-----+-----+\n",
      "|    1|   84|\n",
      "|    0|   86|\n",
      "+-----+-----+\n",
      "\n"
     ]
    }
   ],
   "source": [
    "## TODO\n",
    "df.groupBy('Class').count().show()"
   ]
  },
  {
   "cell_type": "markdown",
   "metadata": {},
   "source": [
    "*Q4*: Take the first 100 rows of your Dataframe and move them to Pandas. Conduct a quick data exploration on top."
   ]
  },
  {
   "cell_type": "code",
   "execution_count": 15,
   "metadata": {},
   "outputs": [],
   "source": [
    "# TODO\n",
    "df_pandas = df.limit(100).toPandas()"
   ]
  },
  {
   "cell_type": "code",
   "execution_count": 16,
   "metadata": {},
   "outputs": [
    {
     "data": {
      "text/html": [
       "<div>\n",
       "<style scoped>\n",
       "    .dataframe tbody tr th:only-of-type {\n",
       "        vertical-align: middle;\n",
       "    }\n",
       "\n",
       "    .dataframe tbody tr th {\n",
       "        vertical-align: top;\n",
       "    }\n",
       "\n",
       "    .dataframe thead th {\n",
       "        text-align: right;\n",
       "    }\n",
       "</style>\n",
       "<table border=\"1\" class=\"dataframe\">\n",
       "  <thead>\n",
       "    <tr style=\"text-align: right;\">\n",
       "      <th></th>\n",
       "      <th>Atr1</th>\n",
       "      <th>Atr2</th>\n",
       "      <th>Atr3</th>\n",
       "      <th>Atr4</th>\n",
       "      <th>Atr5</th>\n",
       "      <th>Atr6</th>\n",
       "      <th>Atr7</th>\n",
       "      <th>Atr8</th>\n",
       "      <th>Atr9</th>\n",
       "      <th>Atr10</th>\n",
       "      <th>...</th>\n",
       "      <th>Atr46</th>\n",
       "      <th>Atr47</th>\n",
       "      <th>Atr48</th>\n",
       "      <th>Atr49</th>\n",
       "      <th>Atr50</th>\n",
       "      <th>Atr51</th>\n",
       "      <th>Atr52</th>\n",
       "      <th>Atr53</th>\n",
       "      <th>Atr54</th>\n",
       "      <th>Class</th>\n",
       "    </tr>\n",
       "  </thead>\n",
       "  <tbody>\n",
       "    <tr>\n",
       "      <th>count</th>\n",
       "      <td>100.000000</td>\n",
       "      <td>100.000000</td>\n",
       "      <td>100.000000</td>\n",
       "      <td>100.00000</td>\n",
       "      <td>100.000000</td>\n",
       "      <td>100.000000</td>\n",
       "      <td>100.000000</td>\n",
       "      <td>100.000000</td>\n",
       "      <td>100.000000</td>\n",
       "      <td>100.000000</td>\n",
       "      <td>...</td>\n",
       "      <td>100.000000</td>\n",
       "      <td>100.000000</td>\n",
       "      <td>100.000000</td>\n",
       "      <td>100.000000</td>\n",
       "      <td>100.000000</td>\n",
       "      <td>100.000000</td>\n",
       "      <td>100.000000</td>\n",
       "      <td>100.000000</td>\n",
       "      <td>100.000000</td>\n",
       "      <td>100.000000</td>\n",
       "    </tr>\n",
       "    <tr>\n",
       "      <th>mean</th>\n",
       "      <td>2.730000</td>\n",
       "      <td>2.480000</td>\n",
       "      <td>2.510000</td>\n",
       "      <td>2.35000</td>\n",
       "      <td>2.530000</td>\n",
       "      <td>0.970000</td>\n",
       "      <td>0.840000</td>\n",
       "      <td>2.370000</td>\n",
       "      <td>2.430000</td>\n",
       "      <td>2.370000</td>\n",
       "      <td>...</td>\n",
       "      <td>2.860000</td>\n",
       "      <td>2.890000</td>\n",
       "      <td>3.170000</td>\n",
       "      <td>3.050000</td>\n",
       "      <td>3.040000</td>\n",
       "      <td>2.960000</td>\n",
       "      <td>3.090000</td>\n",
       "      <td>2.930000</td>\n",
       "      <td>2.920000</td>\n",
       "      <td>0.840000</td>\n",
       "    </tr>\n",
       "    <tr>\n",
       "      <th>std</th>\n",
       "      <td>1.324631</td>\n",
       "      <td>1.267145</td>\n",
       "      <td>1.210184</td>\n",
       "      <td>1.27426</td>\n",
       "      <td>1.424568</td>\n",
       "      <td>0.926108</td>\n",
       "      <td>1.041755</td>\n",
       "      <td>1.375507</td>\n",
       "      <td>1.335264</td>\n",
       "      <td>1.244422</td>\n",
       "      <td>...</td>\n",
       "      <td>1.325888</td>\n",
       "      <td>1.448754</td>\n",
       "      <td>1.044998</td>\n",
       "      <td>1.336171</td>\n",
       "      <td>1.332727</td>\n",
       "      <td>1.238442</td>\n",
       "      <td>1.272038</td>\n",
       "      <td>1.312373</td>\n",
       "      <td>1.461147</td>\n",
       "      <td>0.368453</td>\n",
       "    </tr>\n",
       "    <tr>\n",
       "      <th>min</th>\n",
       "      <td>0.000000</td>\n",
       "      <td>0.000000</td>\n",
       "      <td>0.000000</td>\n",
       "      <td>0.00000</td>\n",
       "      <td>0.000000</td>\n",
       "      <td>0.000000</td>\n",
       "      <td>0.000000</td>\n",
       "      <td>0.000000</td>\n",
       "      <td>0.000000</td>\n",
       "      <td>0.000000</td>\n",
       "      <td>...</td>\n",
       "      <td>0.000000</td>\n",
       "      <td>0.000000</td>\n",
       "      <td>0.000000</td>\n",
       "      <td>0.000000</td>\n",
       "      <td>0.000000</td>\n",
       "      <td>0.000000</td>\n",
       "      <td>0.000000</td>\n",
       "      <td>0.000000</td>\n",
       "      <td>0.000000</td>\n",
       "      <td>0.000000</td>\n",
       "    </tr>\n",
       "    <tr>\n",
       "      <th>25%</th>\n",
       "      <td>2.750000</td>\n",
       "      <td>2.000000</td>\n",
       "      <td>2.000000</td>\n",
       "      <td>2.00000</td>\n",
       "      <td>2.000000</td>\n",
       "      <td>0.000000</td>\n",
       "      <td>0.000000</td>\n",
       "      <td>2.000000</td>\n",
       "      <td>2.000000</td>\n",
       "      <td>2.000000</td>\n",
       "      <td>...</td>\n",
       "      <td>2.000000</td>\n",
       "      <td>2.000000</td>\n",
       "      <td>3.000000</td>\n",
       "      <td>2.000000</td>\n",
       "      <td>2.750000</td>\n",
       "      <td>2.000000</td>\n",
       "      <td>2.000000</td>\n",
       "      <td>2.000000</td>\n",
       "      <td>2.000000</td>\n",
       "      <td>1.000000</td>\n",
       "    </tr>\n",
       "    <tr>\n",
       "      <th>50%</th>\n",
       "      <td>3.000000</td>\n",
       "      <td>3.000000</td>\n",
       "      <td>3.000000</td>\n",
       "      <td>3.00000</td>\n",
       "      <td>3.000000</td>\n",
       "      <td>1.000000</td>\n",
       "      <td>1.000000</td>\n",
       "      <td>3.000000</td>\n",
       "      <td>3.000000</td>\n",
       "      <td>3.000000</td>\n",
       "      <td>...</td>\n",
       "      <td>3.000000</td>\n",
       "      <td>4.000000</td>\n",
       "      <td>3.000000</td>\n",
       "      <td>4.000000</td>\n",
       "      <td>4.000000</td>\n",
       "      <td>3.000000</td>\n",
       "      <td>4.000000</td>\n",
       "      <td>3.000000</td>\n",
       "      <td>4.000000</td>\n",
       "      <td>1.000000</td>\n",
       "    </tr>\n",
       "    <tr>\n",
       "      <th>75%</th>\n",
       "      <td>4.000000</td>\n",
       "      <td>3.000000</td>\n",
       "      <td>3.000000</td>\n",
       "      <td>3.00000</td>\n",
       "      <td>4.000000</td>\n",
       "      <td>2.000000</td>\n",
       "      <td>1.000000</td>\n",
       "      <td>3.000000</td>\n",
       "      <td>3.000000</td>\n",
       "      <td>3.000000</td>\n",
       "      <td>...</td>\n",
       "      <td>4.000000</td>\n",
       "      <td>4.000000</td>\n",
       "      <td>4.000000</td>\n",
       "      <td>4.000000</td>\n",
       "      <td>4.000000</td>\n",
       "      <td>4.000000</td>\n",
       "      <td>4.000000</td>\n",
       "      <td>4.000000</td>\n",
       "      <td>4.000000</td>\n",
       "      <td>1.000000</td>\n",
       "    </tr>\n",
       "    <tr>\n",
       "      <th>max</th>\n",
       "      <td>4.000000</td>\n",
       "      <td>4.000000</td>\n",
       "      <td>4.000000</td>\n",
       "      <td>4.00000</td>\n",
       "      <td>4.000000</td>\n",
       "      <td>4.000000</td>\n",
       "      <td>4.000000</td>\n",
       "      <td>4.000000</td>\n",
       "      <td>4.000000</td>\n",
       "      <td>4.000000</td>\n",
       "      <td>...</td>\n",
       "      <td>4.000000</td>\n",
       "      <td>4.000000</td>\n",
       "      <td>4.000000</td>\n",
       "      <td>4.000000</td>\n",
       "      <td>4.000000</td>\n",
       "      <td>4.000000</td>\n",
       "      <td>4.000000</td>\n",
       "      <td>4.000000</td>\n",
       "      <td>4.000000</td>\n",
       "      <td>1.000000</td>\n",
       "    </tr>\n",
       "  </tbody>\n",
       "</table>\n",
       "<p>8 rows × 55 columns</p>\n",
       "</div>"
      ],
      "text/plain": [
       "             Atr1        Atr2        Atr3       Atr4        Atr5        Atr6  \\\n",
       "count  100.000000  100.000000  100.000000  100.00000  100.000000  100.000000   \n",
       "mean     2.730000    2.480000    2.510000    2.35000    2.530000    0.970000   \n",
       "std      1.324631    1.267145    1.210184    1.27426    1.424568    0.926108   \n",
       "min      0.000000    0.000000    0.000000    0.00000    0.000000    0.000000   \n",
       "25%      2.750000    2.000000    2.000000    2.00000    2.000000    0.000000   \n",
       "50%      3.000000    3.000000    3.000000    3.00000    3.000000    1.000000   \n",
       "75%      4.000000    3.000000    3.000000    3.00000    4.000000    2.000000   \n",
       "max      4.000000    4.000000    4.000000    4.00000    4.000000    4.000000   \n",
       "\n",
       "             Atr7        Atr8        Atr9       Atr10  ...       Atr46  \\\n",
       "count  100.000000  100.000000  100.000000  100.000000  ...  100.000000   \n",
       "mean     0.840000    2.370000    2.430000    2.370000  ...    2.860000   \n",
       "std      1.041755    1.375507    1.335264    1.244422  ...    1.325888   \n",
       "min      0.000000    0.000000    0.000000    0.000000  ...    0.000000   \n",
       "25%      0.000000    2.000000    2.000000    2.000000  ...    2.000000   \n",
       "50%      1.000000    3.000000    3.000000    3.000000  ...    3.000000   \n",
       "75%      1.000000    3.000000    3.000000    3.000000  ...    4.000000   \n",
       "max      4.000000    4.000000    4.000000    4.000000  ...    4.000000   \n",
       "\n",
       "            Atr47       Atr48       Atr49       Atr50       Atr51       Atr52  \\\n",
       "count  100.000000  100.000000  100.000000  100.000000  100.000000  100.000000   \n",
       "mean     2.890000    3.170000    3.050000    3.040000    2.960000    3.090000   \n",
       "std      1.448754    1.044998    1.336171    1.332727    1.238442    1.272038   \n",
       "min      0.000000    0.000000    0.000000    0.000000    0.000000    0.000000   \n",
       "25%      2.000000    3.000000    2.000000    2.750000    2.000000    2.000000   \n",
       "50%      4.000000    3.000000    4.000000    4.000000    3.000000    4.000000   \n",
       "75%      4.000000    4.000000    4.000000    4.000000    4.000000    4.000000   \n",
       "max      4.000000    4.000000    4.000000    4.000000    4.000000    4.000000   \n",
       "\n",
       "            Atr53       Atr54       Class  \n",
       "count  100.000000  100.000000  100.000000  \n",
       "mean     2.930000    2.920000    0.840000  \n",
       "std      1.312373    1.461147    0.368453  \n",
       "min      0.000000    0.000000    0.000000  \n",
       "25%      2.000000    2.000000    1.000000  \n",
       "50%      3.000000    4.000000    1.000000  \n",
       "75%      4.000000    4.000000    1.000000  \n",
       "max      4.000000    4.000000    1.000000  \n",
       "\n",
       "[8 rows x 55 columns]"
      ]
     },
     "execution_count": 16,
     "metadata": {},
     "output_type": "execute_result"
    }
   ],
   "source": [
    "df_pandas.describe()"
   ]
  },
  {
   "cell_type": "markdown",
   "metadata": {},
   "source": [
    "Plot a correlation matrix. What do you notice?"
   ]
  },
  {
   "cell_type": "code",
   "execution_count": 19,
   "metadata": {},
   "outputs": [
    {
     "data": {
      "image/png": "[encoded data removed]",
      "text/plain": [
       "<Figure size 1440x720 with 2 Axes>"
      ]
     },
     "metadata": {
      "needs_background": "light"
     },
     "output_type": "display_data"
    }
   ],
   "source": [
    "# TODO\n",
    "import seaborn as sns\n",
    "\n",
    "corr = df_pandas.corr()\n",
    "\n",
    "plt.figure(figsize=(20,10))\n",
    "sns.heatmap(abs(corr))\n",
    "plt.show()"
   ]
  },
  {
   "cell_type": "markdown",
   "metadata": {},
   "source": [
    "*Q5*: Split the data into a train and a test set."
   ]
  },
  {
   "cell_type": "code",
   "execution_count": 20,
   "metadata": {},
   "outputs": [],
   "source": [
    "# TODO\n",
    "train_df = df.sampleBy('Class', fractions = {0:0.8, 1:0.8}, seed=42)\n",
    "test_df = df.subtract(train_df)"
   ]
  },
  {
   "cell_type": "markdown",
   "metadata": {},
   "source": [
    "*Q6*: Create a vector assembler and fit a logistic regression."
   ]
  },
  {
   "cell_type": "code",
   "execution_count": 22,
   "metadata": {},
   "outputs": [],
   "source": [
    "# TODO\n",
    "from pyspark.ml.feature import VectorAssembler\n",
    "from pyspark.ml.classification import LogisticRegression\n",
    "from pyspark.ml.pipeline import Pipeline\n",
    "\n",
    "assembler = VectorAssembler(inputCols=df.drop('Class').columns, outputCol='features')\n",
    "logr = LogisticRegression(featuresCol='features', labelCol='Class')\n",
    "\n",
    "pipe = Pipeline(stages=[assembler, logr])"
   ]
  },
  {
   "cell_type": "code",
   "execution_count": 23,
   "metadata": {},
   "outputs": [],
   "source": [
    "model = pipe.fit(train_df)"
   ]
  },
  {
   "cell_type": "markdown",
   "metadata": {},
   "source": [
    "*Q7*: Make a prediction and estimate the accuracy on the test set."
   ]
  },
  {
   "cell_type": "code",
   "execution_count": 33,
   "metadata": {},
   "outputs": [
    {
     "name": "stdout",
     "output_type": "stream",
     "text": [
      "+----+----+----+----+----+----+----+----+----+-----+-----+-----+-----+-----+-----+-----+-----+-----+-----+-----+-----+-----+-----+-----+-----+-----+-----+-----+-----+-----+-----+-----+-----+-----+-----+-----+-----+-----+-----+-----+-----+-----+-----+-----+-----+-----+-----+-----+-----+-----+-----+-----+-----+-----+-----+\n",
      "|Atr1|Atr2|Atr3|Atr4|Atr5|Atr6|Atr7|Atr8|Atr9|Atr10|Atr11|Atr12|Atr13|Atr14|Atr15|Atr16|Atr17|Atr18|Atr19|Atr20|Atr21|Atr22|Atr23|Atr24|Atr25|Atr26|Atr27|Atr28|Atr29|Atr30|Atr31|Atr32|Atr33|Atr34|Atr35|Atr36|Atr37|Atr38|Atr39|Atr40|Atr41|Atr42|Atr43|Atr44|Atr45|Atr46|Atr47|Atr48|Atr49|Atr50|Atr51|Atr52|Atr53|Atr54|Class|\n",
      "+----+----+----+----+----+----+----+----+----+-----+-----+-----+-----+-----+-----+-----+-----+-----+-----+-----+-----+-----+-----+-----+-----+-----+-----+-----+-----+-----+-----+-----+-----+-----+-----+-----+-----+-----+-----+-----+-----+-----+-----+-----+-----+-----+-----+-----+-----+-----+-----+-----+-----+-----+-----+\n",
      "|   0|   0|   2|   0|   0|   0|   0|   0|   0|    0|    0|    0|    0|    0|    0|    0|    0|    0|    0|    0|    0|    0|    0|    0|    0|    0|    0|    0|    0|    0|    2|    1|    0|    1|    0|    0|    1|    0|    0|    0|    0|    0|    2|    0|    2|    2|    1|    2|    0|    0|    0|    4|    4|    0|    0|\n",
      "|   4|   4|   4|   3|   4|   2|   4|   4|   4|    3|    4|    4|    4|    4|    4|    4|    4|    4|    4|    4|    4|    3|    0|    4|    0|    4|    4|    0|    4|    4|    0|    4|    4|    0|    1|    0|    2|    0|    4|    0|    2|    4|    4|    1|    4|    0|    4|    4|    4|    3|    4|    4|    4|    4|    1|\n",
      "|   3|   3|   3|   2|   1|   3|   4|   3|   2|    2|    2|    2|    2|    3|    2|    3|    3|    3|    3|    2|    3|    3|    3|    3|    2|    3|    3|    2|    2|    2|    1|    2|    2|    1|    1|    2|    3|    2|    2|    3|    3|    3|    3|    4|    3|    3|    2|    3|    2|    3|    3|    2|    2|    2|    1|\n",
      "|   3|   3|   3|   3|   3|   1|   1|   3|   3|    3|    3|    3|    3|    3|    3|    3|    3|    3|    3|    3|    3|    3|    3|    3|    3|    3|    3|    3|    3|    3|    4|    4|    4|    4|    4|    4|    4|    4|    4|    4|    4|    4|    4|    4|    4|    4|    4|    4|    4|    4|    4|    4|    4|    4|    1|\n",
      "|   0|   0|   0|   0|   0|   0|   0|   0|   0|    0|    0|    1|    0|    0|    0|    0|    0|    0|    0|    0|    0|    0|    0|    0|    0|    0|    0|    0|    0|    0|    0|    0|    0|    1|    0|    0|    1|    0|    4|    1|    2|    1|    1|    0|    4|    3|    3|    2|    2|    3|    2|    4|    3|    1|    0|\n",
      "|   0|   0|   0|   0|   1|   0|   0|   0|   0|    0|    0|    0|    1|    0|    1|    0|    0|    0|    0|    0|    0|    0|    0|    0|    1|    1|    0|    0|    1|    0|    0|    0|    0|    0|    0|    0|    0|    0|    0|    0|    0|    2|    3|    1|    3|    3|    3|    2|    1|    1|    1|    1|    1|    1|    0|\n",
      "|   0|   1|   1|   1|   0|   0|   0|   0|   0|    0|    0|    0|    0|    0|    0|    0|    0|    0|    0|    0|    0|    0|    0|    0|    0|    0|    0|    0|    0|    0|    2|    1|    1|    1|    0|    0|    2|    1|    2|    2|    1|    2|    2|    0|    1|    3|    0|    2|    2|    2|    2|    0|    0|    0|    0|\n",
      "|   2|   0|   2|   0|   0|   0|   0|   0|   0|    2|    0|    0|    2|    0|    0|    1|    1|    0|    0|    0|    1|    1|    0|    0|    0|    0|    0|    0|    0|    0|    1|    1|    0|    1|    1|    1|    1|    0|    1|    1|    0|    2|    1|    0|    0|    3|    2|    2|    1|    1|    1|    1|    2|    1|    0|\n",
      "|   4|   3|   3|   2|   4|   1|   0|   3|   3|    2|    4|    3|    4|    3|    3|    2|    4|    3|    4|    3|    3|    2|    4|    3|    4|    3|    3|    2|    4|    3|    4|    4|    4|    4|    4|    4|    4|    4|    4|    4|    4|    4|    4|    4|    4|    4|    4|    4|    4|    4|    4|    4|    4|    4|    1|\n",
      "|   3|   3|   2|   3|   3|   1|   1|   3|   2|    3|    3|    3|    3|    3|    2|    3|    3|    3|    3|    3|    2|    3|    3|    3|    3|    3|    2|    3|    3|    3|    4|    4|    4|    4|    4|    4|    4|    4|    4|    4|    4|    4|    4|    4|    4|    4|    4|    4|    4|    4|    4|    4|    4|    4|    1|\n",
      "|   4|   3|   2|   3|   4|   1|   0|   3|   2|    3|    4|    3|    4|    3|    2|    3|    4|    3|    4|    3|    2|    3|    4|    3|    4|    3|    2|    3|    4|    3|    3|    4|    3|    4|    3|    4|    3|    4|    3|    4|    3|    4|    3|    4|    3|    4|    3|    4|    3|    3|    4|    3|    4|    3|    1|\n",
      "|   2|   2|   2|   2|   1|   3|   2|   1|   1|    2|    3|    4|    2|    3|    3|    3|    3|    3|    3|    2|    1|    0|    1|    2|    2|    2|    2|    2|    3|    2|    3|    3|    1|    1|    1|    1|    2|    1|    3|    3|    3|    3|    2|    3|    2|    3|    2|    3|    1|    1|    1|    2|    2|    2|    1|\n",
      "|   1|   0|   0|   0|   0|   1|   0|   0|   0|    1|    1|    0|    1|    1|    1|    1|    0|    1|    0|    0|    0|    0|    0|    1|    1|    0|    0|    0|    0|    1|    1|    0|    0|    0|    0|    0|    0|    0|    0|    0|    0|    2|    4|    1|    0|    2|    1|    2|    1|    2|    2|    4|    2|    0|    0|\n",
      "|   2|   2|   2|   3|   2|   3|   2|   1|   3|    2|    1|    2|    2|    2|    3|    3|    3|    3|    3|    2|    2|    1|    1|    3|    3|    3|    2|    3|    2|    2|    3|    3|    3|    3|    3|    3|    3|    3|    4|    4|    4|    4|    3|    4|    2|    2|    3|    3|    2|    1|    1|    2|    2|    2|    1|\n",
      "|   0|   0|   0|   0|   0|   2|   0|   0|   0|    0|    0|    0|    1|    0|    0|    1|    1|    0|    0|    0|    0|    0|    0|    0|    0|    0|    0|    0|    0|    1|    0|    0|    0|    1|    0|    0|    1|    0|    0|    0|    0|    2|    4|    0|    4|    3|    1|    1|    2|    2|    2|    1|    0|    0|    0|\n",
      "|   2|   1|   1|   0|   0|   2|   0|   0|   0|    2|    0|    1|    1|    1|    1|    0|    0|    0|    0|    0|    0|    0|    0|    0|    1|    1|    0|    0|    0|    1|    1|    1|    2|    2|    0|    0|    0|    0|    0|    0|    1|    0|    1|    2|    0|    1|    0|    3|    1|    1|    3|    1|    1|    1|    0|\n",
      "|   0|   0|   0|   0|   0|   1|   0|   0|   0|    1|    0|    1|    1|    0|    0|    1|    0|    0|    0|    0|    0|    0|    0|    0|    2|    1|    1|    0|    0|    0|    0|    0|    0|    0|    0|    0|    0|    0|    0|    0|    0|    0|    1|    1|    0|    4|    1|    1|    4|    4|    2|    2|    0|    1|    0|\n",
      "|   3|   3|   3|   2|   3|   1|   1|   3|   3|    2|    3|    3|    3|    3|    3|    2|    3|    3|    3|    3|    3|    2|    3|    3|    3|    3|    3|    2|    3|    3|    4|    4|    4|    4|    4|    4|    4|    4|    4|    4|    4|    4|    4|    4|    3|    4|    4|    4|    4|    4|    4|    4|    4|    4|    1|\n",
      "|   0|   0|   0|   0|   0|   1|   0|   1|   1|    0|    0|    0|    1|    1|    0|    0|    0|    0|    0|    0|    1|    1|    1|    0|    1|    0|    0|    0|    0|    1|    1|    1|    1|    1|    0|    0|    1|    0|    0|    0|    0|    0|    0|    0|    0|    0|    0|    2|    1|    2|    2|    3|    3|    2|    0|\n",
      "|   0|   0|   0|   0|   0|   0|   0|   0|   0|    1|    0|    1|    0|    0|    0|    0|    0|    0|    0|    0|    0|    0|    0|    0|    0|    0|    0|    0|    0|    0|    2|    2|    0|    0|    0|    0|    0|    0|    0|    0|    0|    4|    4|    0|    4|    1|    4|    2|    3|    2|    2|    0|    0|    0|    0|\n",
      "+----+----+----+----+----+----+----+----+----+-----+-----+-----+-----+-----+-----+-----+-----+-----+-----+-----+-----+-----+-----+-----+-----+-----+-----+-----+-----+-----+-----+-----+-----+-----+-----+-----+-----+-----+-----+-----+-----+-----+-----+-----+-----+-----+-----+-----+-----+-----+-----+-----+-----+-----+-----+\n",
      "only showing top 20 rows\n",
      "\n"
     ]
    }
   ],
   "source": [
    "test_df.show()"
   ]
  },
  {
   "cell_type": "code",
   "execution_count": 24,
   "metadata": {},
   "outputs": [],
   "source": [
    "predictions = model.transform(test_df)"
   ]
  },
  {
   "cell_type": "code",
   "execution_count": 28,
   "metadata": {},
   "outputs": [
    {
     "data": {
      "text/plain": [
       "1.0"
      ]
     },
     "execution_count": 28,
     "metadata": {},
     "output_type": "execute_result"
    }
   ],
   "source": [
    "from pyspark.ml.evaluation import BinaryClassificationEvaluator\n",
    "\n",
    "evaluator = BinaryClassificationEvaluator(rawPredictionCol='rawPrediction', labelCol='Class')\n",
    "evaluator.evaluate(predictions)"
   ]
  },
  {
   "cell_type": "code",
   "execution_count": 32,
   "metadata": {},
   "outputs": [
    {
     "data": {
      "text/plain": [
       "1.0"
      ]
     },
     "execution_count": 32,
     "metadata": {},
     "output_type": "execute_result"
    }
   ],
   "source": [
    "training_summary = model.stages[1].summary\n",
    "training_summary.accuracy"
   ]
  },
  {
   "cell_type": "markdown",
   "metadata": {},
   "source": [
    "*Q8*: What do you notice with the accuracy? How could you explain that?"
   ]
  },
  {
   "cell_type": "code",
   "execution_count": null,
   "metadata": {},
   "outputs": [],
   "source": [
    "# TODO"
   ]
  }
 ],
 "metadata": {
  "kernelspec": {
   "display_name": "Python 3",
   "language": "python",
   "name": "python3"
  },
  "language_info": {
   "codemirror_mode": {
    "name": "ipython",
    "version": 3
   },
   "file_extension": ".py",
   "mimetype": "text/x-python",
   "name": "python",
   "nbconvert_exporter": "python",
   "pygments_lexer": "ipython3",
   "version": "3.7.6"
  },
  "toc": {
   "base_numbering": 1,
   "nav_menu": {},
   "number_sections": true,
   "sideBar": true,
   "skip_h1_title": false,
   "title_cell": "Table of Contents",
   "title_sidebar": "Contents",
   "toc_cell": false,
   "toc_position": {},
   "toc_section_display": true,
   "toc_window_display": false
  },
  "varInspector": {
   "cols": {
    "lenName": 16,
    "lenType": 16,
    "lenVar": 40
   },
   "kernels_config": {
    "python": {
     "delete_cmd_postfix": "",
     "delete_cmd_prefix": "del ",
     "library": "var_list.py",
     "varRefreshCmd": "print(var_dic_list())"
    },
    "r": {
     "delete_cmd_postfix": ") ",
     "delete_cmd_prefix": "rm(",
     "library": "var_list.r",
     "varRefreshCmd": "cat(var_dic_list()) "
    }
   },
   "types_to_exclude": [
    "module",
    "function",
    "builtin_function_or_method",
    "instance",
    "_Feature"
   ],
   "window_display": false
  }
 },
 "nbformat": 4,
 "nbformat_minor": 2
}
