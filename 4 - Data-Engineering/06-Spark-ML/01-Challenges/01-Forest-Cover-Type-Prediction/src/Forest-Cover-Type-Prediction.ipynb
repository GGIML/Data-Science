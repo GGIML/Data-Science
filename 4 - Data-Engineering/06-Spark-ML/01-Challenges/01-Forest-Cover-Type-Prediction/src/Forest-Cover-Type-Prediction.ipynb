{
 "cells": [
  {
   "cell_type": "markdown",
   "metadata": {},
   "source": [
    "#  Forest Cover Type Prediction\n",
    "\n",
    "---\n",
    "![](https://images.unsplash.com/photo-1440342359743-84fcb8c21f21?ixlib=rb-1.2.1&ixid=eyJhcHBfaWQiOjEyMDd9&auto=format&fit=crop&w=1350&q=80)\n",
    "Picture by [kazuend](https://unsplash.com/photos/19SC2oaVZW0)"
   ]
  },
  {
   "cell_type": "markdown",
   "metadata": {},
   "source": [
    "**Q1 - Load the data**\n",
    "\n",
    "Follow this link to download the data: https://drive.google.com/open?id=1ybK_g8jFfxDcWwjei9OADuTydnMz9124"
   ]
  },
  {
   "cell_type": "code",
   "execution_count": 3,
   "metadata": {},
   "outputs": [],
   "source": [
    "# TODO\n",
    "from pyspark.sql import SparkSession\n",
    "\n",
    "spark = SparkSession.builder.master('local[*]').appName('ForestCover').getOrCreate()"
   ]
  },
  {
   "cell_type": "code",
   "execution_count": 7,
   "metadata": {},
   "outputs": [
    {
     "name": "stdout",
     "output_type": "stream",
     "text": [
      "http://192.168.0.19:4041\n"
     ]
    }
   ],
   "source": [
    "print(spark.sparkContext.uiWebUrl)"
   ]
  },
  {
   "cell_type": "code",
   "execution_count": 42,
   "metadata": {},
   "outputs": [],
   "source": [
    "df = spark.read.csv('/home/guillaume/code/GGIML/vivadata-student/data/forest_cover/train-set.csv',\n",
    "                     header=True, inferSchema=True)"
   ]
  },
  {
   "cell_type": "markdown",
   "metadata": {},
   "source": [
    "## 1. Logistic Regression : \n",
    "\n",
    "The goal here is to understand how to run a Linear Regression Algorithms on the Data."
   ]
  },
  {
   "cell_type": "code",
   "execution_count": 43,
   "metadata": {},
   "outputs": [
    {
     "name": "stdout",
     "output_type": "stream",
     "text": [
      "(528720, 56)\n"
     ]
    }
   ],
   "source": [
    "# TODO : print your dataset size\n",
    "print((df.count(), len(df.columns)))"
   ]
  },
  {
   "cell_type": "markdown",
   "metadata": {},
   "source": [
    "**Q2 - Use `VectorAssembler()` to merge our feature columns into a single vector column as requiered by Spark methods.***"
   ]
  },
  {
   "cell_type": "code",
   "execution_count": 44,
   "metadata": {},
   "outputs": [],
   "source": [
    "inputcol = [\"Elevation\", \"Aspect\", \"Slope\", \"Horizontal_Distance_To_Hydrology\", \"Vertical_Distance_To_Hydrology\", \"Horizontal_Distance_To_Roadways\", \"Hillshade_9am\", \"Hillshade_Noon\", \"Hillshade_3pm\", \"Horizontal_Distance_To_Fire_Points\", \"Wilderness_Area1\", \"Wilderness_Area2\", \"Wilderness_Area3\", \"Wilderness_Area4\", \"Soil_Type1\", \"Soil_Type2\", \"Soil_Type3\", \"Soil_Type4\", \"Soil_Type5\", \"Soil_Type6\", \"Soil_Type7\", \"Soil_Type8\", \"Soil_Type9\", \"Soil_Type10\", \"Soil_Type11\", \"Soil_Type12\", \"Soil_Type13\", \"Soil_Type14\", \"Soil_Type15\", \"Soil_Type16\", \"Soil_Type17\", \"Soil_Type18\", \"Soil_Type19\", \"Soil_Type20\", \"Soil_Type21\", \"Soil_Type22\", \"Soil_Type23\", \"Soil_Type24\", \"Soil_Type25\", \"Soil_Type26\", \"Soil_Type27\", \"Soil_Type28\", \"Soil_Type29\", \"Soil_Type30\", \"Soil_Type31\", \"Soil_Type32\", \"Soil_Type33\", \"Soil_Type34\", \"Soil_Type35\", \"Soil_Type36\", \"Soil_Type37\", \"Soil_Type38\", \"Soil_Type39\", \"Soil_Type40\"]\n",
    "\n",
    "# TODO\n",
    "from pyspark.ml.feature import VectorAssembler\n",
    "\n",
    "assembler = VectorAssembler(inputCols=inputcol, outputCol='features')"
   ]
  },
  {
   "cell_type": "code",
   "execution_count": 45,
   "metadata": {},
   "outputs": [
    {
     "name": "stdout",
     "output_type": "stream",
     "text": [
      "+----------+------+--------------------+\n",
      "|Cover_Type| count|          percentage|\n",
      "+----------+------+--------------------+\n",
      "|         1|192511|   0.364107656226358|\n",
      "|         6| 15687|0.029669768497503406|\n",
      "|         3| 32598| 0.06165456196096233|\n",
      "|         5|  8676|0.016409441670449387|\n",
      "|         4|  2503|0.004734074746557724|\n",
      "|         7| 18756|0.035474353154788925|\n",
      "|         2|257989| 0.48795014374338025|\n",
      "+----------+------+--------------------+\n",
      "\n"
     ]
    }
   ],
   "source": [
    "total_count = df.count()\n",
    "count_df = df.groupBy('Cover_Type').count()\n",
    "count_df = count_df.withColumn('percentage', count_df['count']/total_count).show()"
   ]
  },
  {
   "cell_type": "code",
   "execution_count": 46,
   "metadata": {},
   "outputs": [],
   "source": [
    "train_df = df.sampleBy(\"Cover_Type\", fractions={1: 0.8, 2: 0.8, 3: 0.8, 4: 0.8, 5: 0.8, 6: 0.8, 7: 0.8}, seed=42)"
   ]
  },
  {
   "cell_type": "code",
   "execution_count": 47,
   "metadata": {},
   "outputs": [],
   "source": [
    "test_df = df.subtract(train_df)"
   ]
  },
  {
   "cell_type": "code",
   "execution_count": 48,
   "metadata": {},
   "outputs": [
    {
     "name": "stdout",
     "output_type": "stream",
     "text": [
      "(422908, 56)\n",
      "(105812, 56)\n"
     ]
    }
   ],
   "source": [
    "print((train_df.count(), len(train_df.columns)))\n",
    "print((test_df.count(), len(test_df.columns)))"
   ]
  },
  {
   "cell_type": "markdown",
   "metadata": {},
   "source": [
    "**Q3 - Use `Logistic Regression` to define the classifier.**"
   ]
  },
  {
   "cell_type": "code",
   "execution_count": 49,
   "metadata": {},
   "outputs": [],
   "source": [
    "# TODO\n",
    "from pyspark.mllib.classification import LogisticRegression\n",
    "\n",
    "logr = LogisticRegression(featuresCol = 'features', labelCol='Cover_Type')"
   ]
  },
  {
   "cell_type": "markdown",
   "metadata": {},
   "source": [
    "**Q4 - Create a pipeline that will chain the vector assambler and the classifier stages.**"
   ]
  },
  {
   "cell_type": "code",
   "execution_count": 50,
   "metadata": {},
   "outputs": [],
   "source": [
    "# Chain vecAssembler and classification model \n",
    "from pyspark.ml.pipeline import Pipeline\n",
    "\n",
    "pipe = Pipeline(stages=[assembler, logr])\n",
    "\n",
    "# Run stages in pipeline with the train data\n",
    "model = pipe.fit(train_df)"
   ]
  },
  {
   "cell_type": "markdown",
   "metadata": {},
   "source": [
    "**Q5 - Once we have trained the classifier, we can use it to make predictions on the test data.**"
   ]
  },
  {
   "cell_type": "code",
   "execution_count": 53,
   "metadata": {},
   "outputs": [],
   "source": [
    "# Make predictions on testData\n",
    "predictions = model.transform(test_df)"
   ]
  },
  {
   "cell_type": "code",
   "execution_count": 54,
   "metadata": {},
   "outputs": [
    {
     "name": "stdout",
     "output_type": "stream",
     "text": [
      "+--------------------+--------------------+----------+\n",
      "|       raWPrediction|         probability|prediction|\n",
      "+--------------------+--------------------+----------+\n",
      "|[-8.7762130191404...|[5.35345858389372...|       2.0|\n",
      "|[-8.7794931183245...|[9.28441879726121...|       1.0|\n",
      "|[-8.7840213345068...|[1.86008743385490...|       2.0|\n",
      "|[-8.7799272125552...|[2.41930694330718...|       2.0|\n",
      "|[-8.7808004871736...|[4.95429563234496...|       2.0|\n",
      "|[-8.7764739369276...|[1.55375319935563...|       2.0|\n",
      "|[-8.7812991876534...|[1.84650877418513...|       1.0|\n",
      "|[-8.7861425171993...|[4.71813442840067...|       1.0|\n",
      "|[-8.7831006655145...|[1.80426281601324...|       2.0|\n",
      "|[-8.7821232773328...|[5.91833657554378...|       1.0|\n",
      "|[-8.7784144399904...|[1.22007926855750...|       2.0|\n",
      "|[-8.7772227435178...|[2.66331736685972...|       3.0|\n",
      "|[-8.7789571496242...|[1.84967462137713...|       2.0|\n",
      "|[-8.7803780407016...|[3.66504426931112...|       1.0|\n",
      "|[-8.7817906049125...|[1.99071194957161...|       2.0|\n",
      "|[-8.7799154988667...|[1.29054666268075...|       1.0|\n",
      "|[-8.7780977605425...|[8.28009447079845...|       3.0|\n",
      "|[-8.7830474337600...|[2.44247608031739...|       1.0|\n",
      "|[-8.7812560226093...|[1.25207874839465...|       1.0|\n",
      "|[-8.7691922113113...|[2.30710630075456...|       3.0|\n",
      "+--------------------+--------------------+----------+\n",
      "only showing top 20 rows\n",
      "\n"
     ]
    }
   ],
   "source": [
    "# Show the content of 'predictions'\n",
    "predictions.select('raWPrediction','probability', 'prediction').show()"
   ]
  },
  {
   "cell_type": "markdown",
   "metadata": {},
   "source": [
    "**Q6 - Compute the accuracy score.**"
   ]
  },
  {
   "cell_type": "code",
   "execution_count": 65,
   "metadata": {},
   "outputs": [],
   "source": [
    "# Accuracy\n",
    "trainingSummary = model.stages[1].summary"
   ]
  },
  {
   "cell_type": "code",
   "execution_count": 68,
   "metadata": {},
   "outputs": [
    {
     "name": "stdout",
     "output_type": "stream",
     "text": [
      "Accuracy: 0.709937\n"
     ]
    }
   ],
   "source": [
    "print(\"Accuracy: %f\" % trainingSummary.accuracy)"
   ]
  },
  {
   "cell_type": "code",
   "execution_count": 69,
   "metadata": {},
   "outputs": [],
   "source": [
    "from pyspark.ml.evaluation import MulticlassClassificationEvaluator"
   ]
  },
  {
   "cell_type": "code",
   "execution_count": 70,
   "metadata": {},
   "outputs": [],
   "source": [
    "evaluator = MulticlassClassificationEvaluator(predictionCol='prediction', labelCol='Cover_Type', metricName='accuracy')"
   ]
  },
  {
   "cell_type": "code",
   "execution_count": 71,
   "metadata": {},
   "outputs": [
    {
     "data": {
      "text/plain": [
       "0.7137281215741126"
      ]
     },
     "execution_count": 71,
     "metadata": {},
     "output_type": "execute_result"
    }
   ],
   "source": [
    "evaluator.evaluate(predictions)"
   ]
  },
  {
   "cell_type": "markdown",
   "metadata": {},
   "source": [
    "## 2. DecisionTreeClassifier : \n",
    "\n",
    "**Q7 - Execute the same step as before and adapt your code to the Decision Tree algorithm.**"
   ]
  },
  {
   "cell_type": "code",
   "execution_count": 72,
   "metadata": {},
   "outputs": [
    {
     "data": {
      "text/plain": [
       "0.7006010660416588"
      ]
     },
     "execution_count": 72,
     "metadata": {},
     "output_type": "execute_result"
    }
   ],
   "source": [
    "# Chain vecAssembler and classification model\n",
    "from pyspark.ml.classification import DecisionTreeClassifier\n",
    "\n",
    "tree = DecisionTreeClassifier(featuresCol = 'features', labelCol='Cover_Type')\n",
    "\n",
    "pipe_tree = Pipeline(stages=[assembler, tree])\n",
    "\n",
    "# Train model.\n",
    "model_tree = pipe_tree.fit(train_df)\n",
    "\n",
    "# Make predictions.\n",
    "pred_tree = model_tree.transform(test_df)\n",
    "\n",
    "# Select example rows to display.\n",
    "pred_tree.select('Cover_Type', 'prediction').head(5)\n",
    "\n",
    "# Select (prediction, true label) and compute test error\n",
    "evaluator.evaluate(pred_tree)"
   ]
  },
  {
   "cell_type": "code",
   "execution_count": 81,
   "metadata": {},
   "outputs": [
    {
     "name": "stderr",
     "output_type": "stream",
     "text": [
      "/home/guillaume/.pyenv/versions/3.7.6/lib/python3.7/importlib/_bootstrap.py:219: RuntimeWarning: numpy.ufunc size changed, may indicate binary incompatibility. Expected 192 from C header, got 216 from PyObject\n",
      "  return f(*args, **kwds)\n"
     ]
    },
    {
     "data": {
      "text/plain": [
       "0.7006010660416588"
      ]
     },
     "execution_count": 81,
     "metadata": {},
     "output_type": "execute_result"
    }
   ],
   "source": [
    "# Same with Scikit-learn's accuracy score\n",
    "from sklearn.metrics import accuracy_score\n",
    "\n",
    "accuracy_score(test_df.select('Cover_Type').toPandas(), pred_tree.select('prediction').toPandas())"
   ]
  },
  {
   "cell_type": "markdown",
   "metadata": {},
   "source": [
    "## 3. Random Forest Classifier :\n",
    "\n",
    "**Q8 - Execute the same step as before and adapt your code to the Random Forest algorithm.**"
   ]
  },
  {
   "cell_type": "code",
   "execution_count": 83,
   "metadata": {},
   "outputs": [
    {
     "data": {
      "text/plain": [
       "0.7337636562960723"
      ]
     },
     "execution_count": 83,
     "metadata": {},
     "output_type": "execute_result"
    }
   ],
   "source": [
    "# Chain indexers and forest in a Pipeline\n",
    "from pyspark.ml.classification import RandomForestClassifier\n",
    "\n",
    "rfc = RandomForestClassifier(featuresCol = 'features', labelCol='Cover_Type', maxDepth=10)\n",
    "\n",
    "pipe_forest = Pipeline(stages=[assembler, rfc])\n",
    "\n",
    "# Train model.\n",
    "model_forest = pipe_forest.fit(train_df)\n",
    "\n",
    "# Make predictions.\n",
    "pred_forest = model_forest.transform(test_df)\n",
    "\n",
    "# Select example rows to display.\n",
    "\n",
    "# Select (prediction, true label) and compute test error\n",
    "evaluator.evaluate(pred_forest)"
   ]
  },
  {
   "cell_type": "code",
   "execution_count": null,
   "metadata": {},
   "outputs": [],
   "source": [
    "# Same with Scikit-learn's accuracy score"
   ]
  },
  {
   "cell_type": "markdown",
   "metadata": {},
   "source": [
    "## 4. Correlation and preparation Data processing\n",
    "\n",
    "It is also possible to realise Correlation Matric to see which are the important features.\n",
    "\n",
    "**Q9 - Display the statistic values of the Correlation Matrix.**"
   ]
  },
  {
   "cell_type": "code",
   "execution_count": 90,
   "metadata": {},
   "outputs": [],
   "source": [
    "df = assembler.transform(df)"
   ]
  },
  {
   "cell_type": "code",
   "execution_count": 108,
   "metadata": {},
   "outputs": [
    {
     "name": "stdout",
     "output_type": "stream",
     "text": [
      "Pearson correlation matrix:\n",
      "DenseMatrix([[ 1.        ,  0.01652763, -0.24059199, ...,  0.21720573,\n",
      "               0.19306771,  0.21238823],\n",
      "             [ 0.01652763,  1.        ,  0.07790496, ...,  0.01849119,\n",
      "               0.0087294 , -0.00473708],\n",
      "             [-0.24059199,  0.07790496,  1.        , ..., -0.07181315,\n",
      "               0.09371868,  0.02573516],\n",
      "             ...,\n",
      "             [ 0.21720573,  0.01849119, -0.07181315, ...,  1.        ,\n",
      "              -0.0258823 , -0.02060533],\n",
      "             [ 0.19306771,  0.0087294 ,  0.09371868, ..., -0.0258823 ,\n",
      "               1.        , -0.01928071],\n",
      "             [ 0.21238823, -0.00473708,  0.02573516, ..., -0.02060533,\n",
      "              -0.01928071,  1.        ]])\n"
     ]
    }
   ],
   "source": [
    "# TODO\n",
    "from pyspark.ml.stat import Correlation\n",
    "\n",
    "corr = Correlation.corr(df, 'features').collect()[0][0]\n",
    "print(\"Pearson correlation matrix:\\n\" + str(corr))"
   ]
  },
  {
   "cell_type": "markdown",
   "metadata": {},
   "source": [
    "Obviously, you can't say anything with those values.\n",
    "\n",
    "**Q10 - Plot the Correlation Matrix using `seaborn.heatmap`**"
   ]
  },
  {
   "cell_type": "code",
   "execution_count": 118,
   "metadata": {},
   "outputs": [
    {
     "data": {
      "image/png": "[encoded data removed]",
      "text/plain": [
       "<Figure size 1440x720 with 2 Axes>"
      ]
     },
     "metadata": {
      "needs_background": "light"
     },
     "output_type": "display_data"
    }
   ],
   "source": [
    "# TODO\n",
    "import seaborn as sns\n",
    "import matplotlib.pyplot as plt\n",
    "import numpy as np\n",
    "\n",
    "plt.figure(figsize=(20,10))\n",
    "sns.heatmap(abs(corr.toArray()))\n",
    "plt.show()"
   ]
  },
  {
   "cell_type": "markdown",
   "metadata": {},
   "source": [
    "**Q11 - Going further [optionnal] :** \n",
    "* Try to avoid overfitting  \n",
    "* Realise some cross validation to improve the score."
   ]
  }
 ],
 "metadata": {
  "kernelspec": {
   "display_name": "Python 3",
   "language": "python",
   "name": "python3"
  },
  "language_info": {
   "codemirror_mode": {
    "name": "ipython",
    "version": 3
   },
   "file_extension": ".py",
   "mimetype": "text/x-python",
   "name": "python",
   "nbconvert_exporter": "python",
   "pygments_lexer": "ipython3",
   "version": "3.7.6"
  },
  "latex_envs": {
   "LaTeX_envs_menu_present": true,
   "autoclose": false,
   "autocomplete": true,
   "bibliofile": "biblio.bib",
   "cite_by": "apalike",
   "current_citInitial": 1,
   "eqLabelWithNumbers": true,
   "eqNumInitial": 1,
   "hotkeys": {
    "equation": "Ctrl-E",
    "itemize": "Ctrl-I"
   },
   "labels_anchors": false,
   "latex_user_defs": false,
   "report_style_numbering": false,
   "user_envs_cfg": false
  },
  "name": "SD701-TP03",
  "notebookId": 1173121549731821,
  "toc": {
   "base_numbering": 1,
   "nav_menu": {},
   "number_sections": true,
   "sideBar": true,
   "skip_h1_title": false,
   "title_cell": "Table of Contents",
   "title_sidebar": "Contents",
   "toc_cell": false,
   "toc_position": {},
   "toc_section_display": true,
   "toc_window_display": false
  },
  "varInspector": {
   "cols": {
    "lenName": 16,
    "lenType": 16,
    "lenVar": 40
   },
   "kernels_config": {
    "python": {
     "delete_cmd_postfix": "",
     "delete_cmd_prefix": "del ",
     "library": "var_list.py",
     "varRefreshCmd": "print(var_dic_list())"
    },
    "r": {
     "delete_cmd_postfix": ") ",
     "delete_cmd_prefix": "rm(",
     "library": "var_list.r",
     "varRefreshCmd": "cat(var_dic_list()) "
    }
   },
   "types_to_exclude": [
    "module",
    "function",
    "builtin_function_or_method",
    "instance",
    "_Feature"
   ],
   "window_display": false
  }
 },
 "nbformat": 4,
 "nbformat_minor": 1
}
