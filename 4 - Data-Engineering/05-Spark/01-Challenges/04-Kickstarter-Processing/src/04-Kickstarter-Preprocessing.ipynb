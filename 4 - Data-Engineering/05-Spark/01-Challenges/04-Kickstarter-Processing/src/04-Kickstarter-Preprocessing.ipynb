{
 "cells": [
  {
   "cell_type": "markdown",
   "metadata": {},
   "source": [
    "# Challenge - Kickstarter preprocessing\n",
    "---\n",
    "![](https://images.unsplash.com/photo-1530083727892-3c261661d7a4?ixlib=rb-1.2.1&ixid=eyJhcHBfaWQiOjEyMDd9&auto=format&fit=crop&w=1350&q=80)\n",
    "Picture by [Steve Halama](https://unsplash.com/photos/GjSzvtZhMoA)\n",
    "\n",
    "In this exercise, we will start working on the Kickstarter dataset, each record is about a specific campaign. Today, you will pre-process the dataset. \n",
    "\n",
    "During the next Spark course, you will apply machine learning to predict successful campaigns."
   ]
  },
  {
   "cell_type": "code",
   "execution_count": 1,
   "metadata": {
    "ExecuteTime": {
     "end_time": "2019-05-29T13:50:23.183213Z",
     "start_time": "2019-05-29T13:50:03.395486Z"
    }
   },
   "outputs": [
    {
     "name": "stdout",
     "output_type": "stream",
     "text": [
      "  % Total    % Received % Xferd  Average Speed   Time    Time     Time  Current\n",
      "                                 Dload  Upload   Total   Spent    Left  Speed\n",
      "100 31.1M  100 31.1M    0     0  18.2M      0  0:00:01  0:00:01 --:--:-- 18.2M\n"
     ]
    }
   ],
   "source": [
    "# Q0 - download csv file\n",
    "!curl -O https://s3.eu-central-1.amazonaws.com/alex-image-hosting/train_clean.csv > train_clean.csv"
   ]
  },
  {
   "cell_type": "markdown",
   "metadata": {},
   "source": [
    "**Q1 - Have a look at our train_clean.csv file, with the linux ```head``` command.**"
   ]
  },
  {
   "cell_type": "code",
   "execution_count": 1,
   "metadata": {
    "ExecuteTime": {
     "end_time": "2019-05-29T13:50:34.544622Z",
     "start_time": "2019-05-29T13:50:34.417143Z"
    }
   },
   "outputs": [
    {
     "name": "stdout",
     "output_type": "stream",
     "text": [
      "project_id,name,desc,goal,keywords,disable_communication,country,currency,deadline,state_changed_at,created_at,launched_at,backers_count,final_status\r\n",
      "kkst1451568084,drawing for dollars,I like drawing pictures. and then i color them too. so i thought i would suggest something for me to draw and then if someone wants...,20.0,drawing-for-dollars,False,US,USD,1241333999,1241334017,1240600507,1240602723,3,1\r\n",
      "kkst1474482071,Sponsor Dereck Blackburn (Lostwars) Artist in Residence in Kankakee Illinois,I  Dereck Blackburn will be taking upon an incredible journey in the month of May 2009. I will be traveling to my hometown of Kankakee...,300.0,sponsor-dereck-blackburn-lostwars-artist-in-residence-in-kankakee-illinois,False,US,USD,1242429000,1242432018,1240960224,1240975592,2,0\r\n",
      "kkst183622197,Mr. Squiggles,So I saw darkpony s successfully funded drawing for dollars project and I thought  That s fun.  I drew this guy  who I m calling...,30.0,mr-squiggles,False,US,USD,1243027560,1243027818,1242163613,1242164398,0,0\r\n",
      "kkst597742710,Help me write my second novel.,Do your part to help out starving artists and help me write my second novel! I have just finished writing my first novel  and...,500.0,help-me-write-my-second-novel,False,US,USD,1243555740,1243556121,1240963795,1240966730,18,1\r\n"
     ]
    }
   ],
   "source": [
    "# Q1 - Unix command for file first lines\n",
    "!head -n 5 train_clean.csv"
   ]
  },
  {
   "cell_type": "markdown",
   "metadata": {},
   "source": [
    "**Q2 - Create the spark session variable, name it \"preprocessing\".**"
   ]
  },
  {
   "cell_type": "code",
   "execution_count": 4,
   "metadata": {
    "ExecuteTime": {
     "end_time": "2019-05-29T13:51:37.183479Z",
     "start_time": "2019-05-29T13:51:32.078141Z"
    }
   },
   "outputs": [],
   "source": [
    "# TODO\n",
    "from pyspark.sql import SparkSession\n",
    "spark = SparkSession.builder.master('local[4]').appName('preprocessing').getOrCreate()"
   ]
  },
  {
   "cell_type": "code",
   "execution_count": 5,
   "metadata": {},
   "outputs": [
    {
     "name": "stdout",
     "output_type": "stream",
     "text": [
      "http://192.168.0.19:4040\n"
     ]
    }
   ],
   "source": [
    "print(spark.sparkContext.uiWebUrl)"
   ]
  },
  {
   "cell_type": "markdown",
   "metadata": {},
   "source": [
    "## Loading & exploring data\n",
    "\n",
    "**Q3 - Load the data from the train_clean.csv. We have seen at Q1 that this file has a header.**"
   ]
  },
  {
   "cell_type": "code",
   "execution_count": 6,
   "metadata": {
    "ExecuteTime": {
     "end_time": "2019-05-29T13:56:25.665674Z",
     "start_time": "2019-05-29T13:56:24.630754Z"
    }
   },
   "outputs": [],
   "source": [
    "# TODO\n",
    "data = spark.read.csv('train_clean.csv', header=True, inferSchema=True)"
   ]
  },
  {
   "cell_type": "markdown",
   "metadata": {},
   "source": [
    "**Q4 - Let's go for some exploration :**\n",
    "\t- 4.1) Number of lines and columns.\n",
    "\t- 4.2) Display the first 20  rows of the dataframe.\n",
    "\t- 4.3) Print the schema of the dataframe."
   ]
  },
  {
   "cell_type": "code",
   "execution_count": 9,
   "metadata": {
    "ExecuteTime": {
     "end_time": "2019-05-29T13:56:27.435463Z",
     "start_time": "2019-05-29T13:56:27.190318Z"
    }
   },
   "outputs": [
    {
     "data": {
      "text/html": [
       "<div>\n",
       "<style scoped>\n",
       "    .dataframe tbody tr th:only-of-type {\n",
       "        vertical-align: middle;\n",
       "    }\n",
       "\n",
       "    .dataframe tbody tr th {\n",
       "        vertical-align: top;\n",
       "    }\n",
       "\n",
       "    .dataframe thead th {\n",
       "        text-align: right;\n",
       "    }\n",
       "</style>\n",
       "<table border=\"1\" class=\"dataframe\">\n",
       "  <thead>\n",
       "    <tr style=\"text-align: right;\">\n",
       "      <th></th>\n",
       "      <th>project_id</th>\n",
       "      <th>name</th>\n",
       "      <th>desc</th>\n",
       "      <th>goal</th>\n",
       "      <th>keywords</th>\n",
       "      <th>disable_communication</th>\n",
       "      <th>country</th>\n",
       "      <th>currency</th>\n",
       "      <th>deadline</th>\n",
       "      <th>state_changed_at</th>\n",
       "      <th>created_at</th>\n",
       "      <th>launched_at</th>\n",
       "      <th>backers_count</th>\n",
       "      <th>final_status</th>\n",
       "    </tr>\n",
       "  </thead>\n",
       "  <tbody>\n",
       "    <tr>\n",
       "      <th>0</th>\n",
       "      <td>kkst1451568084</td>\n",
       "      <td>drawing for dollars</td>\n",
       "      <td>I like drawing pictures. and then i color them...</td>\n",
       "      <td>20.0</td>\n",
       "      <td>drawing-for-dollars</td>\n",
       "      <td>False</td>\n",
       "      <td>US</td>\n",
       "      <td>USD</td>\n",
       "      <td>1241333999</td>\n",
       "      <td>1241334017</td>\n",
       "      <td>1240600507</td>\n",
       "      <td>1240602723</td>\n",
       "      <td>3.0</td>\n",
       "      <td>1.0</td>\n",
       "    </tr>\n",
       "    <tr>\n",
       "      <th>1</th>\n",
       "      <td>kkst1474482071</td>\n",
       "      <td>Sponsor Dereck Blackburn (Lostwars) Artist in ...</td>\n",
       "      <td>I  Dereck Blackburn will be taking upon an inc...</td>\n",
       "      <td>300.0</td>\n",
       "      <td>sponsor-dereck-blackburn-lostwars-artist-in-re...</td>\n",
       "      <td>False</td>\n",
       "      <td>US</td>\n",
       "      <td>USD</td>\n",
       "      <td>1242429000</td>\n",
       "      <td>1242432018</td>\n",
       "      <td>1240960224</td>\n",
       "      <td>1240975592</td>\n",
       "      <td>2.0</td>\n",
       "      <td>0.0</td>\n",
       "    </tr>\n",
       "    <tr>\n",
       "      <th>2</th>\n",
       "      <td>kkst183622197</td>\n",
       "      <td>Mr. Squiggles</td>\n",
       "      <td>So I saw darkpony s successfully funded drawin...</td>\n",
       "      <td>30.0</td>\n",
       "      <td>mr-squiggles</td>\n",
       "      <td>False</td>\n",
       "      <td>US</td>\n",
       "      <td>USD</td>\n",
       "      <td>1243027560</td>\n",
       "      <td>1243027818</td>\n",
       "      <td>1242163613</td>\n",
       "      <td>1242164398</td>\n",
       "      <td>0.0</td>\n",
       "      <td>0.0</td>\n",
       "    </tr>\n",
       "    <tr>\n",
       "      <th>3</th>\n",
       "      <td>kkst597742710</td>\n",
       "      <td>Help me write my second novel.</td>\n",
       "      <td>Do your part to help out starving artists and ...</td>\n",
       "      <td>500.0</td>\n",
       "      <td>help-me-write-my-second-novel</td>\n",
       "      <td>False</td>\n",
       "      <td>US</td>\n",
       "      <td>USD</td>\n",
       "      <td>1243555740</td>\n",
       "      <td>1243556121</td>\n",
       "      <td>1240963795</td>\n",
       "      <td>1240966730</td>\n",
       "      <td>18.0</td>\n",
       "      <td>1.0</td>\n",
       "    </tr>\n",
       "    <tr>\n",
       "      <th>4</th>\n",
       "      <td>kkst1913131122</td>\n",
       "      <td>Support casting my sculpture in bronze</td>\n",
       "      <td>I m nearing completion on a sculpture  current...</td>\n",
       "      <td>2000.0</td>\n",
       "      <td>support-casting-my-sculpture-in-bronze</td>\n",
       "      <td>False</td>\n",
       "      <td>US</td>\n",
       "      <td>USD</td>\n",
       "      <td>1243769880</td>\n",
       "      <td>1243770317</td>\n",
       "      <td>1241177914</td>\n",
       "      <td>1241180541</td>\n",
       "      <td>1.0</td>\n",
       "      <td>0.0</td>\n",
       "    </tr>\n",
       "    <tr>\n",
       "      <th>...</th>\n",
       "      <td>...</td>\n",
       "      <td>...</td>\n",
       "      <td>...</td>\n",
       "      <td>...</td>\n",
       "      <td>...</td>\n",
       "      <td>...</td>\n",
       "      <td>...</td>\n",
       "      <td>...</td>\n",
       "      <td>...</td>\n",
       "      <td>...</td>\n",
       "      <td>...</td>\n",
       "      <td>...</td>\n",
       "      <td>...</td>\n",
       "      <td>...</td>\n",
       "    </tr>\n",
       "    <tr>\n",
       "      <th>108124</th>\n",
       "      <td>kkst542772509</td>\n",
       "      <td>Custom Wearable Art</td>\n",
       "      <td>Sacred geometry art and custom clothing. Embro...</td>\n",
       "      <td>2000.0</td>\n",
       "      <td>custom-wearable-art</td>\n",
       "      <td>False</td>\n",
       "      <td>US</td>\n",
       "      <td>USD</td>\n",
       "      <td>1433095651</td>\n",
       "      <td>1433095654</td>\n",
       "      <td>1429382307</td>\n",
       "      <td>1430503651</td>\n",
       "      <td>3.0</td>\n",
       "      <td>0.0</td>\n",
       "    </tr>\n",
       "    <tr>\n",
       "      <th>108125</th>\n",
       "      <td>kkst615785942</td>\n",
       "      <td>Painted Modern Wall art Mid-century!  $100 for...</td>\n",
       "      <td>I want to create pieces very similar to this o...</td>\n",
       "      <td>15000.0</td>\n",
       "      <td>zacharys-art-project</td>\n",
       "      <td>False</td>\n",
       "      <td>US</td>\n",
       "      <td>USD</td>\n",
       "      <td>1433096040</td>\n",
       "      <td>1433096041</td>\n",
       "      <td>1428339909</td>\n",
       "      <td>1428344094</td>\n",
       "      <td>1.0</td>\n",
       "      <td>0.0</td>\n",
       "    </tr>\n",
       "    <tr>\n",
       "      <th>108126</th>\n",
       "      <td>kkst1421442073</td>\n",
       "      <td>Creating High Quality Art Prints from the Arti...</td>\n",
       "      <td>I am seeking to produce prints to promote my r...</td>\n",
       "      <td>320.0</td>\n",
       "      <td>creating-high-quality-art-prints-from-the-arti...</td>\n",
       "      <td>False</td>\n",
       "      <td>US</td>\n",
       "      <td>USD</td>\n",
       "      <td>1433096334</td>\n",
       "      <td>1433096337</td>\n",
       "      <td>1430420564</td>\n",
       "      <td>1430504334</td>\n",
       "      <td>11.0</td>\n",
       "      <td>1.0</td>\n",
       "    </tr>\n",
       "    <tr>\n",
       "      <th>108127</th>\n",
       "      <td>kkst2022543055</td>\n",
       "      <td>back to basics</td>\n",
       "      <td>A self sustaining homestead with organic produ...</td>\n",
       "      <td>35000.0</td>\n",
       "      <td>back-to-basics-2</td>\n",
       "      <td>False</td>\n",
       "      <td>US</td>\n",
       "      <td>USD</td>\n",
       "      <td>1433096580</td>\n",
       "      <td>1433096584</td>\n",
       "      <td>1430072594</td>\n",
       "      <td>1430421727</td>\n",
       "      <td>0.0</td>\n",
       "      <td>0.0</td>\n",
       "    </tr>\n",
       "    <tr>\n",
       "      <th>108128</th>\n",
       "      <td>kkst169301870</td>\n",
       "      <td>Happy Olive, Mediterranean Wraps</td>\n",
       "      <td>Mediterranean Wraps  done right!</td>\n",
       "      <td>25000.0</td>\n",
       "      <td>happy-olive-mediterranean-wraps</td>\n",
       "      <td>False</td>\n",
       "      <td>US</td>\n",
       "      <td>USD</td>\n",
       "      <td>1433096938</td>\n",
       "      <td>1433096940</td>\n",
       "      <td>1429144432</td>\n",
       "      <td>1429208938</td>\n",
       "      <td>1.0</td>\n",
       "      <td>0.0</td>\n",
       "    </tr>\n",
       "  </tbody>\n",
       "</table>\n",
       "<p>108129 rows × 14 columns</p>\n",
       "</div>"
      ],
      "text/plain": [
       "            project_id                                               name  \\\n",
       "0       kkst1451568084                                drawing for dollars   \n",
       "1       kkst1474482071  Sponsor Dereck Blackburn (Lostwars) Artist in ...   \n",
       "2        kkst183622197                                      Mr. Squiggles   \n",
       "3        kkst597742710                     Help me write my second novel.   \n",
       "4       kkst1913131122             Support casting my sculpture in bronze   \n",
       "...                ...                                                ...   \n",
       "108124   kkst542772509                                Custom Wearable Art   \n",
       "108125   kkst615785942  Painted Modern Wall art Mid-century!  $100 for...   \n",
       "108126  kkst1421442073  Creating High Quality Art Prints from the Arti...   \n",
       "108127  kkst2022543055                                     back to basics   \n",
       "108128   kkst169301870                   Happy Olive, Mediterranean Wraps   \n",
       "\n",
       "                                                     desc     goal  \\\n",
       "0       I like drawing pictures. and then i color them...     20.0   \n",
       "1       I  Dereck Blackburn will be taking upon an inc...    300.0   \n",
       "2       So I saw darkpony s successfully funded drawin...     30.0   \n",
       "3       Do your part to help out starving artists and ...    500.0   \n",
       "4       I m nearing completion on a sculpture  current...   2000.0   \n",
       "...                                                   ...      ...   \n",
       "108124  Sacred geometry art and custom clothing. Embro...   2000.0   \n",
       "108125  I want to create pieces very similar to this o...  15000.0   \n",
       "108126  I am seeking to produce prints to promote my r...    320.0   \n",
       "108127  A self sustaining homestead with organic produ...  35000.0   \n",
       "108128                   Mediterranean Wraps  done right!  25000.0   \n",
       "\n",
       "                                                 keywords  \\\n",
       "0                                     drawing-for-dollars   \n",
       "1       sponsor-dereck-blackburn-lostwars-artist-in-re...   \n",
       "2                                            mr-squiggles   \n",
       "3                           help-me-write-my-second-novel   \n",
       "4                  support-casting-my-sculpture-in-bronze   \n",
       "...                                                   ...   \n",
       "108124                                custom-wearable-art   \n",
       "108125                               zacharys-art-project   \n",
       "108126  creating-high-quality-art-prints-from-the-arti...   \n",
       "108127                                   back-to-basics-2   \n",
       "108128                    happy-olive-mediterranean-wraps   \n",
       "\n",
       "       disable_communication country currency    deadline state_changed_at  \\\n",
       "0                      False      US      USD  1241333999       1241334017   \n",
       "1                      False      US      USD  1242429000       1242432018   \n",
       "2                      False      US      USD  1243027560       1243027818   \n",
       "3                      False      US      USD  1243555740       1243556121   \n",
       "4                      False      US      USD  1243769880       1243770317   \n",
       "...                      ...     ...      ...         ...              ...   \n",
       "108124                 False      US      USD  1433095651       1433095654   \n",
       "108125                 False      US      USD  1433096040       1433096041   \n",
       "108126                 False      US      USD  1433096334       1433096337   \n",
       "108127                 False      US      USD  1433096580       1433096584   \n",
       "108128                 False      US      USD  1433096938       1433096940   \n",
       "\n",
       "        created_at launched_at  backers_count  final_status  \n",
       "0       1240600507  1240602723            3.0           1.0  \n",
       "1       1240960224  1240975592            2.0           0.0  \n",
       "2       1242163613  1242164398            0.0           0.0  \n",
       "3       1240963795  1240966730           18.0           1.0  \n",
       "4       1241177914  1241180541            1.0           0.0  \n",
       "...            ...         ...            ...           ...  \n",
       "108124  1429382307  1430503651            3.0           0.0  \n",
       "108125  1428339909  1428344094            1.0           0.0  \n",
       "108126  1430420564  1430504334           11.0           1.0  \n",
       "108127  1430072594  1430421727            0.0           0.0  \n",
       "108128  1429144432  1429208938            1.0           0.0  \n",
       "\n",
       "[108129 rows x 14 columns]"
      ]
     },
     "execution_count": 9,
     "metadata": {},
     "output_type": "execute_result"
    }
   ],
   "source": [
    "# Q4.1 Number of lines and columns.\n",
    "data.toPandas()"
   ]
  },
  {
   "cell_type": "code",
   "execution_count": 10,
   "metadata": {
    "ExecuteTime": {
     "end_time": "2019-05-29T13:58:04.286789Z",
     "start_time": "2019-05-29T13:58:04.108936Z"
    },
    "scrolled": false
   },
   "outputs": [
    {
     "data": {
      "text/html": [
       "<div>\n",
       "<style scoped>\n",
       "    .dataframe tbody tr th:only-of-type {\n",
       "        vertical-align: middle;\n",
       "    }\n",
       "\n",
       "    .dataframe tbody tr th {\n",
       "        vertical-align: top;\n",
       "    }\n",
       "\n",
       "    .dataframe thead th {\n",
       "        text-align: right;\n",
       "    }\n",
       "</style>\n",
       "<table border=\"1\" class=\"dataframe\">\n",
       "  <thead>\n",
       "    <tr style=\"text-align: right;\">\n",
       "      <th></th>\n",
       "      <th>project_id</th>\n",
       "      <th>name</th>\n",
       "      <th>desc</th>\n",
       "      <th>goal</th>\n",
       "      <th>keywords</th>\n",
       "      <th>disable_communication</th>\n",
       "      <th>country</th>\n",
       "      <th>currency</th>\n",
       "      <th>deadline</th>\n",
       "      <th>state_changed_at</th>\n",
       "      <th>created_at</th>\n",
       "      <th>launched_at</th>\n",
       "      <th>backers_count</th>\n",
       "      <th>final_status</th>\n",
       "    </tr>\n",
       "  </thead>\n",
       "  <tbody>\n",
       "    <tr>\n",
       "      <th>0</th>\n",
       "      <td>kkst1451568084</td>\n",
       "      <td>drawing for dollars</td>\n",
       "      <td>I like drawing pictures. and then i color them...</td>\n",
       "      <td>20.0</td>\n",
       "      <td>drawing-for-dollars</td>\n",
       "      <td>False</td>\n",
       "      <td>US</td>\n",
       "      <td>USD</td>\n",
       "      <td>1241333999</td>\n",
       "      <td>1241334017</td>\n",
       "      <td>1240600507</td>\n",
       "      <td>1240602723</td>\n",
       "      <td>3</td>\n",
       "      <td>1</td>\n",
       "    </tr>\n",
       "    <tr>\n",
       "      <th>1</th>\n",
       "      <td>kkst1474482071</td>\n",
       "      <td>Sponsor Dereck Blackburn (Lostwars) Artist in ...</td>\n",
       "      <td>I  Dereck Blackburn will be taking upon an inc...</td>\n",
       "      <td>300.0</td>\n",
       "      <td>sponsor-dereck-blackburn-lostwars-artist-in-re...</td>\n",
       "      <td>False</td>\n",
       "      <td>US</td>\n",
       "      <td>USD</td>\n",
       "      <td>1242429000</td>\n",
       "      <td>1242432018</td>\n",
       "      <td>1240960224</td>\n",
       "      <td>1240975592</td>\n",
       "      <td>2</td>\n",
       "      <td>0</td>\n",
       "    </tr>\n",
       "    <tr>\n",
       "      <th>2</th>\n",
       "      <td>kkst183622197</td>\n",
       "      <td>Mr. Squiggles</td>\n",
       "      <td>So I saw darkpony s successfully funded drawin...</td>\n",
       "      <td>30.0</td>\n",
       "      <td>mr-squiggles</td>\n",
       "      <td>False</td>\n",
       "      <td>US</td>\n",
       "      <td>USD</td>\n",
       "      <td>1243027560</td>\n",
       "      <td>1243027818</td>\n",
       "      <td>1242163613</td>\n",
       "      <td>1242164398</td>\n",
       "      <td>0</td>\n",
       "      <td>0</td>\n",
       "    </tr>\n",
       "    <tr>\n",
       "      <th>3</th>\n",
       "      <td>kkst597742710</td>\n",
       "      <td>Help me write my second novel.</td>\n",
       "      <td>Do your part to help out starving artists and ...</td>\n",
       "      <td>500.0</td>\n",
       "      <td>help-me-write-my-second-novel</td>\n",
       "      <td>False</td>\n",
       "      <td>US</td>\n",
       "      <td>USD</td>\n",
       "      <td>1243555740</td>\n",
       "      <td>1243556121</td>\n",
       "      <td>1240963795</td>\n",
       "      <td>1240966730</td>\n",
       "      <td>18</td>\n",
       "      <td>1</td>\n",
       "    </tr>\n",
       "    <tr>\n",
       "      <th>4</th>\n",
       "      <td>kkst1913131122</td>\n",
       "      <td>Support casting my sculpture in bronze</td>\n",
       "      <td>I m nearing completion on a sculpture  current...</td>\n",
       "      <td>2000.0</td>\n",
       "      <td>support-casting-my-sculpture-in-bronze</td>\n",
       "      <td>False</td>\n",
       "      <td>US</td>\n",
       "      <td>USD</td>\n",
       "      <td>1243769880</td>\n",
       "      <td>1243770317</td>\n",
       "      <td>1241177914</td>\n",
       "      <td>1241180541</td>\n",
       "      <td>1</td>\n",
       "      <td>0</td>\n",
       "    </tr>\n",
       "    <tr>\n",
       "      <th>5</th>\n",
       "      <td>kkst1085176748</td>\n",
       "      <td>daily digest</td>\n",
       "      <td>I m a fledgling videoblogger living in Brookly...</td>\n",
       "      <td>700.0</td>\n",
       "      <td>daily-digest</td>\n",
       "      <td>False</td>\n",
       "      <td>US</td>\n",
       "      <td>USD</td>\n",
       "      <td>1243815600</td>\n",
       "      <td>1243816219</td>\n",
       "      <td>1241050799</td>\n",
       "      <td>1241464468</td>\n",
       "      <td>14</td>\n",
       "      <td>0</td>\n",
       "    </tr>\n",
       "    <tr>\n",
       "      <th>6</th>\n",
       "      <td>kkst1468954715</td>\n",
       "      <td>iGoozex - Free iPhone app</td>\n",
       "      <td>I am an independent iPhone developer that beli...</td>\n",
       "      <td>250.0</td>\n",
       "      <td>igoozex-free-iphone-app</td>\n",
       "      <td>False</td>\n",
       "      <td>US</td>\n",
       "      <td>USD</td>\n",
       "      <td>1243872000</td>\n",
       "      <td>1243872028</td>\n",
       "      <td>1241725172</td>\n",
       "      <td>1241736308</td>\n",
       "      <td>2</td>\n",
       "      <td>0</td>\n",
       "    </tr>\n",
       "    <tr>\n",
       "      <th>7</th>\n",
       "      <td>kkst194050612</td>\n",
       "      <td>Drive A Faster Car 2.0</td>\n",
       "      <td>Drive A Faster Car (http://www.driveafastercar...</td>\n",
       "      <td>1000.0</td>\n",
       "      <td>drive-a-faster-car-20</td>\n",
       "      <td>False</td>\n",
       "      <td>US</td>\n",
       "      <td>USD</td>\n",
       "      <td>1244088000</td>\n",
       "      <td>1244088022</td>\n",
       "      <td>1241460541</td>\n",
       "      <td>1241470291</td>\n",
       "      <td>32</td>\n",
       "      <td>1</td>\n",
       "    </tr>\n",
       "    <tr>\n",
       "      <th>8</th>\n",
       "      <td>kkst708883590</td>\n",
       "      <td>\"\"\"\"\"\"\"\"\"\"\"\"\"\"\"\"\"\"\"\"\"\"\"\"\"\"\"\"\"\"\"\"\"\"\"\"\"\"\"\"\"\"\"\"\"\"...</td>\n",
       "      <td>Opening Friday  June 5 2009  on view through S...</td>\n",
       "      <td>5000.0</td>\n",
       "      <td>lostles-at-tinys-giant</td>\n",
       "      <td>False</td>\n",
       "      <td>US</td>\n",
       "      <td>USD</td>\n",
       "      <td>1244264400</td>\n",
       "      <td>1244264422</td>\n",
       "      <td>1241415164</td>\n",
       "      <td>1241480901</td>\n",
       "      <td>44</td>\n",
       "      <td>0</td>\n",
       "    </tr>\n",
       "    <tr>\n",
       "      <th>9</th>\n",
       "      <td>kkst890976740</td>\n",
       "      <td>Choose Your Own Adventure - A Robot Painting S...</td>\n",
       "      <td>This project is for a Choose Your Own Adventur...</td>\n",
       "      <td>3500.0</td>\n",
       "      <td>choose-your-own-adventure-a-robot-painting-series</td>\n",
       "      <td>False</td>\n",
       "      <td>US</td>\n",
       "      <td>USD</td>\n",
       "      <td>1244946540</td>\n",
       "      <td>1244946632</td>\n",
       "      <td>1242268157</td>\n",
       "      <td>1242273460</td>\n",
       "      <td>18</td>\n",
       "      <td>0</td>\n",
       "    </tr>\n",
       "    <tr>\n",
       "      <th>10</th>\n",
       "      <td>kkst2053381363</td>\n",
       "      <td>Anatomy of a Credibility Meltdown — a book abo...</td>\n",
       "      <td>I am an independent PR practitioner with a lon...</td>\n",
       "      <td>30000.0</td>\n",
       "      <td>anatomy-of-a-credibility-meltdown-a-book-about...</td>\n",
       "      <td>False</td>\n",
       "      <td>US</td>\n",
       "      <td>USD</td>\n",
       "      <td>1245026160</td>\n",
       "      <td>1245026721</td>\n",
       "      <td>1241829376</td>\n",
       "      <td>1242056094</td>\n",
       "      <td>7</td>\n",
       "      <td>0</td>\n",
       "    </tr>\n",
       "    <tr>\n",
       "      <th>11</th>\n",
       "      <td>kkst918550886</td>\n",
       "      <td>No-bit: An artist book of analog drawings insp...</td>\n",
       "      <td>I want to create an artist book of drawings in...</td>\n",
       "      <td>300.0</td>\n",
       "      <td>no-bit-an-artist-book-of-analog-drawings-inspi...</td>\n",
       "      <td>False</td>\n",
       "      <td>US</td>\n",
       "      <td>USD</td>\n",
       "      <td>1245038400</td>\n",
       "      <td>1245038428</td>\n",
       "      <td>1242523061</td>\n",
       "      <td>1242528805</td>\n",
       "      <td>2</td>\n",
       "      <td>0</td>\n",
       "    </tr>\n",
       "    <tr>\n",
       "      <th>12</th>\n",
       "      <td>kkst934689279</td>\n",
       "      <td>Indie Nerd Board Game, Needs Player Character ...</td>\n",
       "      <td>pictured here is the character we would like t...</td>\n",
       "      <td>1500.0</td>\n",
       "      <td>indie-nerd-board-game-needs-hero-miniature-scu...</td>\n",
       "      <td>False</td>\n",
       "      <td>US</td>\n",
       "      <td>USD</td>\n",
       "      <td>1245042600</td>\n",
       "      <td>1245042919</td>\n",
       "      <td>1242364202</td>\n",
       "      <td>1242369560</td>\n",
       "      <td>28</td>\n",
       "      <td>1</td>\n",
       "    </tr>\n",
       "    <tr>\n",
       "      <th>13</th>\n",
       "      <td>kkst191414809</td>\n",
       "      <td>Icons for your iPhone apps</td>\n",
       "      <td>I make cool icons for iPhone developers at htt...</td>\n",
       "      <td>500.0</td>\n",
       "      <td>awesome-icons-for-your-iphone-apps</td>\n",
       "      <td>False</td>\n",
       "      <td>US</td>\n",
       "      <td>USD</td>\n",
       "      <td>1245092400</td>\n",
       "      <td>1245092431</td>\n",
       "      <td>1241034764</td>\n",
       "      <td>1241039475</td>\n",
       "      <td>98</td>\n",
       "      <td>1</td>\n",
       "    </tr>\n",
       "    <tr>\n",
       "      <th>14</th>\n",
       "      <td>kkst569584443</td>\n",
       "      <td>HAPPY VALLEY: Dexter meets 6 Feet Under. For t...</td>\n",
       "      <td>I am a professional creator and producer of we...</td>\n",
       "      <td>500.0</td>\n",
       "      <td>help-me-make-my-webseries-pilot-on-crime-and-a...</td>\n",
       "      <td>False</td>\n",
       "      <td>US</td>\n",
       "      <td>USD</td>\n",
       "      <td>1245528660</td>\n",
       "      <td>1245528920</td>\n",
       "      <td>1242072711</td>\n",
       "      <td>1242333869</td>\n",
       "      <td>3</td>\n",
       "      <td>0</td>\n",
       "    </tr>\n",
       "    <tr>\n",
       "      <th>15</th>\n",
       "      <td>kkst485555421</td>\n",
       "      <td>Project Pedal</td>\n",
       "      <td>Project Pedal is an independent documentary ab...</td>\n",
       "      <td>1000.0</td>\n",
       "      <td>project-pedal</td>\n",
       "      <td>False</td>\n",
       "      <td>US</td>\n",
       "      <td>USD</td>\n",
       "      <td>1245556740</td>\n",
       "      <td>1245556829</td>\n",
       "      <td>1242682134</td>\n",
       "      <td>1242690018</td>\n",
       "      <td>20</td>\n",
       "      <td>1</td>\n",
       "    </tr>\n",
       "    <tr>\n",
       "      <th>16</th>\n",
       "      <td>kkst1537563608</td>\n",
       "      <td>Frank Magazine Erotica Issue Party, NYC</td>\n",
       "      <td>We are throwing a party to celebrate the relea...</td>\n",
       "      <td>600.0</td>\n",
       "      <td>frank-magazine-erotica-issue-party-nyc</td>\n",
       "      <td>False</td>\n",
       "      <td>US</td>\n",
       "      <td>USD</td>\n",
       "      <td>1245882360</td>\n",
       "      <td>1245882631</td>\n",
       "      <td>1244579167</td>\n",
       "      <td>1244742156</td>\n",
       "      <td>12</td>\n",
       "      <td>0</td>\n",
       "    </tr>\n",
       "    <tr>\n",
       "      <th>17</th>\n",
       "      <td>kkst1261713500</td>\n",
       "      <td>Crossword Puzzles!</td>\n",
       "      <td>I create crosswords and other puzzles. These h...</td>\n",
       "      <td>1500.0</td>\n",
       "      <td>crossword-puzzles</td>\n",
       "      <td>False</td>\n",
       "      <td>US</td>\n",
       "      <td>USD</td>\n",
       "      <td>1246354320</td>\n",
       "      <td>1246355121</td>\n",
       "      <td>1240997554</td>\n",
       "      <td>1241005923</td>\n",
       "      <td>163</td>\n",
       "      <td>1</td>\n",
       "    </tr>\n",
       "    <tr>\n",
       "      <th>18</th>\n",
       "      <td>kkst910550425</td>\n",
       "      <td>Run, Blago Run! Show</td>\n",
       "      <td>A 3-day pop-up art gallery of work depicting e...</td>\n",
       "      <td>3500.0</td>\n",
       "      <td>run-blago-run-show</td>\n",
       "      <td>False</td>\n",
       "      <td>US</td>\n",
       "      <td>USD</td>\n",
       "      <td>1246420800</td>\n",
       "      <td>1246420854</td>\n",
       "      <td>1244299453</td>\n",
       "      <td>1244388012</td>\n",
       "      <td>54</td>\n",
       "      <td>0</td>\n",
       "    </tr>\n",
       "    <tr>\n",
       "      <th>19</th>\n",
       "      <td>kkst139451001</td>\n",
       "      <td>It Might Become a Movie</td>\n",
       "      <td>We are broke film students who have created a ...</td>\n",
       "      <td>1000.0</td>\n",
       "      <td>it-might-become-a-movie</td>\n",
       "      <td>False</td>\n",
       "      <td>US</td>\n",
       "      <td>USD</td>\n",
       "      <td>1246420800</td>\n",
       "      <td>1246420840</td>\n",
       "      <td>1243272026</td>\n",
       "      <td>1243616180</td>\n",
       "      <td>23</td>\n",
       "      <td>1</td>\n",
       "    </tr>\n",
       "  </tbody>\n",
       "</table>\n",
       "</div>"
      ],
      "text/plain": [
       "        project_id                                               name  \\\n",
       "0   kkst1451568084                                drawing for dollars   \n",
       "1   kkst1474482071  Sponsor Dereck Blackburn (Lostwars) Artist in ...   \n",
       "2    kkst183622197                                      Mr. Squiggles   \n",
       "3    kkst597742710                     Help me write my second novel.   \n",
       "4   kkst1913131122             Support casting my sculpture in bronze   \n",
       "5   kkst1085176748                                       daily digest   \n",
       "6   kkst1468954715                          iGoozex - Free iPhone app   \n",
       "7    kkst194050612                             Drive A Faster Car 2.0   \n",
       "8    kkst708883590  \"\"\"\"\"\"\"\"\"\"\"\"\"\"\"\"\"\"\"\"\"\"\"\"\"\"\"\"\"\"\"\"\"\"\"\"\"\"\"\"\"\"\"\"\"\"...   \n",
       "9    kkst890976740  Choose Your Own Adventure - A Robot Painting S...   \n",
       "10  kkst2053381363  Anatomy of a Credibility Meltdown — a book abo...   \n",
       "11   kkst918550886  No-bit: An artist book of analog drawings insp...   \n",
       "12   kkst934689279  Indie Nerd Board Game, Needs Player Character ...   \n",
       "13   kkst191414809                         Icons for your iPhone apps   \n",
       "14   kkst569584443  HAPPY VALLEY: Dexter meets 6 Feet Under. For t...   \n",
       "15   kkst485555421                                      Project Pedal   \n",
       "16  kkst1537563608            Frank Magazine Erotica Issue Party, NYC   \n",
       "17  kkst1261713500                                 Crossword Puzzles!   \n",
       "18   kkst910550425                               Run, Blago Run! Show   \n",
       "19   kkst139451001                            It Might Become a Movie   \n",
       "\n",
       "                                                 desc     goal  \\\n",
       "0   I like drawing pictures. and then i color them...     20.0   \n",
       "1   I  Dereck Blackburn will be taking upon an inc...    300.0   \n",
       "2   So I saw darkpony s successfully funded drawin...     30.0   \n",
       "3   Do your part to help out starving artists and ...    500.0   \n",
       "4   I m nearing completion on a sculpture  current...   2000.0   \n",
       "5   I m a fledgling videoblogger living in Brookly...    700.0   \n",
       "6   I am an independent iPhone developer that beli...    250.0   \n",
       "7   Drive A Faster Car (http://www.driveafastercar...   1000.0   \n",
       "8   Opening Friday  June 5 2009  on view through S...   5000.0   \n",
       "9   This project is for a Choose Your Own Adventur...   3500.0   \n",
       "10  I am an independent PR practitioner with a lon...  30000.0   \n",
       "11  I want to create an artist book of drawings in...    300.0   \n",
       "12  pictured here is the character we would like t...   1500.0   \n",
       "13  I make cool icons for iPhone developers at htt...    500.0   \n",
       "14  I am a professional creator and producer of we...    500.0   \n",
       "15  Project Pedal is an independent documentary ab...   1000.0   \n",
       "16  We are throwing a party to celebrate the relea...    600.0   \n",
       "17  I create crosswords and other puzzles. These h...   1500.0   \n",
       "18  A 3-day pop-up art gallery of work depicting e...   3500.0   \n",
       "19  We are broke film students who have created a ...   1000.0   \n",
       "\n",
       "                                             keywords disable_communication  \\\n",
       "0                                 drawing-for-dollars                 False   \n",
       "1   sponsor-dereck-blackburn-lostwars-artist-in-re...                 False   \n",
       "2                                        mr-squiggles                 False   \n",
       "3                       help-me-write-my-second-novel                 False   \n",
       "4              support-casting-my-sculpture-in-bronze                 False   \n",
       "5                                        daily-digest                 False   \n",
       "6                             igoozex-free-iphone-app                 False   \n",
       "7                               drive-a-faster-car-20                 False   \n",
       "8                              lostles-at-tinys-giant                 False   \n",
       "9   choose-your-own-adventure-a-robot-painting-series                 False   \n",
       "10  anatomy-of-a-credibility-meltdown-a-book-about...                 False   \n",
       "11  no-bit-an-artist-book-of-analog-drawings-inspi...                 False   \n",
       "12  indie-nerd-board-game-needs-hero-miniature-scu...                 False   \n",
       "13                 awesome-icons-for-your-iphone-apps                 False   \n",
       "14  help-me-make-my-webseries-pilot-on-crime-and-a...                 False   \n",
       "15                                      project-pedal                 False   \n",
       "16             frank-magazine-erotica-issue-party-nyc                 False   \n",
       "17                                  crossword-puzzles                 False   \n",
       "18                                 run-blago-run-show                 False   \n",
       "19                            it-might-become-a-movie                 False   \n",
       "\n",
       "   country currency    deadline state_changed_at  created_at launched_at  \\\n",
       "0       US      USD  1241333999       1241334017  1240600507  1240602723   \n",
       "1       US      USD  1242429000       1242432018  1240960224  1240975592   \n",
       "2       US      USD  1243027560       1243027818  1242163613  1242164398   \n",
       "3       US      USD  1243555740       1243556121  1240963795  1240966730   \n",
       "4       US      USD  1243769880       1243770317  1241177914  1241180541   \n",
       "5       US      USD  1243815600       1243816219  1241050799  1241464468   \n",
       "6       US      USD  1243872000       1243872028  1241725172  1241736308   \n",
       "7       US      USD  1244088000       1244088022  1241460541  1241470291   \n",
       "8       US      USD  1244264400       1244264422  1241415164  1241480901   \n",
       "9       US      USD  1244946540       1244946632  1242268157  1242273460   \n",
       "10      US      USD  1245026160       1245026721  1241829376  1242056094   \n",
       "11      US      USD  1245038400       1245038428  1242523061  1242528805   \n",
       "12      US      USD  1245042600       1245042919  1242364202  1242369560   \n",
       "13      US      USD  1245092400       1245092431  1241034764  1241039475   \n",
       "14      US      USD  1245528660       1245528920  1242072711  1242333869   \n",
       "15      US      USD  1245556740       1245556829  1242682134  1242690018   \n",
       "16      US      USD  1245882360       1245882631  1244579167  1244742156   \n",
       "17      US      USD  1246354320       1246355121  1240997554  1241005923   \n",
       "18      US      USD  1246420800       1246420854  1244299453  1244388012   \n",
       "19      US      USD  1246420800       1246420840  1243272026  1243616180   \n",
       "\n",
       "    backers_count  final_status  \n",
       "0               3             1  \n",
       "1               2             0  \n",
       "2               0             0  \n",
       "3              18             1  \n",
       "4               1             0  \n",
       "5              14             0  \n",
       "6               2             0  \n",
       "7              32             1  \n",
       "8              44             0  \n",
       "9              18             0  \n",
       "10              7             0  \n",
       "11              2             0  \n",
       "12             28             1  \n",
       "13             98             1  \n",
       "14              3             0  \n",
       "15             20             1  \n",
       "16             12             0  \n",
       "17            163             1  \n",
       "18             54             0  \n",
       "19             23             1  "
      ]
     },
     "execution_count": 10,
     "metadata": {},
     "output_type": "execute_result"
    }
   ],
   "source": [
    "# Q4.2 Display the first 20  rows of the dataframe.\n",
    "data.limit(20).toPandas()"
   ]
  },
  {
   "cell_type": "code",
   "execution_count": 22,
   "metadata": {
    "ExecuteTime": {
     "end_time": "2019-05-29T13:58:18.134926Z",
     "start_time": "2019-05-29T13:58:18.122388Z"
    },
    "scrolled": true
   },
   "outputs": [
    {
     "name": "stdout",
     "output_type": "stream",
     "text": [
      "root\n",
      " |-- project_id: string (nullable = true)\n",
      " |-- name: string (nullable = true)\n",
      " |-- desc: string (nullable = true)\n",
      " |-- goal: string (nullable = true)\n",
      " |-- keywords: string (nullable = true)\n",
      " |-- disable_communication: string (nullable = true)\n",
      " |-- country: string (nullable = true)\n",
      " |-- currency: string (nullable = true)\n",
      " |-- deadline: string (nullable = true)\n",
      " |-- state_changed_at: string (nullable = true)\n",
      " |-- created_at: string (nullable = true)\n",
      " |-- launched_at: string (nullable = true)\n",
      " |-- backers_count: integer (nullable = true)\n",
      " |-- final_status: integer (nullable = true)\n",
      "\n"
     ]
    }
   ],
   "source": [
    "# Q4.3 Print the schema of the dataframe.\n",
    "data.printSchema()"
   ]
  },
  {
   "cell_type": "markdown",
   "metadata": {},
   "source": [
    "**Q5 - When printing the schema, we see that all columns are strings. Assign the integer type to columns you think appropriate. Have a look at the csv file. This new dataframe will be named dfCasted, print its schema.**\n",
    "\n",
    "*Hint : Use the .withColumn(newColName, newColValue) to cast each column.*"
   ]
  },
  {
   "cell_type": "code",
   "execution_count": 18,
   "metadata": {},
   "outputs": [],
   "source": [
    "# TODO\n",
    "from pyspark.sql.types import *\n",
    "\n",
    "dfCasted = data.withColumn('goal', data.goal.cast(IntegerType()))\n",
    "dfCasted = dfCasted.withColumn('deadline', data.deadline.cast(IntegerType()))\n",
    "dfCasted = dfCasted.withColumn('state_changed_at', data.state_changed_at.cast(IntegerType()))\n",
    "dfCasted = dfCasted.withColumn('created_at', data.created_at.cast(IntegerType()))\n",
    "dfCasted = dfCasted.withColumn('launched_at', data.launched_at.cast(IntegerType()))"
   ]
  },
  {
   "cell_type": "code",
   "execution_count": 21,
   "metadata": {},
   "outputs": [
    {
     "name": "stdout",
     "output_type": "stream",
     "text": [
      "root\n",
      " |-- project_id: string (nullable = true)\n",
      " |-- name: string (nullable = true)\n",
      " |-- desc: string (nullable = true)\n",
      " |-- goal: integer (nullable = true)\n",
      " |-- keywords: string (nullable = true)\n",
      " |-- disable_communication: string (nullable = true)\n",
      " |-- country: string (nullable = true)\n",
      " |-- currency: string (nullable = true)\n",
      " |-- deadline: integer (nullable = true)\n",
      " |-- state_changed_at: integer (nullable = true)\n",
      " |-- created_at: integer (nullable = true)\n",
      " |-- launched_at: integer (nullable = true)\n",
      " |-- backers_count: integer (nullable = true)\n",
      " |-- final_status: integer (nullable = true)\n",
      "\n"
     ]
    }
   ],
   "source": [
    "dfCasted.printSchema()"
   ]
  },
  {
   "cell_type": "markdown",
   "metadata": {},
   "source": [
    "**Q6 - We could have done this much faster. Do you know how ?**\n",
    "\n",
    "**Hint** : Have a look at parameters in cell n°4"
   ]
  },
  {
   "cell_type": "code",
   "execution_count": 7,
   "metadata": {
    "ExecuteTime": {
     "end_time": "2019-05-29T14:15:13.330542Z",
     "start_time": "2019-05-29T14:15:13.326243Z"
    }
   },
   "outputs": [],
   "source": [
    "# TODO : Write your answer"
   ]
  },
  {
   "cell_type": "markdown",
   "metadata": {},
   "source": [
    "## Data Cleaning\n",
    "\n",
    "**Q7 - Give a statistical description of these columns together : goal, backers_count, final_status**"
   ]
  },
  {
   "cell_type": "code",
   "execution_count": 25,
   "metadata": {
    "ExecuteTime": {
     "end_time": "2019-05-29T14:16:35.762171Z",
     "start_time": "2019-05-29T14:16:34.411765Z"
    }
   },
   "outputs": [
    {
     "data": {
      "text/html": [
       "<div>\n",
       "<style scoped>\n",
       "    .dataframe tbody tr th:only-of-type {\n",
       "        vertical-align: middle;\n",
       "    }\n",
       "\n",
       "    .dataframe tbody tr th {\n",
       "        vertical-align: top;\n",
       "    }\n",
       "\n",
       "    .dataframe thead th {\n",
       "        text-align: right;\n",
       "    }\n",
       "</style>\n",
       "<table border=\"1\" class=\"dataframe\">\n",
       "  <thead>\n",
       "    <tr style=\"text-align: right;\">\n",
       "      <th></th>\n",
       "      <th>goal</th>\n",
       "      <th>backers_count</th>\n",
       "      <th>final_status</th>\n",
       "    </tr>\n",
       "  </thead>\n",
       "  <tbody>\n",
       "    <tr>\n",
       "      <th>count</th>\n",
       "      <td>1.076150e+05</td>\n",
       "      <td>1.081280e+05</td>\n",
       "      <td>1.081280e+05</td>\n",
       "    </tr>\n",
       "    <tr>\n",
       "      <th>mean</th>\n",
       "      <td>3.683903e+04</td>\n",
       "      <td>6.434187e+06</td>\n",
       "      <td>1.052361e+06</td>\n",
       "    </tr>\n",
       "    <tr>\n",
       "      <th>std</th>\n",
       "      <td>9.742153e+05</td>\n",
       "      <td>9.324062e+07</td>\n",
       "      <td>3.776050e+07</td>\n",
       "    </tr>\n",
       "    <tr>\n",
       "      <th>min</th>\n",
       "      <td>0.000000e+00</td>\n",
       "      <td>0.000000e+00</td>\n",
       "      <td>0.000000e+00</td>\n",
       "    </tr>\n",
       "    <tr>\n",
       "      <th>25%</th>\n",
       "      <td>2.000000e+03</td>\n",
       "      <td>2.000000e+00</td>\n",
       "      <td>0.000000e+00</td>\n",
       "    </tr>\n",
       "    <tr>\n",
       "      <th>50%</th>\n",
       "      <td>5.000000e+03</td>\n",
       "      <td>1.700000e+01</td>\n",
       "      <td>0.000000e+00</td>\n",
       "    </tr>\n",
       "    <tr>\n",
       "      <th>75%</th>\n",
       "      <td>1.300000e+04</td>\n",
       "      <td>6.600000e+01</td>\n",
       "      <td>1.000000e+00</td>\n",
       "    </tr>\n",
       "    <tr>\n",
       "      <th>max</th>\n",
       "      <td>1.000000e+08</td>\n",
       "      <td>1.430423e+09</td>\n",
       "      <td>1.428978e+09</td>\n",
       "    </tr>\n",
       "  </tbody>\n",
       "</table>\n",
       "</div>"
      ],
      "text/plain": [
       "               goal  backers_count  final_status\n",
       "count  1.076150e+05   1.081280e+05  1.081280e+05\n",
       "mean   3.683903e+04   6.434187e+06  1.052361e+06\n",
       "std    9.742153e+05   9.324062e+07  3.776050e+07\n",
       "min    0.000000e+00   0.000000e+00  0.000000e+00\n",
       "25%    2.000000e+03   2.000000e+00  0.000000e+00\n",
       "50%    5.000000e+03   1.700000e+01  0.000000e+00\n",
       "75%    1.300000e+04   6.600000e+01  1.000000e+00\n",
       "max    1.000000e+08   1.430423e+09  1.428978e+09"
      ]
     },
     "execution_count": 25,
     "metadata": {},
     "output_type": "execute_result"
    }
   ],
   "source": [
    "# TODO\n",
    "dfCasted.select('goal', 'backers_count', 'final_status').toPandas().describe()"
   ]
  },
  {
   "cell_type": "markdown",
   "metadata": {},
   "source": [
    "**Q8 - Let's have a look at the **disable_communication** column. Group by values and display a descending value count. Show the top 10 values.**\n",
    "\n",
    "*Hint : groupBy, count, orderBy, show*\n",
    "\n",
    "What do you notice ? Considering the number of lines of our dataset, does this column provides information ?"
   ]
  },
  {
   "cell_type": "code",
   "execution_count": 30,
   "metadata": {
    "ExecuteTime": {
     "end_time": "2019-05-29T14:30:42.693560Z",
     "start_time": "2019-05-29T14:30:41.892316Z"
    }
   },
   "outputs": [
    {
     "name": "stdout",
     "output_type": "stream",
     "text": [
      "+---------------------+------+\n",
      "|disable_communication| count|\n",
      "+---------------------+------+\n",
      "|                False|107293|\n",
      "|                 True|   322|\n",
      "|               2500.0|     8|\n",
      "|               1000.0|     7|\n",
      "|               5000.0|     6|\n",
      "|              10000.0|     5|\n",
      "|               2000.0|     4|\n",
      "|               8000.0|     3|\n",
      "|  The Artist s Pro...|     3|\n",
      "|              25000.0|     3|\n",
      "+---------------------+------+\n",
      "only showing top 10 rows\n",
      "\n"
     ]
    }
   ],
   "source": [
    "# TODO\n",
    "dfCasted.groupBy('disable_communication').count().orderBy('count', ascending=False).show(10)"
   ]
  },
  {
   "cell_type": "markdown",
   "metadata": {},
   "source": [
    "**What shall you do with this **disable_communication** column ?**"
   ]
  },
  {
   "cell_type": "code",
   "execution_count": 10,
   "metadata": {
    "ExecuteTime": {
     "end_time": "2019-05-29T14:31:27.018639Z",
     "start_time": "2019-05-29T14:31:27.009236Z"
    }
   },
   "outputs": [],
   "source": [
    "# TODO"
   ]
  },
  {
   "cell_type": "markdown",
   "metadata": {},
   "source": [
    "**Q9 - Houston, we have a problem ! We can see the future in our dataset ! Can you find it ? These informations must be removed.**\n",
    "\n",
    "*Hint : There are two problematic columns, it has something to do with the supporters, and a change during the project.*"
   ]
  },
  {
   "cell_type": "code",
   "execution_count": 11,
   "metadata": {
    "ExecuteTime": {
     "end_time": "2019-05-29T14:33:10.673299Z",
     "start_time": "2019-05-29T14:33:10.528318Z"
    }
   },
   "outputs": [],
   "source": [
    "# TODO"
   ]
  },
  {
   "cell_type": "markdown",
   "metadata": {},
   "source": [
    "## **Q10 - Country & Currency : Start with some exploration of these columns.**\n",
    "\n",
    "- Try some groupBy and counting, just like *Q8*. Then, read below.\n",
    "\n",
    "You may think that *country* and *currency* are redundant, in which case we could just delete one of the two columns. What about Euro ?"
   ]
  },
  {
   "cell_type": "code",
   "execution_count": 12,
   "metadata": {
    "ExecuteTime": {
     "end_time": "2019-05-29T14:50:23.996279Z",
     "start_time": "2019-05-29T14:50:23.032446Z"
    },
    "cell_style": "center"
   },
   "outputs": [],
   "source": [
    "# TODO : Country value count"
   ]
  },
  {
   "cell_type": "code",
   "execution_count": 13,
   "metadata": {
    "ExecuteTime": {
     "end_time": "2019-05-29T14:50:42.485716Z",
     "start_time": "2019-05-29T14:50:41.775259Z"
    },
    "cell_style": "center"
   },
   "outputs": [],
   "source": [
    "# TODO : Currency value count"
   ]
  },
  {
   "cell_type": "markdown",
   "metadata": {},
   "source": [
    "- Try selecting *goal* and *final_status*, and show some values."
   ]
  },
  {
   "cell_type": "code",
   "execution_count": 14,
   "metadata": {
    "ExecuteTime": {
     "end_time": "2019-05-29T15:11:48.938515Z",
     "start_time": "2019-05-29T15:11:48.806697Z"
    },
    "scrolled": true
   },
   "outputs": [],
   "source": [
    "# TODO"
   ]
  },
  {
   "cell_type": "markdown",
   "metadata": {},
   "source": [
    "- Try showing value count for country and currency in the same table."
   ]
  },
  {
   "cell_type": "code",
   "execution_count": 15,
   "metadata": {
    "ExecuteTime": {
     "end_time": "2019-05-30T14:50:35.586820Z",
     "start_time": "2019-05-30T14:50:34.857063Z"
    }
   },
   "outputs": [],
   "source": [
    "# TODO"
   ]
  },
  {
   "cell_type": "markdown",
   "metadata": {},
   "source": [
    "**Q11 - Now, there is something else : Some values for *country* have the value *False*. Display these records, and groupBy *currency*, descending.**\n",
    "\n",
    "*Hint : The instruction chain is the following : dfCasted.filter().groupBy().count().orderBy().show(), fill 3 parentheses.*"
   ]
  },
  {
   "cell_type": "code",
   "execution_count": 16,
   "metadata": {
    "ExecuteTime": {
     "end_time": "2019-05-30T14:51:51.542284Z",
     "start_time": "2019-05-30T14:51:50.641755Z"
    }
   },
   "outputs": [],
   "source": [
    "# TODO"
   ]
  },
  {
   "cell_type": "markdown",
   "metadata": {},
   "source": [
    "*Definition - Custom functions :* Some column operations are already defined inside Spark, but we often need to apply more complex or more custom function. In this case, we can create User Defined Functions (UDF) and apply them on columns.\n",
    "\n",
    "**Q12 - In this question, we will create two UDF.**\n",
    "- **udfCountry(country, currency)** : If country=False, take the currency value, else, leave the country value.\n",
    "- **udfCurrency(currency)** : If the length of currency is different than 3, assign a null value, else, leave the currency value."
   ]
  },
  {
   "cell_type": "code",
   "execution_count": 17,
   "metadata": {
    "ExecuteTime": {
     "end_time": "2019-05-30T15:01:29.465415Z",
     "start_time": "2019-05-30T15:01:29.323466Z"
    }
   },
   "outputs": [],
   "source": [
    "# Q12 - UDF\n",
    "\n",
    "# Convert the functions to Spark UDF types : udf(pythonFunction, outputType())\n"
   ]
  },
  {
   "cell_type": "markdown",
   "metadata": {},
   "source": [
    "- BinaryType – Données binaires.\n",
    "- BooleanType – Valeurs booléennes.\n",
    "- ByteType – Valeur d'octet.\n",
    "- DateType – Valeur d'horodatage.\n",
    "- DoubleType – Valeur double à virgule flottante.\n",
    "- IntegerType – Valeur d'entier.\n",
    "- LongType – Valeur d'entier long.\n",
    "- NullType – Valeur null.\n",
    "- ShortType – Valeur d'entier court.\n",
    "- StringType – Chaîne de texte.\n",
    "- TimestampType – Valeur d'horodatage (généralement en secondes à partir du 01/01/1970).\n",
    "- UnknownType – Valeur de type non identifié."
   ]
  },
  {
   "cell_type": "markdown",
   "metadata": {},
   "source": [
    "**Q13 - In this question we will apply our two UDF. Using the .withColumn operation, you can change a column, just like you did for type casting. withColumn will create two new columns : country2 and currency2.**\n",
    "\n",
    "*Hint : df.withcolumn(country2, newColValue).withcolumn(currency2, newColValue)*\n",
    "\n",
    "Also, you can add a drop statement (on country and currency) after the two withColumns, as we have created our new columns.\n",
    "\n",
    "Check your dataframe once transformations are applied. Schema and first lines."
   ]
  },
  {
   "cell_type": "code",
   "execution_count": null,
   "metadata": {},
   "outputs": [],
   "source": [
    "# TODO"
   ]
  },
  {
   "cell_type": "markdown",
   "metadata": {},
   "source": [
    "**Q14 - We will do one more cleanup on the column final_status**, which will be the label for our classification algorithm in next course.\n",
    "\n",
    "First, count the number of elements for each values in final_status.\n",
    "\n",
    "Finally, we need to delete records with **final_status** different than 0 or 1."
   ]
  },
  {
   "cell_type": "code",
   "execution_count": null,
   "metadata": {
    "ExecuteTime": {
     "end_time": "2019-05-24T09:16:00.989530Z",
     "start_time": "2019-05-24T09:15:59.871903Z"
    }
   },
   "outputs": [],
   "source": [
    "# TODO : final_status count"
   ]
  },
  {
   "cell_type": "code",
   "execution_count": null,
   "metadata": {
    "ExecuteTime": {
     "end_time": "2019-05-24T09:23:41.623679Z",
     "start_time": "2019-05-24T09:23:41.603265Z"
    }
   },
   "outputs": [],
   "source": [
    "# TODO : filter"
   ]
  },
  {
   "cell_type": "code",
   "execution_count": null,
   "metadata": {
    "ExecuteTime": {
     "end_time": "2019-05-24T09:23:45.598338Z",
     "start_time": "2019-05-24T09:23:44.718137Z"
    }
   },
   "outputs": [],
   "source": [
    "# TODO : Check processing"
   ]
  },
  {
   "cell_type": "markdown",
   "metadata": {},
   "source": [
    "## Feature engineering\n",
    "\n",
    "It's sometimes useful to add features to our dataframe, to help our model learning. We will work with the time data.\n",
    "\n",
    "**Q15 - Our dates columns are in unix timestamps. We first need to convert them to dates.**"
   ]
  },
  {
   "cell_type": "code",
   "execution_count": null,
   "metadata": {
    "ExecuteTime": {
     "end_time": "2019-05-24T10:19:23.071035Z",
     "start_time": "2019-05-24T10:19:22.782920Z"
    }
   },
   "outputs": [],
   "source": [
    "# TODO"
   ]
  },
  {
   "cell_type": "markdown",
   "metadata": {},
   "source": [
    "**Q16 - Add a **days_campaign** column, which represents the duration of the campaign, in days. This is the difference between *launched_at* and *deadline*. Here we work with a date difference.**\n",
    "\n",
    "Add a **hours_prep**, which represents the number of hours of preparation. This is the difference between *created_at* and *launched_at*. You may round to 2 digits after comma. Here we work with a timestamp difference.\n",
    "\n",
    "Finally, apply a filter : we want to delete records with **days_campaign** AND **hours_prep** equal to zero, and we want the records with **goal** greater than zero"
   ]
  },
  {
   "cell_type": "code",
   "execution_count": null,
   "metadata": {
    "ExecuteTime": {
     "end_time": "2019-05-24T10:29:43.174499Z",
     "start_time": "2019-05-24T10:29:41.798121Z"
    }
   },
   "outputs": [],
   "source": [
    "from pyspark.sql.functions import round, datediff\n",
    "\n",
    "# Date difference : datediff(Col1, Col2)"
   ]
  },
  {
   "cell_type": "code",
   "execution_count": null,
   "metadata": {
    "ExecuteTime": {
     "end_time": "2019-05-24T10:31:15.124747Z",
     "start_time": "2019-05-24T10:31:14.897901Z"
    },
    "scrolled": true
   },
   "outputs": [],
   "source": [
    "# TODO : Filter"
   ]
  },
  {
   "cell_type": "markdown",
   "metadata": {},
   "source": [
    "**Q17 - At this point, we don't need these columns anymore : *created_at*, *launched_at*, *deadline*.**"
   ]
  },
  {
   "cell_type": "code",
   "execution_count": null,
   "metadata": {
    "ExecuteTime": {
     "end_time": "2019-05-24T10:31:15.467978Z",
     "start_time": "2019-05-24T10:31:15.449766Z"
    }
   },
   "outputs": [],
   "source": [
    "# TODO : Drops"
   ]
  },
  {
   "cell_type": "markdown",
   "metadata": {},
   "source": [
    "We will now work on text data, we will gather every text values into one.\n",
    "\n",
    "**Q18 - Pass the columns *name*, *desc* and *keywords* into lowercase.**"
   ]
  },
  {
   "cell_type": "code",
   "execution_count": null,
   "metadata": {
    "ExecuteTime": {
     "end_time": "2019-05-24T10:31:16.088184Z",
     "start_time": "2019-05-24T10:31:16.054039Z"
    }
   },
   "outputs": [],
   "source": [
    "# A little search for passing strings to lower case ?"
   ]
  },
  {
   "cell_type": "markdown",
   "metadata": {},
   "source": [
    "**Q19 - Create a new column called *text* which contains the three previous columns. Be careful to include a space between them so that we can split them later.**"
   ]
  },
  {
   "cell_type": "code",
   "execution_count": null,
   "metadata": {},
   "outputs": [],
   "source": [
    "from pyspark.sql.functions import concat_ws\n",
    "\n",
    "# Hint : Google(\"pyspark concat_ws\"), don't forget the separator parameter"
   ]
  },
  {
   "cell_type": "markdown",
   "metadata": {},
   "source": [
    "**Q20 - You can now delete these three text columns.**"
   ]
  },
  {
   "cell_type": "code",
   "execution_count": null,
   "metadata": {
    "ExecuteTime": {
     "end_time": "2019-05-24T10:31:18.118153Z",
     "start_time": "2019-05-24T10:31:18.101652Z"
    }
   },
   "outputs": [],
   "source": [
    "# TODO"
   ]
  },
  {
   "cell_type": "markdown",
   "metadata": {},
   "source": [
    "## Processing null values\n",
    "\n",
    "**Q21 - There are various techniques to handle null values to make them usable by an algorithm. Can you find 3 different methods ?**"
   ]
  },
  {
   "cell_type": "code",
   "execution_count": null,
   "metadata": {},
   "outputs": [],
   "source": [
    "# TODO : Write your answer"
   ]
  },
  {
   "cell_type": "markdown",
   "metadata": {},
   "source": [
    "**Q22 - For the columns *days_campaign*, *hours_prep* and *goal* : replace null values by **-1**.**"
   ]
  },
  {
   "cell_type": "code",
   "execution_count": null,
   "metadata": {
    "ExecuteTime": {
     "end_time": "2019-05-24T10:37:16.344695Z",
     "start_time": "2019-05-24T10:37:16.302203Z"
    }
   },
   "outputs": [],
   "source": [
    "# Look for na.fill at the following adress :\n",
    "# https://spark.apache.org/docs/2.1.0/api/python/pyspark.sql.html\n",
    "\n",
    "# TODO"
   ]
  },
  {
   "cell_type": "markdown",
   "metadata": {},
   "source": [
    "**Q23 - For the columns **country2** and **currency2** : replace null values by **\"unknown\"**.**"
   ]
  },
  {
   "cell_type": "code",
   "execution_count": null,
   "metadata": {},
   "outputs": [],
   "source": [
    "# TODO"
   ]
  },
  {
   "cell_type": "markdown",
   "metadata": {},
   "source": [
    "## Exporting Dataframe\n",
    "\n",
    "Well done, you have done a pretty good pipeline for pre-processing your dataset.\n",
    "\n",
    "**Q24 - Finally, export your dataframe to the *parquet* format.**\n",
    "\n",
    "*parquet* always exports a folder that may contain multiple files, this is due to the distributed nature of Spark.\n",
    "\n",
    "The export function creates a directory with the name given in parameter. Give it **\"kickstarter.parquet\"**."
   ]
  },
  {
   "cell_type": "code",
   "execution_count": null,
   "metadata": {
    "ExecuteTime": {
     "end_time": "2019-05-24T10:40:48.532087Z",
     "start_time": "2019-05-24T10:40:45.353047Z"
    }
   },
   "outputs": [],
   "source": [
    "# TODO"
   ]
  }
 ],
 "metadata": {
  "kernelspec": {
   "display_name": "Python 3",
   "language": "python",
   "name": "python3"
  },
  "language_info": {
   "codemirror_mode": {
    "name": "ipython",
    "version": 3
   },
   "file_extension": ".py",
   "mimetype": "text/x-python",
   "name": "python",
   "nbconvert_exporter": "python",
   "pygments_lexer": "ipython3",
   "version": "3.7.6"
  },
  "toc": {
   "base_numbering": 1,
   "nav_menu": {},
   "number_sections": false,
   "sideBar": true,
   "skip_h1_title": false,
   "title_cell": "Table of Contents",
   "title_sidebar": "Contents",
   "toc_cell": false,
   "toc_position": {},
   "toc_section_display": true,
   "toc_window_display": false
  },
  "varInspector": {
   "cols": {
    "lenName": 16,
    "lenType": 16,
    "lenVar": 40
   },
   "kernels_config": {
    "python": {
     "delete_cmd_postfix": "",
     "delete_cmd_prefix": "del ",
     "library": "var_list.py",
     "varRefreshCmd": "print(var_dic_list())"
    },
    "r": {
     "delete_cmd_postfix": ") ",
     "delete_cmd_prefix": "rm(",
     "library": "var_list.r",
     "varRefreshCmd": "cat(var_dic_list()) "
    }
   },
   "types_to_exclude": [
    "module",
    "function",
    "builtin_function_or_method",
    "instance",
    "_Feature"
   ],
   "window_display": false
  }
 },
 "nbformat": 4,
 "nbformat_minor": 2
}
