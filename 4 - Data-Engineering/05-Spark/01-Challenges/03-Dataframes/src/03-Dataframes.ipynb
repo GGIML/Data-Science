{
 "cells": [
  {
   "cell_type": "markdown",
   "metadata": {},
   "source": [
    "# 07-04\n",
    "\n",
    "## Challenge 03 - Further with Spark DataFrames\n",
    "---\n",
    "![](https://images.unsplash.com/photo-1511713724866-102ba72ac216?ixlib=rb-1.2.1&ixid=eyJhcHBfaWQiOjEyMDd9&auto=format&fit=crop&w=1350&q=80)\n",
    "Picture by [Maxi am Brunnen](https://unsplash.com/photos/FOyhzt-ryM0)"
   ]
  },
  {
   "cell_type": "markdown",
   "metadata": {},
   "source": [
    "**Q1) Load the Spark Session and name it as you like.**"
   ]
  },
  {
   "cell_type": "code",
   "execution_count": 1,
   "metadata": {
    "ExecuteTime": {
     "end_time": "2019-05-24T13:20:55.861752Z",
     "start_time": "2019-05-24T13:20:49.231635Z"
    }
   },
   "outputs": [],
   "source": [
    "# TODO\n",
    "from pyspark.sql import SparkSession\n",
    "\n",
    "### STRIP_START\n",
    "spark = SparkSession.builder \\\n",
    "    .master(\"local[4]\") \\\n",
    "    .appName(\"dataframes\") \\\n",
    "    .config(\"spark.some.config.option\", \"some-value\") \\\n",
    "    .getOrCreate()\n",
    "### STRIP_END"
   ]
  },
  {
   "cell_type": "code",
   "execution_count": 18,
   "metadata": {},
   "outputs": [
    {
     "name": "stdout",
     "output_type": "stream",
     "text": [
      "http://192.168.0.19:4041\n"
     ]
    }
   ],
   "source": [
    "print(spark.sparkContext.uiWebUrl)"
   ]
  },
  {
   "cell_type": "markdown",
   "metadata": {},
   "source": [
    "**Q2.1) Download the Paris trees dataset in CSV format.**\n",
    "\n",
    "[Source : Paris Open Data](https://opendata.paris.fr/explore/dataset/les-arbres/information/)"
   ]
  },
  {
   "cell_type": "code",
   "execution_count": 13,
   "metadata": {
    "ExecuteTime": {
     "end_time": "2019-05-24T13:24:07.132747Z",
     "start_time": "2019-05-24T13:23:51.720248Z"
    },
    "scrolled": true
   },
   "outputs": [],
   "source": [
    "# Q2 - pull csv file"
   ]
  },
  {
   "cell_type": "markdown",
   "metadata": {},
   "source": [
    "**Q2.2) Display the first two lines of the file with the linux head command**"
   ]
  },
  {
   "cell_type": "code",
   "execution_count": 16,
   "metadata": {
    "ExecuteTime": {
     "end_time": "2019-05-24T13:24:16.004123Z",
     "start_time": "2019-05-24T13:24:15.866128Z"
    }
   },
   "outputs": [
    {
     "name": "stdout",
     "output_type": "stream",
     "text": [
      "IDBASE;TYPE EMPLACEMENT;DOMANIALITE;ARRONDISSEMENT;COMPLEMENT ADRESSE;NUMERO;LIEU / ADRESSE;IDEMPLACEMENT;LIBELLE FRANCAIS;GENRE;ESPECE;VARIETE OUCULTIVAR;CIRCONFERENCE (cm);HAUTEUR (m);STADE DE DEVELOPPEMENT;REMARQUABLE;geo_point_2d\r",
      "\r\n",
      "130350;Arbre;Jardin;PARIS 15E ARRDT;;;PARC ANDRE CITROEN;00080186;Pommier à fleurs;Malus;;''Evereste'';0;0;;;48.8432503714,2.27429224091\r",
      "\r\n"
     ]
    }
   ],
   "source": [
    "# TODO\n",
    "!head -n 2 /home/guillaume/code/GGIML/vivadata-student/data/arbres/les-arbres.csv"
   ]
  },
  {
   "cell_type": "markdown",
   "metadata": {},
   "source": [
    "**Q3) Create a DataFrame from the CSV file.** \n",
    "\n",
    "Syntax is :\n",
    "\n",
    "```df = SparkSession.read.csv(\"FILENAME\", parameter=value... )```"
   ]
  },
  {
   "cell_type": "code",
   "execution_count": 22,
   "metadata": {
    "ExecuteTime": {
     "end_time": "2019-05-24T13:20:55.861752Z",
     "start_time": "2019-05-24T13:20:49.231635Z"
    }
   },
   "outputs": [],
   "source": [
    "# TODO\n",
    "df = spark.read.csv('/home/guillaume/code/GGIML/vivadata-student/data/arbres/les-arbres.csv', header=True, inferSchema=True, sep=';')"
   ]
  },
  {
   "cell_type": "markdown",
   "metadata": {
    "collapsed": true
   },
   "source": [
    "**Q4) Explore your dataframe**\n",
    "\n",
    "You can use functions like **show**, **select**, **dtypes**, **describe**, **filter**, **count**.\n",
    "\n",
    "Here as some cells with suggested manipulations. Here it is important to understand how to chain instructions on a dataframe."
   ]
  },
  {
   "cell_type": "code",
   "execution_count": 34,
   "metadata": {
    "ExecuteTime": {
     "end_time": "2019-05-24T13:28:47.212524Z",
     "start_time": "2019-05-24T13:28:47.031962Z"
    }
   },
   "outputs": [
    {
     "data": {
      "text/html": [
       "<div>\n",
       "<style scoped>\n",
       "    .dataframe tbody tr th:only-of-type {\n",
       "        vertical-align: middle;\n",
       "    }\n",
       "\n",
       "    .dataframe tbody tr th {\n",
       "        vertical-align: top;\n",
       "    }\n",
       "\n",
       "    .dataframe thead th {\n",
       "        text-align: right;\n",
       "    }\n",
       "</style>\n",
       "<table border=\"1\" class=\"dataframe\">\n",
       "  <thead>\n",
       "    <tr style=\"text-align: right;\">\n",
       "      <th></th>\n",
       "      <th>IDBASE</th>\n",
       "      <th>TYPE EMPLACEMENT</th>\n",
       "      <th>DOMANIALITE</th>\n",
       "      <th>ARRONDISSEMENT</th>\n",
       "      <th>COMPLEMENT ADRESSE</th>\n",
       "      <th>NUMERO</th>\n",
       "      <th>LIEU / ADRESSE</th>\n",
       "      <th>IDEMPLACEMENT</th>\n",
       "      <th>LIBELLE FRANCAIS</th>\n",
       "      <th>GENRE</th>\n",
       "      <th>ESPECE</th>\n",
       "      <th>VARIETE OUCULTIVAR</th>\n",
       "      <th>CIRCONFERENCE (cm)</th>\n",
       "      <th>HAUTEUR (m)</th>\n",
       "      <th>STADE DE DEVELOPPEMENT</th>\n",
       "      <th>REMARQUABLE</th>\n",
       "      <th>geo_point_2d</th>\n",
       "    </tr>\n",
       "  </thead>\n",
       "  <tbody>\n",
       "    <tr>\n",
       "      <th>0</th>\n",
       "      <td>130350</td>\n",
       "      <td>Arbre</td>\n",
       "      <td>Jardin</td>\n",
       "      <td>PARIS 15E ARRDT</td>\n",
       "      <td>None</td>\n",
       "      <td>None</td>\n",
       "      <td>PARC ANDRE CITROEN</td>\n",
       "      <td>00080186</td>\n",
       "      <td>Pommier à fleurs</td>\n",
       "      <td>Malus</td>\n",
       "      <td>None</td>\n",
       "      <td>''Evereste''</td>\n",
       "      <td>0</td>\n",
       "      <td>0</td>\n",
       "      <td>None</td>\n",
       "      <td>None</td>\n",
       "      <td>48.8432503714,2.27429224091</td>\n",
       "    </tr>\n",
       "    <tr>\n",
       "      <th>1</th>\n",
       "      <td>135667</td>\n",
       "      <td>Arbre</td>\n",
       "      <td>Jardin</td>\n",
       "      <td>PARIS 17E ARRDT</td>\n",
       "      <td>None</td>\n",
       "      <td>None</td>\n",
       "      <td>TALUS PORTE MAILLOT 53B / 1V PLACE DE VERDUN</td>\n",
       "      <td>000101003</td>\n",
       "      <td>Sophora</td>\n",
       "      <td>Sophora</td>\n",
       "      <td>japonica</td>\n",
       "      <td>None</td>\n",
       "      <td>124</td>\n",
       "      <td>9</td>\n",
       "      <td>A</td>\n",
       "      <td>NON</td>\n",
       "      <td>48.8790803044,2.28036336482</td>\n",
       "    </tr>\n",
       "    <tr>\n",
       "      <th>2</th>\n",
       "      <td>147353</td>\n",
       "      <td>Arbre</td>\n",
       "      <td>CIMETIERE</td>\n",
       "      <td>PARIS 20E ARRDT</td>\n",
       "      <td>None</td>\n",
       "      <td>None</td>\n",
       "      <td>CIMETIERE DU PERE LACHAISE / AVENUE CIRCULAIRE...</td>\n",
       "      <td>A01500088010</td>\n",
       "      <td>Marronnier</td>\n",
       "      <td>Aesculus</td>\n",
       "      <td>hippocastanum</td>\n",
       "      <td>None</td>\n",
       "      <td>150</td>\n",
       "      <td>12</td>\n",
       "      <td>A</td>\n",
       "      <td>NON</td>\n",
       "      <td>48.863116348,2.3973165582</td>\n",
       "    </tr>\n",
       "    <tr>\n",
       "      <th>3</th>\n",
       "      <td>169786</td>\n",
       "      <td>Arbre</td>\n",
       "      <td>CIMETIERE</td>\n",
       "      <td>HAUTS-DE-SEINE</td>\n",
       "      <td>None</td>\n",
       "      <td>None</td>\n",
       "      <td>CIMETIERE DE BAGNEUX / AVENUE DES TILLEULS DE ...</td>\n",
       "      <td>A09000059001</td>\n",
       "      <td>Tilleul</td>\n",
       "      <td>Tilia</td>\n",
       "      <td>platyphyllos</td>\n",
       "      <td>None</td>\n",
       "      <td>0</td>\n",
       "      <td>0</td>\n",
       "      <td>None</td>\n",
       "      <td>None</td>\n",
       "      <td>48.8051536511,2.3099027495</td>\n",
       "    </tr>\n",
       "    <tr>\n",
       "      <th>4</th>\n",
       "      <td>187058</td>\n",
       "      <td>Arbre</td>\n",
       "      <td>DASCO</td>\n",
       "      <td>PARIS 17E ARRDT</td>\n",
       "      <td>None</td>\n",
       "      <td>None</td>\n",
       "      <td>LEMERCIER (105) ELEM</td>\n",
       "      <td>08810010</td>\n",
       "      <td>Marronnier</td>\n",
       "      <td>Aesculus</td>\n",
       "      <td>hippocastanum</td>\n",
       "      <td>None</td>\n",
       "      <td>95</td>\n",
       "      <td>12</td>\n",
       "      <td>A</td>\n",
       "      <td>NON</td>\n",
       "      <td>48.889498376,2.31773595328</td>\n",
       "    </tr>\n",
       "    <tr>\n",
       "      <th>5</th>\n",
       "      <td>195377</td>\n",
       "      <td>Arbre</td>\n",
       "      <td>PERIPHERIQUE</td>\n",
       "      <td>PARIS 20E ARRDT</td>\n",
       "      <td>None</td>\n",
       "      <td>None</td>\n",
       "      <td>TALUS N°30-02</td>\n",
       "      <td>093002033</td>\n",
       "      <td>Peuplier</td>\n",
       "      <td>Populus</td>\n",
       "      <td>nigra</td>\n",
       "      <td>''Italica''</td>\n",
       "      <td>205</td>\n",
       "      <td>15</td>\n",
       "      <td>A</td>\n",
       "      <td>NON</td>\n",
       "      <td>48.8601785252,2.41437779408</td>\n",
       "    </tr>\n",
       "    <tr>\n",
       "      <th>6</th>\n",
       "      <td>249891</td>\n",
       "      <td>Arbre</td>\n",
       "      <td>Alignement</td>\n",
       "      <td>PARIS 15E ARRDT</td>\n",
       "      <td>N°52 bis</td>\n",
       "      <td>None</td>\n",
       "      <td>RUE LABROUSTE</td>\n",
       "      <td>000602003</td>\n",
       "      <td>Charme</td>\n",
       "      <td>Carpinus</td>\n",
       "      <td>betulus</td>\n",
       "      <td>''Fastigiata''</td>\n",
       "      <td>55</td>\n",
       "      <td>7</td>\n",
       "      <td>A</td>\n",
       "      <td>NON</td>\n",
       "      <td>48.8333632386,2.30752336259</td>\n",
       "    </tr>\n",
       "    <tr>\n",
       "      <th>7</th>\n",
       "      <td>254070</td>\n",
       "      <td>Arbre</td>\n",
       "      <td>Alignement</td>\n",
       "      <td>PARIS 16E ARRDT</td>\n",
       "      <td>None</td>\n",
       "      <td>None</td>\n",
       "      <td>AVENUE DE VERSAILLES</td>\n",
       "      <td>001402008</td>\n",
       "      <td>Erable</td>\n",
       "      <td>Acer</td>\n",
       "      <td>pseudoplatanus</td>\n",
       "      <td>None</td>\n",
       "      <td>150</td>\n",
       "      <td>18</td>\n",
       "      <td>A</td>\n",
       "      <td>NON</td>\n",
       "      <td>48.8457280512,2.27187661503</td>\n",
       "    </tr>\n",
       "    <tr>\n",
       "      <th>8</th>\n",
       "      <td>263716</td>\n",
       "      <td>Arbre</td>\n",
       "      <td>Alignement</td>\n",
       "      <td>PARIS 8E ARRDT</td>\n",
       "      <td>None</td>\n",
       "      <td>None</td>\n",
       "      <td>AVENUE DES CHAMPS ELYSEES</td>\n",
       "      <td>000703035</td>\n",
       "      <td>Marronnier</td>\n",
       "      <td>Aesculus</td>\n",
       "      <td>hippocastanum</td>\n",
       "      <td>None</td>\n",
       "      <td>121</td>\n",
       "      <td>13</td>\n",
       "      <td>A</td>\n",
       "      <td>NON</td>\n",
       "      <td>48.8683606289,2.31108854929</td>\n",
       "    </tr>\n",
       "    <tr>\n",
       "      <th>9</th>\n",
       "      <td>277115</td>\n",
       "      <td>Arbre</td>\n",
       "      <td>Alignement</td>\n",
       "      <td>PARIS 7E ARRDT</td>\n",
       "      <td>Parking Suffren</td>\n",
       "      <td>None</td>\n",
       "      <td>JARDIN DU CHAMP DE MARS ET PELOUSES DE L ECOLE...</td>\n",
       "      <td>A01003029</td>\n",
       "      <td>Sophora</td>\n",
       "      <td>Sophora</td>\n",
       "      <td>japonica</td>\n",
       "      <td>None</td>\n",
       "      <td>77</td>\n",
       "      <td>7</td>\n",
       "      <td>A</td>\n",
       "      <td>NON</td>\n",
       "      <td>48.8523209812,2.30165762048</td>\n",
       "    </tr>\n",
       "  </tbody>\n",
       "</table>\n",
       "</div>"
      ],
      "text/plain": [
       "   IDBASE TYPE EMPLACEMENT   DOMANIALITE   ARRONDISSEMENT COMPLEMENT ADRESSE  \\\n",
       "0  130350            Arbre        Jardin  PARIS 15E ARRDT               None   \n",
       "1  135667            Arbre        Jardin  PARIS 17E ARRDT               None   \n",
       "2  147353            Arbre     CIMETIERE  PARIS 20E ARRDT               None   \n",
       "3  169786            Arbre     CIMETIERE   HAUTS-DE-SEINE               None   \n",
       "4  187058            Arbre         DASCO  PARIS 17E ARRDT               None   \n",
       "5  195377            Arbre  PERIPHERIQUE  PARIS 20E ARRDT               None   \n",
       "6  249891            Arbre    Alignement  PARIS 15E ARRDT           N°52 bis   \n",
       "7  254070            Arbre    Alignement  PARIS 16E ARRDT               None   \n",
       "8  263716            Arbre    Alignement   PARIS 8E ARRDT               None   \n",
       "9  277115            Arbre    Alignement   PARIS 7E ARRDT    Parking Suffren   \n",
       "\n",
       "  NUMERO                                     LIEU / ADRESSE IDEMPLACEMENT  \\\n",
       "0   None                                 PARC ANDRE CITROEN      00080186   \n",
       "1   None       TALUS PORTE MAILLOT 53B / 1V PLACE DE VERDUN     000101003   \n",
       "2   None  CIMETIERE DU PERE LACHAISE / AVENUE CIRCULAIRE...  A01500088010   \n",
       "3   None  CIMETIERE DE BAGNEUX / AVENUE DES TILLEULS DE ...  A09000059001   \n",
       "4   None                               LEMERCIER (105) ELEM      08810010   \n",
       "5   None                                      TALUS N°30-02     093002033   \n",
       "6   None                                      RUE LABROUSTE     000602003   \n",
       "7   None                               AVENUE DE VERSAILLES     001402008   \n",
       "8   None                          AVENUE DES CHAMPS ELYSEES     000703035   \n",
       "9   None  JARDIN DU CHAMP DE MARS ET PELOUSES DE L ECOLE...     A01003029   \n",
       "\n",
       "   LIBELLE FRANCAIS     GENRE          ESPECE VARIETE OUCULTIVAR  \\\n",
       "0  Pommier à fleurs     Malus            None       ''Evereste''   \n",
       "1           Sophora   Sophora        japonica               None   \n",
       "2        Marronnier  Aesculus   hippocastanum               None   \n",
       "3           Tilleul     Tilia    platyphyllos               None   \n",
       "4        Marronnier  Aesculus   hippocastanum               None   \n",
       "5          Peuplier   Populus           nigra        ''Italica''   \n",
       "6            Charme  Carpinus         betulus     ''Fastigiata''   \n",
       "7            Erable      Acer  pseudoplatanus               None   \n",
       "8        Marronnier  Aesculus   hippocastanum               None   \n",
       "9           Sophora   Sophora        japonica               None   \n",
       "\n",
       "   CIRCONFERENCE (cm)  HAUTEUR (m) STADE DE DEVELOPPEMENT REMARQUABLE  \\\n",
       "0                   0            0                   None        None   \n",
       "1                 124            9                      A         NON   \n",
       "2                 150           12                      A         NON   \n",
       "3                   0            0                   None        None   \n",
       "4                  95           12                      A         NON   \n",
       "5                 205           15                      A         NON   \n",
       "6                  55            7                      A         NON   \n",
       "7                 150           18                      A         NON   \n",
       "8                 121           13                      A         NON   \n",
       "9                  77            7                      A         NON   \n",
       "\n",
       "                  geo_point_2d  \n",
       "0  48.8432503714,2.27429224091  \n",
       "1  48.8790803044,2.28036336482  \n",
       "2    48.863116348,2.3973165582  \n",
       "3   48.8051536511,2.3099027495  \n",
       "4   48.889498376,2.31773595328  \n",
       "5  48.8601785252,2.41437779408  \n",
       "6  48.8333632386,2.30752336259  \n",
       "7  48.8457280512,2.27187661503  \n",
       "8  48.8683606289,2.31108854929  \n",
       "9  48.8523209812,2.30165762048  "
      ]
     },
     "execution_count": 34,
     "metadata": {},
     "output_type": "execute_result"
    }
   ],
   "source": [
    "# Show some lines\n",
    "df.toPandas().head(10)"
   ]
  },
  {
   "cell_type": "code",
   "execution_count": 37,
   "metadata": {
    "ExecuteTime": {
     "end_time": "2019-05-24T13:28:48.966308Z",
     "start_time": "2019-05-24T13:28:48.955413Z"
    }
   },
   "outputs": [
    {
     "name": "stdout",
     "output_type": "stream",
     "text": [
      "['IDBASE', 'TYPE EMPLACEMENT', 'DOMANIALITE', 'ARRONDISSEMENT', 'COMPLEMENT ADRESSE', 'NUMERO', 'LIEU / ADRESSE', 'IDEMPLACEMENT', 'LIBELLE FRANCAIS', 'GENRE', 'ESPECE', 'VARIETE OUCULTIVAR', 'CIRCONFERENCE (cm)', 'HAUTEUR (m)', 'STADE DE DEVELOPPEMENT', 'REMARQUABLE', 'geo_point_2d']\n"
     ]
    }
   ],
   "source": [
    "# Check the column list\n",
    "print(df.columns)"
   ]
  },
  {
   "cell_type": "code",
   "execution_count": 39,
   "metadata": {
    "ExecuteTime": {
     "end_time": "2019-05-24T13:20:55.861752Z",
     "start_time": "2019-05-24T13:20:49.231635Z"
    }
   },
   "outputs": [
    {
     "name": "stdout",
     "output_type": "stream",
     "text": [
      "+---------------+----------------+-----------+\n",
      "| ARRONDISSEMENT|LIBELLE FRANCAIS|HAUTEUR (m)|\n",
      "+---------------+----------------+-----------+\n",
      "|PARIS 15E ARRDT|Pommier à fleurs|          0|\n",
      "|PARIS 17E ARRDT|         Sophora|          9|\n",
      "|PARIS 20E ARRDT|      Marronnier|         12|\n",
      "| HAUTS-DE-SEINE|         Tilleul|          0|\n",
      "|PARIS 17E ARRDT|      Marronnier|         12|\n",
      "|PARIS 20E ARRDT|        Peuplier|         15|\n",
      "|PARIS 15E ARRDT|          Charme|          7|\n",
      "|PARIS 16E ARRDT|          Erable|         18|\n",
      "| PARIS 8E ARRDT|      Marronnier|         13|\n",
      "| PARIS 7E ARRDT|         Sophora|          7|\n",
      "|PARIS 18E ARRDT|         Platane|         25|\n",
      "|PARIS 18E ARRDT|         Sophora|         15|\n",
      "|PARIS 13E ARRDT|        Magnolia|          8|\n",
      "|PARIS 14E ARRDT|     Micocoulier|          5|\n",
      "|PARIS 19E ARRDT|         Platane|          5|\n",
      "|PARIS 17E ARRDT|        Robinier|          0|\n",
      "|PARIS 19E ARRDT|          Mûrier|          0|\n",
      "|PARIS 19E ARRDT|         Bouleau|          0|\n",
      "| PARIS 7E ARRDT|         Platane|         14|\n",
      "|PARIS 18E ARRDT|         Sophora|         10|\n",
      "+---------------+----------------+-----------+\n",
      "only showing top 20 rows\n",
      "\n"
     ]
    }
   ],
   "source": [
    "# Select\n",
    "df.select('ARRONDISSEMENT', 'LIBELLE FRANCAIS', 'HAUTEUR (m)').show()"
   ]
  },
  {
   "cell_type": "code",
   "execution_count": 40,
   "metadata": {
    "ExecuteTime": {
     "end_time": "2019-05-24T13:28:52.657461Z",
     "start_time": "2019-05-24T13:28:52.649845Z"
    }
   },
   "outputs": [
    {
     "data": {
      "text/plain": [
       "[('IDBASE', 'int'),\n",
       " ('TYPE EMPLACEMENT', 'string'),\n",
       " ('DOMANIALITE', 'string'),\n",
       " ('ARRONDISSEMENT', 'string'),\n",
       " ('COMPLEMENT ADRESSE', 'string'),\n",
       " ('NUMERO', 'string'),\n",
       " ('LIEU / ADRESSE', 'string'),\n",
       " ('IDEMPLACEMENT', 'string'),\n",
       " ('LIBELLE FRANCAIS', 'string'),\n",
       " ('GENRE', 'string'),\n",
       " ('ESPECE', 'string'),\n",
       " ('VARIETE OUCULTIVAR', 'string'),\n",
       " ('CIRCONFERENCE (cm)', 'int'),\n",
       " ('HAUTEUR (m)', 'int'),\n",
       " ('STADE DE DEVELOPPEMENT', 'string'),\n",
       " ('REMARQUABLE', 'string'),\n",
       " ('geo_point_2d', 'string')]"
      ]
     },
     "execution_count": 40,
     "metadata": {},
     "output_type": "execute_result"
    }
   ],
   "source": [
    "# Dataframe dtypes\n",
    "df.dtypes"
   ]
  },
  {
   "cell_type": "code",
   "execution_count": 43,
   "metadata": {
    "ExecuteTime": {
     "end_time": "2019-05-24T14:06:38.233361Z",
     "start_time": "2019-05-24T14:06:36.968282Z"
    }
   },
   "outputs": [
    {
     "data": {
      "text/html": [
       "<div>\n",
       "<style scoped>\n",
       "    .dataframe tbody tr th:only-of-type {\n",
       "        vertical-align: middle;\n",
       "    }\n",
       "\n",
       "    .dataframe tbody tr th {\n",
       "        vertical-align: top;\n",
       "    }\n",
       "\n",
       "    .dataframe thead th {\n",
       "        text-align: right;\n",
       "    }\n",
       "</style>\n",
       "<table border=\"1\" class=\"dataframe\">\n",
       "  <thead>\n",
       "    <tr style=\"text-align: right;\">\n",
       "      <th></th>\n",
       "      <th>CIRCONFERENCE (cm)</th>\n",
       "      <th>HAUTEUR (m)</th>\n",
       "    </tr>\n",
       "  </thead>\n",
       "  <tbody>\n",
       "    <tr>\n",
       "      <th>count</th>\n",
       "      <td>205015.000000</td>\n",
       "      <td>205015.000000</td>\n",
       "    </tr>\n",
       "    <tr>\n",
       "      <th>mean</th>\n",
       "      <td>84.578036</td>\n",
       "      <td>13.261244</td>\n",
       "    </tr>\n",
       "    <tr>\n",
       "      <th>std</th>\n",
       "      <td>804.487261</td>\n",
       "      <td>1947.626896</td>\n",
       "    </tr>\n",
       "    <tr>\n",
       "      <th>min</th>\n",
       "      <td>0.000000</td>\n",
       "      <td>0.000000</td>\n",
       "    </tr>\n",
       "    <tr>\n",
       "      <th>25%</th>\n",
       "      <td>30.000000</td>\n",
       "      <td>5.000000</td>\n",
       "    </tr>\n",
       "    <tr>\n",
       "      <th>50%</th>\n",
       "      <td>70.000000</td>\n",
       "      <td>8.000000</td>\n",
       "    </tr>\n",
       "    <tr>\n",
       "      <th>75%</th>\n",
       "      <td>115.000000</td>\n",
       "      <td>12.000000</td>\n",
       "    </tr>\n",
       "    <tr>\n",
       "      <th>max</th>\n",
       "      <td>250255.000000</td>\n",
       "      <td>881818.000000</td>\n",
       "    </tr>\n",
       "  </tbody>\n",
       "</table>\n",
       "</div>"
      ],
      "text/plain": [
       "       CIRCONFERENCE (cm)    HAUTEUR (m)\n",
       "count       205015.000000  205015.000000\n",
       "mean            84.578036      13.261244\n",
       "std            804.487261    1947.626896\n",
       "min              0.000000       0.000000\n",
       "25%             30.000000       5.000000\n",
       "50%             70.000000       8.000000\n",
       "75%            115.000000      12.000000\n",
       "max         250255.000000  881818.000000"
      ]
     },
     "execution_count": 43,
     "metadata": {},
     "output_type": "execute_result"
    }
   ],
   "source": [
    "# Select columns and desribe and show\n",
    "df.select('CIRCONFERENCE (cm)', 'HAUTEUR (m)').toPandas().describe()"
   ]
  },
  {
   "cell_type": "code",
   "execution_count": 50,
   "metadata": {
    "ExecuteTime": {
     "end_time": "2019-05-24T13:31:09.266108Z",
     "start_time": "2019-05-24T13:31:09.057738Z"
    }
   },
   "outputs": [
    {
     "data": {
      "text/html": [
       "<div>\n",
       "<style scoped>\n",
       "    .dataframe tbody tr th:only-of-type {\n",
       "        vertical-align: middle;\n",
       "    }\n",
       "\n",
       "    .dataframe tbody tr th {\n",
       "        vertical-align: top;\n",
       "    }\n",
       "\n",
       "    .dataframe thead th {\n",
       "        text-align: right;\n",
       "    }\n",
       "</style>\n",
       "<table border=\"1\" class=\"dataframe\">\n",
       "  <thead>\n",
       "    <tr style=\"text-align: right;\">\n",
       "      <th></th>\n",
       "      <th>IDBASE</th>\n",
       "      <th>TYPE EMPLACEMENT</th>\n",
       "      <th>DOMANIALITE</th>\n",
       "      <th>ARRONDISSEMENT</th>\n",
       "      <th>COMPLEMENT ADRESSE</th>\n",
       "      <th>NUMERO</th>\n",
       "      <th>LIEU / ADRESSE</th>\n",
       "      <th>IDEMPLACEMENT</th>\n",
       "      <th>LIBELLE FRANCAIS</th>\n",
       "      <th>GENRE</th>\n",
       "      <th>ESPECE</th>\n",
       "      <th>VARIETE OUCULTIVAR</th>\n",
       "      <th>CIRCONFERENCE (cm)</th>\n",
       "      <th>HAUTEUR (m)</th>\n",
       "      <th>STADE DE DEVELOPPEMENT</th>\n",
       "      <th>REMARQUABLE</th>\n",
       "      <th>geo_point_2d</th>\n",
       "    </tr>\n",
       "  </thead>\n",
       "  <tbody>\n",
       "    <tr>\n",
       "      <th>0</th>\n",
       "      <td>113597</td>\n",
       "      <td>Arbre</td>\n",
       "      <td>Jardin</td>\n",
       "      <td>PARIS 15E ARRDT</td>\n",
       "      <td>None</td>\n",
       "      <td>None</td>\n",
       "      <td>SQUARE DE LA PLACE ADOLPHE CHERIOUX / 260 RUE ...</td>\n",
       "      <td>000106001</td>\n",
       "      <td>Chêne</td>\n",
       "      <td>Quercus</td>\n",
       "      <td>frainetto</td>\n",
       "      <td>None</td>\n",
       "      <td>180</td>\n",
       "      <td>15</td>\n",
       "      <td>A</td>\n",
       "      <td>OUI</td>\n",
       "      <td>48.8396441672,2.30097558498</td>\n",
       "    </tr>\n",
       "    <tr>\n",
       "      <th>1</th>\n",
       "      <td>111642</td>\n",
       "      <td>Arbre</td>\n",
       "      <td>Jardin</td>\n",
       "      <td>PARIS 15E ARRDT</td>\n",
       "      <td>15-04</td>\n",
       "      <td>None</td>\n",
       "      <td>SQUARE SAINT-LAMBERT</td>\n",
       "      <td>00000084</td>\n",
       "      <td>Erable</td>\n",
       "      <td>Acer</td>\n",
       "      <td>saccharinum</td>\n",
       "      <td>None</td>\n",
       "      <td>240</td>\n",
       "      <td>20</td>\n",
       "      <td>A</td>\n",
       "      <td>OUI</td>\n",
       "      <td>48.8428184075,2.29688266387</td>\n",
       "    </tr>\n",
       "    <tr>\n",
       "      <th>2</th>\n",
       "      <td>111640</td>\n",
       "      <td>Arbre</td>\n",
       "      <td>Jardin</td>\n",
       "      <td>PARIS 15E ARRDT</td>\n",
       "      <td>15-02</td>\n",
       "      <td>None</td>\n",
       "      <td>SQUARE SAINT-LAMBERT</td>\n",
       "      <td>00000087</td>\n",
       "      <td>Aulne</td>\n",
       "      <td>Alnus</td>\n",
       "      <td>n. sp.</td>\n",
       "      <td>None</td>\n",
       "      <td>225</td>\n",
       "      <td>18</td>\n",
       "      <td>A</td>\n",
       "      <td>OUI</td>\n",
       "      <td>48.8428258374,2.29728541016</td>\n",
       "    </tr>\n",
       "    <tr>\n",
       "      <th>3</th>\n",
       "      <td>112222</td>\n",
       "      <td>Arbre</td>\n",
       "      <td>Jardin</td>\n",
       "      <td>PARIS 15E ARRDT</td>\n",
       "      <td>15-05</td>\n",
       "      <td>None</td>\n",
       "      <td>SQUARE SAINT-LAMBERT</td>\n",
       "      <td>00000151</td>\n",
       "      <td>Micocoulier</td>\n",
       "      <td>Celtis</td>\n",
       "      <td>australis</td>\n",
       "      <td>None</td>\n",
       "      <td>225</td>\n",
       "      <td>18</td>\n",
       "      <td>A</td>\n",
       "      <td>OUI</td>\n",
       "      <td>48.8426511702,2.29608898567</td>\n",
       "    </tr>\n",
       "    <tr>\n",
       "      <th>4</th>\n",
       "      <td>128372</td>\n",
       "      <td>Arbre</td>\n",
       "      <td>Jardin</td>\n",
       "      <td>PARIS 15E ARRDT</td>\n",
       "      <td>None</td>\n",
       "      <td>None</td>\n",
       "      <td>SQUARE DU CLOS FEUQUIERES</td>\n",
       "      <td>00000001</td>\n",
       "      <td>Hêtre</td>\n",
       "      <td>Fagus</td>\n",
       "      <td>sylvatica</td>\n",
       "      <td>''Pendula''</td>\n",
       "      <td>140</td>\n",
       "      <td>4</td>\n",
       "      <td>A</td>\n",
       "      <td>OUI</td>\n",
       "      <td>48.836425027,2.29018563176</td>\n",
       "    </tr>\n",
       "    <tr>\n",
       "      <th>5</th>\n",
       "      <td>128373</td>\n",
       "      <td>Arbre</td>\n",
       "      <td>Jardin</td>\n",
       "      <td>PARIS 15E ARRDT</td>\n",
       "      <td>None</td>\n",
       "      <td>None</td>\n",
       "      <td>SQUARE DU CLOS FEUQUIERES</td>\n",
       "      <td>00000002</td>\n",
       "      <td>Hêtre</td>\n",
       "      <td>Fagus</td>\n",
       "      <td>sylvatica</td>\n",
       "      <td>''Pendula''</td>\n",
       "      <td>130</td>\n",
       "      <td>5</td>\n",
       "      <td>A</td>\n",
       "      <td>OUI</td>\n",
       "      <td>48.8363411221,2.29020948574</td>\n",
       "    </tr>\n",
       "  </tbody>\n",
       "</table>\n",
       "</div>"
      ],
      "text/plain": [
       "   IDBASE TYPE EMPLACEMENT DOMANIALITE   ARRONDISSEMENT COMPLEMENT ADRESSE  \\\n",
       "0  113597            Arbre      Jardin  PARIS 15E ARRDT               None   \n",
       "1  111642            Arbre      Jardin  PARIS 15E ARRDT              15-04   \n",
       "2  111640            Arbre      Jardin  PARIS 15E ARRDT              15-02   \n",
       "3  112222            Arbre      Jardin  PARIS 15E ARRDT              15-05   \n",
       "4  128372            Arbre      Jardin  PARIS 15E ARRDT               None   \n",
       "5  128373            Arbre      Jardin  PARIS 15E ARRDT               None   \n",
       "\n",
       "  NUMERO                                     LIEU / ADRESSE IDEMPLACEMENT  \\\n",
       "0   None  SQUARE DE LA PLACE ADOLPHE CHERIOUX / 260 RUE ...     000106001   \n",
       "1   None                               SQUARE SAINT-LAMBERT      00000084   \n",
       "2   None                               SQUARE SAINT-LAMBERT      00000087   \n",
       "3   None                               SQUARE SAINT-LAMBERT      00000151   \n",
       "4   None                          SQUARE DU CLOS FEUQUIERES      00000001   \n",
       "5   None                          SQUARE DU CLOS FEUQUIERES      00000002   \n",
       "\n",
       "  LIBELLE FRANCAIS    GENRE       ESPECE VARIETE OUCULTIVAR  \\\n",
       "0            Chêne  Quercus    frainetto               None   \n",
       "1           Erable     Acer  saccharinum               None   \n",
       "2            Aulne    Alnus       n. sp.               None   \n",
       "3      Micocoulier   Celtis    australis               None   \n",
       "4            Hêtre    Fagus    sylvatica        ''Pendula''   \n",
       "5            Hêtre    Fagus    sylvatica        ''Pendula''   \n",
       "\n",
       "   CIRCONFERENCE (cm)  HAUTEUR (m) STADE DE DEVELOPPEMENT REMARQUABLE  \\\n",
       "0                 180           15                      A         OUI   \n",
       "1                 240           20                      A         OUI   \n",
       "2                 225           18                      A         OUI   \n",
       "3                 225           18                      A         OUI   \n",
       "4                 140            4                      A         OUI   \n",
       "5                 130            5                      A         OUI   \n",
       "\n",
       "                  geo_point_2d  \n",
       "0  48.8396441672,2.30097558498  \n",
       "1  48.8428184075,2.29688266387  \n",
       "2  48.8428258374,2.29728541016  \n",
       "3  48.8426511702,2.29608898567  \n",
       "4   48.836425027,2.29018563176  \n",
       "5  48.8363411221,2.29020948574  "
      ]
     },
     "execution_count": 50,
     "metadata": {},
     "output_type": "execute_result"
    }
   ],
   "source": [
    "# Filter the values\n",
    "# For example, let's keep only remarquable trees\n",
    "df.filter((df.REMARQUABLE == 'OUI') & (df.ARRONDISSEMENT == 'PARIS 15E ARRDT')).toPandas()"
   ]
  },
  {
   "cell_type": "code",
   "execution_count": 52,
   "metadata": {
    "ExecuteTime": {
     "end_time": "2019-05-24T13:33:02.624855Z",
     "start_time": "2019-05-24T13:33:02.035718Z"
    }
   },
   "outputs": [
    {
     "data": {
      "text/plain": [
       "180"
      ]
     },
     "execution_count": 52,
     "metadata": {},
     "output_type": "execute_result"
    }
   ],
   "source": [
    "# Count how many remarquable trees we have in the dataset.\n",
    "df.filter(df.REMARQUABLE == 'OUI').count()"
   ]
  },
  {
   "cell_type": "markdown",
   "metadata": {},
   "source": [
    "**Q5) Deleting a column**\n",
    "\n",
    "We have seen in the previous question that we can chain multiple operations on a dataframe. BUT, all we did in the previous cells did not modify our dataframe.\n",
    "\n",
    "If you want to modify a dataframe, you have to reassign the variable. \n",
    "\n",
    "Obviously, we will not use the ```geo_point_2d```. Reassign the dataframe (df), or create a new variable, and drop the column."
   ]
  },
  {
   "cell_type": "code",
   "execution_count": 53,
   "metadata": {
    "ExecuteTime": {
     "end_time": "2019-05-24T13:20:55.861752Z",
     "start_time": "2019-05-24T13:20:49.231635Z"
    }
   },
   "outputs": [],
   "source": [
    "# TODO\n",
    "df = df.drop('geo_point_2d')"
   ]
  },
  {
   "cell_type": "code",
   "execution_count": 54,
   "metadata": {},
   "outputs": [
    {
     "data": {
      "text/html": [
       "<div>\n",
       "<style scoped>\n",
       "    .dataframe tbody tr th:only-of-type {\n",
       "        vertical-align: middle;\n",
       "    }\n",
       "\n",
       "    .dataframe tbody tr th {\n",
       "        vertical-align: top;\n",
       "    }\n",
       "\n",
       "    .dataframe thead th {\n",
       "        text-align: right;\n",
       "    }\n",
       "</style>\n",
       "<table border=\"1\" class=\"dataframe\">\n",
       "  <thead>\n",
       "    <tr style=\"text-align: right;\">\n",
       "      <th></th>\n",
       "      <th>IDBASE</th>\n",
       "      <th>TYPE EMPLACEMENT</th>\n",
       "      <th>DOMANIALITE</th>\n",
       "      <th>ARRONDISSEMENT</th>\n",
       "      <th>COMPLEMENT ADRESSE</th>\n",
       "      <th>NUMERO</th>\n",
       "      <th>LIEU / ADRESSE</th>\n",
       "      <th>IDEMPLACEMENT</th>\n",
       "      <th>LIBELLE FRANCAIS</th>\n",
       "      <th>GENRE</th>\n",
       "      <th>ESPECE</th>\n",
       "      <th>VARIETE OUCULTIVAR</th>\n",
       "      <th>CIRCONFERENCE (cm)</th>\n",
       "      <th>HAUTEUR (m)</th>\n",
       "      <th>STADE DE DEVELOPPEMENT</th>\n",
       "      <th>REMARQUABLE</th>\n",
       "    </tr>\n",
       "  </thead>\n",
       "  <tbody>\n",
       "    <tr>\n",
       "      <th>0</th>\n",
       "      <td>130350</td>\n",
       "      <td>Arbre</td>\n",
       "      <td>Jardin</td>\n",
       "      <td>PARIS 15E ARRDT</td>\n",
       "      <td>None</td>\n",
       "      <td>None</td>\n",
       "      <td>PARC ANDRE CITROEN</td>\n",
       "      <td>00080186</td>\n",
       "      <td>Pommier à fleurs</td>\n",
       "      <td>Malus</td>\n",
       "      <td>None</td>\n",
       "      <td>''Evereste''</td>\n",
       "      <td>0</td>\n",
       "      <td>0</td>\n",
       "      <td>None</td>\n",
       "      <td>None</td>\n",
       "    </tr>\n",
       "    <tr>\n",
       "      <th>1</th>\n",
       "      <td>135667</td>\n",
       "      <td>Arbre</td>\n",
       "      <td>Jardin</td>\n",
       "      <td>PARIS 17E ARRDT</td>\n",
       "      <td>None</td>\n",
       "      <td>None</td>\n",
       "      <td>TALUS PORTE MAILLOT 53B / 1V PLACE DE VERDUN</td>\n",
       "      <td>000101003</td>\n",
       "      <td>Sophora</td>\n",
       "      <td>Sophora</td>\n",
       "      <td>japonica</td>\n",
       "      <td>None</td>\n",
       "      <td>124</td>\n",
       "      <td>9</td>\n",
       "      <td>A</td>\n",
       "      <td>NON</td>\n",
       "    </tr>\n",
       "    <tr>\n",
       "      <th>2</th>\n",
       "      <td>147353</td>\n",
       "      <td>Arbre</td>\n",
       "      <td>CIMETIERE</td>\n",
       "      <td>PARIS 20E ARRDT</td>\n",
       "      <td>None</td>\n",
       "      <td>None</td>\n",
       "      <td>CIMETIERE DU PERE LACHAISE / AVENUE CIRCULAIRE...</td>\n",
       "      <td>A01500088010</td>\n",
       "      <td>Marronnier</td>\n",
       "      <td>Aesculus</td>\n",
       "      <td>hippocastanum</td>\n",
       "      <td>None</td>\n",
       "      <td>150</td>\n",
       "      <td>12</td>\n",
       "      <td>A</td>\n",
       "      <td>NON</td>\n",
       "    </tr>\n",
       "    <tr>\n",
       "      <th>3</th>\n",
       "      <td>169786</td>\n",
       "      <td>Arbre</td>\n",
       "      <td>CIMETIERE</td>\n",
       "      <td>HAUTS-DE-SEINE</td>\n",
       "      <td>None</td>\n",
       "      <td>None</td>\n",
       "      <td>CIMETIERE DE BAGNEUX / AVENUE DES TILLEULS DE ...</td>\n",
       "      <td>A09000059001</td>\n",
       "      <td>Tilleul</td>\n",
       "      <td>Tilia</td>\n",
       "      <td>platyphyllos</td>\n",
       "      <td>None</td>\n",
       "      <td>0</td>\n",
       "      <td>0</td>\n",
       "      <td>None</td>\n",
       "      <td>None</td>\n",
       "    </tr>\n",
       "    <tr>\n",
       "      <th>4</th>\n",
       "      <td>187058</td>\n",
       "      <td>Arbre</td>\n",
       "      <td>DASCO</td>\n",
       "      <td>PARIS 17E ARRDT</td>\n",
       "      <td>None</td>\n",
       "      <td>None</td>\n",
       "      <td>LEMERCIER (105) ELEM</td>\n",
       "      <td>08810010</td>\n",
       "      <td>Marronnier</td>\n",
       "      <td>Aesculus</td>\n",
       "      <td>hippocastanum</td>\n",
       "      <td>None</td>\n",
       "      <td>95</td>\n",
       "      <td>12</td>\n",
       "      <td>A</td>\n",
       "      <td>NON</td>\n",
       "    </tr>\n",
       "    <tr>\n",
       "      <th>...</th>\n",
       "      <td>...</td>\n",
       "      <td>...</td>\n",
       "      <td>...</td>\n",
       "      <td>...</td>\n",
       "      <td>...</td>\n",
       "      <td>...</td>\n",
       "      <td>...</td>\n",
       "      <td>...</td>\n",
       "      <td>...</td>\n",
       "      <td>...</td>\n",
       "      <td>...</td>\n",
       "      <td>...</td>\n",
       "      <td>...</td>\n",
       "      <td>...</td>\n",
       "      <td>...</td>\n",
       "      <td>...</td>\n",
       "    </tr>\n",
       "    <tr>\n",
       "      <th>205010</th>\n",
       "      <td>109038</td>\n",
       "      <td>Arbre</td>\n",
       "      <td>Jardin</td>\n",
       "      <td>PARIS 13E ARRDT</td>\n",
       "      <td>None</td>\n",
       "      <td>None</td>\n",
       "      <td>PARC KELLERMANN</td>\n",
       "      <td>00000014</td>\n",
       "      <td>Tilleul</td>\n",
       "      <td>Tilia</td>\n",
       "      <td>platyphyllos</td>\n",
       "      <td>None</td>\n",
       "      <td>90</td>\n",
       "      <td>8</td>\n",
       "      <td>None</td>\n",
       "      <td>None</td>\n",
       "    </tr>\n",
       "    <tr>\n",
       "      <th>205011</th>\n",
       "      <td>151487</td>\n",
       "      <td>Arbre</td>\n",
       "      <td>CIMETIERE</td>\n",
       "      <td>HAUTS-DE-SEINE</td>\n",
       "      <td>None</td>\n",
       "      <td>None</td>\n",
       "      <td>CIMETIERE DE BAGNEUX / AVENUE DE L''AULNAIE / ...</td>\n",
       "      <td>A03200099003</td>\n",
       "      <td>Aulne</td>\n",
       "      <td>Alnus</td>\n",
       "      <td>cordata</td>\n",
       "      <td>None</td>\n",
       "      <td>0</td>\n",
       "      <td>0</td>\n",
       "      <td>None</td>\n",
       "      <td>None</td>\n",
       "    </tr>\n",
       "    <tr>\n",
       "      <th>205012</th>\n",
       "      <td>164598</td>\n",
       "      <td>Arbre</td>\n",
       "      <td>CIMETIERE</td>\n",
       "      <td>SEINE-SAINT-DENIS</td>\n",
       "      <td>None</td>\n",
       "      <td>None</td>\n",
       "      <td>CIMETIERE DE PANTIN / DIV 139</td>\n",
       "      <td>D00000139001</td>\n",
       "      <td>Prunier à fleurs</td>\n",
       "      <td>Prunus</td>\n",
       "      <td>cerasifera</td>\n",
       "      <td>''Pissardii''</td>\n",
       "      <td>70</td>\n",
       "      <td>6</td>\n",
       "      <td>JA</td>\n",
       "      <td>NON</td>\n",
       "    </tr>\n",
       "    <tr>\n",
       "      <th>205013</th>\n",
       "      <td>296314</td>\n",
       "      <td>Arbre</td>\n",
       "      <td>Alignement</td>\n",
       "      <td>PARIS 13E ARRDT</td>\n",
       "      <td>None</td>\n",
       "      <td>None</td>\n",
       "      <td>RUE BOBILLOT</td>\n",
       "      <td>002602020</td>\n",
       "      <td>Tilleul</td>\n",
       "      <td>Tilia</td>\n",
       "      <td>tomentosa</td>\n",
       "      <td>None</td>\n",
       "      <td>70</td>\n",
       "      <td>8</td>\n",
       "      <td>JA</td>\n",
       "      <td>NON</td>\n",
       "    </tr>\n",
       "    <tr>\n",
       "      <th>205014</th>\n",
       "      <td>2020021</td>\n",
       "      <td>Arbre</td>\n",
       "      <td>Jardin</td>\n",
       "      <td>PARIS 18E ARRDT</td>\n",
       "      <td>None</td>\n",
       "      <td>None</td>\n",
       "      <td>JARDIN ROSA LUXEMBOURG / 22 BIS RUE PAJOL</td>\n",
       "      <td>000108009</td>\n",
       "      <td>Pin</td>\n",
       "      <td>Pinus</td>\n",
       "      <td>sylvestris</td>\n",
       "      <td>None</td>\n",
       "      <td>70</td>\n",
       "      <td>8</td>\n",
       "      <td>J</td>\n",
       "      <td>NON</td>\n",
       "    </tr>\n",
       "  </tbody>\n",
       "</table>\n",
       "<p>205015 rows × 16 columns</p>\n",
       "</div>"
      ],
      "text/plain": [
       "         IDBASE TYPE EMPLACEMENT DOMANIALITE     ARRONDISSEMENT  \\\n",
       "0        130350            Arbre      Jardin    PARIS 15E ARRDT   \n",
       "1        135667            Arbre      Jardin    PARIS 17E ARRDT   \n",
       "2        147353            Arbre   CIMETIERE    PARIS 20E ARRDT   \n",
       "3        169786            Arbre   CIMETIERE     HAUTS-DE-SEINE   \n",
       "4        187058            Arbre       DASCO    PARIS 17E ARRDT   \n",
       "...         ...              ...         ...                ...   \n",
       "205010   109038            Arbre      Jardin    PARIS 13E ARRDT   \n",
       "205011   151487            Arbre   CIMETIERE     HAUTS-DE-SEINE   \n",
       "205012   164598            Arbre   CIMETIERE  SEINE-SAINT-DENIS   \n",
       "205013   296314            Arbre  Alignement    PARIS 13E ARRDT   \n",
       "205014  2020021            Arbre      Jardin    PARIS 18E ARRDT   \n",
       "\n",
       "       COMPLEMENT ADRESSE NUMERO  \\\n",
       "0                    None   None   \n",
       "1                    None   None   \n",
       "2                    None   None   \n",
       "3                    None   None   \n",
       "4                    None   None   \n",
       "...                   ...    ...   \n",
       "205010               None   None   \n",
       "205011               None   None   \n",
       "205012               None   None   \n",
       "205013               None   None   \n",
       "205014               None   None   \n",
       "\n",
       "                                           LIEU / ADRESSE IDEMPLACEMENT  \\\n",
       "0                                      PARC ANDRE CITROEN      00080186   \n",
       "1            TALUS PORTE MAILLOT 53B / 1V PLACE DE VERDUN     000101003   \n",
       "2       CIMETIERE DU PERE LACHAISE / AVENUE CIRCULAIRE...  A01500088010   \n",
       "3       CIMETIERE DE BAGNEUX / AVENUE DES TILLEULS DE ...  A09000059001   \n",
       "4                                    LEMERCIER (105) ELEM      08810010   \n",
       "...                                                   ...           ...   \n",
       "205010                                    PARC KELLERMANN      00000014   \n",
       "205011  CIMETIERE DE BAGNEUX / AVENUE DE L''AULNAIE / ...  A03200099003   \n",
       "205012                      CIMETIERE DE PANTIN / DIV 139  D00000139001   \n",
       "205013                                       RUE BOBILLOT     002602020   \n",
       "205014          JARDIN ROSA LUXEMBOURG / 22 BIS RUE PAJOL     000108009   \n",
       "\n",
       "        LIBELLE FRANCAIS     GENRE         ESPECE VARIETE OUCULTIVAR  \\\n",
       "0       Pommier à fleurs     Malus           None       ''Evereste''   \n",
       "1                Sophora   Sophora       japonica               None   \n",
       "2             Marronnier  Aesculus  hippocastanum               None   \n",
       "3                Tilleul     Tilia   platyphyllos               None   \n",
       "4             Marronnier  Aesculus  hippocastanum               None   \n",
       "...                  ...       ...            ...                ...   \n",
       "205010           Tilleul     Tilia   platyphyllos               None   \n",
       "205011             Aulne     Alnus        cordata               None   \n",
       "205012  Prunier à fleurs    Prunus     cerasifera      ''Pissardii''   \n",
       "205013           Tilleul     Tilia      tomentosa               None   \n",
       "205014               Pin     Pinus     sylvestris               None   \n",
       "\n",
       "        CIRCONFERENCE (cm)  HAUTEUR (m) STADE DE DEVELOPPEMENT REMARQUABLE  \n",
       "0                        0            0                   None        None  \n",
       "1                      124            9                      A         NON  \n",
       "2                      150           12                      A         NON  \n",
       "3                        0            0                   None        None  \n",
       "4                       95           12                      A         NON  \n",
       "...                    ...          ...                    ...         ...  \n",
       "205010                  90            8                   None        None  \n",
       "205011                   0            0                   None        None  \n",
       "205012                  70            6                     JA         NON  \n",
       "205013                  70            8                     JA         NON  \n",
       "205014                  70            8                      J         NON  \n",
       "\n",
       "[205015 rows x 16 columns]"
      ]
     },
     "execution_count": 54,
     "metadata": {},
     "output_type": "execute_result"
    }
   ],
   "source": [
    "df.toPandas()"
   ]
  },
  {
   "cell_type": "markdown",
   "metadata": {},
   "source": [
    "**In the following questions you will discover the **.withColumn()** operator. It's one of the most useful tool for manipulating columns.**\n",
    "\n",
    "**Q6) Renaming a column **\n",
    "\n",
    "We'll start with the **.withColumnRenamed** operator, to rename a column. Change the \"LIEU / ADRESSE\" to \"ADRESSE\".\n",
    "\n",
    "Syntax : ```df.withColumnRenamed(\"colName\", \"newColName\")```\n",
    "\n",
    "Dont forget you have to reassign a variable for your instruction to be applied."
   ]
  },
  {
   "cell_type": "code",
   "execution_count": 55,
   "metadata": {
    "ExecuteTime": {
     "end_time": "2019-05-24T13:20:55.861752Z",
     "start_time": "2019-05-24T13:20:49.231635Z"
    }
   },
   "outputs": [],
   "source": [
    "# TODO\n",
    "df = df.withColumnRenamed('LIEU / ADRESSE', 'ADRESSE')"
   ]
  },
  {
   "cell_type": "code",
   "execution_count": 56,
   "metadata": {},
   "outputs": [
    {
     "data": {
      "text/plain": [
       "['IDBASE',\n",
       " 'TYPE EMPLACEMENT',\n",
       " 'DOMANIALITE',\n",
       " 'ARRONDISSEMENT',\n",
       " 'COMPLEMENT ADRESSE',\n",
       " 'NUMERO',\n",
       " 'ADRESSE',\n",
       " 'IDEMPLACEMENT',\n",
       " 'LIBELLE FRANCAIS',\n",
       " 'GENRE',\n",
       " 'ESPECE',\n",
       " 'VARIETE OUCULTIVAR',\n",
       " 'CIRCONFERENCE (cm)',\n",
       " 'HAUTEUR (m)',\n",
       " 'STADE DE DEVELOPPEMENT',\n",
       " 'REMARQUABLE']"
      ]
     },
     "execution_count": 56,
     "metadata": {},
     "output_type": "execute_result"
    }
   ],
   "source": [
    "df.columns"
   ]
  },
  {
   "cell_type": "markdown",
   "metadata": {},
   "source": [
    "**Q7) Modify/Create a column :**\n",
    "\n",
    ".withColumn applies an operation to a whole column. It creates a new column with the name given. If you give the same name, the column will be replaced.\n",
    "\n",
    "Apply the withColumn function to concatenate the columns NUMERO and ADRESSE, into a new column named ADRESSE_COMPLETE.\n",
    "\n",
    "For concatenating, we use **concat_ws** (with separator), one of the built-in function of spark sql. It's a set of function made specifically for Dataframes.\n",
    "\n",
    "Here is the syntax to gather the columns : \n",
    "\n",
    "```concat_ws(\" \", df_mod.NUMERO, df_mod.ADRESSE)```"
   ]
  },
  {
   "cell_type": "code",
   "execution_count": 59,
   "metadata": {},
   "outputs": [],
   "source": [
    "from pyspark.sql.functions import concat_ws"
   ]
  },
  {
   "cell_type": "code",
   "execution_count": 60,
   "metadata": {
    "ExecuteTime": {
     "end_time": "2019-05-24T13:20:55.861752Z",
     "start_time": "2019-05-24T13:20:49.231635Z"
    }
   },
   "outputs": [],
   "source": [
    "# TODO\n",
    "df = df.withColumn('ADRESSE_COMPLETE', concat_ws(' ', df.NUMERO, df.ADRESSE))"
   ]
  },
  {
   "cell_type": "markdown",
   "metadata": {},
   "source": [
    "One amazing thing with SparkSQL DataFrames, is the possibility to write SQL queries on your DataFrame\n",
    "\n",
    "**Q8) Here are the steps for using SQL with dataframes :**\n",
    "1. Register your dataframe into a temporary table with : ```df.registerTempTable(\"customTableName\")```\n",
    "2. Create a SQLContext, from the spark session with : ```sqlContext = SQLContext(spark_sess)```\n",
    "3. Query your temporary table with this syntax : ```sqlContext.sql(\"SELECT column FROM customTableName\").show()```\n",
    "\n",
    "Follow these steps and query your dataframe with SQL to display ARRONDISSEMENT and CIRCONFERENCEENCM, ordered by descending CIRCONFERENCEENCM. Can you believe the results ?!"
   ]
  },
  {
   "cell_type": "code",
   "execution_count": 83,
   "metadata": {
    "ExecuteTime": {
     "end_time": "2019-05-24T13:20:55.861752Z",
     "start_time": "2019-05-24T13:20:49.231635Z"
    }
   },
   "outputs": [
    {
     "name": "stdout",
     "output_type": "stream",
     "text": [
      "+---------------+\n",
      "| ARRONDISSEMENT|\n",
      "+---------------+\n",
      "|PARIS 15E ARRDT|\n",
      "|PARIS 17E ARRDT|\n",
      "|PARIS 20E ARRDT|\n",
      "| HAUTS-DE-SEINE|\n",
      "|PARIS 17E ARRDT|\n",
      "|PARIS 20E ARRDT|\n",
      "|PARIS 15E ARRDT|\n",
      "|PARIS 16E ARRDT|\n",
      "| PARIS 8E ARRDT|\n",
      "| PARIS 7E ARRDT|\n",
      "|PARIS 18E ARRDT|\n",
      "|PARIS 18E ARRDT|\n",
      "|PARIS 13E ARRDT|\n",
      "|PARIS 14E ARRDT|\n",
      "|PARIS 19E ARRDT|\n",
      "|PARIS 17E ARRDT|\n",
      "|PARIS 19E ARRDT|\n",
      "|PARIS 19E ARRDT|\n",
      "| PARIS 7E ARRDT|\n",
      "|PARIS 18E ARRDT|\n",
      "+---------------+\n",
      "only showing top 20 rows\n",
      "\n"
     ]
    }
   ],
   "source": [
    "# Step 1\n",
    "df.registerTempTable('treesTable')\n",
    "# Step 2\n",
    "sqlContext = SQLContext(spark)\n",
    "# Query\n",
    "sqlContext.sql(\"SELECT ARRONDISSEMENT FROM treesTable\").show()"
   ]
  },
  {
   "cell_type": "markdown",
   "metadata": {},
   "source": [
    "At this point, you have covered a lot of tools to play around with Dataframes.\n",
    "\n",
    "**Q9) Challenge recap**\n",
    "- Modify your dataframe : Create a new column APPELLATION concatenating ESPECE and VARIETEOUCULTIVAR.\n",
    "- Load your dataframe into a temp SQL table.\n",
    "- Query your table : Display in descending order the count for each APPELLATION (Use Group By)"
   ]
  },
  {
   "cell_type": "code",
   "execution_count": 88,
   "metadata": {},
   "outputs": [
    {
     "name": "stdout",
     "output_type": "stream",
     "text": [
      "+--------------------+\n",
      "|         APPELLATION|\n",
      "+--------------------+\n",
      "|        ''Evereste''|\n",
      "|            japonica|\n",
      "|       hippocastanum|\n",
      "|        platyphyllos|\n",
      "|       hippocastanum|\n",
      "|   nigra ''Italica''|\n",
      "|betulus ''Fastigi...|\n",
      "|      pseudoplatanus|\n",
      "|       hippocastanum|\n",
      "|            japonica|\n",
      "|         x hispanica|\n",
      "|            japonica|\n",
      "|         grandiflora|\n",
      "|           australis|\n",
      "|         x hispanica|\n",
      "|pseudoacacia ''Sa...|\n",
      "|               nigra|\n",
      "|utilis ''Doorenbos''|\n",
      "|        occidentalis|\n",
      "|            japonica|\n",
      "+--------------------+\n",
      "only showing top 20 rows\n",
      "\n"
     ]
    }
   ],
   "source": [
    "# 1. Create a new column by concatenation\n",
    "df = df.withColumn('APPELLATION', concat_ws(' ', df.ESPECE, df['VARIETE OUCULTIVAR']))\n",
    "\n",
    "# 2. Create SQLContext like above\n",
    "df.registerTempTable('new_treesTable')\n",
    "\n",
    "# 3. SQL Query\n",
    "sqlContext.sql(\"SELECT APPELLATION FROM new_treesTable\").show()"
   ]
  },
  {
   "cell_type": "code",
   "execution_count": 96,
   "metadata": {},
   "outputs": [],
   "source": [
    "# TODO : delete the dataset\n",
    "from pyspark.sql import DataFrame\n",
    "lst = [k for (k, v) in globals().items() if isinstance(v, DataFrame)]"
   ]
  },
  {
   "cell_type": "code",
   "execution_count": 97,
   "metadata": {},
   "outputs": [
    {
     "data": {
      "text/plain": [
       "['__', 'trees', 'df', '_38', '_44', '_61', '_92']"
      ]
     },
     "execution_count": 97,
     "metadata": {},
     "output_type": "execute_result"
    }
   ],
   "source": [
    "lst"
   ]
  },
  {
   "cell_type": "code",
   "execution_count": 98,
   "metadata": {},
   "outputs": [
    {
     "data": {
      "text/plain": [
       "DataFrame[IDBASE: int, TYPE EMPLACEMENT: string, DOMANIALITE: string, ARRONDISSEMENT: string, COMPLEMENT ADRESSE: string, NUMERO: string, ADRESSE: string, IDEMPLACEMENT: string, LIBELLE FRANCAIS: string, GENRE: string, ESPECE: string, VARIETE OUCULTIVAR: string, CIRCONFERENCE (cm): int, HAUTEUR (m): int, STADE DE DEVELOPPEMENT: string, REMARQUABLE: string, ADRESSE_COMPLETE: string, APPELLATION: string]"
      ]
     },
     "execution_count": 98,
     "metadata": {},
     "output_type": "execute_result"
    }
   ],
   "source": [
    "df.unpersist()"
   ]
  },
  {
   "cell_type": "code",
   "execution_count": 99,
   "metadata": {},
   "outputs": [],
   "source": [
    "lst = [k for (k, v) in globals().items() if isinstance(v, DataFrame)]"
   ]
  },
  {
   "cell_type": "code",
   "execution_count": 101,
   "metadata": {},
   "outputs": [
    {
     "data": {
      "text/plain": [
       "['_', 'trees', 'df', '_38', '_44', '_61', '_92', '_98']"
      ]
     },
     "execution_count": 101,
     "metadata": {},
     "output_type": "execute_result"
    }
   ],
   "source": [
    "lst"
   ]
  }
 ],
 "metadata": {
  "kernelspec": {
   "display_name": "Python 3",
   "language": "python",
   "name": "python3"
  },
  "language_info": {
   "codemirror_mode": {
    "name": "ipython",
    "version": 3
   },
   "file_extension": ".py",
   "mimetype": "text/x-python",
   "name": "python",
   "nbconvert_exporter": "python",
   "pygments_lexer": "ipython3",
   "version": "3.7.6"
  },
  "toc": {
   "base_numbering": 1,
   "nav_menu": {},
   "number_sections": false,
   "sideBar": true,
   "skip_h1_title": false,
   "title_cell": "Table of Contents",
   "title_sidebar": "Contents",
   "toc_cell": false,
   "toc_position": {},
   "toc_section_display": true,
   "toc_window_display": false
  },
  "varInspector": {
   "cols": {
    "lenName": 16,
    "lenType": 16,
    "lenVar": 40
   },
   "kernels_config": {
    "python": {
     "delete_cmd_postfix": "",
     "delete_cmd_prefix": "del ",
     "library": "var_list.py",
     "varRefreshCmd": "print(var_dic_list())"
    },
    "r": {
     "delete_cmd_postfix": ") ",
     "delete_cmd_prefix": "rm(",
     "library": "var_list.r",
     "varRefreshCmd": "cat(var_dic_list()) "
    }
   },
   "types_to_exclude": [
    "module",
    "function",
    "builtin_function_or_method",
    "instance",
    "_Feature"
   ],
   "window_display": false
  }
 },
 "nbformat": 4,
 "nbformat_minor": 2
}
