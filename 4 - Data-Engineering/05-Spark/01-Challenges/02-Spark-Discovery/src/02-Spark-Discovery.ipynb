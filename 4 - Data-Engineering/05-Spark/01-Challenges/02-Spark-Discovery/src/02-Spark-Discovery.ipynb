{
 "cells": [
  {
   "cell_type": "markdown",
   "metadata": {},
   "source": [
    "# 07-04\n",
    "\n",
    "## Challenge 02 - Launching Spark, Dataframe discovery\n",
    "---\n",
    "![](https://images.unsplash.com/photo-1430116267665-e7f6b3dafce3?ixlib=rb-1.2.1&ixid=eyJhcHBfaWQiOjEyMDd9&auto=format&fit=crop&w=1350&q=80)\n",
    "Picture by [Wil Stewart](https://unsplash.com/photos/2aCuwSh4RRk)\n",
    "\n",
    "➡️ Content with this syntax : ```__ABCD__``` must be replaced accordingly."
   ]
  },
  {
   "cell_type": "markdown",
   "metadata": {},
   "source": [
    "**Q1 - Launch a Spark Session**\n",
    "\n",
    "- Name the session \"dataframes\" or anythin you like\n",
    "- There is one missing function at the end of the line, this function should \"get or create\" the spark session.\n",
    "\n",
    "[🎁 The documentation](https://spark.apache.org/docs/latest/api/python/pyspark.sql.html#pyspark.sql.SparkSession)"
   ]
  },
  {
   "cell_type": "code",
   "execution_count": 6,
   "metadata": {},
   "outputs": [],
   "source": [
    "import findspark\n",
    "findspark.init('/home/guillaume/Programmes/spark-3.0.0-bin-hadoop2.7')\n",
    "from pyspark.sql import SparkSession\n",
    "\n",
    "### STRIP_START\n",
    "spark = SparkSession.builder \\\n",
    "    .master(\"local[4]\") \\\n",
    "    .appName(\"dataframes\") \\\n",
    "    .config(\"spark.some.config.option\", \"some-value\") \\\n",
    "    .getOrCreate()\n",
    "### STRIP_END"
   ]
  },
  {
   "cell_type": "markdown",
   "metadata": {},
   "source": [
    "**Q2 - Retrieve the Spark Web UI adress, open it in a new tab and keep it for later**\n",
    "\n",
    "[🎁 The documentation](http://spark.apache.org/docs/latest/api/python/pyspark.html?highlight=subtr#pyspark.SparkContext.uiWebUrl)"
   ]
  },
  {
   "cell_type": "code",
   "execution_count": 7,
   "metadata": {
    "ExecuteTime": {
     "end_time": "2019-05-23T09:26:37.154880Z",
     "start_time": "2019-05-23T09:26:32.004235Z"
    }
   },
   "outputs": [
    {
     "name": "stdout",
     "output_type": "stream",
     "text": [
      "http://192.168.0.19:4040\n"
     ]
    }
   ],
   "source": [
    "# This information is situated in the SparkContext variable.\n",
    "#print(spark1.sparkContext.__SparkContextAttribute__)\n",
    "\n",
    "### STRIP_START\n",
    "print(spark.sparkContext.uiWebUrl)\n",
    "### STRIP_END"
   ]
  },
  {
   "cell_type": "markdown",
   "metadata": {},
   "source": [
    "**Q3 - Create a Dataframe from the [Uber CSV file](https://drive.google.com/open?id=1hLjLVuryuWd7OmeJ5rXp2YJ0BEIFyLaS), you will pass 3 parameters :**\n",
    "    - The file name\n",
    "    - A boolean parameter : header\n",
    "    - A boolean parameter : inferSchema\n",
    "    \n",
    "[🎁 The documentation](http://spark.apache.org/docs/latest/api/python/pyspark.sql.html#pyspark.sql.DataFrameReader.csv)"
   ]
  },
  {
   "cell_type": "code",
   "execution_count": 18,
   "metadata": {
    "ExecuteTime": {
     "end_time": "2019-05-23T09:26:44.265497Z",
     "start_time": "2019-05-23T09:26:39.396962Z"
    }
   },
   "outputs": [],
   "source": [
    "#df = spark1.read.csv(\"__filename__\", \\\n",
    "                     #__param1__=bool, \\\n",
    "                     #__param2__=bool)\n",
    "\n",
    "### STRIP_START\n",
    "df = spark.read.csv('uber_trips.csv', header=True, inferSchema=True)\n",
    "### STRIP_END"
   ]
  },
  {
   "cell_type": "markdown",
   "metadata": {},
   "source": [
    "**Q4 - Check the python type of your Dataframe, do you recognize the Spark library used here ?**\n",
    "\n",
    "At this point, we already have done a lot, with not so many line of codes. "
   ]
  },
  {
   "cell_type": "code",
   "execution_count": 19,
   "metadata": {},
   "outputs": [
    {
     "name": "stdout",
     "output_type": "stream",
     "text": [
      "<class 'pyspark.sql.dataframe.DataFrame'>\n"
     ]
    }
   ],
   "source": [
    "#print(__pythonTypeOfDataframe__)\n",
    "\n",
    "### STRIP_START\n",
    "print(type(df))\n",
    "### STRIP_END"
   ]
  },
  {
   "cell_type": "markdown",
   "metadata": {},
   "source": [
    "**Let's have a closer look at our Dataframe. Just like Pandas Dataframes, you can call simple function to gain insights.**\n",
    "\n",
    "**Q5 - Have a look at the first lines of your Dataframe. **\n",
    "\n",
    "*Hint : \"Show me the lines\"*"
   ]
  },
  {
   "cell_type": "code",
   "execution_count": 20,
   "metadata": {
    "ExecuteTime": {
     "end_time": "2019-05-23T09:26:46.019053Z",
     "start_time": "2019-05-23T09:26:45.573841Z"
    }
   },
   "outputs": [
    {
     "name": "stdout",
     "output_type": "stream",
     "text": [
      "+-------------------+-----------+----------------+--------------------+-----+-----------+-----------------+---------------+----------------------+-------------------------+\n",
      "|Base License Number|Wave Number|       Base Name|                 DBA|Years|Week Number|Pickup Start Date|Pickup End Date|Total Dispatched Trips|Unique Dispatched Vehicle|\n",
      "+-------------------+-----------+----------------+--------------------+-----+-----------+-----------------+---------------+----------------------+-------------------------+\n",
      "|             B02865|          4|     VIER-NY,LLC|    UBER-VIER-NY LLC| 2016|         40|        9/25/2016|      10/1/2016|                  4585|                      101|\n",
      "|             B02883|          4|SECHZEHN-NY, LLC|UBER-SECHZEHN-NY,...| 2016|         39|        9/18/2016|      9/24/2016|                 21336|                      515|\n",
      "|             B02765|          1|        GRUN LLC|       UBER-GRUN LLC| 2016|          5|        1/24/2016|      1/30/2016|                 60767|                     1455|\n",
      "|             B02875|          4|   SECHS-NY, LLC|  UBER-SECHS-NY, LLC| 2016|         23|        5/29/2016|       6/4/2016|                 12094|                      279|\n",
      "|             B02865|          4|     VIER-NY,LLC|    UBER-VIER-NY LLC| 2016|         24|         6/5/2016|      6/11/2016|                  1141|                       26|\n",
      "|             B02835|          4|   DREIST NY LLC|  UBER-DREIST NY LLC| 2016|          1|         1/1/2016|       1/2/2016|                 34788|                     2374|\n",
      "|             B02884|          4|DREIZEHN-NY, LLC|UBER-DREIZEHN-NY,...| 2016|         37|         9/4/2016|      9/10/2016|                  5316|                       98|\n",
      "|             B02888|          4| SIEBZEHN-NY,LLC|UBER-SIEBZEHN-NY,LLC| 2016|          1|         1/1/2016|       1/2/2016|                  2656|                      215|\n",
      "|             B02870|          4|     NEUN-NY,LLC|    UBER-NEUN-NY LLC| 2016|         28|         7/3/2016|       7/9/2016|                 10853|                      275|\n",
      "|             B02883|          4|SECHZEHN-NY, LLC|UBER-SECHZEHN-NY,...| 2016|         45|       10/30/2016|      11/5/2016|                 22929|                      511|\n",
      "|             B02882|          4|  ZWANZIG-NY,LLC| UBER-ZWANZIG-NY,LLC| 2016|         25|        6/12/2016|      6/18/2016|                  4069|                       83|\n",
      "|             B02869|          4|    ZEHN-NY,LLC.|    UBER-ZEHN-NY LLC| 2016|         12|        3/13/2016|      3/19/2016|                  1162|                       33|\n",
      "|             B02884|          4|DREIZEHN-NY, LLC|UBER-DREIZEHN-NY,...| 2016|         38|        9/11/2016|      9/17/2016|                  5128|                       98|\n",
      "|             B02875|          4|   SECHS-NY, LLC|  UBER-SECHS-NY, LLC| 2016|         19|         5/1/2016|       5/7/2016|                  8727|                      178|\n",
      "|             B02870|          4|     NEUN-NY,LLC|    UBER-NEUN-NY LLC| 2016|         20|         5/8/2016|      5/14/2016|                 11504|                      263|\n",
      "|             B02865|          4|     VIER-NY,LLC|    UBER-VIER-NY LLC| 2016|         50|        12/4/2016|     12/10/2016|                 29850|                      583|\n",
      "|             B02512|          1|       UNTER LLC|      UBER-UNTER LLC| 2016|         37|         9/4/2016|      9/10/2016|                 12503|                      551|\n",
      "|             B02880|          4|NEUNZEHN-NY, LLC|UBER-NEUNZEHN-NY,...| 2016|         14|        3/27/2016|       4/2/2016|                  2078|                       48|\n",
      "|             B02876|          4|VIERZEHN-NY, LLC|UBER-VIERZEHN-NY,...| 2016|         20|         5/8/2016|      5/14/2016|                  8558|                      197|\n",
      "|             B02395|          3|      ABATAR INC|     UBER-ABATAR LLC| 2016|         30|        7/17/2016|      7/23/2016|                 24272|                      964|\n",
      "+-------------------+-----------+----------------+--------------------+-----+-----------+-----------------+---------------+----------------------+-------------------------+\n",
      "only showing top 20 rows\n",
      "\n"
     ]
    }
   ],
   "source": [
    "#df.__showFunction__\n",
    "\n",
    "### STRIP_START\n",
    "df.show()\n",
    "### STRIP_END"
   ]
  },
  {
   "cell_type": "markdown",
   "metadata": {},
   "source": [
    "**Q6 - Find the function for retrieving the **Schema** of your Dataframe.**\n",
    "\n",
    "*Hint : \"Print the Schema\"*"
   ]
  },
  {
   "cell_type": "code",
   "execution_count": 21,
   "metadata": {
    "ExecuteTime": {
     "end_time": "2019-05-23T09:26:48.876398Z",
     "start_time": "2019-05-23T09:26:48.860402Z"
    }
   },
   "outputs": [
    {
     "name": "stdout",
     "output_type": "stream",
     "text": [
      "StructType(List(StructField(Base License Number,StringType,true),StructField(Wave Number,IntegerType,true),StructField(Base Name,StringType,true),StructField(DBA,StringType,true),StructField(Years,IntegerType,true),StructField(Week Number,IntegerType,true),StructField(Pickup Start Date,StringType,true),StructField(Pickup End Date,StringType,true),StructField(Total Dispatched Trips,IntegerType,true),StructField(Unique Dispatched Vehicle,IntegerType,true)))\n"
     ]
    }
   ],
   "source": [
    "#df.__schemaFunction__\n",
    "\n",
    "### STRIP_START\n",
    "print(df.schema)\n",
    "### STRIP_END"
   ]
  },
  {
   "cell_type": "markdown",
   "metadata": {},
   "source": [
    "**Q7 - Display the line count of your Dataframe. You should have 1474 lines.**"
   ]
  },
  {
   "cell_type": "code",
   "execution_count": 23,
   "metadata": {
    "ExecuteTime": {
     "end_time": "2019-05-23T09:26:52.204894Z",
     "start_time": "2019-05-23T09:26:51.812562Z"
    },
    "scrolled": true
   },
   "outputs": [
    {
     "data": {
      "text/plain": [
       "1474"
      ]
     },
     "execution_count": 23,
     "metadata": {},
     "output_type": "execute_result"
    }
   ],
   "source": [
    "#df.__dfCount__\n",
    "\n",
    "### STRIP_START\n",
    "df.count()\n",
    "### STRIP_END"
   ]
  },
  {
   "cell_type": "markdown",
   "metadata": {},
   "source": [
    "**Q8. Apply a function to describe your Dataframe.**\n",
    "\n",
    "*Hint : Very similar to Pandas describe, just add show at the end.*"
   ]
  },
  {
   "cell_type": "code",
   "execution_count": 33,
   "metadata": {},
   "outputs": [
    {
     "name": "stdout",
     "output_type": "stream",
     "text": [
      "+-------+-------------------+------------------+-------------+------------------+------+------------------+-----------------+---------------+----------------------+-------------------------+\n",
      "|summary|Base License Number|       Wave Number|    Base Name|               DBA| Years|       Week Number|Pickup Start Date|Pickup End Date|Total Dispatched Trips|Unique Dispatched Vehicle|\n",
      "+-------+-------------------+------------------+-------------+------------------+------+------------------+-----------------+---------------+----------------------+-------------------------+\n",
      "|  count|               1474|              1474|         1474|              1474|  1474|              1474|             1474|           1474|                  1474|                     1474|\n",
      "|   mean|               null|3.4294436906377204|         null|              null|2016.0| 27.09226594301221|             null|           null|     47535.91926729986|        1141.793080054274|\n",
      "| stddev|               null|1.1526886848698439|         null|              null|   0.0|15.305875497109861|             null|           null|      73047.8164003302|        1777.300796366993|\n",
      "|    min|             B02395|                 1|   ABATAR INC|   UBER-ABATAR LLC|  2016|                 1|         1/1/2016|      1/16/2016|                     1|                        1|\n",
      "|    max|             B02889|                 4|ZWOLF-NY, LLC|UBER-ZWOLF-NY, LLC|  2016|                53|         9/4/2016|       9/3/2016|                375202|                     8967|\n",
      "+-------+-------------------+------------------+-------------+------------------+------+------------------+-----------------+---------------+----------------------+-------------------------+\n",
      "\n"
     ]
    }
   ],
   "source": [
    "#df.__describeAndShow__\n",
    "\n",
    "### STRIP_START\n",
    "df.describe().show()\n",
    "### STRIP_END"
   ]
  },
  {
   "cell_type": "markdown",
   "metadata": {},
   "source": [
    "#### **Q9. Apply the describe function on two integer columns.**\n",
    "\n",
    "*Hint : Use a .select()*"
   ]
  },
  {
   "cell_type": "code",
   "execution_count": 38,
   "metadata": {
    "ExecuteTime": {
     "end_time": "2019-05-23T09:29:48.977444Z",
     "start_time": "2019-05-23T09:29:48.682820Z"
    }
   },
   "outputs": [
    {
     "name": "stdout",
     "output_type": "stream",
     "text": [
      "+-------+------------------+------------------+\n",
      "|summary|       Wave Number|       Week Number|\n",
      "+-------+------------------+------------------+\n",
      "|  count|              1474|              1474|\n",
      "|   mean|3.4294436906377204| 27.09226594301221|\n",
      "| stddev|1.1526886848698439|15.305875497109861|\n",
      "|    min|                 1|                 1|\n",
      "|    max|                 4|                53|\n",
      "+-------+------------------+------------------+\n",
      "\n"
     ]
    }
   ],
   "source": [
    "#df.__chainedMethods__\n",
    "\n",
    "### STRIP_START\n",
    "df.select('Wave Number', 'Week Number').describe().show()\n",
    "### STRIP_END"
   ]
  },
  {
   "cell_type": "markdown",
   "metadata": {},
   "source": [
    "**Now that you have played around with your dataframe, you can go back to your WebUI.**\n",
    "\n",
    "**Q10. Navigate the jobs, and find the DAG of a job** \n",
    "\n",
    "*Hint : it's 2 clics*"
   ]
  },
  {
   "cell_type": "code",
   "execution_count": null,
   "metadata": {
    "collapsed": true
   },
   "outputs": [],
   "source": [
    "# Check the URL at Question 2 and navigate to find an example of a DAG."
   ]
  }
 ],
 "metadata": {
  "kernelspec": {
   "display_name": "Python 3",
   "language": "python",
   "name": "python3"
  },
  "language_info": {
   "codemirror_mode": {
    "name": "ipython",
    "version": 3
   },
   "file_extension": ".py",
   "mimetype": "text/x-python",
   "name": "python",
   "nbconvert_exporter": "python",
   "pygments_lexer": "ipython3",
   "version": "3.7.6"
  },
  "toc": {
   "base_numbering": 1,
   "nav_menu": {},
   "number_sections": false,
   "sideBar": true,
   "skip_h1_title": false,
   "title_cell": "Table of Contents",
   "title_sidebar": "Contents",
   "toc_cell": false,
   "toc_position": {},
   "toc_section_display": true,
   "toc_window_display": false
  },
  "varInspector": {
   "cols": {
    "lenName": 16,
    "lenType": 16,
    "lenVar": 40
   },
   "kernels_config": {
    "python": {
     "delete_cmd_postfix": "",
     "delete_cmd_prefix": "del ",
     "library": "var_list.py",
     "varRefreshCmd": "print(var_dic_list())"
    },
    "r": {
     "delete_cmd_postfix": ") ",
     "delete_cmd_prefix": "rm(",
     "library": "var_list.r",
     "varRefreshCmd": "cat(var_dic_list()) "
    }
   },
   "types_to_exclude": [
    "module",
    "function",
    "builtin_function_or_method",
    "instance",
    "_Feature"
   ],
   "window_display": false
  }
 },
 "nbformat": 4,
 "nbformat_minor": 2
}
